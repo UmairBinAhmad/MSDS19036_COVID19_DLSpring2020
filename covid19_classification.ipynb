{
  "nbformat": 4,
  "nbformat_minor": 0,
  "metadata": {
    "colab": {
      "name": "MSDS19036_05.ipynb",
      "provenance": [],
      "collapsed_sections": [],
      "mount_file_id": "18XWbrN_DfvdRMwajweMmywCUHSL0hCSB",
      "authorship_tag": "ABX9TyNV+UvFxeK2b3qbrSlIewHh"
    },
    "kernelspec": {
      "name": "python3",
      "display_name": "Python 3"
    },
    "accelerator": "GPU",
    "widgets": {
      "application/vnd.jupyter.widget-state+json": {
        "1b17b082051147c39ae42a4ff2a25f2e": {
          "model_module": "@jupyter-widgets/controls",
          "model_name": "HBoxModel",
          "state": {
            "_view_name": "HBoxView",
            "_dom_classes": [],
            "_model_name": "HBoxModel",
            "_view_module": "@jupyter-widgets/controls",
            "_model_module_version": "1.5.0",
            "_view_count": null,
            "_view_module_version": "1.5.0",
            "box_style": "",
            "layout": "IPY_MODEL_f24d17997fa1486e9ee2d12737f2818f",
            "_model_module": "@jupyter-widgets/controls",
            "children": [
              "IPY_MODEL_d04f4e3260c54b119f249c3cd98c02ff",
              "IPY_MODEL_d560253f3d35482493abd1698c0811ff"
            ]
          }
        },
        "f24d17997fa1486e9ee2d12737f2818f": {
          "model_module": "@jupyter-widgets/base",
          "model_name": "LayoutModel",
          "state": {
            "_view_name": "LayoutView",
            "grid_template_rows": null,
            "right": null,
            "justify_content": null,
            "_view_module": "@jupyter-widgets/base",
            "overflow": null,
            "_model_module_version": "1.2.0",
            "_view_count": null,
            "flex_flow": null,
            "width": null,
            "min_width": null,
            "border": null,
            "align_items": null,
            "bottom": null,
            "_model_module": "@jupyter-widgets/base",
            "top": null,
            "grid_column": null,
            "overflow_y": null,
            "overflow_x": null,
            "grid_auto_flow": null,
            "grid_area": null,
            "grid_template_columns": null,
            "flex": null,
            "_model_name": "LayoutModel",
            "justify_items": null,
            "grid_row": null,
            "max_height": null,
            "align_content": null,
            "visibility": null,
            "align_self": null,
            "height": null,
            "min_height": null,
            "padding": null,
            "grid_auto_rows": null,
            "grid_gap": null,
            "max_width": null,
            "order": null,
            "_view_module_version": "1.2.0",
            "grid_template_areas": null,
            "object_position": null,
            "object_fit": null,
            "grid_auto_columns": null,
            "margin": null,
            "display": null,
            "left": null
          }
        },
        "d04f4e3260c54b119f249c3cd98c02ff": {
          "model_module": "@jupyter-widgets/controls",
          "model_name": "IntProgressModel",
          "state": {
            "_view_name": "ProgressView",
            "style": "IPY_MODEL_7c1137d0fa3847f7930f55507b78541c",
            "_dom_classes": [],
            "description": "100%",
            "_model_name": "IntProgressModel",
            "bar_style": "success",
            "max": 553433881,
            "_view_module": "@jupyter-widgets/controls",
            "_model_module_version": "1.5.0",
            "value": 553433881,
            "_view_count": null,
            "_view_module_version": "1.5.0",
            "orientation": "horizontal",
            "min": 0,
            "description_tooltip": null,
            "_model_module": "@jupyter-widgets/controls",
            "layout": "IPY_MODEL_d9abb35e6aa24c5db22b2d55c6b1881a"
          }
        },
        "d560253f3d35482493abd1698c0811ff": {
          "model_module": "@jupyter-widgets/controls",
          "model_name": "HTMLModel",
          "state": {
            "_view_name": "HTMLView",
            "style": "IPY_MODEL_d22b461a64354a02bd1430b4ce6043a3",
            "_dom_classes": [],
            "description": "",
            "_model_name": "HTMLModel",
            "placeholder": "​",
            "_view_module": "@jupyter-widgets/controls",
            "_model_module_version": "1.5.0",
            "value": " 528M/528M [00:04&lt;00:00, 130MB/s]",
            "_view_count": null,
            "_view_module_version": "1.5.0",
            "description_tooltip": null,
            "_model_module": "@jupyter-widgets/controls",
            "layout": "IPY_MODEL_8a4e1c7dd3024cd695f315d8a6fce2b1"
          }
        },
        "7c1137d0fa3847f7930f55507b78541c": {
          "model_module": "@jupyter-widgets/controls",
          "model_name": "ProgressStyleModel",
          "state": {
            "_view_name": "StyleView",
            "_model_name": "ProgressStyleModel",
            "description_width": "initial",
            "_view_module": "@jupyter-widgets/base",
            "_model_module_version": "1.5.0",
            "_view_count": null,
            "_view_module_version": "1.2.0",
            "bar_color": null,
            "_model_module": "@jupyter-widgets/controls"
          }
        },
        "d9abb35e6aa24c5db22b2d55c6b1881a": {
          "model_module": "@jupyter-widgets/base",
          "model_name": "LayoutModel",
          "state": {
            "_view_name": "LayoutView",
            "grid_template_rows": null,
            "right": null,
            "justify_content": null,
            "_view_module": "@jupyter-widgets/base",
            "overflow": null,
            "_model_module_version": "1.2.0",
            "_view_count": null,
            "flex_flow": null,
            "width": null,
            "min_width": null,
            "border": null,
            "align_items": null,
            "bottom": null,
            "_model_module": "@jupyter-widgets/base",
            "top": null,
            "grid_column": null,
            "overflow_y": null,
            "overflow_x": null,
            "grid_auto_flow": null,
            "grid_area": null,
            "grid_template_columns": null,
            "flex": null,
            "_model_name": "LayoutModel",
            "justify_items": null,
            "grid_row": null,
            "max_height": null,
            "align_content": null,
            "visibility": null,
            "align_self": null,
            "height": null,
            "min_height": null,
            "padding": null,
            "grid_auto_rows": null,
            "grid_gap": null,
            "max_width": null,
            "order": null,
            "_view_module_version": "1.2.0",
            "grid_template_areas": null,
            "object_position": null,
            "object_fit": null,
            "grid_auto_columns": null,
            "margin": null,
            "display": null,
            "left": null
          }
        },
        "d22b461a64354a02bd1430b4ce6043a3": {
          "model_module": "@jupyter-widgets/controls",
          "model_name": "DescriptionStyleModel",
          "state": {
            "_view_name": "StyleView",
            "_model_name": "DescriptionStyleModel",
            "description_width": "",
            "_view_module": "@jupyter-widgets/base",
            "_model_module_version": "1.5.0",
            "_view_count": null,
            "_view_module_version": "1.2.0",
            "_model_module": "@jupyter-widgets/controls"
          }
        },
        "8a4e1c7dd3024cd695f315d8a6fce2b1": {
          "model_module": "@jupyter-widgets/base",
          "model_name": "LayoutModel",
          "state": {
            "_view_name": "LayoutView",
            "grid_template_rows": null,
            "right": null,
            "justify_content": null,
            "_view_module": "@jupyter-widgets/base",
            "overflow": null,
            "_model_module_version": "1.2.0",
            "_view_count": null,
            "flex_flow": null,
            "width": null,
            "min_width": null,
            "border": null,
            "align_items": null,
            "bottom": null,
            "_model_module": "@jupyter-widgets/base",
            "top": null,
            "grid_column": null,
            "overflow_y": null,
            "overflow_x": null,
            "grid_auto_flow": null,
            "grid_area": null,
            "grid_template_columns": null,
            "flex": null,
            "_model_name": "LayoutModel",
            "justify_items": null,
            "grid_row": null,
            "max_height": null,
            "align_content": null,
            "visibility": null,
            "align_self": null,
            "height": null,
            "min_height": null,
            "padding": null,
            "grid_auto_rows": null,
            "grid_gap": null,
            "max_width": null,
            "order": null,
            "_view_module_version": "1.2.0",
            "grid_template_areas": null,
            "object_position": null,
            "object_fit": null,
            "grid_auto_columns": null,
            "margin": null,
            "display": null,
            "left": null
          }
        },
        "097bb911ee584ab199ed5bc24ae7910b": {
          "model_module": "@jupyter-widgets/controls",
          "model_name": "HBoxModel",
          "state": {
            "_view_name": "HBoxView",
            "_dom_classes": [],
            "_model_name": "HBoxModel",
            "_view_module": "@jupyter-widgets/controls",
            "_model_module_version": "1.5.0",
            "_view_count": null,
            "_view_module_version": "1.5.0",
            "box_style": "",
            "layout": "IPY_MODEL_bb4e34e7788d4f7ca66fbf50596ae58c",
            "_model_module": "@jupyter-widgets/controls",
            "children": [
              "IPY_MODEL_41f86d50bdb4482fac460b88a4c646f0",
              "IPY_MODEL_9fcf7dfe7f194363b44225b993954a2d"
            ]
          }
        },
        "bb4e34e7788d4f7ca66fbf50596ae58c": {
          "model_module": "@jupyter-widgets/base",
          "model_name": "LayoutModel",
          "state": {
            "_view_name": "LayoutView",
            "grid_template_rows": null,
            "right": null,
            "justify_content": null,
            "_view_module": "@jupyter-widgets/base",
            "overflow": null,
            "_model_module_version": "1.2.0",
            "_view_count": null,
            "flex_flow": null,
            "width": null,
            "min_width": null,
            "border": null,
            "align_items": null,
            "bottom": null,
            "_model_module": "@jupyter-widgets/base",
            "top": null,
            "grid_column": null,
            "overflow_y": null,
            "overflow_x": null,
            "grid_auto_flow": null,
            "grid_area": null,
            "grid_template_columns": null,
            "flex": null,
            "_model_name": "LayoutModel",
            "justify_items": null,
            "grid_row": null,
            "max_height": null,
            "align_content": null,
            "visibility": null,
            "align_self": null,
            "height": null,
            "min_height": null,
            "padding": null,
            "grid_auto_rows": null,
            "grid_gap": null,
            "max_width": null,
            "order": null,
            "_view_module_version": "1.2.0",
            "grid_template_areas": null,
            "object_position": null,
            "object_fit": null,
            "grid_auto_columns": null,
            "margin": null,
            "display": null,
            "left": null
          }
        },
        "41f86d50bdb4482fac460b88a4c646f0": {
          "model_module": "@jupyter-widgets/controls",
          "model_name": "IntProgressModel",
          "state": {
            "_view_name": "ProgressView",
            "style": "IPY_MODEL_4c2d893f0900409a966e9f771417c867",
            "_dom_classes": [],
            "description": "100%",
            "_model_name": "IntProgressModel",
            "bar_style": "success",
            "max": 46827520,
            "_view_module": "@jupyter-widgets/controls",
            "_model_module_version": "1.5.0",
            "value": 46827520,
            "_view_count": null,
            "_view_module_version": "1.5.0",
            "orientation": "horizontal",
            "min": 0,
            "description_tooltip": null,
            "_model_module": "@jupyter-widgets/controls",
            "layout": "IPY_MODEL_b9be40a6b7644601864c07ce6382c370"
          }
        },
        "9fcf7dfe7f194363b44225b993954a2d": {
          "model_module": "@jupyter-widgets/controls",
          "model_name": "HTMLModel",
          "state": {
            "_view_name": "HTMLView",
            "style": "IPY_MODEL_0cdfeaa982de4c8893d5738603174d54",
            "_dom_classes": [],
            "description": "",
            "_model_name": "HTMLModel",
            "placeholder": "​",
            "_view_module": "@jupyter-widgets/controls",
            "_model_module_version": "1.5.0",
            "value": " 44.7M/44.7M [21:02&lt;00:00, 37.1kB/s]",
            "_view_count": null,
            "_view_module_version": "1.5.0",
            "description_tooltip": null,
            "_model_module": "@jupyter-widgets/controls",
            "layout": "IPY_MODEL_fc8de2a6c9ef49a488aec3ca1a8db84a"
          }
        },
        "4c2d893f0900409a966e9f771417c867": {
          "model_module": "@jupyter-widgets/controls",
          "model_name": "ProgressStyleModel",
          "state": {
            "_view_name": "StyleView",
            "_model_name": "ProgressStyleModel",
            "description_width": "initial",
            "_view_module": "@jupyter-widgets/base",
            "_model_module_version": "1.5.0",
            "_view_count": null,
            "_view_module_version": "1.2.0",
            "bar_color": null,
            "_model_module": "@jupyter-widgets/controls"
          }
        },
        "b9be40a6b7644601864c07ce6382c370": {
          "model_module": "@jupyter-widgets/base",
          "model_name": "LayoutModel",
          "state": {
            "_view_name": "LayoutView",
            "grid_template_rows": null,
            "right": null,
            "justify_content": null,
            "_view_module": "@jupyter-widgets/base",
            "overflow": null,
            "_model_module_version": "1.2.0",
            "_view_count": null,
            "flex_flow": null,
            "width": null,
            "min_width": null,
            "border": null,
            "align_items": null,
            "bottom": null,
            "_model_module": "@jupyter-widgets/base",
            "top": null,
            "grid_column": null,
            "overflow_y": null,
            "overflow_x": null,
            "grid_auto_flow": null,
            "grid_area": null,
            "grid_template_columns": null,
            "flex": null,
            "_model_name": "LayoutModel",
            "justify_items": null,
            "grid_row": null,
            "max_height": null,
            "align_content": null,
            "visibility": null,
            "align_self": null,
            "height": null,
            "min_height": null,
            "padding": null,
            "grid_auto_rows": null,
            "grid_gap": null,
            "max_width": null,
            "order": null,
            "_view_module_version": "1.2.0",
            "grid_template_areas": null,
            "object_position": null,
            "object_fit": null,
            "grid_auto_columns": null,
            "margin": null,
            "display": null,
            "left": null
          }
        },
        "0cdfeaa982de4c8893d5738603174d54": {
          "model_module": "@jupyter-widgets/controls",
          "model_name": "DescriptionStyleModel",
          "state": {
            "_view_name": "StyleView",
            "_model_name": "DescriptionStyleModel",
            "description_width": "",
            "_view_module": "@jupyter-widgets/base",
            "_model_module_version": "1.5.0",
            "_view_count": null,
            "_view_module_version": "1.2.0",
            "_model_module": "@jupyter-widgets/controls"
          }
        },
        "fc8de2a6c9ef49a488aec3ca1a8db84a": {
          "model_module": "@jupyter-widgets/base",
          "model_name": "LayoutModel",
          "state": {
            "_view_name": "LayoutView",
            "grid_template_rows": null,
            "right": null,
            "justify_content": null,
            "_view_module": "@jupyter-widgets/base",
            "overflow": null,
            "_model_module_version": "1.2.0",
            "_view_count": null,
            "flex_flow": null,
            "width": null,
            "min_width": null,
            "border": null,
            "align_items": null,
            "bottom": null,
            "_model_module": "@jupyter-widgets/base",
            "top": null,
            "grid_column": null,
            "overflow_y": null,
            "overflow_x": null,
            "grid_auto_flow": null,
            "grid_area": null,
            "grid_template_columns": null,
            "flex": null,
            "_model_name": "LayoutModel",
            "justify_items": null,
            "grid_row": null,
            "max_height": null,
            "align_content": null,
            "visibility": null,
            "align_self": null,
            "height": null,
            "min_height": null,
            "padding": null,
            "grid_auto_rows": null,
            "grid_gap": null,
            "max_width": null,
            "order": null,
            "_view_module_version": "1.2.0",
            "grid_template_areas": null,
            "object_position": null,
            "object_fit": null,
            "grid_auto_columns": null,
            "margin": null,
            "display": null,
            "left": null
          }
        }
      }
    }
  },
  "cells": [
    {
      "cell_type": "code",
      "metadata": {
        "id": "rAbjVQbSdjXY",
        "colab_type": "code",
        "colab": {}
      },
      "source": [
        "import torch\n",
        "import torch.nn as nn\n",
        "import torch.optim as optim\n",
        "from torch.optim import lr_scheduler\n",
        "from torch.autograd import Variable\n",
        "import numpy as np\n",
        "import torchvision\n",
        "from torchvision import datasets, models, transforms\n",
        "import matplotlib.pyplot as plt\n",
        "import time\n",
        "import os\n",
        "import copy\n",
        "from sklearn.metrics import confusion_matrix\n",
        "import itertools"
      ],
      "execution_count": 0,
      "outputs": []
    },
    {
      "cell_type": "markdown",
      "metadata": {
        "id": "d-JxrJZjeKzn",
        "colab_type": "text"
      },
      "source": [
        "#### Load Data Set\n"
      ]
    },
    {
      "cell_type": "code",
      "metadata": {
        "id": "jqgfgKleeXLM",
        "colab_type": "code",
        "colab": {}
      },
      "source": [
        "data_dir = '/content/drive/My Drive/Colab Notebooks/Assignment 5 Dataset'"
      ],
      "execution_count": 0,
      "outputs": []
    },
    {
      "cell_type": "code",
      "metadata": {
        "id": "09VF0d7WO24E",
        "colab_type": "code",
        "colab": {}
      },
      "source": [
        "#!unzip \"/content/drive/My Drive/Assignment 5 Dataset.zip\" -d \"/content/drive/My Drive\"\n",
        "#data_dir = '/content/drive/My Drive/Assignment 5 Dataset'"
      ],
      "execution_count": 0,
      "outputs": []
    },
    {
      "cell_type": "code",
      "metadata": {
        "id": "S4FoUA9bewgi",
        "colab_type": "code",
        "colab": {}
      },
      "source": [
        "#Define transforms for the training data and testing data\n",
        "train_transforms = transforms.Compose([#transforms.RandomRotation(30),\n",
        "                                       #transforms.RandomResizedCrop(224),\n",
        "                                       #transforms.RandomHorizontalFlip(),\n",
        "                                       transforms.Resize(256),\n",
        "                                       transforms.CenterCrop(224),\n",
        "                                       transforms.ToTensor(),\n",
        "                                       transforms.Normalize([0.485, 0.456, 0.406],\n",
        "                                                            [0.229, 0.224, 0.225])])\n",
        "\n",
        "valid_transforms = transforms.Compose([transforms.RandomRotation(30),\n",
        "                                       transforms.RandomResizedCrop(224),\n",
        "                                       transforms.RandomHorizontalFlip(),\n",
        "                                       transforms.ToTensor(),\n",
        "                                       transforms.Normalize([0.485, 0.456, 0.406],\n",
        "                                                            [0.229, 0.224, 0.225])])\n",
        "\n",
        "test_transforms = transforms.Compose([transforms.Resize(256),\n",
        "                                      transforms.CenterCrop(224),\n",
        "                                      transforms.ToTensor(),\n",
        "                                      transforms.Normalize([0.485, 0.456, 0.406],\n",
        "                                                           [0.229, 0.224, 0.225])])"
      ],
      "execution_count": 0,
      "outputs": []
    },
    {
      "cell_type": "code",
      "metadata": {
        "id": "ckUCFz3biXFi",
        "colab_type": "code",
        "outputId": "fb807c90-3faa-46d7-aaa8-5b1460812a99",
        "colab": {
          "base_uri": "https://localhost:8080/",
          "height": 54
        }
      },
      "source": [
        "#pass transform here-in\n",
        "train_data = datasets.ImageFolder(data_dir + '/train', transform=train_transforms)\n",
        "validation_data = datasets.ImageFolder(data_dir + '/test', transform=valid_transforms)\n",
        "test_data = datasets.ImageFolder(data_dir + '/validation', transform=test_transforms)\n",
        "\n",
        "trainloader = torch.utils.data.DataLoader(train_data, batch_size=128, shuffle=True)\n",
        "validloader = torch.utils.data.DataLoader(validation_data, batch_size=16, shuffle = True)\n",
        "testloader = torch.utils.data.DataLoader(test_data, batch_size=16, shuffle=True)\n",
        "\n",
        "print(\"Classes: \")\n",
        "class_names = train_data.classes\n",
        "print(class_names)\n",
        "\n"
      ],
      "execution_count": 10,
      "outputs": [
        {
          "output_type": "stream",
          "text": [
            "Classes: \n",
            "['infected', 'normal']\n"
          ],
          "name": "stdout"
        }
      ]
    },
    {
      "cell_type": "code",
      "metadata": {
        "id": "hmXEwuHTo-3w",
        "colab_type": "code",
        "colab": {
          "base_uri": "https://localhost:8080/",
          "height": 35
        },
        "outputId": "9a640211-16fe-4df7-87f0-f665634a9bce"
      },
      "source": [
        "len(train_data)"
      ],
      "execution_count": 11,
      "outputs": [
        {
          "output_type": "execute_result",
          "data": {
            "text/plain": [
              "10717"
            ]
          },
          "metadata": {
            "tags": []
          },
          "execution_count": 11
        }
      ]
    },
    {
      "cell_type": "code",
      "metadata": {
        "id": "f_OPJi1yItNT",
        "colab_type": "code",
        "outputId": "3a716944-5123-4e3d-d70b-e01e2f691910",
        "colab": {
          "base_uri": "https://localhost:8080/",
          "height": 149
        }
      },
      "source": [
        "def imshow(inp, title=None):\n",
        "    inp = inp.numpy().transpose((1, 2, 0))\n",
        "    plt.axis('off')\n",
        "    plt.imshow(inp)\n",
        "    if title is not None:\n",
        "        plt.title(title)\n",
        "\n",
        "def show_databatch(inputs, classes):\n",
        "    out = torchvision.utils.make_grid(inputs)\n",
        "    imshow(out, title=[class_names[x] for x in classes])\n",
        "\n",
        "# Get a batch of training data\n",
        "inputs, classes = next(iter(validloader))\n",
        "show_databatch(inputs, classes)"
      ],
      "execution_count": 12,
      "outputs": [
        {
          "output_type": "stream",
          "text": [
            "Clipping input data to the valid range for imshow with RGB data ([0..1] for floats or [0..255] for integers).\n"
          ],
          "name": "stderr"
        },
        {
          "output_type": "display_data",
          "data": {
            "image/png": "[encoded data removed]",
            "text/plain": [
              "<Figure size 432x288 with 1 Axes>"
            ]
          },
          "metadata": {
            "tags": [],
            "needs_background": "light"
          }
        }
      ]
    },
    {
      "cell_type": "markdown",
      "metadata": {
        "id": "SmlRULjP3Opz",
        "colab_type": "text"
      },
      "source": [
        "## **Task 1**"
      ]
    },
    {
      "cell_type": "markdown",
      "metadata": {
        "id": "SSVZRx86JbzR",
        "colab_type": "text"
      },
      "source": [
        "#### Load pretrained models"
      ]
    },
    {
      "cell_type": "code",
      "metadata": {
        "id": "ZzXdYYe5JM9m",
        "colab_type": "code",
        "colab": {}
      },
      "source": [
        "# Load the pretrained model from pytorch\n",
        "\n",
        "# Load VGG 16\n",
        "#vgg16 = models.vgg16(pretrained=True)\n",
        "vgg16 = models.vgg16(pretrained = False)\n",
        "# Load ResNet16\n",
        "#resnet = models.resnet18(pretrained= True)\n",
        "resnet = models.resnet18(pretrained = False)\n"
      ],
      "execution_count": 0,
      "outputs": []
    },
    {
      "cell_type": "markdown",
      "metadata": {
        "id": "Szt7hgafzMvO",
        "colab_type": "text"
      },
      "source": [
        "### Fine Tuning on VGG16"
      ]
    },
    {
      "cell_type": "code",
      "metadata": {
        "id": "bF5atErCKORX",
        "colab_type": "code",
        "outputId": "f7fc6ba4-1f4f-41b7-a447-53631883e821",
        "colab": {
          "base_uri": "https://localhost:8080/",
          "height": 862
        }
      },
      "source": [
        "print(vgg16)\n",
        "print('Output Layer of VGG16 : ', vgg16.classifier[6].out_features) # 1000 "
      ],
      "execution_count": 14,
      "outputs": [
        {
          "output_type": "stream",
          "text": [
            "VGG(\n",
            "  (features): Sequential(\n",
            "    (0): Conv2d(3, 64, kernel_size=(3, 3), stride=(1, 1), padding=(1, 1))\n",
            "    (1): ReLU(inplace=True)\n",
            "    (2): Conv2d(64, 64, kernel_size=(3, 3), stride=(1, 1), padding=(1, 1))\n",
            "    (3): ReLU(inplace=True)\n",
            "    (4): MaxPool2d(kernel_size=2, stride=2, padding=0, dilation=1, ceil_mode=False)\n",
            "    (5): Conv2d(64, 128, kernel_size=(3, 3), stride=(1, 1), padding=(1, 1))\n",
            "    (6): ReLU(inplace=True)\n",
            "    (7): Conv2d(128, 128, kernel_size=(3, 3), stride=(1, 1), padding=(1, 1))\n",
            "    (8): ReLU(inplace=True)\n",
            "    (9): MaxPool2d(kernel_size=2, stride=2, padding=0, dilation=1, ceil_mode=False)\n",
            "    (10): Conv2d(128, 256, kernel_size=(3, 3), stride=(1, 1), padding=(1, 1))\n",
            "    (11): ReLU(inplace=True)\n",
            "    (12): Conv2d(256, 256, kernel_size=(3, 3), stride=(1, 1), padding=(1, 1))\n",
            "    (13): ReLU(inplace=True)\n",
            "    (14): Conv2d(256, 256, kernel_size=(3, 3), stride=(1, 1), padding=(1, 1))\n",
            "    (15): ReLU(inplace=True)\n",
            "    (16): MaxPool2d(kernel_size=2, stride=2, padding=0, dilation=1, ceil_mode=False)\n",
            "    (17): Conv2d(256, 512, kernel_size=(3, 3), stride=(1, 1), padding=(1, 1))\n",
            "    (18): ReLU(inplace=True)\n",
            "    (19): Conv2d(512, 512, kernel_size=(3, 3), stride=(1, 1), padding=(1, 1))\n",
            "    (20): ReLU(inplace=True)\n",
            "    (21): Conv2d(512, 512, kernel_size=(3, 3), stride=(1, 1), padding=(1, 1))\n",
            "    (22): ReLU(inplace=True)\n",
            "    (23): MaxPool2d(kernel_size=2, stride=2, padding=0, dilation=1, ceil_mode=False)\n",
            "    (24): Conv2d(512, 512, kernel_size=(3, 3), stride=(1, 1), padding=(1, 1))\n",
            "    (25): ReLU(inplace=True)\n",
            "    (26): Conv2d(512, 512, kernel_size=(3, 3), stride=(1, 1), padding=(1, 1))\n",
            "    (27): ReLU(inplace=True)\n",
            "    (28): Conv2d(512, 512, kernel_size=(3, 3), stride=(1, 1), padding=(1, 1))\n",
            "    (29): ReLU(inplace=True)\n",
            "    (30): MaxPool2d(kernel_size=2, stride=2, padding=0, dilation=1, ceil_mode=False)\n",
            "  )\n",
            "  (avgpool): AdaptiveAvgPool2d(output_size=(7, 7))\n",
            "  (classifier): Sequential(\n",
            "    (0): Linear(in_features=25088, out_features=4096, bias=True)\n",
            "    (1): ReLU(inplace=True)\n",
            "    (2): Dropout(p=0.5, inplace=False)\n",
            "    (3): Linear(in_features=4096, out_features=4096, bias=True)\n",
            "    (4): ReLU(inplace=True)\n",
            "    (5): Dropout(p=0.5, inplace=False)\n",
            "    (6): Linear(in_features=4096, out_features=1000, bias=True)\n",
            "  )\n",
            ")\n",
            "Output Layer of VGG16 :  1000\n"
          ],
          "name": "stdout"
        }
      ]
    },
    {
      "cell_type": "code",
      "metadata": {
        "id": "Y_fabzmmnipj",
        "colab_type": "code",
        "outputId": "b59ab778-482a-4bb6-f885-5caf0f87ebf9",
        "colab": {
          "base_uri": "https://localhost:8080/",
          "height": 35
        }
      },
      "source": [
        "print(vgg16.classifier[3])"
      ],
      "execution_count": 15,
      "outputs": [
        {
          "output_type": "stream",
          "text": [
            "Linear(in_features=4096, out_features=4096, bias=True)\n"
          ],
          "name": "stdout"
        }
      ]
    },
    {
      "cell_type": "markdown",
      "metadata": {
        "id": "SkN_Q__zsnIK",
        "colab_type": "text"
      },
      "source": [
        " #### Freezing all the layers except last FC layers"
      ]
    },
    {
      "cell_type": "markdown",
      "metadata": {
        "id": "pH2xDn5iIVh9",
        "colab_type": "text"
      },
      "source": [
        "Remove all FC layers and add new one\n"
      ]
    },
    {
      "cell_type": "code",
      "metadata": {
        "id": "Oo_SI23GG5cN",
        "colab_type": "code",
        "colab": {
          "base_uri": "https://localhost:8080/",
          "height": 54
        },
        "outputId": "94326335-06a9-4d2b-acb5-571de2e747f5"
      },
      "source": [
        "num_features = vgg16.classifier[0].in_features\n",
        "features = list(vgg16.classifier.children())[:-7] # Remove last layer\n",
        "print(features)\n",
        "print(num_features)"
      ],
      "execution_count": 16,
      "outputs": [
        {
          "output_type": "stream",
          "text": [
            "[]\n",
            "25088\n"
          ],
          "name": "stdout"
        }
      ]
    },
    {
      "cell_type": "code",
      "metadata": {
        "id": "EKMDxgsLHHA5",
        "colab_type": "code",
        "colab": {}
      },
      "source": [
        "# Freeze training for all layers\n",
        "for param in vgg16.features.parameters():\n",
        "    param.require_grad = False"
      ],
      "execution_count": 0,
      "outputs": []
    },
    {
      "cell_type": "code",
      "metadata": {
        "id": "70T668omHSga",
        "colab_type": "code",
        "colab": {}
      },
      "source": [
        "# adding new features\n",
        "\n",
        "#(Last 2 digits of your roll number x 10) + 100  = (36X10)+100 = 460\n",
        "features.extend(\n",
        "    [nn.Linear(num_features, 460 ),\n",
        "     nn.ReLU(inplace=True),\n",
        "     nn.Dropout(p=0.5,inplace=False),\n",
        "     nn.Linear(460 ,len(class_names))])"
      ],
      "execution_count": 0,
      "outputs": []
    },
    {
      "cell_type": "code",
      "metadata": {
        "id": "oIYUZhltIOGk",
        "colab_type": "code",
        "colab": {
          "base_uri": "https://localhost:8080/",
          "height": 788
        },
        "outputId": "ce3c19fc-fe46-473c-c7a0-b1a8ddfe0f83"
      },
      "source": [
        "vgg16.classifier = nn.Sequential(*features)\n",
        "print(vgg16)"
      ],
      "execution_count": 19,
      "outputs": [
        {
          "output_type": "stream",
          "text": [
            "VGG(\n",
            "  (features): Sequential(\n",
            "    (0): Conv2d(3, 64, kernel_size=(3, 3), stride=(1, 1), padding=(1, 1))\n",
            "    (1): ReLU(inplace=True)\n",
            "    (2): Conv2d(64, 64, kernel_size=(3, 3), stride=(1, 1), padding=(1, 1))\n",
            "    (3): ReLU(inplace=True)\n",
            "    (4): MaxPool2d(kernel_size=2, stride=2, padding=0, dilation=1, ceil_mode=False)\n",
            "    (5): Conv2d(64, 128, kernel_size=(3, 3), stride=(1, 1), padding=(1, 1))\n",
            "    (6): ReLU(inplace=True)\n",
            "    (7): Conv2d(128, 128, kernel_size=(3, 3), stride=(1, 1), padding=(1, 1))\n",
            "    (8): ReLU(inplace=True)\n",
            "    (9): MaxPool2d(kernel_size=2, stride=2, padding=0, dilation=1, ceil_mode=False)\n",
            "    (10): Conv2d(128, 256, kernel_size=(3, 3), stride=(1, 1), padding=(1, 1))\n",
            "    (11): ReLU(inplace=True)\n",
            "    (12): Conv2d(256, 256, kernel_size=(3, 3), stride=(1, 1), padding=(1, 1))\n",
            "    (13): ReLU(inplace=True)\n",
            "    (14): Conv2d(256, 256, kernel_size=(3, 3), stride=(1, 1), padding=(1, 1))\n",
            "    (15): ReLU(inplace=True)\n",
            "    (16): MaxPool2d(kernel_size=2, stride=2, padding=0, dilation=1, ceil_mode=False)\n",
            "    (17): Conv2d(256, 512, kernel_size=(3, 3), stride=(1, 1), padding=(1, 1))\n",
            "    (18): ReLU(inplace=True)\n",
            "    (19): Conv2d(512, 512, kernel_size=(3, 3), stride=(1, 1), padding=(1, 1))\n",
            "    (20): ReLU(inplace=True)\n",
            "    (21): Conv2d(512, 512, kernel_size=(3, 3), stride=(1, 1), padding=(1, 1))\n",
            "    (22): ReLU(inplace=True)\n",
            "    (23): MaxPool2d(kernel_size=2, stride=2, padding=0, dilation=1, ceil_mode=False)\n",
            "    (24): Conv2d(512, 512, kernel_size=(3, 3), stride=(1, 1), padding=(1, 1))\n",
            "    (25): ReLU(inplace=True)\n",
            "    (26): Conv2d(512, 512, kernel_size=(3, 3), stride=(1, 1), padding=(1, 1))\n",
            "    (27): ReLU(inplace=True)\n",
            "    (28): Conv2d(512, 512, kernel_size=(3, 3), stride=(1, 1), padding=(1, 1))\n",
            "    (29): ReLU(inplace=True)\n",
            "    (30): MaxPool2d(kernel_size=2, stride=2, padding=0, dilation=1, ceil_mode=False)\n",
            "  )\n",
            "  (avgpool): AdaptiveAvgPool2d(output_size=(7, 7))\n",
            "  (classifier): Sequential(\n",
            "    (0): Linear(in_features=25088, out_features=460, bias=True)\n",
            "    (1): ReLU(inplace=True)\n",
            "    (2): Dropout(p=0.5, inplace=False)\n",
            "    (3): Linear(in_features=460, out_features=2, bias=True)\n",
            "  )\n",
            ")\n"
          ],
          "name": "stdout"
        }
      ]
    },
    {
      "cell_type": "markdown",
      "metadata": {
        "id": "o5KZXaApIQne",
        "colab_type": "text"
      },
      "source": [
        "Load pre trained model\n"
      ]
    },
    {
      "cell_type": "code",
      "metadata": {
        "id": "izIpxPKkWMgI",
        "colab_type": "code",
        "outputId": "a7acb7bc-bee1-4a21-d7ab-5c099008ad51",
        "colab": {
          "base_uri": "https://localhost:8080/",
          "height": 788
        }
      },
      "source": [
        "# if you have already trained model then use this to load\n",
        "vgg16.load_state_dict(torch.load('/content/drive/My Drive/Colab Notebooks/vgg16_FC_Only.pth'))\n",
        "vgg16.cuda() "
      ],
      "execution_count": 33,
      "outputs": [
        {
          "output_type": "execute_result",
          "data": {
            "text/plain": [
              "VGG(\n",
              "  (features): Sequential(\n",
              "    (0): Conv2d(3, 64, kernel_size=(3, 3), stride=(1, 1), padding=(1, 1))\n",
              "    (1): ReLU(inplace=True)\n",
              "    (2): Conv2d(64, 64, kernel_size=(3, 3), stride=(1, 1), padding=(1, 1))\n",
              "    (3): ReLU(inplace=True)\n",
              "    (4): MaxPool2d(kernel_size=2, stride=2, padding=0, dilation=1, ceil_mode=False)\n",
              "    (5): Conv2d(64, 128, kernel_size=(3, 3), stride=(1, 1), padding=(1, 1))\n",
              "    (6): ReLU(inplace=True)\n",
              "    (7): Conv2d(128, 128, kernel_size=(3, 3), stride=(1, 1), padding=(1, 1))\n",
              "    (8): ReLU(inplace=True)\n",
              "    (9): MaxPool2d(kernel_size=2, stride=2, padding=0, dilation=1, ceil_mode=False)\n",
              "    (10): Conv2d(128, 256, kernel_size=(3, 3), stride=(1, 1), padding=(1, 1))\n",
              "    (11): ReLU(inplace=True)\n",
              "    (12): Conv2d(256, 256, kernel_size=(3, 3), stride=(1, 1), padding=(1, 1))\n",
              "    (13): ReLU(inplace=True)\n",
              "    (14): Conv2d(256, 256, kernel_size=(3, 3), stride=(1, 1), padding=(1, 1))\n",
              "    (15): ReLU(inplace=True)\n",
              "    (16): MaxPool2d(kernel_size=2, stride=2, padding=0, dilation=1, ceil_mode=False)\n",
              "    (17): Conv2d(256, 512, kernel_size=(3, 3), stride=(1, 1), padding=(1, 1))\n",
              "    (18): ReLU(inplace=True)\n",
              "    (19): Conv2d(512, 512, kernel_size=(3, 3), stride=(1, 1), padding=(1, 1))\n",
              "    (20): ReLU(inplace=True)\n",
              "    (21): Conv2d(512, 512, kernel_size=(3, 3), stride=(1, 1), padding=(1, 1))\n",
              "    (22): ReLU(inplace=True)\n",
              "    (23): MaxPool2d(kernel_size=2, stride=2, padding=0, dilation=1, ceil_mode=False)\n",
              "    (24): Conv2d(512, 512, kernel_size=(3, 3), stride=(1, 1), padding=(1, 1))\n",
              "    (25): ReLU(inplace=True)\n",
              "    (26): Conv2d(512, 512, kernel_size=(3, 3), stride=(1, 1), padding=(1, 1))\n",
              "    (27): ReLU(inplace=True)\n",
              "    (28): Conv2d(512, 512, kernel_size=(3, 3), stride=(1, 1), padding=(1, 1))\n",
              "    (29): ReLU(inplace=True)\n",
              "    (30): MaxPool2d(kernel_size=2, stride=2, padding=0, dilation=1, ceil_mode=False)\n",
              "  )\n",
              "  (avgpool): AdaptiveAvgPool2d(output_size=(7, 7))\n",
              "  (classifier): Sequential(\n",
              "    (0): Linear(in_features=25088, out_features=460, bias=True)\n",
              "    (1): ReLU(inplace=True)\n",
              "    (2): Dropout(p=0.5, inplace=False)\n",
              "    (3): Linear(in_features=460, out_features=2, bias=True)\n",
              "  )\n",
              ")"
            ]
          },
          "metadata": {
            "tags": []
          },
          "execution_count": 33
        }
      ]
    },
    {
      "cell_type": "markdown",
      "metadata": {
        "id": "M-xrLQSduzkU",
        "colab_type": "text"
      },
      "source": [
        "#### Training on VGG 16"
      ]
    },
    {
      "cell_type": "code",
      "metadata": {
        "id": "Rlr2GPFyuZ8n",
        "colab_type": "code",
        "colab": {}
      },
      "source": [
        "# Loss fucntion and optimizer\n",
        "Epochs = 12\n",
        "criterion = nn.CrossEntropyLoss()\n",
        "optimizer = optim.SGD(vgg16.parameters(), lr=0.001, momentum=0.9)"
      ],
      "execution_count": 0,
      "outputs": []
    },
    {
      "cell_type": "code",
      "metadata": {
        "id": "34t35rDVUwEn",
        "colab_type": "code",
        "colab": {}
      },
      "source": [
        "device = torch.device(\"cuda:0\" if torch.cuda.is_available() else \"cpu\")"
      ],
      "execution_count": 0,
      "outputs": []
    },
    {
      "cell_type": "code",
      "metadata": {
        "id": "Ta4AxpVgu8ec",
        "colab_type": "code",
        "outputId": "e62d2a4c-f492-497f-95f3-504d53e23bda",
        "colab": {
          "base_uri": "https://localhost:8080/",
          "height": 256
        }
      },
      "source": [
        "from tqdm import tqdm\n",
        "\n",
        "device = torch.device(\"cuda:0\" if torch.cuda.is_available() else \"cpu\")\n",
        "vgg16.to(device)\n",
        "\n",
        "vgg16.train()\n",
        "\n",
        "losses=[]\n",
        "n = len(train_data)\n",
        "\n",
        "for epoch in range(Epochs):  # loop over the dataset multiple times\n",
        "\n",
        "    running_loss = 0.0\n",
        "    pbar = tqdm(enumerate(trainloader))\n",
        "    for i, data in pbar:\n",
        "        \n",
        "        inputs, labels = data\n",
        "        inputs, labels = inputs.to(device), labels.to(device)\n",
        "\n",
        "      \n",
        "        optimizer.zero_grad()\n",
        "    \n",
        "        outputs = vgg16(inputs)             #----> forward pass\n",
        "        loss = criterion(outputs, labels)   #----> compute loss\n",
        "        loss.backward()                     #----> backward pass\n",
        "        optimizer.step()                    #----> weights update\n",
        "\n",
        "      \n",
        "        running_loss += loss.item()\n",
        "        \n",
        "        pbar.set_description(\n",
        "            'Train Epoch: {} [{}/{} ({:.0f}%)]\\tLoss: {:.6f}'.format(\n",
        "                epoch, i * len(inputs), len(trainloader.dataset),\n",
        "                100. * i / len(trainloader),\n",
        "                loss.data))\n",
        "        \n",
        "    losses.append( running_loss/len(trainloader))    \n",
        "    torch.save(vgg16.state_dict(), '/content/drive/My Drive/Colab Notebooks/vgg16_FC_Only.pth')\n",
        "\n",
        "print('Finished Training')"
      ],
      "execution_count": 27,
      "outputs": [
        {
          "output_type": "stream",
          "text": [
            "Train Epoch: 0 [3440/10283 (99%)]\tLoss: 0.116779: : 81it [2:38:37, 117.49s/it]\n",
            "Train Epoch: 1 [3440/10283 (99%)]\tLoss: 0.222916: : 81it [12:25,  9.20s/it]\n",
            "Train Epoch: 2 [3440/10283 (99%)]\tLoss: 0.122923: : 81it [12:10,  9.01s/it]\n",
            "Train Epoch: 3 [3440/10283 (99%)]\tLoss: 0.063769: : 81it [12:15,  9.08s/it]\n",
            "Train Epoch: 4 [3440/10283 (99%)]\tLoss: 0.089456: : 81it [12:14,  9.07s/it]\n",
            "Train Epoch: 5 [3440/10283 (99%)]\tLoss: 0.146678: : 81it [12:14,  9.06s/it]\n",
            "Train Epoch: 6 [3440/10283 (99%)]\tLoss: 0.055191: : 81it [12:08,  9.00s/it]\n",
            "Train Epoch: 7 [3440/10283 (99%)]\tLoss: 0.063663: : 81it [11:59,  8.88s/it]\n",
            "Train Epoch: 8 [3440/10283 (99%)]\tLoss: 0.178832: : 81it [11:59,  8.88s/it]\n",
            "Train Epoch: 9 [3440/10283 (99%)]\tLoss: 0.178556: : 81it [11:58,  8.87s/it]\n",
            "Train Epoch: 10 [3440/10283 (99%)]\tLoss: 0.029856: : 81it [11:58,  8.87s/it]\n",
            "Train Epoch: 11 [3440/10283 (99%)]\tLoss: 0.008375: : 81it [11:55,  8.83s/it]\n"
          ],
          "name": "stderr"
        },
        {
          "output_type": "stream",
          "text": [
            "Finished Training\n"
          ],
          "name": "stdout"
        }
      ]
    },
    {
      "cell_type": "code",
      "metadata": {
        "id": "643397eCPRie",
        "colab_type": "code",
        "colab": {
          "base_uri": "https://localhost:8080/",
          "height": 313
        },
        "outputId": "0ee87ff8-1c60-4978-9721-372f0e7b2d3c"
      },
      "source": [
        "plt.title(\"Loss Curve for each epochs\")\n",
        "plt.xlabel(\"Epochs\")\n",
        "plt.ylabel(\"Loss\")\n",
        "plt.plot(losses)"
      ],
      "execution_count": 28,
      "outputs": [
        {
          "output_type": "execute_result",
          "data": {
            "text/plain": [
              "[<matplotlib.lines.Line2D at 0x7f7fa40194a8>]"
            ]
          },
          "metadata": {
            "tags": []
          },
          "execution_count": 28
        },
        {
          "output_type": "display_data",
          "data": {
            "image/png": "[encoded data removed]",
            "text/plain": [
              "<Figure size 432x288 with 1 Axes>"
            ]
          },
          "metadata": {
            "tags": [],
            "needs_background": "light"
          }
        }
      ]
    },
    {
      "cell_type": "markdown",
      "metadata": {
        "id": "uuH5zfNX5MBg",
        "colab_type": "text"
      },
      "source": [
        "#### **Testing**"
      ]
    },
    {
      "cell_type": "code",
      "metadata": {
        "id": "7DFFe2Go4_j3",
        "colab_type": "code",
        "outputId": "dcf036fe-17f5-43a9-aa6a-8e3434b40020",
        "colab": {
          "base_uri": "https://localhost:8080/",
          "height": 149
        }
      },
      "source": [
        "dataiter = iter(testloader)\n",
        "images, labels = dataiter.next()\n",
        "show_databatch(images, labels)"
      ],
      "execution_count": 29,
      "outputs": [
        {
          "output_type": "stream",
          "text": [
            "Clipping input data to the valid range for imshow with RGB data ([0..1] for floats or [0..255] for integers).\n"
          ],
          "name": "stderr"
        },
        {
          "output_type": "display_data",
          "data": {
            "image/png": "[encoded data removed]",
            "text/plain": [
              "<Figure size 432x288 with 1 Axes>"
            ]
          },
          "metadata": {
            "tags": [],
            "needs_background": "light"
          }
        }
      ]
    },
    {
      "cell_type": "markdown",
      "metadata": {
        "id": "YtxladdoGDye",
        "colab_type": "text"
      },
      "source": [
        "#### Accuracy"
      ]
    },
    {
      "cell_type": "markdown",
      "metadata": {
        "id": "Si0XYy52XPz8",
        "colab_type": "text"
      },
      "source": [
        "**Testing Accuracy**"
      ]
    },
    {
      "cell_type": "code",
      "metadata": {
        "id": "GFX-LuVaXVxe",
        "colab_type": "code",
        "colab": {}
      },
      "source": [
        "def Accuracy(network ,dataset):\n",
        "  correct = 0\n",
        "  total = 0\n",
        "  inx = 0 \n",
        "  predlist=torch.zeros(0,dtype=torch.long, device='cuda')\n",
        "  lbllist=torch.zeros(0,dtype=torch.long, device='cuda')\n",
        "  with torch.no_grad():\n",
        "    for data in dataset:\n",
        "\n",
        "        images, labels = data\n",
        "        images, labels = images.to(device), labels.to(device)\n",
        "        outputs = network(images)\n",
        "        _, predicted = torch.max(outputs.data, 1)\n",
        "\n",
        "        predlist=torch.cat([predlist,predicted.view(-1)])\n",
        "        lbllist=torch.cat([lbllist,labels.view(-1)])\n",
        "\n",
        "        inx += 1\n",
        "        print(\"\\r Iterating on image batches : \",inx,end=\"\")\n",
        "        total += labels.size(0)\n",
        "        correct += (predicted == labels).sum().item()\n",
        "        \n",
        "  return (100*correct/total),predlist,lbllist"
      ],
      "execution_count": 0,
      "outputs": []
    },
    {
      "cell_type": "code",
      "metadata": {
        "id": "3_pkaCy9PVtN",
        "colab_type": "code",
        "colab": {}
      },
      "source": [
        "def plot_confusion_matrix(cm, classes, normalize=False, title='Confusion matrix', cmap=plt.cm.Blues):\n",
        "    if normalize:\n",
        "        cm = cm.astype('float') / cm.sum(axis=1)[:, np.newaxis]\n",
        "        print(\"Normalized confusion matrix\")\n",
        "    else:\n",
        "        print('Confusion matrix, without normalization')\n",
        "\n",
        "    print(cm)\n",
        "    plt.imshow(cm, interpolation='nearest', cmap=cmap)\n",
        "    plt.title(title)\n",
        "    plt.colorbar()\n",
        "    tick_marks = np.arange(len(classes))\n",
        "    plt.xticks(tick_marks, classes, rotation=45)\n",
        "    plt.yticks(tick_marks, classes)\n",
        "\n",
        "    fmt = '.2f' if normalize else 'd'\n",
        "    thresh = cm.max() / 2.\n",
        "    for i, j in itertools.product(range(cm.shape[0]), range(cm.shape[1])):\n",
        "        plt.text(j, i, format(cm[i, j], fmt), horizontalalignment=\"center\", color=\"white\" if cm[i, j] > thresh else \"black\")\n",
        "\n",
        "    plt.tight_layout()\n",
        "    plt.ylabel('True label')\n",
        "    plt.xlabel('Predicted label')"
      ],
      "execution_count": 0,
      "outputs": []
    },
    {
      "cell_type": "code",
      "metadata": {
        "id": "J62bNynuMSJq",
        "colab_type": "code",
        "colab": {
          "base_uri": "https://localhost:8080/",
          "height": 54
        },
        "outputId": "3c659f4d-911c-4e62-f090-3bdee3e70a22"
      },
      "source": [
        "t_acc , pr, lb = Accuracy(vgg16,testloader)\n",
        "print(\"\\n Testing Accuracy %d %%\" % t_acc)"
      ],
      "execution_count": 26,
      "outputs": [
        {
          "output_type": "stream",
          "text": [
            " Iterating on image batches :  94\n",
            " Testing Accuracy 91 %\n"
          ],
          "name": "stdout"
        }
      ]
    },
    {
      "cell_type": "code",
      "metadata": {
        "id": "9Q-2CxBJURkh",
        "colab_type": "code",
        "outputId": "d8bd98d1-ccfd-4273-cd80-2ea7e53f0d12",
        "colab": {
          "base_uri": "https://localhost:8080/",
          "height": 54
        }
      },
      "source": [
        "t_acc , pr, lb = Accuracy(vgg16,testloader)\n",
        "print(\"\\n Testing Accuracy %d %%\" % t_acc)"
      ],
      "execution_count": 34,
      "outputs": [
        {
          "output_type": "stream",
          "text": [
            " Iterating on image batches :  94\n",
            " Testing Accuracy 91 %\n"
          ],
          "name": "stdout"
        }
      ]
    },
    {
      "cell_type": "code",
      "metadata": {
        "id": "epIDguJqO9xq",
        "colab_type": "code",
        "outputId": "d9866ff8-3b20-4595-8ebe-08ac803e78ce",
        "colab": {
          "base_uri": "https://localhost:8080/",
          "height": 366
        }
      },
      "source": [
        "# confusion matrix for testing \n",
        "conf_mat=confusion_matrix(lb.cpu().numpy(), pr.cpu().numpy())\n",
        "plot_confusion_matrix(conf_mat,class_names)"
      ],
      "execution_count": 36,
      "outputs": [
        {
          "output_type": "stream",
          "text": [
            "Confusion matrix, without normalization\n",
            "[[546  69]\n",
            " [ 64 821]]\n"
          ],
          "name": "stdout"
        },
        {
          "output_type": "display_data",
          "data": {
            "image/png": "[encoded data removed]",
            "text/plain": [
              "<Figure size 432x288 with 2 Axes>"
            ]
          },
          "metadata": {
            "tags": [],
            "needs_background": "light"
          }
        }
      ]
    },
    {
      "cell_type": "markdown",
      "metadata": {
        "id": "C8DGV5oleGLo",
        "colab_type": "text"
      },
      "source": [
        "**Validation Accuracy & Confusion Matrix**"
      ]
    },
    {
      "cell_type": "code",
      "metadata": {
        "id": "vcP9fbBoYnEa",
        "colab_type": "code",
        "outputId": "849a1dcc-da6b-4253-b4c0-7e40e7ffcf6f",
        "colab": {
          "base_uri": "https://localhost:8080/",
          "height": 54
        }
      },
      "source": [
        "acc, pred, lbls = Accuracy(vgg16,validloader)\n",
        "print('\\nAccuracy of the network on the Validation images: %d %%' % acc)"
      ],
      "execution_count": 38,
      "outputs": [
        {
          "output_type": "stream",
          "text": [
            " Iterating on image batches :  94\n",
            "Accuracy of the network on the Validation images: 64 %\n"
          ],
          "name": "stdout"
        }
      ]
    },
    {
      "cell_type": "code",
      "metadata": {
        "id": "-zQUR5BSXxa5",
        "colab_type": "code",
        "colab": {
          "base_uri": "https://localhost:8080/",
          "height": 366
        },
        "outputId": "f15937b2-5303-4729-f11d-df88babb095c"
      },
      "source": [
        "# confusion matrix for testing \n",
        "conf_mat=confusion_matrix(lbls.cpu().numpy(), pred.cpu().numpy())\n",
        "plot_confusion_matrix(conf_mat,class_names)"
      ],
      "execution_count": 39,
      "outputs": [
        {
          "output_type": "stream",
          "text": [
            "Confusion matrix, without normalization\n",
            "[[601  14]\n",
            " [513 372]]\n"
          ],
          "name": "stdout"
        },
        {
          "output_type": "display_data",
          "data": {
            "image/png": "[encoded data removed]",
            "text/plain": [
              "<Figure size 432x288 with 2 Axes>"
            ]
          },
          "metadata": {
            "tags": [],
            "needs_background": "light"
          }
        }
      ]
    },
    {
      "cell_type": "markdown",
      "metadata": {
        "id": "5-B79pW_eR7x",
        "colab_type": "text"
      },
      "source": [
        "**Training Accuracy & Confusion Matrix**"
      ]
    },
    {
      "cell_type": "code",
      "metadata": {
        "id": "Z674kUckeYFO",
        "colab_type": "code",
        "outputId": "a06a441f-a19c-41f6-8c11-2a24ea6cfdfb",
        "colab": {
          "base_uri": "https://localhost:8080/",
          "height": 54
        }
      },
      "source": [
        "acc, pred, lbls = Accuracy(vgg16,trainloader)\n",
        "print('\\n [ Training Accuracy ] : %d %%' % acc)"
      ],
      "execution_count": 41,
      "outputs": [
        {
          "output_type": "stream",
          "text": [
            " Iterating on image batches :  81\n",
            " [ Training Accuracy ] : 99 %\n"
          ],
          "name": "stdout"
        }
      ]
    },
    {
      "cell_type": "code",
      "metadata": {
        "id": "RHkeLZ7XnyZo",
        "colab_type": "code",
        "colab": {
          "base_uri": "https://localhost:8080/",
          "height": 366
        },
        "outputId": "0f8e9416-e07f-4045-f2f2-5109249f53bb"
      },
      "source": [
        "# confusion matrix for training \n",
        "conf_mat=confusion_matrix(lbls.cpu().numpy(), pred.cpu().numpy())\n",
        "plot_confusion_matrix(conf_mat,class_names)"
      ],
      "execution_count": 42,
      "outputs": [
        {
          "output_type": "stream",
          "text": [
            "Confusion matrix, without normalization\n",
            "[[4585   35]\n",
            " [   2 5661]]\n"
          ],
          "name": "stdout"
        },
        {
          "output_type": "display_data",
          "data": {
            "image/png": "[encoded data removed]",
            "text/plain": [
              "<Figure size 432x288 with 2 Axes>"
            ]
          },
          "metadata": {
            "tags": [],
            "needs_background": "light"
          }
        }
      ]
    },
    {
      "cell_type": "code",
      "metadata": {
        "id": "Kn6gACNn1ISq",
        "colab_type": "code",
        "outputId": "b8483ea4-33a8-4523-8731-99eebede333c",
        "colab": {
          "base_uri": "https://localhost:8080/",
          "height": 254
        }
      },
      "source": [
        "dataiter = iter(validloader)\n",
        "images, labels = dataiter.next()\n",
        "images,labels = images[:2],labels[:2]\n",
        "imshow(torchvision.utils.make_grid(images))\n",
        "print('GroundTruth: ', ' '.join('%5s' % class_names[labels[j]] for j in range(len(images))))\n",
        "\n",
        "images, labels = images.to(device), labels.to(device) #-->convert test image to cuda (if available)\n",
        "outputs = vgg16(images)                               #--> forward pass\n",
        "_, predicted = torch.max(outputs, 1)\n",
        "\n",
        "print('Predicted: ', ' '.join('%5s' % class_names[predicted[j]]\n",
        "                              for j in range(len(images))))"
      ],
      "execution_count": 0,
      "outputs": [
        {
          "output_type": "stream",
          "text": [
            "Clipping input data to the valid range for imshow with RGB data ([0..1] for floats or [0..255] for integers).\n"
          ],
          "name": "stderr"
        },
        {
          "output_type": "stream",
          "text": [
            "GroundTruth:  infected normal\n",
            "Predicted:  infected infected\n"
          ],
          "name": "stdout"
        },
        {
          "output_type": "display_data",
          "data": {
            "image/png": "[encoded data removed]",
            "text/plain": [
              "<Figure size 432x288 with 1 Axes>"
            ]
          },
          "metadata": {
            "tags": [],
            "needs_background": "light"
          }
        }
      ]
    },
    {
      "cell_type": "code",
      "metadata": {
        "id": "lTbXDkg-WWTT",
        "colab_type": "code",
        "colab": {}
      },
      "source": [
        "dataiter = iter(tesloader)\n",
        "images, labels = dataiter.next()"
      ],
      "execution_count": 0,
      "outputs": []
    },
    {
      "cell_type": "code",
      "metadata": {
        "id": "lgGE-v_aXnm2",
        "colab_type": "code",
        "outputId": "cab6e14e-fe8b-4c04-f493-f8f7329e8d19",
        "colab": {
          "base_uri": "https://localhost:8080/",
          "height": 254
        }
      },
      "source": [
        "images,labels = images[:2],labels[:2]\n",
        "imshow(torchvision.utils.make_grid(images))\n",
        "print('GroundTruth: ', ' '.join('%5s' % class_names[labels[j]] for j in range(len(images))))\n",
        "\n",
        "images, labels = images.to(device), labels.to(device) #-->convert test image to cuda (if available)\n",
        "outputs = vgg16(images)                               #--> forward pass\n",
        "_, predicted = torch.max(outputs, 1)\n",
        "\n",
        "print('Predicted: ', ' '.join('%5s' % class_names[predicted[j]]\n",
        "                              for j in range(len(images))))"
      ],
      "execution_count": 0,
      "outputs": [
        {
          "output_type": "stream",
          "text": [
            "Clipping input data to the valid range for imshow with RGB data ([0..1] for floats or [0..255] for integers).\n"
          ],
          "name": "stderr"
        },
        {
          "output_type": "stream",
          "text": [
            "GroundTruth:  infected normal\n",
            "Predicted:  infected infected\n"
          ],
          "name": "stdout"
        },
        {
          "output_type": "display_data",
          "data": {
            "image/png": "[encoded data removed]",
            "text/plain": [
              "<Figure size 432x288 with 1 Axes>"
            ]
          },
          "metadata": {
            "tags": [],
            "needs_background": "light"
          }
        }
      ]
    },
    {
      "cell_type": "markdown",
      "metadata": {
        "id": "JamZIFS0GFHO",
        "colab_type": "text"
      },
      "source": [
        "### Fine Tuning on Resnet"
      ]
    },
    {
      "cell_type": "code",
      "metadata": {
        "id": "LetEbPjxF_Kz",
        "colab_type": "code",
        "outputId": "b4281152-9b6b-4cca-e9fb-66f19dfcb494",
        "colab": {
          "base_uri": "https://localhost:8080/",
          "height": 1000
        }
      },
      "source": [
        "print(resnet)"
      ],
      "execution_count": 28,
      "outputs": [
        {
          "output_type": "stream",
          "text": [
            "ResNet(\n",
            "  (conv1): Conv2d(3, 64, kernel_size=(7, 7), stride=(2, 2), padding=(3, 3), bias=False)\n",
            "  (bn1): BatchNorm2d(64, eps=1e-05, momentum=0.1, affine=True, track_running_stats=True)\n",
            "  (relu): ReLU(inplace=True)\n",
            "  (maxpool): MaxPool2d(kernel_size=3, stride=2, padding=1, dilation=1, ceil_mode=False)\n",
            "  (layer1): Sequential(\n",
            "    (0): BasicBlock(\n",
            "      (conv1): Conv2d(64, 64, kernel_size=(3, 3), stride=(1, 1), padding=(1, 1), bias=False)\n",
            "      (bn1): BatchNorm2d(64, eps=1e-05, momentum=0.1, affine=True, track_running_stats=True)\n",
            "      (relu): ReLU(inplace=True)\n",
            "      (conv2): Conv2d(64, 64, kernel_size=(3, 3), stride=(1, 1), padding=(1, 1), bias=False)\n",
            "      (bn2): BatchNorm2d(64, eps=1e-05, momentum=0.1, affine=True, track_running_stats=True)\n",
            "    )\n",
            "    (1): BasicBlock(\n",
            "      (conv1): Conv2d(64, 64, kernel_size=(3, 3), stride=(1, 1), padding=(1, 1), bias=False)\n",
            "      (bn1): BatchNorm2d(64, eps=1e-05, momentum=0.1, affine=True, track_running_stats=True)\n",
            "      (relu): ReLU(inplace=True)\n",
            "      (conv2): Conv2d(64, 64, kernel_size=(3, 3), stride=(1, 1), padding=(1, 1), bias=False)\n",
            "      (bn2): BatchNorm2d(64, eps=1e-05, momentum=0.1, affine=True, track_running_stats=True)\n",
            "    )\n",
            "  )\n",
            "  (layer2): Sequential(\n",
            "    (0): BasicBlock(\n",
            "      (conv1): Conv2d(64, 128, kernel_size=(3, 3), stride=(2, 2), padding=(1, 1), bias=False)\n",
            "      (bn1): BatchNorm2d(128, eps=1e-05, momentum=0.1, affine=True, track_running_stats=True)\n",
            "      (relu): ReLU(inplace=True)\n",
            "      (conv2): Conv2d(128, 128, kernel_size=(3, 3), stride=(1, 1), padding=(1, 1), bias=False)\n",
            "      (bn2): BatchNorm2d(128, eps=1e-05, momentum=0.1, affine=True, track_running_stats=True)\n",
            "      (downsample): Sequential(\n",
            "        (0): Conv2d(64, 128, kernel_size=(1, 1), stride=(2, 2), bias=False)\n",
            "        (1): BatchNorm2d(128, eps=1e-05, momentum=0.1, affine=True, track_running_stats=True)\n",
            "      )\n",
            "    )\n",
            "    (1): BasicBlock(\n",
            "      (conv1): Conv2d(128, 128, kernel_size=(3, 3), stride=(1, 1), padding=(1, 1), bias=False)\n",
            "      (bn1): BatchNorm2d(128, eps=1e-05, momentum=0.1, affine=True, track_running_stats=True)\n",
            "      (relu): ReLU(inplace=True)\n",
            "      (conv2): Conv2d(128, 128, kernel_size=(3, 3), stride=(1, 1), padding=(1, 1), bias=False)\n",
            "      (bn2): BatchNorm2d(128, eps=1e-05, momentum=0.1, affine=True, track_running_stats=True)\n",
            "    )\n",
            "  )\n",
            "  (layer3): Sequential(\n",
            "    (0): BasicBlock(\n",
            "      (conv1): Conv2d(128, 256, kernel_size=(3, 3), stride=(2, 2), padding=(1, 1), bias=False)\n",
            "      (bn1): BatchNorm2d(256, eps=1e-05, momentum=0.1, affine=True, track_running_stats=True)\n",
            "      (relu): ReLU(inplace=True)\n",
            "      (conv2): Conv2d(256, 256, kernel_size=(3, 3), stride=(1, 1), padding=(1, 1), bias=False)\n",
            "      (bn2): BatchNorm2d(256, eps=1e-05, momentum=0.1, affine=True, track_running_stats=True)\n",
            "      (downsample): Sequential(\n",
            "        (0): Conv2d(128, 256, kernel_size=(1, 1), stride=(2, 2), bias=False)\n",
            "        (1): BatchNorm2d(256, eps=1e-05, momentum=0.1, affine=True, track_running_stats=True)\n",
            "      )\n",
            "    )\n",
            "    (1): BasicBlock(\n",
            "      (conv1): Conv2d(256, 256, kernel_size=(3, 3), stride=(1, 1), padding=(1, 1), bias=False)\n",
            "      (bn1): BatchNorm2d(256, eps=1e-05, momentum=0.1, affine=True, track_running_stats=True)\n",
            "      (relu): ReLU(inplace=True)\n",
            "      (conv2): Conv2d(256, 256, kernel_size=(3, 3), stride=(1, 1), padding=(1, 1), bias=False)\n",
            "      (bn2): BatchNorm2d(256, eps=1e-05, momentum=0.1, affine=True, track_running_stats=True)\n",
            "    )\n",
            "  )\n",
            "  (layer4): Sequential(\n",
            "    (0): BasicBlock(\n",
            "      (conv1): Conv2d(256, 512, kernel_size=(3, 3), stride=(2, 2), padding=(1, 1), bias=False)\n",
            "      (bn1): BatchNorm2d(512, eps=1e-05, momentum=0.1, affine=True, track_running_stats=True)\n",
            "      (relu): ReLU(inplace=True)\n",
            "      (conv2): Conv2d(512, 512, kernel_size=(3, 3), stride=(1, 1), padding=(1, 1), bias=False)\n",
            "      (bn2): BatchNorm2d(512, eps=1e-05, momentum=0.1, affine=True, track_running_stats=True)\n",
            "      (downsample): Sequential(\n",
            "        (0): Conv2d(256, 512, kernel_size=(1, 1), stride=(2, 2), bias=False)\n",
            "        (1): BatchNorm2d(512, eps=1e-05, momentum=0.1, affine=True, track_running_stats=True)\n",
            "      )\n",
            "    )\n",
            "    (1): BasicBlock(\n",
            "      (conv1): Conv2d(512, 512, kernel_size=(3, 3), stride=(1, 1), padding=(1, 1), bias=False)\n",
            "      (bn1): BatchNorm2d(512, eps=1e-05, momentum=0.1, affine=True, track_running_stats=True)\n",
            "      (relu): ReLU(inplace=True)\n",
            "      (conv2): Conv2d(512, 512, kernel_size=(3, 3), stride=(1, 1), padding=(1, 1), bias=False)\n",
            "      (bn2): BatchNorm2d(512, eps=1e-05, momentum=0.1, affine=True, track_running_stats=True)\n",
            "    )\n",
            "  )\n",
            "  (avgpool): AdaptiveAvgPool2d(output_size=(1, 1))\n",
            "  (fc): Linear(in_features=512, out_features=1000, bias=True)\n",
            ")\n"
          ],
          "name": "stdout"
        }
      ]
    },
    {
      "cell_type": "code",
      "metadata": {
        "id": "ivvUYitoGfYx",
        "colab_type": "code",
        "outputId": "6251ab06-c99a-42e2-c116-7ae0aca1171b",
        "colab": {
          "base_uri": "https://localhost:8080/",
          "height": 35
        }
      },
      "source": [
        "nfeatures = resnet.fc.in_features\n",
        "\n",
        "features = list(resnet.fc.children())[:-1] #Remove last layer\n",
        "print(features)"
      ],
      "execution_count": 29,
      "outputs": [
        {
          "output_type": "stream",
          "text": [
            "[]\n"
          ],
          "name": "stdout"
        }
      ]
    },
    {
      "cell_type": "code",
      "metadata": {
        "id": "tMTOjNM3Gdm9",
        "colab_type": "code",
        "colab": {}
      },
      "source": [
        "# Freeze training for all layers\n",
        "for param in resnet.parameters():\n",
        "    param.require_grad = False"
      ],
      "execution_count": 0,
      "outputs": []
    },
    {
      "cell_type": "code",
      "metadata": {
        "id": "VhjiBLGQIzTF",
        "colab_type": "code",
        "colab": {}
      },
      "source": [
        "# adding new features\n",
        "\n",
        "#(Last 2 digits of your roll number x 10) + 100  = (36X10)+100 = 460\n",
        "features.extend(\n",
        "    [nn.Linear(nfeatures, 460 ),\n",
        "     nn.ReLU(inplace=True),\n",
        "     nn.Linear(460 ,len(class_names))])"
      ],
      "execution_count": 0,
      "outputs": []
    },
    {
      "cell_type": "code",
      "metadata": {
        "id": "fhW1lEcoJM8W",
        "colab_type": "code",
        "outputId": "8da202e3-f8d7-4305-81c6-df666257c988",
        "colab": {
          "base_uri": "https://localhost:8080/",
          "height": 1000
        }
      },
      "source": [
        "resnet.fc = nn.Sequential(*features)\n",
        "print(resnet)"
      ],
      "execution_count": 32,
      "outputs": [
        {
          "output_type": "stream",
          "text": [
            "ResNet(\n",
            "  (conv1): Conv2d(3, 64, kernel_size=(7, 7), stride=(2, 2), padding=(3, 3), bias=False)\n",
            "  (bn1): BatchNorm2d(64, eps=1e-05, momentum=0.1, affine=True, track_running_stats=True)\n",
            "  (relu): ReLU(inplace=True)\n",
            "  (maxpool): MaxPool2d(kernel_size=3, stride=2, padding=1, dilation=1, ceil_mode=False)\n",
            "  (layer1): Sequential(\n",
            "    (0): BasicBlock(\n",
            "      (conv1): Conv2d(64, 64, kernel_size=(3, 3), stride=(1, 1), padding=(1, 1), bias=False)\n",
            "      (bn1): BatchNorm2d(64, eps=1e-05, momentum=0.1, affine=True, track_running_stats=True)\n",
            "      (relu): ReLU(inplace=True)\n",
            "      (conv2): Conv2d(64, 64, kernel_size=(3, 3), stride=(1, 1), padding=(1, 1), bias=False)\n",
            "      (bn2): BatchNorm2d(64, eps=1e-05, momentum=0.1, affine=True, track_running_stats=True)\n",
            "    )\n",
            "    (1): BasicBlock(\n",
            "      (conv1): Conv2d(64, 64, kernel_size=(3, 3), stride=(1, 1), padding=(1, 1), bias=False)\n",
            "      (bn1): BatchNorm2d(64, eps=1e-05, momentum=0.1, affine=True, track_running_stats=True)\n",
            "      (relu): ReLU(inplace=True)\n",
            "      (conv2): Conv2d(64, 64, kernel_size=(3, 3), stride=(1, 1), padding=(1, 1), bias=False)\n",
            "      (bn2): BatchNorm2d(64, eps=1e-05, momentum=0.1, affine=True, track_running_stats=True)\n",
            "    )\n",
            "  )\n",
            "  (layer2): Sequential(\n",
            "    (0): BasicBlock(\n",
            "      (conv1): Conv2d(64, 128, kernel_size=(3, 3), stride=(2, 2), padding=(1, 1), bias=False)\n",
            "      (bn1): BatchNorm2d(128, eps=1e-05, momentum=0.1, affine=True, track_running_stats=True)\n",
            "      (relu): ReLU(inplace=True)\n",
            "      (conv2): Conv2d(128, 128, kernel_size=(3, 3), stride=(1, 1), padding=(1, 1), bias=False)\n",
            "      (bn2): BatchNorm2d(128, eps=1e-05, momentum=0.1, affine=True, track_running_stats=True)\n",
            "      (downsample): Sequential(\n",
            "        (0): Conv2d(64, 128, kernel_size=(1, 1), stride=(2, 2), bias=False)\n",
            "        (1): BatchNorm2d(128, eps=1e-05, momentum=0.1, affine=True, track_running_stats=True)\n",
            "      )\n",
            "    )\n",
            "    (1): BasicBlock(\n",
            "      (conv1): Conv2d(128, 128, kernel_size=(3, 3), stride=(1, 1), padding=(1, 1), bias=False)\n",
            "      (bn1): BatchNorm2d(128, eps=1e-05, momentum=0.1, affine=True, track_running_stats=True)\n",
            "      (relu): ReLU(inplace=True)\n",
            "      (conv2): Conv2d(128, 128, kernel_size=(3, 3), stride=(1, 1), padding=(1, 1), bias=False)\n",
            "      (bn2): BatchNorm2d(128, eps=1e-05, momentum=0.1, affine=True, track_running_stats=True)\n",
            "    )\n",
            "  )\n",
            "  (layer3): Sequential(\n",
            "    (0): BasicBlock(\n",
            "      (conv1): Conv2d(128, 256, kernel_size=(3, 3), stride=(2, 2), padding=(1, 1), bias=False)\n",
            "      (bn1): BatchNorm2d(256, eps=1e-05, momentum=0.1, affine=True, track_running_stats=True)\n",
            "      (relu): ReLU(inplace=True)\n",
            "      (conv2): Conv2d(256, 256, kernel_size=(3, 3), stride=(1, 1), padding=(1, 1), bias=False)\n",
            "      (bn2): BatchNorm2d(256, eps=1e-05, momentum=0.1, affine=True, track_running_stats=True)\n",
            "      (downsample): Sequential(\n",
            "        (0): Conv2d(128, 256, kernel_size=(1, 1), stride=(2, 2), bias=False)\n",
            "        (1): BatchNorm2d(256, eps=1e-05, momentum=0.1, affine=True, track_running_stats=True)\n",
            "      )\n",
            "    )\n",
            "    (1): BasicBlock(\n",
            "      (conv1): Conv2d(256, 256, kernel_size=(3, 3), stride=(1, 1), padding=(1, 1), bias=False)\n",
            "      (bn1): BatchNorm2d(256, eps=1e-05, momentum=0.1, affine=True, track_running_stats=True)\n",
            "      (relu): ReLU(inplace=True)\n",
            "      (conv2): Conv2d(256, 256, kernel_size=(3, 3), stride=(1, 1), padding=(1, 1), bias=False)\n",
            "      (bn2): BatchNorm2d(256, eps=1e-05, momentum=0.1, affine=True, track_running_stats=True)\n",
            "    )\n",
            "  )\n",
            "  (layer4): Sequential(\n",
            "    (0): BasicBlock(\n",
            "      (conv1): Conv2d(256, 512, kernel_size=(3, 3), stride=(2, 2), padding=(1, 1), bias=False)\n",
            "      (bn1): BatchNorm2d(512, eps=1e-05, momentum=0.1, affine=True, track_running_stats=True)\n",
            "      (relu): ReLU(inplace=True)\n",
            "      (conv2): Conv2d(512, 512, kernel_size=(3, 3), stride=(1, 1), padding=(1, 1), bias=False)\n",
            "      (bn2): BatchNorm2d(512, eps=1e-05, momentum=0.1, affine=True, track_running_stats=True)\n",
            "      (downsample): Sequential(\n",
            "        (0): Conv2d(256, 512, kernel_size=(1, 1), stride=(2, 2), bias=False)\n",
            "        (1): BatchNorm2d(512, eps=1e-05, momentum=0.1, affine=True, track_running_stats=True)\n",
            "      )\n",
            "    )\n",
            "    (1): BasicBlock(\n",
            "      (conv1): Conv2d(512, 512, kernel_size=(3, 3), stride=(1, 1), padding=(1, 1), bias=False)\n",
            "      (bn1): BatchNorm2d(512, eps=1e-05, momentum=0.1, affine=True, track_running_stats=True)\n",
            "      (relu): ReLU(inplace=True)\n",
            "      (conv2): Conv2d(512, 512, kernel_size=(3, 3), stride=(1, 1), padding=(1, 1), bias=False)\n",
            "      (bn2): BatchNorm2d(512, eps=1e-05, momentum=0.1, affine=True, track_running_stats=True)\n",
            "    )\n",
            "  )\n",
            "  (avgpool): AdaptiveAvgPool2d(output_size=(1, 1))\n",
            "  (fc): Sequential(\n",
            "    (0): Linear(in_features=512, out_features=460, bias=True)\n",
            "    (1): ReLU(inplace=True)\n",
            "    (2): Linear(in_features=460, out_features=2, bias=True)\n",
            "  )\n",
            ")\n"
          ],
          "name": "stdout"
        }
      ]
    },
    {
      "cell_type": "markdown",
      "metadata": {
        "id": "gZTyfXfNJmO_",
        "colab_type": "text"
      },
      "source": [
        "### Training on Resnet"
      ]
    },
    {
      "cell_type": "code",
      "metadata": {
        "id": "B_K6hNewXm1X",
        "colab_type": "code",
        "colab": {
          "base_uri": "https://localhost:8080/",
          "height": 1000
        },
        "outputId": "adafbf86-0d34-4c38-b86f-72c4e399ba8a"
      },
      "source": [
        "resnet.load_state_dict(torch.load('/content/drive/My Drive/Colab Notebooks/res18_FC_Only.pth'))\n",
        "resnet.cuda()"
      ],
      "execution_count": 35,
      "outputs": [
        {
          "output_type": "execute_result",
          "data": {
            "text/plain": [
              "ResNet(\n",
              "  (conv1): Conv2d(3, 64, kernel_size=(7, 7), stride=(2, 2), padding=(3, 3), bias=False)\n",
              "  (bn1): BatchNorm2d(64, eps=1e-05, momentum=0.1, affine=True, track_running_stats=True)\n",
              "  (relu): ReLU(inplace=True)\n",
              "  (maxpool): MaxPool2d(kernel_size=3, stride=2, padding=1, dilation=1, ceil_mode=False)\n",
              "  (layer1): Sequential(\n",
              "    (0): BasicBlock(\n",
              "      (conv1): Conv2d(64, 64, kernel_size=(3, 3), stride=(1, 1), padding=(1, 1), bias=False)\n",
              "      (bn1): BatchNorm2d(64, eps=1e-05, momentum=0.1, affine=True, track_running_stats=True)\n",
              "      (relu): ReLU(inplace=True)\n",
              "      (conv2): Conv2d(64, 64, kernel_size=(3, 3), stride=(1, 1), padding=(1, 1), bias=False)\n",
              "      (bn2): BatchNorm2d(64, eps=1e-05, momentum=0.1, affine=True, track_running_stats=True)\n",
              "    )\n",
              "    (1): BasicBlock(\n",
              "      (conv1): Conv2d(64, 64, kernel_size=(3, 3), stride=(1, 1), padding=(1, 1), bias=False)\n",
              "      (bn1): BatchNorm2d(64, eps=1e-05, momentum=0.1, affine=True, track_running_stats=True)\n",
              "      (relu): ReLU(inplace=True)\n",
              "      (conv2): Conv2d(64, 64, kernel_size=(3, 3), stride=(1, 1), padding=(1, 1), bias=False)\n",
              "      (bn2): BatchNorm2d(64, eps=1e-05, momentum=0.1, affine=True, track_running_stats=True)\n",
              "    )\n",
              "  )\n",
              "  (layer2): Sequential(\n",
              "    (0): BasicBlock(\n",
              "      (conv1): Conv2d(64, 128, kernel_size=(3, 3), stride=(2, 2), padding=(1, 1), bias=False)\n",
              "      (bn1): BatchNorm2d(128, eps=1e-05, momentum=0.1, affine=True, track_running_stats=True)\n",
              "      (relu): ReLU(inplace=True)\n",
              "      (conv2): Conv2d(128, 128, kernel_size=(3, 3), stride=(1, 1), padding=(1, 1), bias=False)\n",
              "      (bn2): BatchNorm2d(128, eps=1e-05, momentum=0.1, affine=True, track_running_stats=True)\n",
              "      (downsample): Sequential(\n",
              "        (0): Conv2d(64, 128, kernel_size=(1, 1), stride=(2, 2), bias=False)\n",
              "        (1): BatchNorm2d(128, eps=1e-05, momentum=0.1, affine=True, track_running_stats=True)\n",
              "      )\n",
              "    )\n",
              "    (1): BasicBlock(\n",
              "      (conv1): Conv2d(128, 128, kernel_size=(3, 3), stride=(1, 1), padding=(1, 1), bias=False)\n",
              "      (bn1): BatchNorm2d(128, eps=1e-05, momentum=0.1, affine=True, track_running_stats=True)\n",
              "      (relu): ReLU(inplace=True)\n",
              "      (conv2): Conv2d(128, 128, kernel_size=(3, 3), stride=(1, 1), padding=(1, 1), bias=False)\n",
              "      (bn2): BatchNorm2d(128, eps=1e-05, momentum=0.1, affine=True, track_running_stats=True)\n",
              "    )\n",
              "  )\n",
              "  (layer3): Sequential(\n",
              "    (0): BasicBlock(\n",
              "      (conv1): Conv2d(128, 256, kernel_size=(3, 3), stride=(2, 2), padding=(1, 1), bias=False)\n",
              "      (bn1): BatchNorm2d(256, eps=1e-05, momentum=0.1, affine=True, track_running_stats=True)\n",
              "      (relu): ReLU(inplace=True)\n",
              "      (conv2): Conv2d(256, 256, kernel_size=(3, 3), stride=(1, 1), padding=(1, 1), bias=False)\n",
              "      (bn2): BatchNorm2d(256, eps=1e-05, momentum=0.1, affine=True, track_running_stats=True)\n",
              "      (downsample): Sequential(\n",
              "        (0): Conv2d(128, 256, kernel_size=(1, 1), stride=(2, 2), bias=False)\n",
              "        (1): BatchNorm2d(256, eps=1e-05, momentum=0.1, affine=True, track_running_stats=True)\n",
              "      )\n",
              "    )\n",
              "    (1): BasicBlock(\n",
              "      (conv1): Conv2d(256, 256, kernel_size=(3, 3), stride=(1, 1), padding=(1, 1), bias=False)\n",
              "      (bn1): BatchNorm2d(256, eps=1e-05, momentum=0.1, affine=True, track_running_stats=True)\n",
              "      (relu): ReLU(inplace=True)\n",
              "      (conv2): Conv2d(256, 256, kernel_size=(3, 3), stride=(1, 1), padding=(1, 1), bias=False)\n",
              "      (bn2): BatchNorm2d(256, eps=1e-05, momentum=0.1, affine=True, track_running_stats=True)\n",
              "    )\n",
              "  )\n",
              "  (layer4): Sequential(\n",
              "    (0): BasicBlock(\n",
              "      (conv1): Conv2d(256, 512, kernel_size=(3, 3), stride=(2, 2), padding=(1, 1), bias=False)\n",
              "      (bn1): BatchNorm2d(512, eps=1e-05, momentum=0.1, affine=True, track_running_stats=True)\n",
              "      (relu): ReLU(inplace=True)\n",
              "      (conv2): Conv2d(512, 512, kernel_size=(3, 3), stride=(1, 1), padding=(1, 1), bias=False)\n",
              "      (bn2): BatchNorm2d(512, eps=1e-05, momentum=0.1, affine=True, track_running_stats=True)\n",
              "      (downsample): Sequential(\n",
              "        (0): Conv2d(256, 512, kernel_size=(1, 1), stride=(2, 2), bias=False)\n",
              "        (1): BatchNorm2d(512, eps=1e-05, momentum=0.1, affine=True, track_running_stats=True)\n",
              "      )\n",
              "    )\n",
              "    (1): BasicBlock(\n",
              "      (conv1): Conv2d(512, 512, kernel_size=(3, 3), stride=(1, 1), padding=(1, 1), bias=False)\n",
              "      (bn1): BatchNorm2d(512, eps=1e-05, momentum=0.1, affine=True, track_running_stats=True)\n",
              "      (relu): ReLU(inplace=True)\n",
              "      (conv2): Conv2d(512, 512, kernel_size=(3, 3), stride=(1, 1), padding=(1, 1), bias=False)\n",
              "      (bn2): BatchNorm2d(512, eps=1e-05, momentum=0.1, affine=True, track_running_stats=True)\n",
              "    )\n",
              "  )\n",
              "  (avgpool): AdaptiveAvgPool2d(output_size=(1, 1))\n",
              "  (fc): Sequential(\n",
              "    (0): Linear(in_features=512, out_features=460, bias=True)\n",
              "    (1): ReLU(inplace=True)\n",
              "    (2): Linear(in_features=460, out_features=2, bias=True)\n",
              "  )\n",
              ")"
            ]
          },
          "metadata": {
            "tags": []
          },
          "execution_count": 35
        }
      ]
    },
    {
      "cell_type": "code",
      "metadata": {
        "id": "8EENUmHEh3sz",
        "colab_type": "code",
        "colab": {}
      },
      "source": [
        "# Loss fucntion and optimizer\n",
        "Epochs = 10\n",
        "criterion = nn.CrossEntropyLoss()\n",
        "optimizer = optim.SGD(resnet.parameters(), lr=0.001, momentum=0.9)"
      ],
      "execution_count": 0,
      "outputs": []
    },
    {
      "cell_type": "code",
      "metadata": {
        "id": "SRJYokUmJlXw",
        "colab_type": "code",
        "outputId": "33b51449-7720-4c7f-87a0-31ede446a696",
        "colab": {
          "base_uri": "https://localhost:8080/",
          "height": 1000
        }
      },
      "source": [
        "from tqdm import tqdm\n",
        "\n",
        "device = torch.device(\"cuda:0\" if torch.cuda.is_available() else \"cpu\")\n",
        "resnet.to(device)\n",
        "\n",
        "resnet.train()\n",
        "\n",
        "n = len(train_data)\n",
        "losses_r = []\n",
        "acc_r = []\n",
        "correct = 0\n",
        "\n",
        "for epoch in range(Epochs):  # loop over the dataset multiple times\n",
        "\n",
        "    running_loss = 0.0\n",
        "    pbar = tqdm(enumerate(trainloader))\n",
        "    for i, data in pbar:\n",
        "        \n",
        "        inputs, labels = data\n",
        "        inputs, labels = inputs.to(device), labels.to(device)\n",
        "\n",
        "        optimizer.zero_grad()\n",
        "    \n",
        "        outputs = resnet(inputs)               #----> forward pass\n",
        "        loss = criterion(outputs, labels)   #----> compute loss\n",
        "        loss.backward()                     #----> backward pass\n",
        "        optimizer.step()                    #----> weights update\n",
        "\n",
        "      \n",
        "        running_loss += loss.item()\n",
        "\n",
        "        _, predicted = torch.max(outputs.data, 1)\n",
        "        correct += (predicted == labels).float().sum().item()\n",
        "\n",
        "        pbar.set_description(\n",
        "            'Train Epoch: {} [{}/{} ({:.0f}%)]\\tLoss: {:.6f}'.format(\n",
        "                epoch, i * len(inputs), len(trainloader.dataset),\n",
        "                100. * i / len(trainloader),\n",
        "                loss.data))\n",
        "\n",
        "    acc_r.append(100 * correct / n) \n",
        "    losses_r.append(running_loss/len(trainloader))\n",
        "        \n",
        "    torch.save(resnet.state_dict(), '/content/drive/My Drive/Colab Notebooks/res18_FC_Only.pth')\n",
        "\n",
        "print('Finished Training')"
      ],
      "execution_count": 50,
      "outputs": [
        {
          "output_type": "stream",
          "text": [
            "\n",
            "0it [00:00, ?it/s]\u001b[A\n",
            "Train Epoch: 0 [0/10283 (0%)]\tLoss: 0.682311: : 0it [00:03, ?it/s]\u001b[A\n",
            "Train Epoch: 0 [0/10283 (0%)]\tLoss: 0.682311: : 1it [00:03,  3.75s/it]\u001b[A\n",
            "Train Epoch: 0 [128/10283 (1%)]\tLoss: 0.664548: : 1it [00:07,  3.75s/it]\u001b[A\n",
            "Train Epoch: 0 [128/10283 (1%)]\tLoss: 0.664548: : 2it [00:07,  3.79s/it]\u001b[A\n",
            "Train Epoch: 0 [256/10283 (2%)]\tLoss: 0.676973: : 2it [00:11,  3.79s/it]\u001b[A\n",
            "Train Epoch: 0 [256/10283 (2%)]\tLoss: 0.676973: : 3it [00:11,  3.79s/it]\u001b[A\n",
            "Train Epoch: 0 [384/10283 (4%)]\tLoss: 0.673654: : 3it [00:15,  3.79s/it]\u001b[A\n",
            "Train Epoch: 0 [384/10283 (4%)]\tLoss: 0.673654: : 4it [00:15,  3.78s/it]\u001b[A\n",
            "Train Epoch: 0 [512/10283 (5%)]\tLoss: 0.661834: : 4it [00:18,  3.78s/it]\u001b[A\n",
            "Train Epoch: 0 [512/10283 (5%)]\tLoss: 0.661834: : 5it [00:18,  3.76s/it]\u001b[A\n",
            "Train Epoch: 0 [640/10283 (6%)]\tLoss: 0.646795: : 5it [00:22,  3.76s/it]\u001b[A\n",
            "Train Epoch: 0 [640/10283 (6%)]\tLoss: 0.646795: : 6it [00:22,  3.83s/it]\u001b[A\n",
            "Train Epoch: 0 [768/10283 (7%)]\tLoss: 0.645344: : 6it [00:26,  3.83s/it]\u001b[A\n",
            "Train Epoch: 0 [768/10283 (7%)]\tLoss: 0.645344: : 7it [00:26,  3.79s/it]\u001b[A\n",
            "Train Epoch: 0 [896/10283 (9%)]\tLoss: 0.682097: : 7it [00:30,  3.79s/it]\u001b[A\n",
            "Train Epoch: 0 [896/10283 (9%)]\tLoss: 0.682097: : 8it [00:30,  3.78s/it]\u001b[A\n",
            "Train Epoch: 0 [1024/10283 (10%)]\tLoss: 0.612917: : 8it [00:34,  3.78s/it]\u001b[A\n",
            "Train Epoch: 0 [1024/10283 (10%)]\tLoss: 0.612917: : 9it [00:34,  3.82s/it]\u001b[A\n",
            "Train Epoch: 0 [1152/10283 (11%)]\tLoss: 0.592826: : 9it [00:37,  3.82s/it]\u001b[A\n",
            "Train Epoch: 0 [1152/10283 (11%)]\tLoss: 0.592826: : 10it [00:37,  3.79s/it]\u001b[A\n",
            "Train Epoch: 0 [1280/10283 (12%)]\tLoss: 0.600172: : 10it [00:41,  3.79s/it]\u001b[A\n",
            "Train Epoch: 0 [1280/10283 (12%)]\tLoss: 0.600172: : 11it [00:41,  3.83s/it]\u001b[A\n",
            "Train Epoch: 0 [1408/10283 (14%)]\tLoss: 0.625815: : 11it [00:45,  3.83s/it]\u001b[A\n",
            "Train Epoch: 0 [1408/10283 (14%)]\tLoss: 0.625815: : 12it [00:45,  3.85s/it]\u001b[A\n",
            "Train Epoch: 0 [1536/10283 (15%)]\tLoss: 0.596057: : 12it [00:49,  3.85s/it]\u001b[A\n",
            "Train Epoch: 0 [1536/10283 (15%)]\tLoss: 0.596057: : 13it [00:49,  3.81s/it]\u001b[A\n",
            "Train Epoch: 0 [1664/10283 (16%)]\tLoss: 0.573834: : 13it [00:53,  3.81s/it]\u001b[A\n",
            "Train Epoch: 0 [1664/10283 (16%)]\tLoss: 0.573834: : 14it [00:53,  3.87s/it]\u001b[A\n",
            "Train Epoch: 0 [1792/10283 (17%)]\tLoss: 0.552090: : 14it [00:57,  3.87s/it]\u001b[A\n",
            "Train Epoch: 0 [1792/10283 (17%)]\tLoss: 0.552090: : 15it [00:57,  3.86s/it]\u001b[A\n",
            "Train Epoch: 0 [1920/10283 (19%)]\tLoss: 0.588654: : 15it [01:01,  3.86s/it]\u001b[A\n",
            "Train Epoch: 0 [1920/10283 (19%)]\tLoss: 0.588654: : 16it [01:01,  3.86s/it]\u001b[A\n",
            "Train Epoch: 0 [2048/10283 (20%)]\tLoss: 0.534839: : 16it [01:04,  3.86s/it]\u001b[A\n",
            "Train Epoch: 0 [2048/10283 (20%)]\tLoss: 0.534839: : 17it [01:04,  3.80s/it]\u001b[A\n",
            "Train Epoch: 0 [2176/10283 (21%)]\tLoss: 0.545409: : 17it [01:08,  3.80s/it]\u001b[A\n",
            "Train Epoch: 0 [2176/10283 (21%)]\tLoss: 0.545409: : 18it [01:08,  3.76s/it]\u001b[A\n",
            "Train Epoch: 0 [2304/10283 (22%)]\tLoss: 0.527331: : 18it [01:12,  3.76s/it]\u001b[A\n",
            "Train Epoch: 0 [2304/10283 (22%)]\tLoss: 0.527331: : 19it [01:12,  3.75s/it]\u001b[A\n",
            "Train Epoch: 0 [2432/10283 (23%)]\tLoss: 0.503747: : 19it [01:16,  3.75s/it]\u001b[A\n",
            "Train Epoch: 0 [2432/10283 (23%)]\tLoss: 0.503747: : 20it [01:16,  3.77s/it]\u001b[A\n",
            "Train Epoch: 0 [2560/10283 (25%)]\tLoss: 0.521629: : 20it [01:19,  3.77s/it]\u001b[A\n",
            "Train Epoch: 0 [2560/10283 (25%)]\tLoss: 0.521629: : 21it [01:19,  3.74s/it]\u001b[A\n",
            "Train Epoch: 0 [2688/10283 (26%)]\tLoss: 0.530764: : 21it [01:23,  3.74s/it]\u001b[A\n",
            "Train Epoch: 0 [2688/10283 (26%)]\tLoss: 0.530764: : 22it [01:23,  3.77s/it]\u001b[A\n",
            "Train Epoch: 0 [2816/10283 (27%)]\tLoss: 0.527623: : 22it [01:27,  3.77s/it]\u001b[A\n",
            "Train Epoch: 0 [2816/10283 (27%)]\tLoss: 0.527623: : 23it [01:27,  3.77s/it]\u001b[A\n",
            "Train Epoch: 0 [2944/10283 (28%)]\tLoss: 0.448214: : 23it [01:31,  3.77s/it]\u001b[A\n",
            "Train Epoch: 0 [2944/10283 (28%)]\tLoss: 0.448214: : 24it [01:31,  3.77s/it]\u001b[A\n",
            "Train Epoch: 0 [3072/10283 (30%)]\tLoss: 0.459650: : 24it [01:34,  3.77s/it]\u001b[A\n",
            "Train Epoch: 0 [3072/10283 (30%)]\tLoss: 0.459650: : 25it [01:34,  3.72s/it]\u001b[A\n",
            "Train Epoch: 0 [3200/10283 (31%)]\tLoss: 0.491760: : 25it [01:38,  3.72s/it]\u001b[A\n",
            "Train Epoch: 0 [3200/10283 (31%)]\tLoss: 0.491760: : 26it [01:38,  3.75s/it]\u001b[A\n",
            "Train Epoch: 0 [3328/10283 (32%)]\tLoss: 0.503482: : 26it [01:42,  3.75s/it]\u001b[A\n",
            "Train Epoch: 0 [3328/10283 (32%)]\tLoss: 0.503482: : 27it [01:42,  3.74s/it]\u001b[A\n",
            "Train Epoch: 0 [3456/10283 (33%)]\tLoss: 0.428090: : 27it [01:45,  3.74s/it]\u001b[A\n",
            "Train Epoch: 0 [3456/10283 (33%)]\tLoss: 0.428090: : 28it [01:45,  3.71s/it]\u001b[A\n",
            "Train Epoch: 0 [3584/10283 (35%)]\tLoss: 0.435799: : 28it [01:49,  3.71s/it]\u001b[A\n",
            "Train Epoch: 0 [3584/10283 (35%)]\tLoss: 0.435799: : 29it [01:49,  3.70s/it]\u001b[A\n",
            "Train Epoch: 0 [3712/10283 (36%)]\tLoss: 0.442318: : 29it [01:53,  3.70s/it]\u001b[A\n",
            "Train Epoch: 0 [3712/10283 (36%)]\tLoss: 0.442318: : 30it [01:53,  3.71s/it]\u001b[A\n",
            "Train Epoch: 0 [3840/10283 (37%)]\tLoss: 0.437598: : 30it [01:56,  3.71s/it]\u001b[A\n",
            "Train Epoch: 0 [3840/10283 (37%)]\tLoss: 0.437598: : 31it [01:56,  3.69s/it]\u001b[A\n",
            "Train Epoch: 0 [3968/10283 (38%)]\tLoss: 0.410444: : 31it [02:00,  3.69s/it]\u001b[A\n",
            "Train Epoch: 0 [3968/10283 (38%)]\tLoss: 0.410444: : 32it [02:00,  3.68s/it]\u001b[A\n",
            "Train Epoch: 0 [4096/10283 (40%)]\tLoss: 0.414479: : 32it [02:04,  3.68s/it]\u001b[A\n",
            "Train Epoch: 0 [4096/10283 (40%)]\tLoss: 0.414479: : 33it [02:04,  3.66s/it]\u001b[A\n",
            "Train Epoch: 0 [4224/10283 (41%)]\tLoss: 0.422277: : 33it [02:07,  3.66s/it]\u001b[A\n",
            "Train Epoch: 0 [4224/10283 (41%)]\tLoss: 0.422277: : 34it [02:07,  3.65s/it]\u001b[A\n",
            "Train Epoch: 0 [4352/10283 (42%)]\tLoss: 0.437563: : 34it [02:11,  3.65s/it]\u001b[A\n",
            "Train Epoch: 0 [4352/10283 (42%)]\tLoss: 0.437563: : 35it [02:11,  3.65s/it]\u001b[A\n",
            "Train Epoch: 0 [4480/10283 (43%)]\tLoss: 0.386530: : 35it [02:15,  3.65s/it]\u001b[A\n",
            "Train Epoch: 0 [4480/10283 (43%)]\tLoss: 0.386530: : 36it [02:15,  3.64s/it]\u001b[A\n",
            "Train Epoch: 0 [4608/10283 (44%)]\tLoss: 0.453739: : 36it [02:18,  3.64s/it]\u001b[A\n",
            "Train Epoch: 0 [4608/10283 (44%)]\tLoss: 0.453739: : 37it [02:18,  3.63s/it]\u001b[A\n",
            "Train Epoch: 0 [4736/10283 (46%)]\tLoss: 0.370899: : 37it [02:22,  3.63s/it]\u001b[A\n",
            "Train Epoch: 0 [4736/10283 (46%)]\tLoss: 0.370899: : 38it [02:22,  3.65s/it]\u001b[A\n",
            "Train Epoch: 0 [4864/10283 (47%)]\tLoss: 0.393232: : 38it [02:26,  3.65s/it]\u001b[A\n",
            "Train Epoch: 0 [4864/10283 (47%)]\tLoss: 0.393232: : 39it [02:26,  3.77s/it]\u001b[A\n",
            "Train Epoch: 0 [4992/10283 (48%)]\tLoss: 0.322196: : 39it [02:30,  3.77s/it]\u001b[A\n",
            "Train Epoch: 0 [4992/10283 (48%)]\tLoss: 0.322196: : 40it [02:30,  3.84s/it]\u001b[A\n",
            "Train Epoch: 0 [5120/10283 (49%)]\tLoss: 0.399105: : 40it [02:34,  3.84s/it]\u001b[A\n",
            "Train Epoch: 0 [5120/10283 (49%)]\tLoss: 0.399105: : 41it [02:34,  3.77s/it]\u001b[A\n",
            "Train Epoch: 0 [5248/10283 (51%)]\tLoss: 0.368078: : 41it [02:37,  3.77s/it]\u001b[A\n",
            "Train Epoch: 0 [5248/10283 (51%)]\tLoss: 0.368078: : 42it [02:37,  3.75s/it]\u001b[A\n",
            "Train Epoch: 0 [5376/10283 (52%)]\tLoss: 0.358636: : 42it [02:41,  3.75s/it]\u001b[A\n",
            "Train Epoch: 0 [5376/10283 (52%)]\tLoss: 0.358636: : 43it [02:41,  3.70s/it]\u001b[A\n",
            "Train Epoch: 0 [5504/10283 (53%)]\tLoss: 0.383956: : 43it [02:45,  3.70s/it]\u001b[A\n",
            "Train Epoch: 0 [5504/10283 (53%)]\tLoss: 0.383956: : 44it [02:45,  3.68s/it]\u001b[A\n",
            "Train Epoch: 0 [5632/10283 (54%)]\tLoss: 0.306439: : 44it [02:48,  3.68s/it]\u001b[A\n",
            "Train Epoch: 0 [5632/10283 (54%)]\tLoss: 0.306439: : 45it [02:48,  3.67s/it]\u001b[A\n",
            "Train Epoch: 0 [5760/10283 (56%)]\tLoss: 0.311716: : 45it [02:52,  3.67s/it]\u001b[A\n",
            "Train Epoch: 0 [5760/10283 (56%)]\tLoss: 0.311716: : 46it [02:52,  3.66s/it]\u001b[A\n",
            "Train Epoch: 0 [5888/10283 (57%)]\tLoss: 0.387609: : 46it [02:55,  3.66s/it]\u001b[A\n",
            "Train Epoch: 0 [5888/10283 (57%)]\tLoss: 0.387609: : 47it [02:55,  3.64s/it]\u001b[A\n",
            "Train Epoch: 0 [6016/10283 (58%)]\tLoss: 0.392393: : 47it [02:59,  3.64s/it]\u001b[A\n",
            "Train Epoch: 0 [6016/10283 (58%)]\tLoss: 0.392393: : 48it [02:59,  3.61s/it]\u001b[A\n",
            "Train Epoch: 0 [6144/10283 (59%)]\tLoss: 0.279764: : 48it [03:03,  3.61s/it]\u001b[A\n",
            "Train Epoch: 0 [6144/10283 (59%)]\tLoss: 0.279764: : 49it [03:03,  3.62s/it]\u001b[A\n",
            "Train Epoch: 0 [6272/10283 (60%)]\tLoss: 0.352428: : 49it [03:06,  3.62s/it]\u001b[A\n",
            "Train Epoch: 0 [6272/10283 (60%)]\tLoss: 0.352428: : 50it [03:06,  3.65s/it]\u001b[A\n",
            "Train Epoch: 0 [6400/10283 (62%)]\tLoss: 0.379603: : 50it [03:10,  3.65s/it]\u001b[A\n",
            "Train Epoch: 0 [6400/10283 (62%)]\tLoss: 0.379603: : 51it [03:10,  3.65s/it]\u001b[A\n",
            "Train Epoch: 0 [6528/10283 (63%)]\tLoss: 0.298741: : 51it [03:14,  3.65s/it]\u001b[A\n",
            "Train Epoch: 0 [6528/10283 (63%)]\tLoss: 0.298741: : 52it [03:14,  3.70s/it]\u001b[A\n",
            "Train Epoch: 0 [6656/10283 (64%)]\tLoss: 0.299939: : 52it [03:17,  3.70s/it]\u001b[A\n",
            "Train Epoch: 0 [6656/10283 (64%)]\tLoss: 0.299939: : 53it [03:17,  3.68s/it]\u001b[A\n",
            "Train Epoch: 0 [6784/10283 (65%)]\tLoss: 0.311834: : 53it [03:21,  3.68s/it]\u001b[A\n",
            "Train Epoch: 0 [6784/10283 (65%)]\tLoss: 0.311834: : 54it [03:21,  3.66s/it]\u001b[A\n",
            "Train Epoch: 0 [6912/10283 (67%)]\tLoss: 0.326581: : 54it [03:25,  3.66s/it]\u001b[A\n",
            "Train Epoch: 0 [6912/10283 (67%)]\tLoss: 0.326581: : 55it [03:25,  3.65s/it]\u001b[A\n",
            "Train Epoch: 0 [7040/10283 (68%)]\tLoss: 0.221478: : 55it [03:28,  3.65s/it]\u001b[A\n",
            "Train Epoch: 0 [7040/10283 (68%)]\tLoss: 0.221478: : 56it [03:28,  3.63s/it]\u001b[A\n",
            "Train Epoch: 0 [7168/10283 (69%)]\tLoss: 0.396605: : 56it [03:32,  3.63s/it]\u001b[A\n",
            "Train Epoch: 0 [7168/10283 (69%)]\tLoss: 0.396605: : 57it [03:32,  3.68s/it]\u001b[A\n",
            "Train Epoch: 0 [7296/10283 (70%)]\tLoss: 0.303026: : 57it [03:36,  3.68s/it]\u001b[A\n",
            "Train Epoch: 0 [7296/10283 (70%)]\tLoss: 0.303026: : 58it [03:36,  3.65s/it]\u001b[A\n",
            "Train Epoch: 0 [7424/10283 (72%)]\tLoss: 0.329383: : 58it [03:39,  3.65s/it]\u001b[A\n",
            "Train Epoch: 0 [7424/10283 (72%)]\tLoss: 0.329383: : 59it [03:39,  3.71s/it]\u001b[A\n",
            "Train Epoch: 0 [7552/10283 (73%)]\tLoss: 0.389321: : 59it [03:43,  3.71s/it]\u001b[A\n",
            "Train Epoch: 0 [7552/10283 (73%)]\tLoss: 0.389321: : 60it [03:43,  3.69s/it]\u001b[A\n",
            "Train Epoch: 0 [7680/10283 (74%)]\tLoss: 0.309070: : 60it [03:47,  3.69s/it]\u001b[A\n",
            "Train Epoch: 0 [7680/10283 (74%)]\tLoss: 0.309070: : 61it [03:47,  3.66s/it]\u001b[A\n",
            "Train Epoch: 0 [7808/10283 (75%)]\tLoss: 0.261420: : 61it [03:50,  3.66s/it]\u001b[A\n",
            "Train Epoch: 0 [7808/10283 (75%)]\tLoss: 0.261420: : 62it [03:50,  3.63s/it]\u001b[A\n",
            "Train Epoch: 0 [7936/10283 (77%)]\tLoss: 0.322842: : 62it [03:54,  3.63s/it]\u001b[A\n",
            "Train Epoch: 0 [7936/10283 (77%)]\tLoss: 0.322842: : 63it [03:54,  3.62s/it]\u001b[A\n",
            "Train Epoch: 0 [8064/10283 (78%)]\tLoss: 0.289192: : 63it [03:58,  3.62s/it]\u001b[A\n",
            "Train Epoch: 0 [8064/10283 (78%)]\tLoss: 0.289192: : 64it [03:58,  3.64s/it]\u001b[A\n",
            "Train Epoch: 0 [8192/10283 (79%)]\tLoss: 0.317585: : 64it [04:01,  3.64s/it]\u001b[A\n",
            "Train Epoch: 0 [8192/10283 (79%)]\tLoss: 0.317585: : 65it [04:01,  3.62s/it]\u001b[A\n",
            "Train Epoch: 0 [8320/10283 (80%)]\tLoss: 0.262754: : 65it [04:05,  3.62s/it]\u001b[A\n",
            "Train Epoch: 0 [8320/10283 (80%)]\tLoss: 0.262754: : 66it [04:05,  3.60s/it]\u001b[A\n",
            "Train Epoch: 0 [8448/10283 (81%)]\tLoss: 0.295195: : 66it [04:08,  3.60s/it]\u001b[A\n",
            "Train Epoch: 0 [8448/10283 (81%)]\tLoss: 0.295195: : 67it [04:08,  3.61s/it]\u001b[A\n",
            "Train Epoch: 0 [8576/10283 (83%)]\tLoss: 0.233160: : 67it [04:12,  3.61s/it]\u001b[A\n",
            "Train Epoch: 0 [8576/10283 (83%)]\tLoss: 0.233160: : 68it [04:12,  3.63s/it]\u001b[A\n",
            "Train Epoch: 0 [8704/10283 (84%)]\tLoss: 0.299952: : 68it [04:16,  3.63s/it]\u001b[A\n",
            "Train Epoch: 0 [8704/10283 (84%)]\tLoss: 0.299952: : 69it [04:16,  3.64s/it]\u001b[A\n",
            "Train Epoch: 0 [8832/10283 (85%)]\tLoss: 0.243755: : 69it [04:19,  3.64s/it]\u001b[A\n",
            "Train Epoch: 0 [8832/10283 (85%)]\tLoss: 0.243755: : 70it [04:19,  3.65s/it]\u001b[A\n",
            "Train Epoch: 0 [8960/10283 (86%)]\tLoss: 0.272356: : 70it [04:23,  3.65s/it]\u001b[A\n",
            "Train Epoch: 0 [8960/10283 (86%)]\tLoss: 0.272356: : 71it [04:23,  3.69s/it]\u001b[A\n",
            "Train Epoch: 0 [9088/10283 (88%)]\tLoss: 0.300503: : 71it [04:27,  3.69s/it]\u001b[A\n",
            "Train Epoch: 0 [9088/10283 (88%)]\tLoss: 0.300503: : 72it [04:27,  3.67s/it]\u001b[A\n",
            "Train Epoch: 0 [9216/10283 (89%)]\tLoss: 0.223065: : 72it [04:30,  3.67s/it]\u001b[A\n",
            "Train Epoch: 0 [9216/10283 (89%)]\tLoss: 0.223065: : 73it [04:30,  3.64s/it]\u001b[A\n",
            "Train Epoch: 0 [9344/10283 (90%)]\tLoss: 0.277096: : 73it [04:34,  3.64s/it]\u001b[A\n",
            "Train Epoch: 0 [9344/10283 (90%)]\tLoss: 0.277096: : 74it [04:34,  3.62s/it]\u001b[A\n",
            "Train Epoch: 0 [9472/10283 (91%)]\tLoss: 0.265632: : 74it [04:37,  3.62s/it]\u001b[A\n",
            "Train Epoch: 0 [9472/10283 (91%)]\tLoss: 0.265632: : 75it [04:37,  3.61s/it]\u001b[A\n",
            "Train Epoch: 0 [9600/10283 (93%)]\tLoss: 0.401056: : 75it [04:41,  3.61s/it]\u001b[A\n",
            "Train Epoch: 0 [9600/10283 (93%)]\tLoss: 0.401056: : 76it [04:41,  3.59s/it]\u001b[A\n",
            "Train Epoch: 0 [9728/10283 (94%)]\tLoss: 0.339831: : 76it [04:45,  3.59s/it]\u001b[A\n",
            "Train Epoch: 0 [9728/10283 (94%)]\tLoss: 0.339831: : 77it [04:45,  3.60s/it]\u001b[A\n",
            "Train Epoch: 0 [9856/10283 (95%)]\tLoss: 0.287188: : 77it [04:48,  3.60s/it]\u001b[A\n",
            "Train Epoch: 0 [9856/10283 (95%)]\tLoss: 0.287188: : 78it [04:48,  3.61s/it]\u001b[A\n",
            "Train Epoch: 0 [9984/10283 (96%)]\tLoss: 0.284166: : 78it [04:52,  3.61s/it]\u001b[A\n",
            "Train Epoch: 0 [9984/10283 (96%)]\tLoss: 0.284166: : 79it [04:52,  3.59s/it]\u001b[A\n",
            "Train Epoch: 0 [10112/10283 (98%)]\tLoss: 0.208736: : 79it [04:55,  3.59s/it]\u001b[A\n",
            "Train Epoch: 0 [10112/10283 (98%)]\tLoss: 0.208736: : 80it [04:55,  3.59s/it]\u001b[A\n",
            "Train Epoch: 0 [3440/10283 (99%)]\tLoss: 0.346775: : 80it [04:57,  3.59s/it] \u001b[A\n",
            "Train Epoch: 0 [3440/10283 (99%)]\tLoss: 0.346775: : 81it [04:57,  3.67s/it]\n",
            "\n",
            "0it [00:00, ?it/s]\u001b[A\n",
            "Train Epoch: 1 [0/10283 (0%)]\tLoss: 0.272300: : 0it [00:03, ?it/s]\u001b[A\n",
            "Train Epoch: 1 [0/10283 (0%)]\tLoss: 0.272300: : 1it [00:03,  3.67s/it]\u001b[A\n",
            "Train Epoch: 1 [128/10283 (1%)]\tLoss: 0.303768: : 1it [00:07,  3.67s/it]\u001b[A\n",
            "Train Epoch: 1 [128/10283 (1%)]\tLoss: 0.303768: : 2it [00:07,  3.66s/it]\u001b[A\n",
            "Train Epoch: 1 [256/10283 (2%)]\tLoss: 0.260378: : 2it [00:10,  3.66s/it]\u001b[A\n",
            "Train Epoch: 1 [256/10283 (2%)]\tLoss: 0.260378: : 3it [00:10,  3.65s/it]\u001b[A\n",
            "Train Epoch: 1 [384/10283 (4%)]\tLoss: 0.265433: : 3it [00:14,  3.65s/it]\u001b[A\n",
            "Train Epoch: 1 [384/10283 (4%)]\tLoss: 0.265433: : 4it [00:14,  3.64s/it]\u001b[A\n",
            "Train Epoch: 1 [512/10283 (5%)]\tLoss: 0.274582: : 4it [00:18,  3.64s/it]\u001b[A\n",
            "Train Epoch: 1 [512/10283 (5%)]\tLoss: 0.274582: : 5it [00:18,  3.70s/it]\u001b[A\n",
            "Train Epoch: 1 [640/10283 (6%)]\tLoss: 0.195698: : 5it [00:22,  3.70s/it]\u001b[A\n",
            "Train Epoch: 1 [640/10283 (6%)]\tLoss: 0.195698: : 6it [00:22,  3.68s/it]\u001b[A\n",
            "Train Epoch: 1 [768/10283 (7%)]\tLoss: 0.261824: : 6it [00:25,  3.68s/it]\u001b[A\n",
            "Train Epoch: 1 [768/10283 (7%)]\tLoss: 0.261824: : 7it [00:25,  3.68s/it]\u001b[A\n",
            "Train Epoch: 1 [896/10283 (9%)]\tLoss: 0.266571: : 7it [00:29,  3.68s/it]\u001b[A\n",
            "Train Epoch: 1 [896/10283 (9%)]\tLoss: 0.266571: : 8it [00:29,  3.66s/it]\u001b[A\n",
            "Train Epoch: 1 [1024/10283 (10%)]\tLoss: 0.252640: : 8it [00:33,  3.66s/it]\u001b[A\n",
            "Train Epoch: 1 [1024/10283 (10%)]\tLoss: 0.252640: : 9it [00:33,  3.68s/it]\u001b[A\n",
            "Train Epoch: 1 [1152/10283 (11%)]\tLoss: 0.269930: : 9it [00:36,  3.68s/it]\u001b[A\n",
            "Train Epoch: 1 [1152/10283 (11%)]\tLoss: 0.269930: : 10it [00:36,  3.69s/it]\u001b[A\n",
            "Train Epoch: 1 [1280/10283 (12%)]\tLoss: 0.260870: : 10it [00:40,  3.69s/it]\u001b[A\n",
            "Train Epoch: 1 [1280/10283 (12%)]\tLoss: 0.260870: : 11it [00:40,  3.66s/it]\u001b[A\n",
            "Train Epoch: 1 [1408/10283 (14%)]\tLoss: 0.194379: : 11it [00:43,  3.66s/it]\u001b[A\n",
            "Train Epoch: 1 [1408/10283 (14%)]\tLoss: 0.194379: : 12it [00:43,  3.66s/it]\u001b[A\n",
            "Train Epoch: 1 [1536/10283 (15%)]\tLoss: 0.279953: : 12it [00:47,  3.66s/it]\u001b[A\n",
            "Train Epoch: 1 [1536/10283 (15%)]\tLoss: 0.279953: : 13it [00:47,  3.69s/it]\u001b[A\n",
            "Train Epoch: 1 [1664/10283 (16%)]\tLoss: 0.312187: : 13it [00:51,  3.69s/it]\u001b[A\n",
            "Train Epoch: 1 [1664/10283 (16%)]\tLoss: 0.312187: : 14it [00:51,  3.67s/it]\u001b[A\n",
            "Train Epoch: 1 [1792/10283 (17%)]\tLoss: 0.185169: : 14it [00:54,  3.67s/it]\u001b[A\n",
            "Train Epoch: 1 [1792/10283 (17%)]\tLoss: 0.185169: : 15it [00:54,  3.65s/it]\u001b[A\n",
            "Train Epoch: 1 [1920/10283 (19%)]\tLoss: 0.188483: : 15it [00:58,  3.65s/it]\u001b[A\n",
            "Train Epoch: 1 [1920/10283 (19%)]\tLoss: 0.188483: : 16it [00:58,  3.63s/it]\u001b[A\n",
            "Train Epoch: 1 [2048/10283 (20%)]\tLoss: 0.271162: : 16it [01:02,  3.63s/it]\u001b[A\n",
            "Train Epoch: 1 [2048/10283 (20%)]\tLoss: 0.271162: : 17it [01:02,  3.67s/it]\u001b[A\n",
            "Train Epoch: 1 [2176/10283 (21%)]\tLoss: 0.266972: : 17it [01:06,  3.67s/it]\u001b[A\n",
            "Train Epoch: 1 [2176/10283 (21%)]\tLoss: 0.266972: : 18it [01:06,  3.71s/it]\u001b[A\n",
            "Train Epoch: 1 [2304/10283 (22%)]\tLoss: 0.222620: : 18it [01:09,  3.71s/it]\u001b[A\n",
            "Train Epoch: 1 [2304/10283 (22%)]\tLoss: 0.222620: : 19it [01:09,  3.68s/it]\u001b[A\n",
            "Train Epoch: 1 [2432/10283 (23%)]\tLoss: 0.184905: : 19it [01:13,  3.68s/it]\u001b[A\n",
            "Train Epoch: 1 [2432/10283 (23%)]\tLoss: 0.184905: : 20it [01:13,  3.66s/it]\u001b[A\n",
            "Train Epoch: 1 [2560/10283 (25%)]\tLoss: 0.251461: : 20it [01:17,  3.66s/it]\u001b[A\n",
            "Train Epoch: 1 [2560/10283 (25%)]\tLoss: 0.251461: : 21it [01:17,  3.67s/it]\u001b[A\n",
            "Train Epoch: 1 [2688/10283 (26%)]\tLoss: 0.239436: : 21it [01:20,  3.67s/it]\u001b[A\n",
            "Train Epoch: 1 [2688/10283 (26%)]\tLoss: 0.239436: : 22it [01:20,  3.66s/it]\u001b[A\n",
            "Train Epoch: 1 [2816/10283 (27%)]\tLoss: 0.256341: : 22it [01:24,  3.66s/it]\u001b[A\n",
            "Train Epoch: 1 [2816/10283 (27%)]\tLoss: 0.256341: : 23it [01:24,  3.70s/it]\u001b[A\n",
            "Train Epoch: 1 [2944/10283 (28%)]\tLoss: 0.189246: : 23it [01:28,  3.70s/it]\u001b[A\n",
            "Train Epoch: 1 [2944/10283 (28%)]\tLoss: 0.189246: : 24it [01:28,  3.68s/it]\u001b[A\n",
            "Train Epoch: 1 [3072/10283 (30%)]\tLoss: 0.219464: : 24it [01:31,  3.68s/it]\u001b[A\n",
            "Train Epoch: 1 [3072/10283 (30%)]\tLoss: 0.219464: : 25it [01:31,  3.66s/it]\u001b[A\n",
            "Train Epoch: 1 [3200/10283 (31%)]\tLoss: 0.189734: : 25it [01:35,  3.66s/it]\u001b[A\n",
            "Train Epoch: 1 [3200/10283 (31%)]\tLoss: 0.189734: : 26it [01:35,  3.65s/it]\u001b[A\n",
            "Train Epoch: 1 [3328/10283 (32%)]\tLoss: 0.333520: : 26it [01:38,  3.65s/it]\u001b[A\n",
            "Train Epoch: 1 [3328/10283 (32%)]\tLoss: 0.333520: : 27it [01:38,  3.64s/it]\u001b[A\n",
            "Train Epoch: 1 [3456/10283 (33%)]\tLoss: 0.321954: : 27it [01:42,  3.64s/it]\u001b[A\n",
            "Train Epoch: 1 [3456/10283 (33%)]\tLoss: 0.321954: : 28it [01:42,  3.62s/it]\u001b[A\n",
            "Train Epoch: 1 [3584/10283 (35%)]\tLoss: 0.284929: : 28it [01:46,  3.62s/it]\u001b[A\n",
            "Train Epoch: 1 [3584/10283 (35%)]\tLoss: 0.284929: : 29it [01:46,  3.63s/it]\u001b[A\n",
            "Train Epoch: 1 [3712/10283 (36%)]\tLoss: 0.198408: : 29it [01:49,  3.63s/it]\u001b[A\n",
            "Train Epoch: 1 [3712/10283 (36%)]\tLoss: 0.198408: : 30it [01:49,  3.63s/it]\u001b[A\n",
            "Train Epoch: 1 [3840/10283 (37%)]\tLoss: 0.232800: : 30it [01:53,  3.63s/it]\u001b[A\n",
            "Train Epoch: 1 [3840/10283 (37%)]\tLoss: 0.232800: : 31it [01:53,  3.62s/it]\u001b[A\n",
            "Train Epoch: 1 [3968/10283 (38%)]\tLoss: 0.289721: : 31it [01:57,  3.62s/it]\u001b[A\n",
            "Train Epoch: 1 [3968/10283 (38%)]\tLoss: 0.289721: : 32it [01:57,  3.69s/it]\u001b[A\n",
            "Train Epoch: 1 [4096/10283 (40%)]\tLoss: 0.178832: : 32it [02:00,  3.69s/it]\u001b[A\n",
            "Train Epoch: 1 [4096/10283 (40%)]\tLoss: 0.178832: : 33it [02:00,  3.69s/it]\u001b[A\n",
            "Train Epoch: 1 [4224/10283 (41%)]\tLoss: 0.238564: : 33it [02:04,  3.69s/it]\u001b[A\n",
            "Train Epoch: 1 [4224/10283 (41%)]\tLoss: 0.238564: : 34it [02:04,  3.68s/it]\u001b[A\n",
            "Train Epoch: 1 [4352/10283 (42%)]\tLoss: 0.306396: : 34it [02:08,  3.68s/it]\u001b[A\n",
            "Train Epoch: 1 [4352/10283 (42%)]\tLoss: 0.306396: : 35it [02:08,  3.66s/it]\u001b[A\n",
            "Train Epoch: 1 [4480/10283 (43%)]\tLoss: 0.259719: : 35it [02:11,  3.66s/it]\u001b[A\n",
            "Train Epoch: 1 [4480/10283 (43%)]\tLoss: 0.259719: : 36it [02:11,  3.67s/it]\u001b[A\n",
            "Train Epoch: 1 [4608/10283 (44%)]\tLoss: 0.184711: : 36it [02:15,  3.67s/it]\u001b[A\n",
            "Train Epoch: 1 [4608/10283 (44%)]\tLoss: 0.184711: : 37it [02:15,  3.64s/it]\u001b[A\n",
            "Train Epoch: 1 [4736/10283 (46%)]\tLoss: 0.177095: : 37it [02:19,  3.64s/it]\u001b[A\n",
            "Train Epoch: 1 [4736/10283 (46%)]\tLoss: 0.177095: : 38it [02:19,  3.66s/it]\u001b[A\n",
            "Train Epoch: 1 [4864/10283 (47%)]\tLoss: 0.199101: : 38it [02:22,  3.66s/it]\u001b[A\n",
            "Train Epoch: 1 [4864/10283 (47%)]\tLoss: 0.199101: : 39it [02:22,  3.62s/it]\u001b[A\n",
            "Train Epoch: 1 [4992/10283 (48%)]\tLoss: 0.237784: : 39it [02:26,  3.62s/it]\u001b[A\n",
            "Train Epoch: 1 [4992/10283 (48%)]\tLoss: 0.237784: : 40it [02:26,  3.63s/it]\u001b[A\n",
            "Train Epoch: 1 [5120/10283 (49%)]\tLoss: 0.150423: : 40it [02:29,  3.63s/it]\u001b[A\n",
            "Train Epoch: 1 [5120/10283 (49%)]\tLoss: 0.150423: : 41it [02:30,  3.62s/it]\u001b[A\n",
            "Train Epoch: 1 [5248/10283 (51%)]\tLoss: 0.182161: : 41it [02:33,  3.62s/it]\u001b[A\n",
            "Train Epoch: 1 [5248/10283 (51%)]\tLoss: 0.182161: : 42it [02:33,  3.67s/it]\u001b[A\n",
            "Train Epoch: 1 [5376/10283 (52%)]\tLoss: 0.170575: : 42it [02:37,  3.67s/it]\u001b[A\n",
            "Train Epoch: 1 [5376/10283 (52%)]\tLoss: 0.170575: : 43it [02:37,  3.71s/it]\u001b[A\n",
            "Train Epoch: 1 [5504/10283 (53%)]\tLoss: 0.167625: : 43it [02:41,  3.71s/it]\u001b[A\n",
            "Train Epoch: 1 [5504/10283 (53%)]\tLoss: 0.167625: : 44it [02:41,  3.73s/it]\u001b[A\n",
            "Train Epoch: 1 [5632/10283 (54%)]\tLoss: 0.288472: : 44it [02:45,  3.73s/it]\u001b[A\n",
            "Train Epoch: 1 [5632/10283 (54%)]\tLoss: 0.288472: : 45it [02:45,  3.72s/it]\u001b[A\n",
            "Train Epoch: 1 [5760/10283 (56%)]\tLoss: 0.194472: : 45it [02:48,  3.72s/it]\u001b[A\n",
            "Train Epoch: 1 [5760/10283 (56%)]\tLoss: 0.194472: : 46it [02:48,  3.69s/it]\u001b[A\n",
            "Train Epoch: 1 [5888/10283 (57%)]\tLoss: 0.186051: : 46it [02:52,  3.69s/it]\u001b[A\n",
            "Train Epoch: 1 [5888/10283 (57%)]\tLoss: 0.186051: : 47it [02:52,  3.68s/it]\u001b[A\n",
            "Train Epoch: 1 [6016/10283 (58%)]\tLoss: 0.279587: : 47it [02:55,  3.68s/it]\u001b[A\n",
            "Train Epoch: 1 [6016/10283 (58%)]\tLoss: 0.279587: : 48it [02:55,  3.67s/it]\u001b[A\n",
            "Train Epoch: 1 [6144/10283 (59%)]\tLoss: 0.203918: : 48it [02:59,  3.67s/it]\u001b[A\n",
            "Train Epoch: 1 [6144/10283 (59%)]\tLoss: 0.203918: : 49it [02:59,  3.71s/it]\u001b[A\n",
            "Train Epoch: 1 [6272/10283 (60%)]\tLoss: 0.234313: : 49it [03:03,  3.71s/it]\u001b[A\n",
            "Train Epoch: 1 [6272/10283 (60%)]\tLoss: 0.234313: : 50it [03:03,  3.68s/it]\u001b[A\n",
            "Train Epoch: 1 [6400/10283 (62%)]\tLoss: 0.211328: : 50it [03:07,  3.68s/it]\u001b[A\n",
            "Train Epoch: 1 [6400/10283 (62%)]\tLoss: 0.211328: : 51it [03:07,  3.67s/it]\u001b[A\n",
            "Train Epoch: 1 [6528/10283 (63%)]\tLoss: 0.218180: : 51it [03:10,  3.67s/it]\u001b[A\n",
            "Train Epoch: 1 [6528/10283 (63%)]\tLoss: 0.218180: : 52it [03:10,  3.63s/it]\u001b[A\n",
            "Train Epoch: 1 [6656/10283 (64%)]\tLoss: 0.264093: : 52it [03:14,  3.63s/it]\u001b[A\n",
            "Train Epoch: 1 [6656/10283 (64%)]\tLoss: 0.264093: : 53it [03:14,  3.64s/it]\u001b[A\n",
            "Train Epoch: 1 [6784/10283 (65%)]\tLoss: 0.234237: : 53it [03:17,  3.64s/it]\u001b[A\n",
            "Train Epoch: 1 [6784/10283 (65%)]\tLoss: 0.234237: : 54it [03:17,  3.65s/it]\u001b[A\n",
            "Train Epoch: 1 [6912/10283 (67%)]\tLoss: 0.210522: : 54it [03:21,  3.65s/it]\u001b[A\n",
            "Train Epoch: 1 [6912/10283 (67%)]\tLoss: 0.210522: : 55it [03:21,  3.63s/it]\u001b[A\n",
            "Train Epoch: 1 [7040/10283 (68%)]\tLoss: 0.278785: : 55it [03:25,  3.63s/it]\u001b[A\n",
            "Train Epoch: 1 [7040/10283 (68%)]\tLoss: 0.278785: : 56it [03:25,  3.64s/it]\u001b[A\n",
            "Train Epoch: 1 [7168/10283 (69%)]\tLoss: 0.166186: : 56it [03:28,  3.64s/it]\u001b[A\n",
            "Train Epoch: 1 [7168/10283 (69%)]\tLoss: 0.166186: : 57it [03:28,  3.62s/it]\u001b[A\n",
            "Train Epoch: 1 [7296/10283 (70%)]\tLoss: 0.165117: : 57it [03:32,  3.62s/it]\u001b[A\n",
            "Train Epoch: 1 [7296/10283 (70%)]\tLoss: 0.165117: : 58it [03:32,  3.62s/it]\u001b[A\n",
            "Train Epoch: 1 [7424/10283 (72%)]\tLoss: 0.216541: : 58it [03:35,  3.62s/it]\u001b[A\n",
            "Train Epoch: 1 [7424/10283 (72%)]\tLoss: 0.216541: : 59it [03:35,  3.62s/it]\u001b[A\n",
            "Train Epoch: 1 [7552/10283 (73%)]\tLoss: 0.218467: : 59it [03:39,  3.62s/it]\u001b[A\n",
            "Train Epoch: 1 [7552/10283 (73%)]\tLoss: 0.218467: : 60it [03:39,  3.65s/it]\u001b[A\n",
            "Train Epoch: 1 [7680/10283 (74%)]\tLoss: 0.183729: : 60it [03:43,  3.65s/it]\u001b[A\n",
            "Train Epoch: 1 [7680/10283 (74%)]\tLoss: 0.183729: : 61it [03:43,  3.64s/it]\u001b[A\n",
            "Train Epoch: 1 [7808/10283 (75%)]\tLoss: 0.195603: : 61it [03:47,  3.64s/it]\u001b[A\n",
            "Train Epoch: 1 [7808/10283 (75%)]\tLoss: 0.195603: : 62it [03:47,  3.69s/it]\u001b[A\n",
            "Train Epoch: 1 [7936/10283 (77%)]\tLoss: 0.219727: : 62it [03:50,  3.69s/it]\u001b[A\n",
            "Train Epoch: 1 [7936/10283 (77%)]\tLoss: 0.219727: : 63it [03:50,  3.67s/it]\u001b[A\n",
            "Train Epoch: 1 [8064/10283 (78%)]\tLoss: 0.245320: : 63it [03:54,  3.67s/it]\u001b[A\n",
            "Train Epoch: 1 [8064/10283 (78%)]\tLoss: 0.245320: : 64it [03:54,  3.66s/it]\u001b[A\n",
            "Train Epoch: 1 [8192/10283 (79%)]\tLoss: 0.224871: : 64it [03:58,  3.66s/it]\u001b[A\n",
            "Train Epoch: 1 [8192/10283 (79%)]\tLoss: 0.224871: : 65it [03:58,  3.66s/it]\u001b[A\n",
            "Train Epoch: 1 [8320/10283 (80%)]\tLoss: 0.266561: : 65it [04:01,  3.66s/it]\u001b[A\n",
            "Train Epoch: 1 [8320/10283 (80%)]\tLoss: 0.266561: : 66it [04:01,  3.66s/it]\u001b[A\n",
            "Train Epoch: 1 [8448/10283 (81%)]\tLoss: 0.260304: : 66it [04:05,  3.66s/it]\u001b[A\n",
            "Train Epoch: 1 [8448/10283 (81%)]\tLoss: 0.260304: : 67it [04:05,  3.66s/it]\u001b[A\n",
            "Train Epoch: 1 [8576/10283 (83%)]\tLoss: 0.166541: : 67it [04:08,  3.66s/it]\u001b[A\n",
            "Train Epoch: 1 [8576/10283 (83%)]\tLoss: 0.166541: : 68it [04:08,  3.63s/it]\u001b[A\n",
            "Train Epoch: 1 [8704/10283 (84%)]\tLoss: 0.188635: : 68it [04:12,  3.63s/it]\u001b[A\n",
            "Train Epoch: 1 [8704/10283 (84%)]\tLoss: 0.188635: : 69it [04:12,  3.66s/it]\u001b[A\n",
            "Train Epoch: 1 [8832/10283 (85%)]\tLoss: 0.233215: : 69it [04:16,  3.66s/it]\u001b[A\n",
            "Train Epoch: 1 [8832/10283 (85%)]\tLoss: 0.233215: : 70it [04:16,  3.68s/it]\u001b[A\n",
            "Train Epoch: 1 [8960/10283 (86%)]\tLoss: 0.194328: : 70it [04:20,  3.68s/it]\u001b[A\n",
            "Train Epoch: 1 [8960/10283 (86%)]\tLoss: 0.194328: : 71it [04:20,  3.66s/it]\u001b[A\n",
            "Train Epoch: 1 [9088/10283 (88%)]\tLoss: 0.294964: : 71it [04:23,  3.66s/it]\u001b[A\n",
            "Train Epoch: 1 [9088/10283 (88%)]\tLoss: 0.294964: : 72it [04:23,  3.65s/it]\u001b[A\n",
            "Train Epoch: 1 [9216/10283 (89%)]\tLoss: 0.206829: : 72it [04:27,  3.65s/it]\u001b[A\n",
            "Train Epoch: 1 [9216/10283 (89%)]\tLoss: 0.206829: : 73it [04:27,  3.68s/it]\u001b[A\n",
            "Train Epoch: 1 [9344/10283 (90%)]\tLoss: 0.171548: : 73it [04:30,  3.68s/it]\u001b[A\n",
            "Train Epoch: 1 [9344/10283 (90%)]\tLoss: 0.171548: : 74it [04:31,  3.66s/it]\u001b[A\n",
            "Train Epoch: 1 [9472/10283 (91%)]\tLoss: 0.208921: : 74it [04:34,  3.66s/it]\u001b[A\n",
            "Train Epoch: 1 [9472/10283 (91%)]\tLoss: 0.208921: : 75it [04:34,  3.64s/it]\u001b[A\n",
            "Train Epoch: 1 [9600/10283 (93%)]\tLoss: 0.318344: : 75it [04:38,  3.64s/it]\u001b[A\n",
            "Train Epoch: 1 [9600/10283 (93%)]\tLoss: 0.318344: : 76it [04:38,  3.63s/it]\u001b[A\n",
            "Train Epoch: 1 [9728/10283 (94%)]\tLoss: 0.276680: : 76it [04:41,  3.63s/it]\u001b[A\n",
            "Train Epoch: 1 [9728/10283 (94%)]\tLoss: 0.276680: : 77it [04:41,  3.62s/it]\u001b[A\n",
            "Train Epoch: 1 [9856/10283 (95%)]\tLoss: 0.206596: : 77it [04:45,  3.62s/it]\u001b[A\n",
            "Train Epoch: 1 [9856/10283 (95%)]\tLoss: 0.206596: : 78it [04:45,  3.62s/it]\u001b[A\n",
            "Train Epoch: 1 [9984/10283 (96%)]\tLoss: 0.193583: : 78it [04:49,  3.62s/it]\u001b[A\n",
            "Train Epoch: 1 [9984/10283 (96%)]\tLoss: 0.193583: : 79it [04:49,  3.67s/it]\u001b[A\n",
            "Train Epoch: 1 [10112/10283 (98%)]\tLoss: 0.167013: : 79it [04:52,  3.67s/it]\u001b[A\n",
            "Train Epoch: 1 [10112/10283 (98%)]\tLoss: 0.167013: : 80it [04:52,  3.68s/it]\u001b[A\n",
            "Train Epoch: 1 [3440/10283 (99%)]\tLoss: 0.172653: : 80it [04:54,  3.68s/it] \u001b[A\n",
            "Train Epoch: 1 [3440/10283 (99%)]\tLoss: 0.172653: : 81it [04:54,  3.63s/it]\n",
            "\n",
            "0it [00:00, ?it/s]\u001b[A\n",
            "Train Epoch: 2 [0/10283 (0%)]\tLoss: 0.183711: : 0it [00:03, ?it/s]\u001b[A\n",
            "Train Epoch: 2 [0/10283 (0%)]\tLoss: 0.183711: : 1it [00:03,  3.89s/it]\u001b[A\n",
            "Train Epoch: 2 [128/10283 (1%)]\tLoss: 0.273940: : 1it [00:07,  3.89s/it]\u001b[A\n",
            "Train Epoch: 2 [128/10283 (1%)]\tLoss: 0.273940: : 2it [00:07,  3.82s/it]\u001b[A\n",
            "Train Epoch: 2 [256/10283 (2%)]\tLoss: 0.186573: : 2it [00:11,  3.82s/it]\u001b[A\n",
            "Train Epoch: 2 [256/10283 (2%)]\tLoss: 0.186573: : 3it [00:11,  3.83s/it]\u001b[A\n",
            "Train Epoch: 2 [384/10283 (4%)]\tLoss: 0.185899: : 3it [00:15,  3.83s/it]\u001b[A\n",
            "Train Epoch: 2 [384/10283 (4%)]\tLoss: 0.185899: : 4it [00:15,  3.82s/it]\u001b[A\n",
            "Train Epoch: 2 [512/10283 (5%)]\tLoss: 0.152944: : 4it [00:18,  3.82s/it]\u001b[A\n",
            "Train Epoch: 2 [512/10283 (5%)]\tLoss: 0.152944: : 5it [00:18,  3.79s/it]\u001b[A\n",
            "Train Epoch: 2 [640/10283 (6%)]\tLoss: 0.181786: : 5it [00:22,  3.79s/it]\u001b[A\n",
            "Train Epoch: 2 [640/10283 (6%)]\tLoss: 0.181786: : 6it [00:22,  3.77s/it]\u001b[A\n",
            "Train Epoch: 2 [768/10283 (7%)]\tLoss: 0.220311: : 6it [00:26,  3.77s/it]\u001b[A\n",
            "Train Epoch: 2 [768/10283 (7%)]\tLoss: 0.220311: : 7it [00:26,  3.70s/it]\u001b[A\n",
            "Train Epoch: 2 [896/10283 (9%)]\tLoss: 0.269999: : 7it [00:29,  3.70s/it]\u001b[A\n",
            "Train Epoch: 2 [896/10283 (9%)]\tLoss: 0.269999: : 8it [00:29,  3.67s/it]\u001b[A\n",
            "Train Epoch: 2 [1024/10283 (10%)]\tLoss: 0.144430: : 8it [00:33,  3.67s/it]\u001b[A\n",
            "Train Epoch: 2 [1024/10283 (10%)]\tLoss: 0.144430: : 9it [00:33,  3.66s/it]\u001b[A\n",
            "Train Epoch: 2 [1152/10283 (11%)]\tLoss: 0.163735: : 9it [00:37,  3.66s/it]\u001b[A\n",
            "Train Epoch: 2 [1152/10283 (11%)]\tLoss: 0.163735: : 10it [00:37,  3.68s/it]\u001b[A\n",
            "Train Epoch: 2 [1280/10283 (12%)]\tLoss: 0.120116: : 10it [00:40,  3.68s/it]\u001b[A\n",
            "Train Epoch: 2 [1280/10283 (12%)]\tLoss: 0.120116: : 11it [00:40,  3.67s/it]\u001b[A\n",
            "Train Epoch: 2 [1408/10283 (14%)]\tLoss: 0.230169: : 11it [00:44,  3.67s/it]\u001b[A\n",
            "Train Epoch: 2 [1408/10283 (14%)]\tLoss: 0.230169: : 12it [00:44,  3.65s/it]\u001b[A\n",
            "Train Epoch: 2 [1536/10283 (15%)]\tLoss: 0.247178: : 12it [00:48,  3.65s/it]\u001b[A\n",
            "Train Epoch: 2 [1536/10283 (15%)]\tLoss: 0.247178: : 13it [00:48,  3.64s/it]\u001b[A\n",
            "Train Epoch: 2 [1664/10283 (16%)]\tLoss: 0.174580: : 13it [00:51,  3.64s/it]\u001b[A\n",
            "Train Epoch: 2 [1664/10283 (16%)]\tLoss: 0.174580: : 14it [00:51,  3.63s/it]\u001b[A\n",
            "Train Epoch: 2 [1792/10283 (17%)]\tLoss: 0.187162: : 14it [00:55,  3.63s/it]\u001b[A\n",
            "Train Epoch: 2 [1792/10283 (17%)]\tLoss: 0.187162: : 15it [00:55,  3.62s/it]\u001b[A\n",
            "Train Epoch: 2 [1920/10283 (19%)]\tLoss: 0.280567: : 15it [00:58,  3.62s/it]\u001b[A\n",
            "Train Epoch: 2 [1920/10283 (19%)]\tLoss: 0.280567: : 16it [00:58,  3.62s/it]\u001b[A\n",
            "Train Epoch: 2 [2048/10283 (20%)]\tLoss: 0.156312: : 16it [01:02,  3.62s/it]\u001b[A\n",
            "Train Epoch: 2 [2048/10283 (20%)]\tLoss: 0.156312: : 17it [01:02,  3.60s/it]\u001b[A\n",
            "Train Epoch: 2 [2176/10283 (21%)]\tLoss: 0.179102: : 17it [01:06,  3.60s/it]\u001b[A\n",
            "Train Epoch: 2 [2176/10283 (21%)]\tLoss: 0.179102: : 18it [01:06,  3.61s/it]\u001b[A\n",
            "Train Epoch: 2 [2304/10283 (22%)]\tLoss: 0.187586: : 18it [01:09,  3.61s/it]\u001b[A\n",
            "Train Epoch: 2 [2304/10283 (22%)]\tLoss: 0.187586: : 19it [01:09,  3.61s/it]\u001b[A\n",
            "Train Epoch: 2 [2432/10283 (23%)]\tLoss: 0.172347: : 19it [01:13,  3.61s/it]\u001b[A\n",
            "Train Epoch: 2 [2432/10283 (23%)]\tLoss: 0.172347: : 20it [01:13,  3.72s/it]\u001b[A\n",
            "Train Epoch: 2 [2560/10283 (25%)]\tLoss: 0.177607: : 20it [01:17,  3.72s/it]\u001b[A\n",
            "Train Epoch: 2 [2560/10283 (25%)]\tLoss: 0.177607: : 21it [01:17,  3.75s/it]\u001b[A\n",
            "Train Epoch: 2 [2688/10283 (26%)]\tLoss: 0.164498: : 21it [01:21,  3.75s/it]\u001b[A\n",
            "Train Epoch: 2 [2688/10283 (26%)]\tLoss: 0.164498: : 22it [01:21,  3.72s/it]\u001b[A\n",
            "Train Epoch: 2 [2816/10283 (27%)]\tLoss: 0.156729: : 22it [01:24,  3.72s/it]\u001b[A\n",
            "Train Epoch: 2 [2816/10283 (27%)]\tLoss: 0.156729: : 23it [01:24,  3.70s/it]\u001b[A\n",
            "Train Epoch: 2 [2944/10283 (28%)]\tLoss: 0.205221: : 23it [01:28,  3.70s/it]\u001b[A\n",
            "Train Epoch: 2 [2944/10283 (28%)]\tLoss: 0.205221: : 24it [01:28,  3.71s/it]\u001b[A\n",
            "Train Epoch: 2 [3072/10283 (30%)]\tLoss: 0.210647: : 24it [01:32,  3.71s/it]\u001b[A\n",
            "Train Epoch: 2 [3072/10283 (30%)]\tLoss: 0.210647: : 25it [01:32,  3.69s/it]\u001b[A\n",
            "Train Epoch: 2 [3200/10283 (31%)]\tLoss: 0.257777: : 25it [01:35,  3.69s/it]\u001b[A\n",
            "Train Epoch: 2 [3200/10283 (31%)]\tLoss: 0.257777: : 26it [01:35,  3.66s/it]\u001b[A\n",
            "Train Epoch: 2 [3328/10283 (32%)]\tLoss: 0.197424: : 26it [01:39,  3.66s/it]\u001b[A\n",
            "Train Epoch: 2 [3328/10283 (32%)]\tLoss: 0.197424: : 27it [01:39,  3.65s/it]\u001b[A\n",
            "Train Epoch: 2 [3456/10283 (33%)]\tLoss: 0.196887: : 27it [01:43,  3.65s/it]\u001b[A\n",
            "Train Epoch: 2 [3456/10283 (33%)]\tLoss: 0.196887: : 28it [01:43,  3.69s/it]\u001b[A\n",
            "Train Epoch: 2 [3584/10283 (35%)]\tLoss: 0.246686: : 28it [01:46,  3.69s/it]\u001b[A\n",
            "Train Epoch: 2 [3584/10283 (35%)]\tLoss: 0.246686: : 29it [01:46,  3.70s/it]\u001b[A\n",
            "Train Epoch: 2 [3712/10283 (36%)]\tLoss: 0.202819: : 29it [01:50,  3.70s/it]\u001b[A\n",
            "Train Epoch: 2 [3712/10283 (36%)]\tLoss: 0.202819: : 30it [01:50,  3.66s/it]\u001b[A\n",
            "Train Epoch: 2 [3840/10283 (37%)]\tLoss: 0.151839: : 30it [01:54,  3.66s/it]\u001b[A\n",
            "Train Epoch: 2 [3840/10283 (37%)]\tLoss: 0.151839: : 31it [01:54,  3.69s/it]\u001b[A\n",
            "Train Epoch: 2 [3968/10283 (38%)]\tLoss: 0.151693: : 31it [01:57,  3.69s/it]\u001b[A\n",
            "Train Epoch: 2 [3968/10283 (38%)]\tLoss: 0.151693: : 32it [01:57,  3.66s/it]\u001b[A\n",
            "Train Epoch: 2 [4096/10283 (40%)]\tLoss: 0.236405: : 32it [02:01,  3.66s/it]\u001b[A\n",
            "Train Epoch: 2 [4096/10283 (40%)]\tLoss: 0.236405: : 33it [02:01,  3.64s/it]\u001b[A\n",
            "Train Epoch: 2 [4224/10283 (41%)]\tLoss: 0.216395: : 33it [02:05,  3.64s/it]\u001b[A\n",
            "Train Epoch: 2 [4224/10283 (41%)]\tLoss: 0.216395: : 34it [02:05,  3.68s/it]\u001b[A\n",
            "Train Epoch: 2 [4352/10283 (42%)]\tLoss: 0.222179: : 34it [02:08,  3.68s/it]\u001b[A\n",
            "Train Epoch: 2 [4352/10283 (42%)]\tLoss: 0.222179: : 35it [02:08,  3.64s/it]\u001b[A\n",
            "Train Epoch: 2 [4480/10283 (43%)]\tLoss: 0.265662: : 35it [02:12,  3.64s/it]\u001b[A\n",
            "Train Epoch: 2 [4480/10283 (43%)]\tLoss: 0.265662: : 36it [02:12,  3.62s/it]\u001b[A\n",
            "Train Epoch: 2 [4608/10283 (44%)]\tLoss: 0.168327: : 36it [02:15,  3.62s/it]\u001b[A\n",
            "Train Epoch: 2 [4608/10283 (44%)]\tLoss: 0.168327: : 37it [02:15,  3.65s/it]\u001b[A\n",
            "Train Epoch: 2 [4736/10283 (46%)]\tLoss: 0.192365: : 37it [02:19,  3.65s/it]\u001b[A\n",
            "Train Epoch: 2 [4736/10283 (46%)]\tLoss: 0.192365: : 38it [02:19,  3.63s/it]\u001b[A\n",
            "Train Epoch: 2 [4864/10283 (47%)]\tLoss: 0.168044: : 38it [02:23,  3.63s/it]\u001b[A\n",
            "Train Epoch: 2 [4864/10283 (47%)]\tLoss: 0.168044: : 39it [02:23,  3.67s/it]\u001b[A\n",
            "Train Epoch: 2 [4992/10283 (48%)]\tLoss: 0.178249: : 39it [02:27,  3.67s/it]\u001b[A\n",
            "Train Epoch: 2 [4992/10283 (48%)]\tLoss: 0.178249: : 40it [02:27,  3.69s/it]\u001b[A\n",
            "Train Epoch: 2 [5120/10283 (49%)]\tLoss: 0.278911: : 40it [02:30,  3.69s/it]\u001b[A\n",
            "Train Epoch: 2 [5120/10283 (49%)]\tLoss: 0.278911: : 41it [02:30,  3.72s/it]\u001b[A\n",
            "Train Epoch: 2 [5248/10283 (51%)]\tLoss: 0.126242: : 41it [02:34,  3.72s/it]\u001b[A\n",
            "Train Epoch: 2 [5248/10283 (51%)]\tLoss: 0.126242: : 42it [02:34,  3.68s/it]\u001b[A\n",
            "Train Epoch: 2 [5376/10283 (52%)]\tLoss: 0.131440: : 42it [02:37,  3.68s/it]\u001b[A\n",
            "Train Epoch: 2 [5376/10283 (52%)]\tLoss: 0.131440: : 43it [02:37,  3.66s/it]\u001b[A\n",
            "Train Epoch: 2 [5504/10283 (53%)]\tLoss: 0.139977: : 43it [02:41,  3.66s/it]\u001b[A\n",
            "Train Epoch: 2 [5504/10283 (53%)]\tLoss: 0.139977: : 44it [02:41,  3.64s/it]\u001b[A\n",
            "Train Epoch: 2 [5632/10283 (54%)]\tLoss: 0.179216: : 44it [02:45,  3.64s/it]\u001b[A\n",
            "Train Epoch: 2 [5632/10283 (54%)]\tLoss: 0.179216: : 45it [02:45,  3.66s/it]\u001b[A\n",
            "Train Epoch: 2 [5760/10283 (56%)]\tLoss: 0.189830: : 45it [02:49,  3.66s/it]\u001b[A\n",
            "Train Epoch: 2 [5760/10283 (56%)]\tLoss: 0.189830: : 46it [02:49,  3.68s/it]\u001b[A\n",
            "Train Epoch: 2 [5888/10283 (57%)]\tLoss: 0.235620: : 46it [02:52,  3.68s/it]\u001b[A\n",
            "Train Epoch: 2 [5888/10283 (57%)]\tLoss: 0.235620: : 47it [02:52,  3.69s/it]\u001b[A\n",
            "Train Epoch: 2 [6016/10283 (58%)]\tLoss: 0.178684: : 47it [02:56,  3.69s/it]\u001b[A\n",
            "Train Epoch: 2 [6016/10283 (58%)]\tLoss: 0.178684: : 48it [02:56,  3.71s/it]\u001b[A\n",
            "Train Epoch: 2 [6144/10283 (59%)]\tLoss: 0.151501: : 48it [03:00,  3.71s/it]\u001b[A\n",
            "Train Epoch: 2 [6144/10283 (59%)]\tLoss: 0.151501: : 49it [03:00,  3.67s/it]\u001b[A\n",
            "Train Epoch: 2 [6272/10283 (60%)]\tLoss: 0.144649: : 49it [03:03,  3.67s/it]\u001b[A\n",
            "Train Epoch: 2 [6272/10283 (60%)]\tLoss: 0.144649: : 50it [03:03,  3.65s/it]\u001b[A\n",
            "Train Epoch: 2 [6400/10283 (62%)]\tLoss: 0.223514: : 50it [03:07,  3.65s/it]\u001b[A\n",
            "Train Epoch: 2 [6400/10283 (62%)]\tLoss: 0.223514: : 51it [03:07,  3.63s/it]\u001b[A\n",
            "Train Epoch: 2 [6528/10283 (63%)]\tLoss: 0.166577: : 51it [03:10,  3.63s/it]\u001b[A\n",
            "Train Epoch: 2 [6528/10283 (63%)]\tLoss: 0.166577: : 52it [03:10,  3.62s/it]\u001b[A\n",
            "Train Epoch: 2 [6656/10283 (64%)]\tLoss: 0.201986: : 52it [03:14,  3.62s/it]\u001b[A\n",
            "Train Epoch: 2 [6656/10283 (64%)]\tLoss: 0.201986: : 53it [03:14,  3.65s/it]\u001b[A\n",
            "Train Epoch: 2 [6784/10283 (65%)]\tLoss: 0.180869: : 53it [03:18,  3.65s/it]\u001b[A\n",
            "Train Epoch: 2 [6784/10283 (65%)]\tLoss: 0.180869: : 54it [03:18,  3.65s/it]\u001b[A\n",
            "Train Epoch: 2 [6912/10283 (67%)]\tLoss: 0.212458: : 54it [03:21,  3.65s/it]\u001b[A\n",
            "Train Epoch: 2 [6912/10283 (67%)]\tLoss: 0.212458: : 55it [03:21,  3.65s/it]\u001b[A\n",
            "Train Epoch: 2 [7040/10283 (68%)]\tLoss: 0.262100: : 55it [03:25,  3.65s/it]\u001b[A\n",
            "Train Epoch: 2 [7040/10283 (68%)]\tLoss: 0.262100: : 56it [03:25,  3.67s/it]\u001b[A\n",
            "Train Epoch: 2 [7168/10283 (69%)]\tLoss: 0.136307: : 56it [03:29,  3.67s/it]\u001b[A\n",
            "Train Epoch: 2 [7168/10283 (69%)]\tLoss: 0.136307: : 57it [03:29,  3.66s/it]\u001b[A\n",
            "Train Epoch: 2 [7296/10283 (70%)]\tLoss: 0.160756: : 57it [03:32,  3.66s/it]\u001b[A\n",
            "Train Epoch: 2 [7296/10283 (70%)]\tLoss: 0.160756: : 58it [03:32,  3.64s/it]\u001b[A\n",
            "Train Epoch: 2 [7424/10283 (72%)]\tLoss: 0.124053: : 58it [03:36,  3.64s/it]\u001b[A\n",
            "Train Epoch: 2 [7424/10283 (72%)]\tLoss: 0.124053: : 59it [03:36,  3.64s/it]\u001b[A\n",
            "Train Epoch: 2 [7552/10283 (73%)]\tLoss: 0.155081: : 59it [03:40,  3.64s/it]\u001b[A\n",
            "Train Epoch: 2 [7552/10283 (73%)]\tLoss: 0.155081: : 60it [03:40,  3.64s/it]\u001b[A\n",
            "Train Epoch: 2 [7680/10283 (74%)]\tLoss: 0.138978: : 60it [03:43,  3.64s/it]\u001b[A\n",
            "Train Epoch: 2 [7680/10283 (74%)]\tLoss: 0.138978: : 61it [03:43,  3.64s/it]\u001b[A\n",
            "Train Epoch: 2 [7808/10283 (75%)]\tLoss: 0.169163: : 61it [03:47,  3.64s/it]\u001b[A\n",
            "Train Epoch: 2 [7808/10283 (75%)]\tLoss: 0.169163: : 62it [03:47,  3.60s/it]\u001b[A\n",
            "Train Epoch: 2 [7936/10283 (77%)]\tLoss: 0.123067: : 62it [03:50,  3.60s/it]\u001b[A\n",
            "Train Epoch: 2 [7936/10283 (77%)]\tLoss: 0.123067: : 63it [03:50,  3.61s/it]\u001b[A\n",
            "Train Epoch: 2 [8064/10283 (78%)]\tLoss: 0.178373: : 63it [03:54,  3.61s/it]\u001b[A\n",
            "Train Epoch: 2 [8064/10283 (78%)]\tLoss: 0.178373: : 64it [03:54,  3.61s/it]\u001b[A\n",
            "Train Epoch: 2 [8192/10283 (79%)]\tLoss: 0.150773: : 64it [03:58,  3.61s/it]\u001b[A\n",
            "Train Epoch: 2 [8192/10283 (79%)]\tLoss: 0.150773: : 65it [03:58,  3.59s/it]\u001b[A\n",
            "Train Epoch: 2 [8320/10283 (80%)]\tLoss: 0.232758: : 65it [04:01,  3.59s/it]\u001b[A\n",
            "Train Epoch: 2 [8320/10283 (80%)]\tLoss: 0.232758: : 66it [04:01,  3.57s/it]\u001b[A\n",
            "Train Epoch: 2 [8448/10283 (81%)]\tLoss: 0.185163: : 66it [04:05,  3.57s/it]\u001b[A\n",
            "Train Epoch: 2 [8448/10283 (81%)]\tLoss: 0.185163: : 67it [04:05,  3.55s/it]\u001b[A\n",
            "Train Epoch: 2 [8576/10283 (83%)]\tLoss: 0.175765: : 67it [04:08,  3.55s/it]\u001b[A\n",
            "Train Epoch: 2 [8576/10283 (83%)]\tLoss: 0.175765: : 68it [04:08,  3.55s/it]\u001b[A\n",
            "Train Epoch: 2 [8704/10283 (84%)]\tLoss: 0.139260: : 68it [04:12,  3.55s/it]\u001b[A\n",
            "Train Epoch: 2 [8704/10283 (84%)]\tLoss: 0.139260: : 69it [04:12,  3.57s/it]\u001b[A\n",
            "Train Epoch: 2 [8832/10283 (85%)]\tLoss: 0.095631: : 69it [04:15,  3.57s/it]\u001b[A\n",
            "Train Epoch: 2 [8832/10283 (85%)]\tLoss: 0.095631: : 70it [04:15,  3.58s/it]\u001b[A\n",
            "Train Epoch: 2 [8960/10283 (86%)]\tLoss: 0.120680: : 70it [04:19,  3.58s/it]\u001b[A\n",
            "Train Epoch: 2 [8960/10283 (86%)]\tLoss: 0.120680: : 71it [04:19,  3.58s/it]\u001b[A\n",
            "Train Epoch: 2 [9088/10283 (88%)]\tLoss: 0.201810: : 71it [04:23,  3.58s/it]\u001b[A\n",
            "Train Epoch: 2 [9088/10283 (88%)]\tLoss: 0.201810: : 72it [04:23,  3.59s/it]\u001b[A\n",
            "Train Epoch: 2 [9216/10283 (89%)]\tLoss: 0.156057: : 72it [04:26,  3.59s/it]\u001b[A\n",
            "Train Epoch: 2 [9216/10283 (89%)]\tLoss: 0.156057: : 73it [04:26,  3.59s/it]\u001b[A\n",
            "Train Epoch: 2 [9344/10283 (90%)]\tLoss: 0.264779: : 73it [04:30,  3.59s/it]\u001b[A\n",
            "Train Epoch: 2 [9344/10283 (90%)]\tLoss: 0.264779: : 74it [04:30,  3.58s/it]\u001b[A\n",
            "Train Epoch: 2 [9472/10283 (91%)]\tLoss: 0.177769: : 74it [04:33,  3.58s/it]\u001b[A\n",
            "Train Epoch: 2 [9472/10283 (91%)]\tLoss: 0.177769: : 75it [04:33,  3.57s/it]\u001b[A\n",
            "Train Epoch: 2 [9600/10283 (93%)]\tLoss: 0.195586: : 75it [04:37,  3.57s/it]\u001b[A\n",
            "Train Epoch: 2 [9600/10283 (93%)]\tLoss: 0.195586: : 76it [04:37,  3.62s/it]\u001b[A\n",
            "Train Epoch: 2 [9728/10283 (94%)]\tLoss: 0.145520: : 76it [04:41,  3.62s/it]\u001b[A\n",
            "Train Epoch: 2 [9728/10283 (94%)]\tLoss: 0.145520: : 77it [04:41,  3.62s/it]\u001b[A\n",
            "Train Epoch: 2 [9856/10283 (95%)]\tLoss: 0.163299: : 77it [04:44,  3.62s/it]\u001b[A\n",
            "Train Epoch: 2 [9856/10283 (95%)]\tLoss: 0.163299: : 78it [04:44,  3.58s/it]\u001b[A\n",
            "Train Epoch: 2 [9984/10283 (96%)]\tLoss: 0.137837: : 78it [04:48,  3.58s/it]\u001b[A\n",
            "Train Epoch: 2 [9984/10283 (96%)]\tLoss: 0.137837: : 79it [04:48,  3.60s/it]\u001b[A\n",
            "Train Epoch: 2 [10112/10283 (98%)]\tLoss: 0.156515: : 79it [04:51,  3.60s/it]\u001b[A\n",
            "Train Epoch: 2 [10112/10283 (98%)]\tLoss: 0.156515: : 80it [04:51,  3.57s/it]\u001b[A\n",
            "Train Epoch: 2 [3440/10283 (99%)]\tLoss: 0.123479: : 80it [04:52,  3.57s/it] \u001b[A\n",
            "Train Epoch: 2 [3440/10283 (99%)]\tLoss: 0.123479: : 81it [04:52,  3.62s/it]\n",
            "\n",
            "0it [00:00, ?it/s]\u001b[A\n",
            "Train Epoch: 3 [0/10283 (0%)]\tLoss: 0.118526: : 0it [00:03, ?it/s]\u001b[A\n",
            "Train Epoch: 3 [0/10283 (0%)]\tLoss: 0.118526: : 1it [00:03,  3.66s/it]\u001b[A\n",
            "Train Epoch: 3 [128/10283 (1%)]\tLoss: 0.204621: : 1it [00:07,  3.66s/it]\u001b[A\n",
            "Train Epoch: 3 [128/10283 (1%)]\tLoss: 0.204621: : 2it [00:07,  3.64s/it]\u001b[A\n",
            "Train Epoch: 3 [256/10283 (2%)]\tLoss: 0.112291: : 2it [00:10,  3.64s/it]\u001b[A\n",
            "Train Epoch: 3 [256/10283 (2%)]\tLoss: 0.112291: : 3it [00:10,  3.64s/it]\u001b[A\n",
            "Train Epoch: 3 [384/10283 (4%)]\tLoss: 0.114894: : 3it [00:14,  3.64s/it]\u001b[A\n",
            "Train Epoch: 3 [384/10283 (4%)]\tLoss: 0.114894: : 4it [00:14,  3.66s/it]\u001b[A\n",
            "Train Epoch: 3 [512/10283 (5%)]\tLoss: 0.164839: : 4it [00:18,  3.66s/it]\u001b[A\n",
            "Train Epoch: 3 [512/10283 (5%)]\tLoss: 0.164839: : 5it [00:18,  3.63s/it]\u001b[A\n",
            "Train Epoch: 3 [640/10283 (6%)]\tLoss: 0.247888: : 5it [00:21,  3.63s/it]\u001b[A\n",
            "Train Epoch: 3 [640/10283 (6%)]\tLoss: 0.247888: : 6it [00:21,  3.62s/it]\u001b[A\n",
            "Train Epoch: 3 [768/10283 (7%)]\tLoss: 0.133579: : 6it [00:25,  3.62s/it]\u001b[A\n",
            "Train Epoch: 3 [768/10283 (7%)]\tLoss: 0.133579: : 7it [00:25,  3.64s/it]\u001b[A\n",
            "Train Epoch: 3 [896/10283 (9%)]\tLoss: 0.218924: : 7it [00:29,  3.64s/it]\u001b[A\n",
            "Train Epoch: 3 [896/10283 (9%)]\tLoss: 0.218924: : 8it [00:29,  3.62s/it]\u001b[A\n",
            "Train Epoch: 3 [1024/10283 (10%)]\tLoss: 0.219789: : 8it [00:32,  3.62s/it]\u001b[A\n",
            "Train Epoch: 3 [1024/10283 (10%)]\tLoss: 0.219789: : 9it [00:32,  3.60s/it]\u001b[A\n",
            "Train Epoch: 3 [1152/10283 (11%)]\tLoss: 0.196502: : 9it [00:36,  3.60s/it]\u001b[A\n",
            "Train Epoch: 3 [1152/10283 (11%)]\tLoss: 0.196502: : 10it [00:36,  3.60s/it]\u001b[A\n",
            "Train Epoch: 3 [1280/10283 (12%)]\tLoss: 0.126626: : 10it [00:39,  3.60s/it]\u001b[A\n",
            "Train Epoch: 3 [1280/10283 (12%)]\tLoss: 0.126626: : 11it [00:39,  3.63s/it]\u001b[A\n",
            "Train Epoch: 3 [1408/10283 (14%)]\tLoss: 0.170697: : 11it [00:43,  3.63s/it]\u001b[A\n",
            "Train Epoch: 3 [1408/10283 (14%)]\tLoss: 0.170697: : 12it [00:43,  3.63s/it]\u001b[A\n",
            "Train Epoch: 3 [1536/10283 (15%)]\tLoss: 0.111529: : 12it [00:47,  3.63s/it]\u001b[A\n",
            "Train Epoch: 3 [1536/10283 (15%)]\tLoss: 0.111529: : 13it [00:47,  3.62s/it]\u001b[A\n",
            "Train Epoch: 3 [1664/10283 (16%)]\tLoss: 0.149623: : 13it [00:50,  3.62s/it]\u001b[A\n",
            "Train Epoch: 3 [1664/10283 (16%)]\tLoss: 0.149623: : 14it [00:50,  3.62s/it]\u001b[A\n",
            "Train Epoch: 3 [1792/10283 (17%)]\tLoss: 0.156344: : 14it [00:54,  3.62s/it]\u001b[A\n",
            "Train Epoch: 3 [1792/10283 (17%)]\tLoss: 0.156344: : 15it [00:54,  3.66s/it]\u001b[A\n",
            "Train Epoch: 3 [1920/10283 (19%)]\tLoss: 0.150488: : 15it [00:58,  3.66s/it]\u001b[A\n",
            "Train Epoch: 3 [1920/10283 (19%)]\tLoss: 0.150488: : 16it [00:58,  3.66s/it]\u001b[A\n",
            "Train Epoch: 3 [2048/10283 (20%)]\tLoss: 0.075877: : 16it [01:01,  3.66s/it]\u001b[A\n",
            "Train Epoch: 3 [2048/10283 (20%)]\tLoss: 0.075877: : 17it [01:01,  3.69s/it]\u001b[A\n",
            "Train Epoch: 3 [2176/10283 (21%)]\tLoss: 0.138782: : 17it [01:05,  3.69s/it]\u001b[A\n",
            "Train Epoch: 3 [2176/10283 (21%)]\tLoss: 0.138782: : 18it [01:05,  3.66s/it]\u001b[A\n",
            "Train Epoch: 3 [2304/10283 (22%)]\tLoss: 0.209748: : 18it [01:09,  3.66s/it]\u001b[A\n",
            "Train Epoch: 3 [2304/10283 (22%)]\tLoss: 0.209748: : 19it [01:09,  3.64s/it]\u001b[A\n",
            "Train Epoch: 3 [2432/10283 (23%)]\tLoss: 0.089658: : 19it [01:12,  3.64s/it]\u001b[A\n",
            "Train Epoch: 3 [2432/10283 (23%)]\tLoss: 0.089658: : 20it [01:12,  3.70s/it]\u001b[A\n",
            "Train Epoch: 3 [2560/10283 (25%)]\tLoss: 0.221789: : 20it [01:16,  3.70s/it]\u001b[A\n",
            "Train Epoch: 3 [2560/10283 (25%)]\tLoss: 0.221789: : 21it [01:16,  3.65s/it]\u001b[A\n",
            "Train Epoch: 3 [2688/10283 (26%)]\tLoss: 0.147321: : 21it [01:20,  3.65s/it]\u001b[A\n",
            "Train Epoch: 3 [2688/10283 (26%)]\tLoss: 0.147321: : 22it [01:20,  3.62s/it]\u001b[A\n",
            "Train Epoch: 3 [2816/10283 (27%)]\tLoss: 0.221147: : 22it [01:23,  3.62s/it]\u001b[A\n",
            "Train Epoch: 3 [2816/10283 (27%)]\tLoss: 0.221147: : 23it [01:23,  3.66s/it]\u001b[A\n",
            "Train Epoch: 3 [2944/10283 (28%)]\tLoss: 0.155503: : 23it [01:27,  3.66s/it]\u001b[A\n",
            "Train Epoch: 3 [2944/10283 (28%)]\tLoss: 0.155503: : 24it [01:27,  3.71s/it]\u001b[A\n",
            "Train Epoch: 3 [3072/10283 (30%)]\tLoss: 0.145654: : 24it [01:31,  3.71s/it]\u001b[A\n",
            "Train Epoch: 3 [3072/10283 (30%)]\tLoss: 0.145654: : 25it [01:31,  3.69s/it]\u001b[A\n",
            "Train Epoch: 3 [3200/10283 (31%)]\tLoss: 0.119054: : 25it [01:35,  3.69s/it]\u001b[A\n",
            "Train Epoch: 3 [3200/10283 (31%)]\tLoss: 0.119054: : 26it [01:35,  3.71s/it]\u001b[A\n",
            "Train Epoch: 3 [3328/10283 (32%)]\tLoss: 0.222886: : 26it [01:38,  3.71s/it]\u001b[A\n",
            "Train Epoch: 3 [3328/10283 (32%)]\tLoss: 0.222886: : 27it [01:38,  3.69s/it]\u001b[A\n",
            "Train Epoch: 3 [3456/10283 (33%)]\tLoss: 0.182664: : 27it [01:42,  3.69s/it]\u001b[A\n",
            "Train Epoch: 3 [3456/10283 (33%)]\tLoss: 0.182664: : 28it [01:42,  3.65s/it]\u001b[A\n",
            "Train Epoch: 3 [3584/10283 (35%)]\tLoss: 0.144726: : 28it [01:45,  3.65s/it]\u001b[A\n",
            "Train Epoch: 3 [3584/10283 (35%)]\tLoss: 0.144726: : 29it [01:45,  3.63s/it]\u001b[A\n",
            "Train Epoch: 3 [3712/10283 (36%)]\tLoss: 0.169202: : 29it [01:49,  3.63s/it]\u001b[A\n",
            "Train Epoch: 3 [3712/10283 (36%)]\tLoss: 0.169202: : 30it [01:49,  3.70s/it]\u001b[A\n",
            "Train Epoch: 3 [3840/10283 (37%)]\tLoss: 0.205417: : 30it [01:53,  3.70s/it]\u001b[A\n",
            "Train Epoch: 3 [3840/10283 (37%)]\tLoss: 0.205417: : 31it [01:53,  3.72s/it]\u001b[A\n",
            "Train Epoch: 3 [3968/10283 (38%)]\tLoss: 0.175310: : 31it [01:57,  3.72s/it]\u001b[A\n",
            "Train Epoch: 3 [3968/10283 (38%)]\tLoss: 0.175310: : 32it [01:57,  3.69s/it]\u001b[A\n",
            "Train Epoch: 3 [4096/10283 (40%)]\tLoss: 0.142072: : 32it [02:00,  3.69s/it]\u001b[A\n",
            "Train Epoch: 3 [4096/10283 (40%)]\tLoss: 0.142072: : 33it [02:00,  3.70s/it]\u001b[A\n",
            "Train Epoch: 3 [4224/10283 (41%)]\tLoss: 0.157181: : 33it [02:04,  3.70s/it]\u001b[A\n",
            "Train Epoch: 3 [4224/10283 (41%)]\tLoss: 0.157181: : 34it [02:04,  3.65s/it]\u001b[A\n",
            "Train Epoch: 3 [4352/10283 (42%)]\tLoss: 0.208238: : 34it [02:07,  3.65s/it]\u001b[A\n",
            "Train Epoch: 3 [4352/10283 (42%)]\tLoss: 0.208238: : 35it [02:07,  3.62s/it]\u001b[A\n",
            "Train Epoch: 3 [4480/10283 (43%)]\tLoss: 0.156768: : 35it [02:11,  3.62s/it]\u001b[A\n",
            "Train Epoch: 3 [4480/10283 (43%)]\tLoss: 0.156768: : 36it [02:11,  3.61s/it]\u001b[A\n",
            "Train Epoch: 3 [4608/10283 (44%)]\tLoss: 0.192219: : 36it [02:15,  3.61s/it]\u001b[A\n",
            "Train Epoch: 3 [4608/10283 (44%)]\tLoss: 0.192219: : 37it [02:15,  3.62s/it]\u001b[A\n",
            "Train Epoch: 3 [4736/10283 (46%)]\tLoss: 0.104177: : 37it [02:18,  3.62s/it]\u001b[A\n",
            "Train Epoch: 3 [4736/10283 (46%)]\tLoss: 0.104177: : 38it [02:18,  3.61s/it]\u001b[A\n",
            "Train Epoch: 3 [4864/10283 (47%)]\tLoss: 0.228753: : 38it [02:22,  3.61s/it]\u001b[A\n",
            "Train Epoch: 3 [4864/10283 (47%)]\tLoss: 0.228753: : 39it [02:22,  3.59s/it]\u001b[A\n",
            "Train Epoch: 3 [4992/10283 (48%)]\tLoss: 0.192040: : 39it [02:25,  3.59s/it]\u001b[A\n",
            "Train Epoch: 3 [4992/10283 (48%)]\tLoss: 0.192040: : 40it [02:25,  3.58s/it]\u001b[A\n",
            "Train Epoch: 3 [5120/10283 (49%)]\tLoss: 0.327775: : 40it [02:29,  3.58s/it]\u001b[A\n",
            "Train Epoch: 3 [5120/10283 (49%)]\tLoss: 0.327775: : 41it [02:29,  3.60s/it]\u001b[A\n",
            "Train Epoch: 3 [5248/10283 (51%)]\tLoss: 0.126804: : 41it [02:33,  3.60s/it]\u001b[A\n",
            "Train Epoch: 3 [5248/10283 (51%)]\tLoss: 0.126804: : 42it [02:33,  3.62s/it]\u001b[A\n",
            "Train Epoch: 3 [5376/10283 (52%)]\tLoss: 0.136001: : 42it [02:36,  3.62s/it]\u001b[A\n",
            "Train Epoch: 3 [5376/10283 (52%)]\tLoss: 0.136001: : 43it [02:36,  3.62s/it]\u001b[A\n",
            "Train Epoch: 3 [5504/10283 (53%)]\tLoss: 0.153467: : 43it [02:40,  3.62s/it]\u001b[A\n",
            "Train Epoch: 3 [5504/10283 (53%)]\tLoss: 0.153467: : 44it [02:40,  3.65s/it]\u001b[A\n",
            "Train Epoch: 3 [5632/10283 (54%)]\tLoss: 0.109398: : 44it [02:44,  3.65s/it]\u001b[A\n",
            "Train Epoch: 3 [5632/10283 (54%)]\tLoss: 0.109398: : 45it [02:44,  3.64s/it]\u001b[A\n",
            "Train Epoch: 3 [5760/10283 (56%)]\tLoss: 0.118773: : 45it [02:47,  3.64s/it]\u001b[A\n",
            "Train Epoch: 3 [5760/10283 (56%)]\tLoss: 0.118773: : 46it [02:47,  3.62s/it]\u001b[A\n",
            "Train Epoch: 3 [5888/10283 (57%)]\tLoss: 0.169778: : 46it [02:51,  3.62s/it]\u001b[A\n",
            "Train Epoch: 3 [5888/10283 (57%)]\tLoss: 0.169778: : 47it [02:51,  3.60s/it]\u001b[A\n",
            "Train Epoch: 3 [6016/10283 (58%)]\tLoss: 0.173872: : 47it [02:54,  3.60s/it]\u001b[A\n",
            "Train Epoch: 3 [6016/10283 (58%)]\tLoss: 0.173872: : 48it [02:54,  3.59s/it]\u001b[A\n",
            "Train Epoch: 3 [6144/10283 (59%)]\tLoss: 0.153273: : 48it [02:58,  3.59s/it]\u001b[A\n",
            "Train Epoch: 3 [6144/10283 (59%)]\tLoss: 0.153273: : 49it [02:58,  3.59s/it]\u001b[A\n",
            "Train Epoch: 3 [6272/10283 (60%)]\tLoss: 0.115678: : 49it [03:02,  3.59s/it]\u001b[A\n",
            "Train Epoch: 3 [6272/10283 (60%)]\tLoss: 0.115678: : 50it [03:02,  3.67s/it]\u001b[A\n",
            "Train Epoch: 3 [6400/10283 (62%)]\tLoss: 0.127448: : 50it [03:05,  3.67s/it]\u001b[A\n",
            "Train Epoch: 3 [6400/10283 (62%)]\tLoss: 0.127448: : 51it [03:05,  3.66s/it]\u001b[A\n",
            "Train Epoch: 3 [6528/10283 (63%)]\tLoss: 0.127716: : 51it [03:09,  3.66s/it]\u001b[A\n",
            "Train Epoch: 3 [6528/10283 (63%)]\tLoss: 0.127716: : 52it [03:09,  3.69s/it]\u001b[A\n",
            "Train Epoch: 3 [6656/10283 (64%)]\tLoss: 0.151459: : 52it [03:13,  3.69s/it]\u001b[A\n",
            "Train Epoch: 3 [6656/10283 (64%)]\tLoss: 0.151459: : 53it [03:13,  3.69s/it]\u001b[A\n",
            "Train Epoch: 3 [6784/10283 (65%)]\tLoss: 0.141079: : 53it [03:16,  3.69s/it]\u001b[A\n",
            "Train Epoch: 3 [6784/10283 (65%)]\tLoss: 0.141079: : 54it [03:16,  3.68s/it]\u001b[A\n",
            "Train Epoch: 3 [6912/10283 (67%)]\tLoss: 0.189997: : 54it [03:20,  3.68s/it]\u001b[A\n",
            "Train Epoch: 3 [6912/10283 (67%)]\tLoss: 0.189997: : 55it [03:20,  3.66s/it]\u001b[A\n",
            "Train Epoch: 3 [7040/10283 (68%)]\tLoss: 0.097224: : 55it [03:24,  3.66s/it]\u001b[A\n",
            "Train Epoch: 3 [7040/10283 (68%)]\tLoss: 0.097224: : 56it [03:24,  3.64s/it]\u001b[A\n",
            "Train Epoch: 3 [7168/10283 (69%)]\tLoss: 0.139324: : 56it [03:27,  3.64s/it]\u001b[A\n",
            "Train Epoch: 3 [7168/10283 (69%)]\tLoss: 0.139324: : 57it [03:27,  3.61s/it]\u001b[A\n",
            "Train Epoch: 3 [7296/10283 (70%)]\tLoss: 0.090214: : 57it [03:31,  3.61s/it]\u001b[A\n",
            "Train Epoch: 3 [7296/10283 (70%)]\tLoss: 0.090214: : 58it [03:31,  3.59s/it]\u001b[A\n",
            "Train Epoch: 3 [7424/10283 (72%)]\tLoss: 0.182061: : 58it [03:34,  3.59s/it]\u001b[A\n",
            "Train Epoch: 3 [7424/10283 (72%)]\tLoss: 0.182061: : 59it [03:34,  3.62s/it]\u001b[A\n",
            "Train Epoch: 3 [7552/10283 (73%)]\tLoss: 0.145331: : 59it [03:38,  3.62s/it]\u001b[A\n",
            "Train Epoch: 3 [7552/10283 (73%)]\tLoss: 0.145331: : 60it [03:38,  3.63s/it]\u001b[A\n",
            "Train Epoch: 3 [7680/10283 (74%)]\tLoss: 0.147373: : 60it [03:42,  3.63s/it]\u001b[A\n",
            "Train Epoch: 3 [7680/10283 (74%)]\tLoss: 0.147373: : 61it [03:42,  3.62s/it]\u001b[A\n",
            "Train Epoch: 3 [7808/10283 (75%)]\tLoss: 0.128153: : 61it [03:45,  3.62s/it]\u001b[A\n",
            "Train Epoch: 3 [7808/10283 (75%)]\tLoss: 0.128153: : 62it [03:45,  3.62s/it]\u001b[A\n",
            "Train Epoch: 3 [7936/10283 (77%)]\tLoss: 0.186395: : 62it [03:49,  3.62s/it]\u001b[A\n",
            "Train Epoch: 3 [7936/10283 (77%)]\tLoss: 0.186395: : 63it [03:49,  3.62s/it]\u001b[A\n",
            "Train Epoch: 3 [8064/10283 (78%)]\tLoss: 0.122256: : 63it [03:52,  3.62s/it]\u001b[A\n",
            "Train Epoch: 3 [8064/10283 (78%)]\tLoss: 0.122256: : 64it [03:52,  3.59s/it]\u001b[A\n",
            "Train Epoch: 3 [8192/10283 (79%)]\tLoss: 0.127750: : 64it [03:56,  3.59s/it]\u001b[A\n",
            "Train Epoch: 3 [8192/10283 (79%)]\tLoss: 0.127750: : 65it [03:56,  3.60s/it]\u001b[A\n",
            "Train Epoch: 3 [8320/10283 (80%)]\tLoss: 0.156841: : 65it [04:00,  3.60s/it]\u001b[A\n",
            "Train Epoch: 3 [8320/10283 (80%)]\tLoss: 0.156841: : 66it [04:00,  3.60s/it]\u001b[A\n",
            "Train Epoch: 3 [8448/10283 (81%)]\tLoss: 0.154641: : 66it [04:03,  3.60s/it]\u001b[A\n",
            "Train Epoch: 3 [8448/10283 (81%)]\tLoss: 0.154641: : 67it [04:03,  3.60s/it]\u001b[A\n",
            "Train Epoch: 3 [8576/10283 (83%)]\tLoss: 0.137061: : 67it [04:07,  3.60s/it]\u001b[A\n",
            "Train Epoch: 3 [8576/10283 (83%)]\tLoss: 0.137061: : 68it [04:07,  3.64s/it]\u001b[A\n",
            "Train Epoch: 3 [8704/10283 (84%)]\tLoss: 0.145143: : 68it [04:11,  3.64s/it]\u001b[A\n",
            "Train Epoch: 3 [8704/10283 (84%)]\tLoss: 0.145143: : 69it [04:11,  3.63s/it]\u001b[A\n",
            "Train Epoch: 3 [8832/10283 (85%)]\tLoss: 0.166748: : 69it [04:14,  3.63s/it]\u001b[A\n",
            "Train Epoch: 3 [8832/10283 (85%)]\tLoss: 0.166748: : 70it [04:14,  3.62s/it]\u001b[A\n",
            "Train Epoch: 3 [8960/10283 (86%)]\tLoss: 0.129679: : 70it [04:18,  3.62s/it]\u001b[A\n",
            "Train Epoch: 3 [8960/10283 (86%)]\tLoss: 0.129679: : 71it [04:18,  3.67s/it]\u001b[A\n",
            "Train Epoch: 3 [9088/10283 (88%)]\tLoss: 0.155068: : 71it [04:22,  3.67s/it]\u001b[A\n",
            "Train Epoch: 3 [9088/10283 (88%)]\tLoss: 0.155068: : 72it [04:22,  3.64s/it]\u001b[A\n",
            "Train Epoch: 3 [9216/10283 (89%)]\tLoss: 0.217750: : 72it [04:25,  3.64s/it]\u001b[A\n",
            "Train Epoch: 3 [9216/10283 (89%)]\tLoss: 0.217750: : 73it [04:25,  3.62s/it]\u001b[A\n",
            "Train Epoch: 3 [9344/10283 (90%)]\tLoss: 0.165537: : 73it [04:29,  3.62s/it]\u001b[A\n",
            "Train Epoch: 3 [9344/10283 (90%)]\tLoss: 0.165537: : 74it [04:29,  3.60s/it]\u001b[A\n",
            "Train Epoch: 3 [9472/10283 (91%)]\tLoss: 0.135222: : 74it [04:32,  3.60s/it]\u001b[A\n",
            "Train Epoch: 3 [9472/10283 (91%)]\tLoss: 0.135222: : 75it [04:32,  3.60s/it]\u001b[A\n",
            "Train Epoch: 3 [9600/10283 (93%)]\tLoss: 0.184808: : 75it [04:36,  3.60s/it]\u001b[A\n",
            "Train Epoch: 3 [9600/10283 (93%)]\tLoss: 0.184808: : 76it [04:36,  3.57s/it]\u001b[A\n",
            "Train Epoch: 3 [9728/10283 (94%)]\tLoss: 0.096579: : 76it [04:39,  3.57s/it]\u001b[A\n",
            "Train Epoch: 3 [9728/10283 (94%)]\tLoss: 0.096579: : 77it [04:39,  3.60s/it]\u001b[A\n",
            "Train Epoch: 3 [9856/10283 (95%)]\tLoss: 0.204229: : 77it [04:43,  3.60s/it]\u001b[A\n",
            "Train Epoch: 3 [9856/10283 (95%)]\tLoss: 0.204229: : 78it [04:43,  3.58s/it]\u001b[A\n",
            "Train Epoch: 3 [9984/10283 (96%)]\tLoss: 0.165674: : 78it [04:47,  3.58s/it]\u001b[A\n",
            "Train Epoch: 3 [9984/10283 (96%)]\tLoss: 0.165674: : 79it [04:47,  3.61s/it]\u001b[A\n",
            "Train Epoch: 3 [10112/10283 (98%)]\tLoss: 0.102059: : 79it [04:50,  3.61s/it]\u001b[A\n",
            "Train Epoch: 3 [10112/10283 (98%)]\tLoss: 0.102059: : 80it [04:50,  3.63s/it]\u001b[A\n",
            "Train Epoch: 3 [3440/10283 (99%)]\tLoss: 0.190131: : 80it [04:52,  3.63s/it] \u001b[A\n",
            "Train Epoch: 3 [3440/10283 (99%)]\tLoss: 0.190131: : 81it [04:52,  3.61s/it]\n",
            "\n",
            "0it [00:00, ?it/s]\u001b[A\n",
            "Train Epoch: 4 [0/10283 (0%)]\tLoss: 0.153610: : 0it [00:03, ?it/s]\u001b[A\n",
            "Train Epoch: 4 [0/10283 (0%)]\tLoss: 0.153610: : 1it [00:03,  3.55s/it]\u001b[A\n",
            "Train Epoch: 4 [128/10283 (1%)]\tLoss: 0.140195: : 1it [00:07,  3.55s/it]\u001b[A\n",
            "Train Epoch: 4 [128/10283 (1%)]\tLoss: 0.140195: : 2it [00:07,  3.56s/it]\u001b[A\n",
            "Train Epoch: 4 [256/10283 (2%)]\tLoss: 0.102124: : 2it [00:10,  3.56s/it]\u001b[A\n",
            "Train Epoch: 4 [256/10283 (2%)]\tLoss: 0.102124: : 3it [00:10,  3.57s/it]\u001b[A\n",
            "Train Epoch: 4 [384/10283 (4%)]\tLoss: 0.155377: : 3it [00:14,  3.57s/it]\u001b[A\n",
            "Train Epoch: 4 [384/10283 (4%)]\tLoss: 0.155377: : 4it [00:14,  3.63s/it]\u001b[A\n",
            "Train Epoch: 4 [512/10283 (5%)]\tLoss: 0.115213: : 4it [00:18,  3.63s/it]\u001b[A\n",
            "Train Epoch: 4 [512/10283 (5%)]\tLoss: 0.115213: : 5it [00:18,  3.61s/it]\u001b[A\n",
            "Train Epoch: 4 [640/10283 (6%)]\tLoss: 0.138205: : 5it [00:21,  3.61s/it]\u001b[A\n",
            "Train Epoch: 4 [640/10283 (6%)]\tLoss: 0.138205: : 6it [00:21,  3.62s/it]\u001b[A\n",
            "Train Epoch: 4 [768/10283 (7%)]\tLoss: 0.119302: : 6it [00:25,  3.62s/it]\u001b[A\n",
            "Train Epoch: 4 [768/10283 (7%)]\tLoss: 0.119302: : 7it [00:25,  3.73s/it]\u001b[A\n",
            "Train Epoch: 4 [896/10283 (9%)]\tLoss: 0.157580: : 7it [00:29,  3.73s/it]\u001b[A\n",
            "Train Epoch: 4 [896/10283 (9%)]\tLoss: 0.157580: : 8it [00:29,  3.68s/it]\u001b[A\n",
            "Train Epoch: 4 [1024/10283 (10%)]\tLoss: 0.119259: : 8it [00:32,  3.68s/it]\u001b[A\n",
            "Train Epoch: 4 [1024/10283 (10%)]\tLoss: 0.119259: : 9it [00:32,  3.64s/it]\u001b[A\n",
            "Train Epoch: 4 [1152/10283 (11%)]\tLoss: 0.173917: : 9it [00:36,  3.64s/it]\u001b[A\n",
            "Train Epoch: 4 [1152/10283 (11%)]\tLoss: 0.173917: : 10it [00:36,  3.63s/it]\u001b[A\n",
            "Train Epoch: 4 [1280/10283 (12%)]\tLoss: 0.075021: : 10it [00:39,  3.63s/it]\u001b[A\n",
            "Train Epoch: 4 [1280/10283 (12%)]\tLoss: 0.075021: : 11it [00:39,  3.61s/it]\u001b[A\n",
            "Train Epoch: 4 [1408/10283 (14%)]\tLoss: 0.118590: : 11it [00:43,  3.61s/it]\u001b[A\n",
            "Train Epoch: 4 [1408/10283 (14%)]\tLoss: 0.118590: : 12it [00:43,  3.60s/it]\u001b[A\n",
            "Train Epoch: 4 [1536/10283 (15%)]\tLoss: 0.125938: : 12it [00:47,  3.60s/it]\u001b[A\n",
            "Train Epoch: 4 [1536/10283 (15%)]\tLoss: 0.125938: : 13it [00:47,  3.57s/it]\u001b[A\n",
            "Train Epoch: 4 [1664/10283 (16%)]\tLoss: 0.185004: : 13it [00:50,  3.57s/it]\u001b[A\n",
            "Train Epoch: 4 [1664/10283 (16%)]\tLoss: 0.185004: : 14it [00:50,  3.59s/it]\u001b[A\n",
            "Train Epoch: 4 [1792/10283 (17%)]\tLoss: 0.094688: : 14it [00:54,  3.59s/it]\u001b[A\n",
            "Train Epoch: 4 [1792/10283 (17%)]\tLoss: 0.094688: : 15it [00:54,  3.59s/it]\u001b[A\n",
            "Train Epoch: 4 [1920/10283 (19%)]\tLoss: 0.111417: : 15it [00:57,  3.59s/it]\u001b[A\n",
            "Train Epoch: 4 [1920/10283 (19%)]\tLoss: 0.111417: : 16it [00:57,  3.58s/it]\u001b[A\n",
            "Train Epoch: 4 [2048/10283 (20%)]\tLoss: 0.109678: : 16it [01:01,  3.58s/it]\u001b[A\n",
            "Train Epoch: 4 [2048/10283 (20%)]\tLoss: 0.109678: : 17it [01:01,  3.59s/it]\u001b[A\n",
            "Train Epoch: 4 [2176/10283 (21%)]\tLoss: 0.079905: : 17it [01:05,  3.59s/it]\u001b[A\n",
            "Train Epoch: 4 [2176/10283 (21%)]\tLoss: 0.079905: : 18it [01:05,  3.61s/it]\u001b[A\n",
            "Train Epoch: 4 [2304/10283 (22%)]\tLoss: 0.139430: : 18it [01:08,  3.61s/it]\u001b[A\n",
            "Train Epoch: 4 [2304/10283 (22%)]\tLoss: 0.139430: : 19it [01:08,  3.63s/it]\u001b[A\n",
            "Train Epoch: 4 [2432/10283 (23%)]\tLoss: 0.181185: : 19it [01:12,  3.63s/it]\u001b[A\n",
            "Train Epoch: 4 [2432/10283 (23%)]\tLoss: 0.181185: : 20it [01:12,  3.62s/it]\u001b[A\n",
            "Train Epoch: 4 [2560/10283 (25%)]\tLoss: 0.135490: : 20it [01:15,  3.62s/it]\u001b[A\n",
            "Train Epoch: 4 [2560/10283 (25%)]\tLoss: 0.135490: : 21it [01:15,  3.62s/it]\u001b[A\n",
            "Train Epoch: 4 [2688/10283 (26%)]\tLoss: 0.109116: : 21it [01:19,  3.62s/it]\u001b[A\n",
            "Train Epoch: 4 [2688/10283 (26%)]\tLoss: 0.109116: : 22it [01:19,  3.62s/it]\u001b[A\n",
            "Train Epoch: 4 [2816/10283 (27%)]\tLoss: 0.143574: : 22it [01:23,  3.62s/it]\u001b[A\n",
            "Train Epoch: 4 [2816/10283 (27%)]\tLoss: 0.143574: : 23it [01:23,  3.64s/it]\u001b[A\n",
            "Train Epoch: 4 [2944/10283 (28%)]\tLoss: 0.127203: : 23it [01:27,  3.64s/it]\u001b[A\n",
            "Train Epoch: 4 [2944/10283 (28%)]\tLoss: 0.127203: : 24it [01:27,  3.67s/it]\u001b[A\n",
            "Train Epoch: 4 [3072/10283 (30%)]\tLoss: 0.091546: : 24it [01:30,  3.67s/it]\u001b[A\n",
            "Train Epoch: 4 [3072/10283 (30%)]\tLoss: 0.091546: : 25it [01:30,  3.66s/it]\u001b[A\n",
            "Train Epoch: 4 [3200/10283 (31%)]\tLoss: 0.182872: : 25it [01:34,  3.66s/it]\u001b[A\n",
            "Train Epoch: 4 [3200/10283 (31%)]\tLoss: 0.182872: : 26it [01:34,  3.65s/it]\u001b[A\n",
            "Train Epoch: 4 [3328/10283 (32%)]\tLoss: 0.108148: : 26it [01:37,  3.65s/it]\u001b[A\n",
            "Train Epoch: 4 [3328/10283 (32%)]\tLoss: 0.108148: : 27it [01:37,  3.65s/it]\u001b[A\n",
            "Train Epoch: 4 [3456/10283 (33%)]\tLoss: 0.094865: : 27it [01:41,  3.65s/it]\u001b[A\n",
            "Train Epoch: 4 [3456/10283 (33%)]\tLoss: 0.094865: : 28it [01:41,  3.70s/it]\u001b[A\n",
            "Train Epoch: 4 [3584/10283 (35%)]\tLoss: 0.154817: : 28it [01:45,  3.70s/it]\u001b[A\n",
            "Train Epoch: 4 [3584/10283 (35%)]\tLoss: 0.154817: : 29it [01:45,  3.69s/it]\u001b[A\n",
            "Train Epoch: 4 [3712/10283 (36%)]\tLoss: 0.096925: : 29it [01:49,  3.69s/it]\u001b[A\n",
            "Train Epoch: 4 [3712/10283 (36%)]\tLoss: 0.096925: : 30it [01:49,  3.66s/it]\u001b[A\n",
            "Train Epoch: 4 [3840/10283 (37%)]\tLoss: 0.131820: : 30it [01:52,  3.66s/it]\u001b[A\n",
            "Train Epoch: 4 [3840/10283 (37%)]\tLoss: 0.131820: : 31it [01:52,  3.63s/it]\u001b[A\n",
            "Train Epoch: 4 [3968/10283 (38%)]\tLoss: 0.181322: : 31it [01:56,  3.63s/it]\u001b[A\n",
            "Train Epoch: 4 [3968/10283 (38%)]\tLoss: 0.181322: : 32it [01:56,  3.64s/it]\u001b[A\n",
            "Train Epoch: 4 [4096/10283 (40%)]\tLoss: 0.070974: : 32it [01:59,  3.64s/it]\u001b[A\n",
            "Train Epoch: 4 [4096/10283 (40%)]\tLoss: 0.070974: : 33it [01:59,  3.62s/it]\u001b[A\n",
            "Train Epoch: 4 [4224/10283 (41%)]\tLoss: 0.169498: : 33it [02:03,  3.62s/it]\u001b[A\n",
            "Train Epoch: 4 [4224/10283 (41%)]\tLoss: 0.169498: : 34it [02:03,  3.60s/it]\u001b[A\n",
            "Train Epoch: 4 [4352/10283 (42%)]\tLoss: 0.151655: : 34it [02:07,  3.60s/it]\u001b[A\n",
            "Train Epoch: 4 [4352/10283 (42%)]\tLoss: 0.151655: : 35it [02:07,  3.63s/it]\u001b[A\n",
            "Train Epoch: 4 [4480/10283 (43%)]\tLoss: 0.148671: : 35it [02:10,  3.63s/it]\u001b[A\n",
            "Train Epoch: 4 [4480/10283 (43%)]\tLoss: 0.148671: : 36it [02:10,  3.62s/it]\u001b[A\n",
            "Train Epoch: 4 [4608/10283 (44%)]\tLoss: 0.172353: : 36it [02:14,  3.62s/it]\u001b[A\n",
            "Train Epoch: 4 [4608/10283 (44%)]\tLoss: 0.172353: : 37it [02:14,  3.66s/it]\u001b[A\n",
            "Train Epoch: 4 [4736/10283 (46%)]\tLoss: 0.095859: : 37it [02:18,  3.66s/it]\u001b[A\n",
            "Train Epoch: 4 [4736/10283 (46%)]\tLoss: 0.095859: : 38it [02:18,  3.64s/it]\u001b[A\n",
            "Train Epoch: 4 [4864/10283 (47%)]\tLoss: 0.183940: : 38it [02:21,  3.64s/it]\u001b[A\n",
            "Train Epoch: 4 [4864/10283 (47%)]\tLoss: 0.183940: : 39it [02:21,  3.62s/it]\u001b[A\n",
            "Train Epoch: 4 [4992/10283 (48%)]\tLoss: 0.156286: : 39it [02:25,  3.62s/it]\u001b[A\n",
            "Train Epoch: 4 [4992/10283 (48%)]\tLoss: 0.156286: : 40it [02:25,  3.66s/it]\u001b[A\n",
            "Train Epoch: 4 [5120/10283 (49%)]\tLoss: 0.115708: : 40it [02:29,  3.66s/it]\u001b[A\n",
            "Train Epoch: 4 [5120/10283 (49%)]\tLoss: 0.115708: : 41it [02:29,  3.67s/it]\u001b[A\n",
            "Train Epoch: 4 [5248/10283 (51%)]\tLoss: 0.212357: : 41it [02:32,  3.67s/it]\u001b[A\n",
            "Train Epoch: 4 [5248/10283 (51%)]\tLoss: 0.212357: : 42it [02:32,  3.65s/it]\u001b[A\n",
            "Train Epoch: 4 [5376/10283 (52%)]\tLoss: 0.075051: : 42it [02:36,  3.65s/it]\u001b[A\n",
            "Train Epoch: 4 [5376/10283 (52%)]\tLoss: 0.075051: : 43it [02:36,  3.68s/it]\u001b[A\n",
            "Train Epoch: 4 [5504/10283 (53%)]\tLoss: 0.142516: : 43it [02:39,  3.68s/it]\u001b[A\n",
            "Train Epoch: 4 [5504/10283 (53%)]\tLoss: 0.142516: : 44it [02:39,  3.64s/it]\u001b[A\n",
            "Train Epoch: 4 [5632/10283 (54%)]\tLoss: 0.090148: : 44it [02:43,  3.64s/it]\u001b[A\n",
            "Train Epoch: 4 [5632/10283 (54%)]\tLoss: 0.090148: : 45it [02:43,  3.63s/it]\u001b[A\n",
            "Train Epoch: 4 [5760/10283 (56%)]\tLoss: 0.140269: : 45it [02:47,  3.63s/it]\u001b[A\n",
            "Train Epoch: 4 [5760/10283 (56%)]\tLoss: 0.140269: : 46it [02:47,  3.62s/it]\u001b[A\n",
            "Train Epoch: 4 [5888/10283 (57%)]\tLoss: 0.174301: : 46it [02:50,  3.62s/it]\u001b[A\n",
            "Train Epoch: 4 [5888/10283 (57%)]\tLoss: 0.174301: : 47it [02:50,  3.62s/it]\u001b[A\n",
            "Train Epoch: 4 [6016/10283 (58%)]\tLoss: 0.137635: : 47it [02:54,  3.62s/it]\u001b[A\n",
            "Train Epoch: 4 [6016/10283 (58%)]\tLoss: 0.137635: : 48it [02:54,  3.59s/it]\u001b[A\n",
            "Train Epoch: 4 [6144/10283 (59%)]\tLoss: 0.083593: : 48it [02:57,  3.59s/it]\u001b[A\n",
            "Train Epoch: 4 [6144/10283 (59%)]\tLoss: 0.083593: : 49it [02:57,  3.58s/it]\u001b[A\n",
            "Train Epoch: 4 [6272/10283 (60%)]\tLoss: 0.109625: : 49it [03:01,  3.58s/it]\u001b[A\n",
            "Train Epoch: 4 [6272/10283 (60%)]\tLoss: 0.109625: : 50it [03:01,  3.60s/it]\u001b[A\n",
            "Train Epoch: 4 [6400/10283 (62%)]\tLoss: 0.179364: : 50it [03:05,  3.60s/it]\u001b[A\n",
            "Train Epoch: 4 [6400/10283 (62%)]\tLoss: 0.179364: : 51it [03:05,  3.59s/it]\u001b[A\n",
            "Train Epoch: 4 [6528/10283 (63%)]\tLoss: 0.115547: : 51it [03:08,  3.59s/it]\u001b[A\n",
            "Train Epoch: 4 [6528/10283 (63%)]\tLoss: 0.115547: : 52it [03:08,  3.64s/it]\u001b[A\n",
            "Train Epoch: 4 [6656/10283 (64%)]\tLoss: 0.069586: : 52it [03:12,  3.64s/it]\u001b[A\n",
            "Train Epoch: 4 [6656/10283 (64%)]\tLoss: 0.069586: : 53it [03:12,  3.66s/it]\u001b[A\n",
            "Train Epoch: 4 [6784/10283 (65%)]\tLoss: 0.131381: : 53it [03:16,  3.66s/it]\u001b[A\n",
            "Train Epoch: 4 [6784/10283 (65%)]\tLoss: 0.131381: : 54it [03:16,  3.66s/it]\u001b[A\n",
            "Train Epoch: 4 [6912/10283 (67%)]\tLoss: 0.104884: : 54it [03:19,  3.66s/it]\u001b[A\n",
            "Train Epoch: 4 [6912/10283 (67%)]\tLoss: 0.104884: : 55it [03:19,  3.70s/it]\u001b[A\n",
            "Train Epoch: 4 [7040/10283 (68%)]\tLoss: 0.173715: : 55it [03:23,  3.70s/it]\u001b[A\n",
            "Train Epoch: 4 [7040/10283 (68%)]\tLoss: 0.173715: : 56it [03:23,  3.71s/it]\u001b[A\n",
            "Train Epoch: 4 [7168/10283 (69%)]\tLoss: 0.131035: : 56it [03:27,  3.71s/it]\u001b[A\n",
            "Train Epoch: 4 [7168/10283 (69%)]\tLoss: 0.131035: : 57it [03:27,  3.70s/it]\u001b[A\n",
            "Train Epoch: 4 [7296/10283 (70%)]\tLoss: 0.120643: : 57it [03:31,  3.70s/it]\u001b[A\n",
            "Train Epoch: 4 [7296/10283 (70%)]\tLoss: 0.120643: : 58it [03:31,  3.71s/it]\u001b[A\n",
            "Train Epoch: 4 [7424/10283 (72%)]\tLoss: 0.196808: : 58it [03:34,  3.71s/it]\u001b[A\n",
            "Train Epoch: 4 [7424/10283 (72%)]\tLoss: 0.196808: : 59it [03:34,  3.71s/it]\u001b[A\n",
            "Train Epoch: 4 [7552/10283 (73%)]\tLoss: 0.114604: : 59it [03:38,  3.71s/it]\u001b[A\n",
            "Train Epoch: 4 [7552/10283 (73%)]\tLoss: 0.114604: : 60it [03:38,  3.66s/it]\u001b[A\n",
            "Train Epoch: 4 [7680/10283 (74%)]\tLoss: 0.071957: : 60it [03:42,  3.66s/it]\u001b[A\n",
            "Train Epoch: 4 [7680/10283 (74%)]\tLoss: 0.071957: : 61it [03:42,  3.66s/it]\u001b[A\n",
            "Train Epoch: 4 [7808/10283 (75%)]\tLoss: 0.091339: : 61it [03:45,  3.66s/it]\u001b[A\n",
            "Train Epoch: 4 [7808/10283 (75%)]\tLoss: 0.091339: : 62it [03:45,  3.61s/it]\u001b[A\n",
            "Train Epoch: 4 [7936/10283 (77%)]\tLoss: 0.092670: : 62it [03:49,  3.61s/it]\u001b[A\n",
            "Train Epoch: 4 [7936/10283 (77%)]\tLoss: 0.092670: : 63it [03:49,  3.63s/it]\u001b[A\n",
            "Train Epoch: 4 [8064/10283 (78%)]\tLoss: 0.151657: : 63it [03:52,  3.63s/it]\u001b[A\n",
            "Train Epoch: 4 [8064/10283 (78%)]\tLoss: 0.151657: : 64it [03:52,  3.61s/it]\u001b[A\n",
            "Train Epoch: 4 [8192/10283 (79%)]\tLoss: 0.121579: : 64it [03:56,  3.61s/it]\u001b[A\n",
            "Train Epoch: 4 [8192/10283 (79%)]\tLoss: 0.121579: : 65it [03:56,  3.62s/it]\u001b[A\n",
            "Train Epoch: 4 [8320/10283 (80%)]\tLoss: 0.060187: : 65it [03:59,  3.62s/it]\u001b[A\n",
            "Train Epoch: 4 [8320/10283 (80%)]\tLoss: 0.060187: : 66it [03:59,  3.62s/it]\u001b[A\n",
            "Train Epoch: 4 [8448/10283 (81%)]\tLoss: 0.171645: : 66it [04:03,  3.62s/it]\u001b[A\n",
            "Train Epoch: 4 [8448/10283 (81%)]\tLoss: 0.171645: : 67it [04:03,  3.59s/it]\u001b[A\n",
            "Train Epoch: 4 [8576/10283 (83%)]\tLoss: 0.105136: : 67it [04:07,  3.59s/it]\u001b[A\n",
            "Train Epoch: 4 [8576/10283 (83%)]\tLoss: 0.105136: : 68it [04:07,  3.57s/it]\u001b[A\n",
            "Train Epoch: 4 [8704/10283 (84%)]\tLoss: 0.124354: : 68it [04:10,  3.57s/it]\u001b[A\n",
            "Train Epoch: 4 [8704/10283 (84%)]\tLoss: 0.124354: : 69it [04:10,  3.59s/it]\u001b[A\n",
            "Train Epoch: 4 [8832/10283 (85%)]\tLoss: 0.122542: : 69it [04:14,  3.59s/it]\u001b[A\n",
            "Train Epoch: 4 [8832/10283 (85%)]\tLoss: 0.122542: : 70it [04:14,  3.58s/it]\u001b[A\n",
            "Train Epoch: 4 [8960/10283 (86%)]\tLoss: 0.154291: : 70it [04:17,  3.58s/it]\u001b[A\n",
            "Train Epoch: 4 [8960/10283 (86%)]\tLoss: 0.154291: : 71it [04:17,  3.59s/it]\u001b[A\n",
            "Train Epoch: 4 [9088/10283 (88%)]\tLoss: 0.225282: : 71it [04:21,  3.59s/it]\u001b[A\n",
            "Train Epoch: 4 [9088/10283 (88%)]\tLoss: 0.225282: : 72it [04:21,  3.61s/it]\u001b[A\n",
            "Train Epoch: 4 [9216/10283 (89%)]\tLoss: 0.128356: : 72it [04:25,  3.61s/it]\u001b[A\n",
            "Train Epoch: 4 [9216/10283 (89%)]\tLoss: 0.128356: : 73it [04:25,  3.63s/it]\u001b[A\n",
            "Train Epoch: 4 [9344/10283 (90%)]\tLoss: 0.191556: : 73it [04:28,  3.63s/it]\u001b[A\n",
            "Train Epoch: 4 [9344/10283 (90%)]\tLoss: 0.191556: : 74it [04:28,  3.59s/it]\u001b[A\n",
            "Train Epoch: 4 [9472/10283 (91%)]\tLoss: 0.149091: : 74it [04:32,  3.59s/it]\u001b[A\n",
            "Train Epoch: 4 [9472/10283 (91%)]\tLoss: 0.149091: : 75it [04:32,  3.58s/it]\u001b[A\n",
            "Train Epoch: 4 [9600/10283 (93%)]\tLoss: 0.117882: : 75it [04:35,  3.58s/it]\u001b[A\n",
            "Train Epoch: 4 [9600/10283 (93%)]\tLoss: 0.117882: : 76it [04:35,  3.59s/it]\u001b[A\n",
            "Train Epoch: 4 [9728/10283 (94%)]\tLoss: 0.072308: : 76it [04:39,  3.59s/it]\u001b[A\n",
            "Train Epoch: 4 [9728/10283 (94%)]\tLoss: 0.072308: : 77it [04:39,  3.58s/it]\u001b[A\n",
            "Train Epoch: 4 [9856/10283 (95%)]\tLoss: 0.137623: : 77it [04:43,  3.58s/it]\u001b[A\n",
            "Train Epoch: 4 [9856/10283 (95%)]\tLoss: 0.137623: : 78it [04:43,  3.61s/it]\u001b[A\n",
            "Train Epoch: 4 [9984/10283 (96%)]\tLoss: 0.079025: : 78it [04:46,  3.61s/it]\u001b[A\n",
            "Train Epoch: 4 [9984/10283 (96%)]\tLoss: 0.079025: : 79it [04:46,  3.60s/it]\u001b[A\n",
            "Train Epoch: 4 [10112/10283 (98%)]\tLoss: 0.156923: : 79it [04:50,  3.60s/it]\u001b[A\n",
            "Train Epoch: 4 [10112/10283 (98%)]\tLoss: 0.156923: : 80it [04:50,  3.59s/it]\u001b[A\n",
            "Train Epoch: 4 [3440/10283 (99%)]\tLoss: 0.083971: : 80it [04:51,  3.59s/it] \u001b[A\n",
            "Train Epoch: 4 [3440/10283 (99%)]\tLoss: 0.083971: : 81it [04:51,  3.60s/it]\n",
            "\n",
            "0it [00:00, ?it/s]\u001b[A\n",
            "Train Epoch: 5 [0/10283 (0%)]\tLoss: 0.086556: : 0it [00:03, ?it/s]\u001b[A\n",
            "Train Epoch: 5 [0/10283 (0%)]\tLoss: 0.086556: : 1it [00:03,  3.58s/it]\u001b[A\n",
            "Train Epoch: 5 [128/10283 (1%)]\tLoss: 0.064779: : 1it [00:07,  3.58s/it]\u001b[A\n",
            "Train Epoch: 5 [128/10283 (1%)]\tLoss: 0.064779: : 2it [00:07,  3.59s/it]\u001b[A\n",
            "Train Epoch: 5 [256/10283 (2%)]\tLoss: 0.083241: : 2it [00:11,  3.59s/it]\u001b[A\n",
            "Train Epoch: 5 [256/10283 (2%)]\tLoss: 0.083241: : 3it [00:11,  3.67s/it]\u001b[A\n",
            "Train Epoch: 5 [384/10283 (4%)]\tLoss: 0.136866: : 3it [00:14,  3.67s/it]\u001b[A\n",
            "Train Epoch: 5 [384/10283 (4%)]\tLoss: 0.136866: : 4it [00:14,  3.64s/it]\u001b[A\n",
            "Train Epoch: 5 [512/10283 (5%)]\tLoss: 0.141895: : 4it [00:18,  3.64s/it]\u001b[A\n",
            "Train Epoch: 5 [512/10283 (5%)]\tLoss: 0.141895: : 5it [00:18,  3.61s/it]\u001b[A\n",
            "Train Epoch: 5 [640/10283 (6%)]\tLoss: 0.175456: : 5it [00:21,  3.61s/it]\u001b[A\n",
            "Train Epoch: 5 [640/10283 (6%)]\tLoss: 0.175456: : 6it [00:21,  3.59s/it]\u001b[A\n",
            "Train Epoch: 5 [768/10283 (7%)]\tLoss: 0.113943: : 6it [00:25,  3.59s/it]\u001b[A\n",
            "Train Epoch: 5 [768/10283 (7%)]\tLoss: 0.113943: : 7it [00:25,  3.60s/it]\u001b[A\n",
            "Train Epoch: 5 [896/10283 (9%)]\tLoss: 0.104476: : 7it [00:28,  3.60s/it]\u001b[A\n",
            "Train Epoch: 5 [896/10283 (9%)]\tLoss: 0.104476: : 8it [00:28,  3.59s/it]\u001b[A\n",
            "Train Epoch: 5 [1024/10283 (10%)]\tLoss: 0.100297: : 8it [00:32,  3.59s/it]\u001b[A\n",
            "Train Epoch: 5 [1024/10283 (10%)]\tLoss: 0.100297: : 9it [00:32,  3.67s/it]\u001b[A\n",
            "Train Epoch: 5 [1152/10283 (11%)]\tLoss: 0.078264: : 9it [00:36,  3.67s/it]\u001b[A\n",
            "Train Epoch: 5 [1152/10283 (11%)]\tLoss: 0.078264: : 10it [00:36,  3.65s/it]\u001b[A\n",
            "Train Epoch: 5 [1280/10283 (12%)]\tLoss: 0.116706: : 10it [00:39,  3.65s/it]\u001b[A\n",
            "Train Epoch: 5 [1280/10283 (12%)]\tLoss: 0.116706: : 11it [00:39,  3.62s/it]\u001b[A\n",
            "Train Epoch: 5 [1408/10283 (14%)]\tLoss: 0.144188: : 11it [00:43,  3.62s/it]\u001b[A\n",
            "Train Epoch: 5 [1408/10283 (14%)]\tLoss: 0.144188: : 12it [00:43,  3.62s/it]\u001b[A\n",
            "Train Epoch: 5 [1536/10283 (15%)]\tLoss: 0.128934: : 12it [00:47,  3.62s/it]\u001b[A\n",
            "Train Epoch: 5 [1536/10283 (15%)]\tLoss: 0.128934: : 13it [00:47,  3.61s/it]\u001b[A\n",
            "Train Epoch: 5 [1664/10283 (16%)]\tLoss: 0.065449: : 13it [00:50,  3.61s/it]\u001b[A\n",
            "Train Epoch: 5 [1664/10283 (16%)]\tLoss: 0.065449: : 14it [00:50,  3.60s/it]\u001b[A\n",
            "Train Epoch: 5 [1792/10283 (17%)]\tLoss: 0.083514: : 14it [00:54,  3.60s/it]\u001b[A\n",
            "Train Epoch: 5 [1792/10283 (17%)]\tLoss: 0.083514: : 15it [00:54,  3.60s/it]\u001b[A\n",
            "Train Epoch: 5 [1920/10283 (19%)]\tLoss: 0.090695: : 15it [00:57,  3.60s/it]\u001b[A\n",
            "Train Epoch: 5 [1920/10283 (19%)]\tLoss: 0.090695: : 16it [00:57,  3.60s/it]\u001b[A\n",
            "Train Epoch: 5 [2048/10283 (20%)]\tLoss: 0.085496: : 16it [01:01,  3.60s/it]\u001b[A\n",
            "Train Epoch: 5 [2048/10283 (20%)]\tLoss: 0.085496: : 17it [01:01,  3.62s/it]\u001b[A\n",
            "Train Epoch: 5 [2176/10283 (21%)]\tLoss: 0.070753: : 17it [01:05,  3.62s/it]\u001b[A\n",
            "Train Epoch: 5 [2176/10283 (21%)]\tLoss: 0.070753: : 18it [01:05,  3.63s/it]\u001b[A\n",
            "Train Epoch: 5 [2304/10283 (22%)]\tLoss: 0.164291: : 18it [01:08,  3.63s/it]\u001b[A\n",
            "Train Epoch: 5 [2304/10283 (22%)]\tLoss: 0.164291: : 19it [01:08,  3.62s/it]\u001b[A\n",
            "Train Epoch: 5 [2432/10283 (23%)]\tLoss: 0.114901: : 19it [01:12,  3.62s/it]\u001b[A\n",
            "Train Epoch: 5 [2432/10283 (23%)]\tLoss: 0.114901: : 20it [01:12,  3.60s/it]\u001b[A\n",
            "Train Epoch: 5 [2560/10283 (25%)]\tLoss: 0.091230: : 20it [01:15,  3.60s/it]\u001b[A\n",
            "Train Epoch: 5 [2560/10283 (25%)]\tLoss: 0.091230: : 21it [01:15,  3.61s/it]\u001b[A\n",
            "Train Epoch: 5 [2688/10283 (26%)]\tLoss: 0.121332: : 21it [01:19,  3.61s/it]\u001b[A\n",
            "Train Epoch: 5 [2688/10283 (26%)]\tLoss: 0.121332: : 22it [01:19,  3.61s/it]\u001b[A\n",
            "Train Epoch: 5 [2816/10283 (27%)]\tLoss: 0.086723: : 22it [01:23,  3.61s/it]\u001b[A\n",
            "Train Epoch: 5 [2816/10283 (27%)]\tLoss: 0.086723: : 23it [01:23,  3.61s/it]\u001b[A\n",
            "Train Epoch: 5 [2944/10283 (28%)]\tLoss: 0.111097: : 23it [01:26,  3.61s/it]\u001b[A\n",
            "Train Epoch: 5 [2944/10283 (28%)]\tLoss: 0.111097: : 24it [01:26,  3.59s/it]\u001b[A\n",
            "Train Epoch: 5 [3072/10283 (30%)]\tLoss: 0.065932: : 24it [01:30,  3.59s/it]\u001b[A\n",
            "Train Epoch: 5 [3072/10283 (30%)]\tLoss: 0.065932: : 25it [01:30,  3.59s/it]\u001b[A\n",
            "Train Epoch: 5 [3200/10283 (31%)]\tLoss: 0.079936: : 25it [01:34,  3.59s/it]\u001b[A\n",
            "Train Epoch: 5 [3200/10283 (31%)]\tLoss: 0.079936: : 26it [01:34,  3.66s/it]\u001b[A\n",
            "Train Epoch: 5 [3328/10283 (32%)]\tLoss: 0.052766: : 26it [01:37,  3.66s/it]\u001b[A\n",
            "Train Epoch: 5 [3328/10283 (32%)]\tLoss: 0.052766: : 27it [01:37,  3.63s/it]\u001b[A\n",
            "Train Epoch: 5 [3456/10283 (33%)]\tLoss: 0.091951: : 27it [01:41,  3.63s/it]\u001b[A\n",
            "Train Epoch: 5 [3456/10283 (33%)]\tLoss: 0.091951: : 28it [01:41,  3.63s/it]\u001b[A\n",
            "Train Epoch: 5 [3584/10283 (35%)]\tLoss: 0.137576: : 28it [01:44,  3.63s/it]\u001b[A\n",
            "Train Epoch: 5 [3584/10283 (35%)]\tLoss: 0.137576: : 29it [01:44,  3.60s/it]\u001b[A\n",
            "Train Epoch: 5 [3712/10283 (36%)]\tLoss: 0.063018: : 29it [01:48,  3.60s/it]\u001b[A\n",
            "Train Epoch: 5 [3712/10283 (36%)]\tLoss: 0.063018: : 30it [01:48,  3.62s/it]\u001b[A\n",
            "Train Epoch: 5 [3840/10283 (37%)]\tLoss: 0.052221: : 30it [01:52,  3.62s/it]\u001b[A\n",
            "Train Epoch: 5 [3840/10283 (37%)]\tLoss: 0.052221: : 31it [01:52,  3.62s/it]\u001b[A\n",
            "Train Epoch: 5 [3968/10283 (38%)]\tLoss: 0.139716: : 31it [01:56,  3.62s/it]\u001b[A\n",
            "Train Epoch: 5 [3968/10283 (38%)]\tLoss: 0.139716: : 32it [01:56,  3.70s/it]\u001b[A\n",
            "Train Epoch: 5 [4096/10283 (40%)]\tLoss: 0.091901: : 32it [01:59,  3.70s/it]\u001b[A\n",
            "Train Epoch: 5 [4096/10283 (40%)]\tLoss: 0.091901: : 33it [01:59,  3.67s/it]\u001b[A\n",
            "Train Epoch: 5 [4224/10283 (41%)]\tLoss: 0.152005: : 33it [02:03,  3.67s/it]\u001b[A\n",
            "Train Epoch: 5 [4224/10283 (41%)]\tLoss: 0.152005: : 34it [02:03,  3.66s/it]\u001b[A\n",
            "Train Epoch: 5 [4352/10283 (42%)]\tLoss: 0.072667: : 34it [02:06,  3.66s/it]\u001b[A\n",
            "Train Epoch: 5 [4352/10283 (42%)]\tLoss: 0.072667: : 35it [02:06,  3.67s/it]\u001b[A\n",
            "Train Epoch: 5 [4480/10283 (43%)]\tLoss: 0.070057: : 35it [02:10,  3.67s/it]\u001b[A\n",
            "Train Epoch: 5 [4480/10283 (43%)]\tLoss: 0.070057: : 36it [02:10,  3.64s/it]\u001b[A\n",
            "Train Epoch: 5 [4608/10283 (44%)]\tLoss: 0.179173: : 36it [02:14,  3.64s/it]\u001b[A\n",
            "Train Epoch: 5 [4608/10283 (44%)]\tLoss: 0.179173: : 37it [02:14,  3.66s/it]\u001b[A\n",
            "Train Epoch: 5 [4736/10283 (46%)]\tLoss: 0.056414: : 37it [02:18,  3.66s/it]\u001b[A\n",
            "Train Epoch: 5 [4736/10283 (46%)]\tLoss: 0.056414: : 38it [02:18,  3.70s/it]\u001b[A\n",
            "Train Epoch: 5 [4864/10283 (47%)]\tLoss: 0.094244: : 38it [02:21,  3.70s/it]\u001b[A\n",
            "Train Epoch: 5 [4864/10283 (47%)]\tLoss: 0.094244: : 39it [02:21,  3.66s/it]\u001b[A\n",
            "Train Epoch: 5 [4992/10283 (48%)]\tLoss: 0.136989: : 39it [02:25,  3.66s/it]\u001b[A\n",
            "Train Epoch: 5 [4992/10283 (48%)]\tLoss: 0.136989: : 40it [02:25,  3.66s/it]\u001b[A\n",
            "Train Epoch: 5 [5120/10283 (49%)]\tLoss: 0.084185: : 40it [02:29,  3.66s/it]\u001b[A\n",
            "Train Epoch: 5 [5120/10283 (49%)]\tLoss: 0.084185: : 41it [02:29,  3.70s/it]\u001b[A\n",
            "Train Epoch: 5 [5248/10283 (51%)]\tLoss: 0.133093: : 41it [02:32,  3.70s/it]\u001b[A\n",
            "Train Epoch: 5 [5248/10283 (51%)]\tLoss: 0.133093: : 42it [02:32,  3.72s/it]\u001b[A\n",
            "Train Epoch: 5 [5376/10283 (52%)]\tLoss: 0.117834: : 42it [02:36,  3.72s/it]\u001b[A\n",
            "Train Epoch: 5 [5376/10283 (52%)]\tLoss: 0.117834: : 43it [02:36,  3.69s/it]\u001b[A\n",
            "Train Epoch: 5 [5504/10283 (53%)]\tLoss: 0.081971: : 43it [02:40,  3.69s/it]\u001b[A\n",
            "Train Epoch: 5 [5504/10283 (53%)]\tLoss: 0.081971: : 44it [02:40,  3.69s/it]\u001b[A\n",
            "Train Epoch: 5 [5632/10283 (54%)]\tLoss: 0.105642: : 44it [02:43,  3.69s/it]\u001b[A\n",
            "Train Epoch: 5 [5632/10283 (54%)]\tLoss: 0.105642: : 45it [02:43,  3.72s/it]\u001b[A\n",
            "Train Epoch: 5 [5760/10283 (56%)]\tLoss: 0.106898: : 45it [02:47,  3.72s/it]\u001b[A\n",
            "Train Epoch: 5 [5760/10283 (56%)]\tLoss: 0.106898: : 46it [02:47,  3.71s/it]\u001b[A\n",
            "Train Epoch: 5 [5888/10283 (57%)]\tLoss: 0.083920: : 46it [02:51,  3.71s/it]\u001b[A\n",
            "Train Epoch: 5 [5888/10283 (57%)]\tLoss: 0.083920: : 47it [02:51,  3.67s/it]\u001b[A\n",
            "Train Epoch: 5 [6016/10283 (58%)]\tLoss: 0.153086: : 47it [02:54,  3.67s/it]\u001b[A\n",
            "Train Epoch: 5 [6016/10283 (58%)]\tLoss: 0.153086: : 48it [02:54,  3.66s/it]\u001b[A\n",
            "Train Epoch: 5 [6144/10283 (59%)]\tLoss: 0.105660: : 48it [02:58,  3.66s/it]\u001b[A\n",
            "Train Epoch: 5 [6144/10283 (59%)]\tLoss: 0.105660: : 49it [02:58,  3.66s/it]\u001b[A\n",
            "Train Epoch: 5 [6272/10283 (60%)]\tLoss: 0.115901: : 49it [03:02,  3.66s/it]\u001b[A\n",
            "Train Epoch: 5 [6272/10283 (60%)]\tLoss: 0.115901: : 50it [03:02,  3.64s/it]\u001b[A\n",
            "Train Epoch: 5 [6400/10283 (62%)]\tLoss: 0.115554: : 50it [03:05,  3.64s/it]\u001b[A\n",
            "Train Epoch: 5 [6400/10283 (62%)]\tLoss: 0.115554: : 51it [03:05,  3.64s/it]\u001b[A\n",
            "Train Epoch: 5 [6528/10283 (63%)]\tLoss: 0.074937: : 51it [03:09,  3.64s/it]\u001b[A\n",
            "Train Epoch: 5 [6528/10283 (63%)]\tLoss: 0.074937: : 52it [03:09,  3.64s/it]\u001b[A\n",
            "Train Epoch: 5 [6656/10283 (64%)]\tLoss: 0.150672: : 52it [03:13,  3.64s/it]\u001b[A\n",
            "Train Epoch: 5 [6656/10283 (64%)]\tLoss: 0.150672: : 53it [03:13,  3.65s/it]\u001b[A\n",
            "Train Epoch: 5 [6784/10283 (65%)]\tLoss: 0.094925: : 53it [03:16,  3.65s/it]\u001b[A\n",
            "Train Epoch: 5 [6784/10283 (65%)]\tLoss: 0.094925: : 54it [03:16,  3.62s/it]\u001b[A\n",
            "Train Epoch: 5 [6912/10283 (67%)]\tLoss: 0.046149: : 54it [03:20,  3.62s/it]\u001b[A\n",
            "Train Epoch: 5 [6912/10283 (67%)]\tLoss: 0.046149: : 55it [03:20,  3.63s/it]\u001b[A\n",
            "Train Epoch: 5 [7040/10283 (68%)]\tLoss: 0.127313: : 55it [03:23,  3.63s/it]\u001b[A\n",
            "Train Epoch: 5 [7040/10283 (68%)]\tLoss: 0.127313: : 56it [03:23,  3.63s/it]\u001b[A\n",
            "Train Epoch: 5 [7168/10283 (69%)]\tLoss: 0.101278: : 56it [03:27,  3.63s/it]\u001b[A\n",
            "Train Epoch: 5 [7168/10283 (69%)]\tLoss: 0.101278: : 57it [03:27,  3.63s/it]\u001b[A\n",
            "Train Epoch: 5 [7296/10283 (70%)]\tLoss: 0.101032: : 57it [03:31,  3.63s/it]\u001b[A\n",
            "Train Epoch: 5 [7296/10283 (70%)]\tLoss: 0.101032: : 58it [03:31,  3.62s/it]\u001b[A\n",
            "Train Epoch: 5 [7424/10283 (72%)]\tLoss: 0.136064: : 58it [03:34,  3.62s/it]\u001b[A\n",
            "Train Epoch: 5 [7424/10283 (72%)]\tLoss: 0.136064: : 59it [03:34,  3.61s/it]\u001b[A\n",
            "Train Epoch: 5 [7552/10283 (73%)]\tLoss: 0.097963: : 59it [03:38,  3.61s/it]\u001b[A\n",
            "Train Epoch: 5 [7552/10283 (73%)]\tLoss: 0.097963: : 60it [03:38,  3.63s/it]\u001b[A\n",
            "Train Epoch: 5 [7680/10283 (74%)]\tLoss: 0.144017: : 60it [03:42,  3.63s/it]\u001b[A\n",
            "Train Epoch: 5 [7680/10283 (74%)]\tLoss: 0.144017: : 61it [03:42,  3.65s/it]\u001b[A\n",
            "Train Epoch: 5 [7808/10283 (75%)]\tLoss: 0.129523: : 61it [03:45,  3.65s/it]\u001b[A\n",
            "Train Epoch: 5 [7808/10283 (75%)]\tLoss: 0.129523: : 62it [03:45,  3.70s/it]\u001b[A\n",
            "Train Epoch: 5 [7936/10283 (77%)]\tLoss: 0.074448: : 62it [03:49,  3.70s/it]\u001b[A\n",
            "Train Epoch: 5 [7936/10283 (77%)]\tLoss: 0.074448: : 63it [03:49,  3.73s/it]\u001b[A\n",
            "Train Epoch: 5 [8064/10283 (78%)]\tLoss: 0.065244: : 63it [03:53,  3.73s/it]\u001b[A\n",
            "Train Epoch: 5 [8064/10283 (78%)]\tLoss: 0.065244: : 64it [03:53,  3.74s/it]\u001b[A\n",
            "Train Epoch: 5 [8192/10283 (79%)]\tLoss: 0.111673: : 64it [03:57,  3.74s/it]\u001b[A\n",
            "Train Epoch: 5 [8192/10283 (79%)]\tLoss: 0.111673: : 65it [03:57,  3.71s/it]\u001b[A\n",
            "Train Epoch: 5 [8320/10283 (80%)]\tLoss: 0.123429: : 65it [04:00,  3.71s/it]\u001b[A\n",
            "Train Epoch: 5 [8320/10283 (80%)]\tLoss: 0.123429: : 66it [04:00,  3.69s/it]\u001b[A\n",
            "Train Epoch: 5 [8448/10283 (81%)]\tLoss: 0.093136: : 66it [04:04,  3.69s/it]\u001b[A\n",
            "Train Epoch: 5 [8448/10283 (81%)]\tLoss: 0.093136: : 67it [04:04,  3.67s/it]\u001b[A\n",
            "Train Epoch: 5 [8576/10283 (83%)]\tLoss: 0.100857: : 67it [04:07,  3.67s/it]\u001b[A\n",
            "Train Epoch: 5 [8576/10283 (83%)]\tLoss: 0.100857: : 68it [04:08,  3.66s/it]\u001b[A\n",
            "Train Epoch: 5 [8704/10283 (84%)]\tLoss: 0.056722: : 68it [04:11,  3.66s/it]\u001b[A\n",
            "Train Epoch: 5 [8704/10283 (84%)]\tLoss: 0.056722: : 69it [04:11,  3.66s/it]\u001b[A\n",
            "Train Epoch: 5 [8832/10283 (85%)]\tLoss: 0.087496: : 69it [04:15,  3.66s/it]\u001b[A\n",
            "Train Epoch: 5 [8832/10283 (85%)]\tLoss: 0.087496: : 70it [04:15,  3.71s/it]\u001b[A\n",
            "Train Epoch: 5 [8960/10283 (86%)]\tLoss: 0.095184: : 70it [04:19,  3.71s/it]\u001b[A\n",
            "Train Epoch: 5 [8960/10283 (86%)]\tLoss: 0.095184: : 71it [04:19,  3.70s/it]\u001b[A\n",
            "Train Epoch: 5 [9088/10283 (88%)]\tLoss: 0.131505: : 71it [04:22,  3.70s/it]\u001b[A\n",
            "Train Epoch: 5 [9088/10283 (88%)]\tLoss: 0.131505: : 72it [04:22,  3.68s/it]\u001b[A\n",
            "Train Epoch: 5 [9216/10283 (89%)]\tLoss: 0.067005: : 72it [04:26,  3.68s/it]\u001b[A\n",
            "Train Epoch: 5 [9216/10283 (89%)]\tLoss: 0.067005: : 73it [04:26,  3.65s/it]\u001b[A\n",
            "Train Epoch: 5 [9344/10283 (90%)]\tLoss: 0.089619: : 73it [04:30,  3.65s/it]\u001b[A\n",
            "Train Epoch: 5 [9344/10283 (90%)]\tLoss: 0.089619: : 74it [04:30,  3.66s/it]\u001b[A\n",
            "Train Epoch: 5 [9472/10283 (91%)]\tLoss: 0.131503: : 74it [04:33,  3.66s/it]\u001b[A\n",
            "Train Epoch: 5 [9472/10283 (91%)]\tLoss: 0.131503: : 75it [04:33,  3.64s/it]\u001b[A\n",
            "Train Epoch: 5 [9600/10283 (93%)]\tLoss: 0.077333: : 75it [04:37,  3.64s/it]\u001b[A\n",
            "Train Epoch: 5 [9600/10283 (93%)]\tLoss: 0.077333: : 76it [04:37,  3.65s/it]\u001b[A\n",
            "Train Epoch: 5 [9728/10283 (94%)]\tLoss: 0.066912: : 76it [04:40,  3.65s/it]\u001b[A\n",
            "Train Epoch: 5 [9728/10283 (94%)]\tLoss: 0.066912: : 77it [04:40,  3.63s/it]\u001b[A\n",
            "Train Epoch: 5 [9856/10283 (95%)]\tLoss: 0.103332: : 77it [04:44,  3.63s/it]\u001b[A\n",
            "Train Epoch: 5 [9856/10283 (95%)]\tLoss: 0.103332: : 78it [04:44,  3.65s/it]\u001b[A\n",
            "Train Epoch: 5 [9984/10283 (96%)]\tLoss: 0.115576: : 78it [04:48,  3.65s/it]\u001b[A\n",
            "Train Epoch: 5 [9984/10283 (96%)]\tLoss: 0.115576: : 79it [04:48,  3.65s/it]\u001b[A\n",
            "Train Epoch: 5 [10112/10283 (98%)]\tLoss: 0.088565: : 79it [04:52,  3.65s/it]\u001b[A\n",
            "Train Epoch: 5 [10112/10283 (98%)]\tLoss: 0.088565: : 80it [04:52,  3.74s/it]\u001b[A\n",
            "Train Epoch: 5 [3440/10283 (99%)]\tLoss: 0.182471: : 80it [04:53,  3.74s/it] \u001b[A\n",
            "Train Epoch: 5 [3440/10283 (99%)]\tLoss: 0.182471: : 81it [04:53,  3.62s/it]\n",
            "\n",
            "0it [00:00, ?it/s]\u001b[A\n",
            "Train Epoch: 6 [0/10283 (0%)]\tLoss: 0.063556: : 0it [00:03, ?it/s]\u001b[A\n",
            "Train Epoch: 6 [0/10283 (0%)]\tLoss: 0.063556: : 1it [00:03,  3.61s/it]\u001b[A\n",
            "Train Epoch: 6 [128/10283 (1%)]\tLoss: 0.066357: : 1it [00:07,  3.61s/it]\u001b[A\n",
            "Train Epoch: 6 [128/10283 (1%)]\tLoss: 0.066357: : 2it [00:07,  3.61s/it]\u001b[A\n",
            "Train Epoch: 6 [256/10283 (2%)]\tLoss: 0.084175: : 2it [00:10,  3.61s/it]\u001b[A\n",
            "Train Epoch: 6 [256/10283 (2%)]\tLoss: 0.084175: : 3it [00:10,  3.63s/it]\u001b[A\n",
            "Train Epoch: 6 [384/10283 (4%)]\tLoss: 0.069444: : 3it [00:14,  3.63s/it]\u001b[A\n",
            "Train Epoch: 6 [384/10283 (4%)]\tLoss: 0.069444: : 4it [00:14,  3.63s/it]\u001b[A\n",
            "Train Epoch: 6 [512/10283 (5%)]\tLoss: 0.081048: : 4it [00:18,  3.63s/it]\u001b[A\n",
            "Train Epoch: 6 [512/10283 (5%)]\tLoss: 0.081048: : 5it [00:18,  3.62s/it]\u001b[A\n",
            "Train Epoch: 6 [640/10283 (6%)]\tLoss: 0.051030: : 5it [00:21,  3.62s/it]\u001b[A\n",
            "Train Epoch: 6 [640/10283 (6%)]\tLoss: 0.051030: : 6it [00:21,  3.64s/it]\u001b[A\n",
            "Train Epoch: 6 [768/10283 (7%)]\tLoss: 0.116793: : 6it [00:25,  3.64s/it]\u001b[A\n",
            "Train Epoch: 6 [768/10283 (7%)]\tLoss: 0.116793: : 7it [00:25,  3.67s/it]\u001b[A\n",
            "Train Epoch: 6 [896/10283 (9%)]\tLoss: 0.051296: : 7it [00:29,  3.67s/it]\u001b[A\n",
            "Train Epoch: 6 [896/10283 (9%)]\tLoss: 0.051296: : 8it [00:29,  3.70s/it]\u001b[A\n",
            "Train Epoch: 6 [1024/10283 (10%)]\tLoss: 0.112144: : 8it [00:32,  3.70s/it]\u001b[A\n",
            "Train Epoch: 6 [1024/10283 (10%)]\tLoss: 0.112144: : 9it [00:32,  3.68s/it]\u001b[A\n",
            "Train Epoch: 6 [1152/10283 (11%)]\tLoss: 0.048356: : 9it [00:36,  3.68s/it]\u001b[A\n",
            "Train Epoch: 6 [1152/10283 (11%)]\tLoss: 0.048356: : 10it [00:36,  3.67s/it]\u001b[A\n",
            "Train Epoch: 6 [1280/10283 (12%)]\tLoss: 0.055514: : 10it [00:40,  3.67s/it]\u001b[A\n",
            "Train Epoch: 6 [1280/10283 (12%)]\tLoss: 0.055514: : 11it [00:40,  3.64s/it]\u001b[A\n",
            "Train Epoch: 6 [1408/10283 (14%)]\tLoss: 0.077797: : 11it [00:43,  3.64s/it]\u001b[A\n",
            "Train Epoch: 6 [1408/10283 (14%)]\tLoss: 0.077797: : 12it [00:43,  3.64s/it]\u001b[A\n",
            "Train Epoch: 6 [1536/10283 (15%)]\tLoss: 0.087121: : 12it [00:47,  3.64s/it]\u001b[A\n",
            "Train Epoch: 6 [1536/10283 (15%)]\tLoss: 0.087121: : 13it [00:47,  3.65s/it]\u001b[A\n",
            "Train Epoch: 6 [1664/10283 (16%)]\tLoss: 0.106403: : 13it [00:51,  3.65s/it]\u001b[A\n",
            "Train Epoch: 6 [1664/10283 (16%)]\tLoss: 0.106403: : 14it [00:51,  3.65s/it]\u001b[A\n",
            "Train Epoch: 6 [1792/10283 (17%)]\tLoss: 0.099190: : 14it [00:54,  3.65s/it]\u001b[A\n",
            "Train Epoch: 6 [1792/10283 (17%)]\tLoss: 0.099190: : 15it [00:54,  3.64s/it]\u001b[A\n",
            "Train Epoch: 6 [1920/10283 (19%)]\tLoss: 0.078755: : 15it [00:58,  3.64s/it]\u001b[A\n",
            "Train Epoch: 6 [1920/10283 (19%)]\tLoss: 0.078755: : 16it [00:58,  3.62s/it]\u001b[A\n",
            "Train Epoch: 6 [2048/10283 (20%)]\tLoss: 0.073100: : 16it [01:02,  3.62s/it]\u001b[A\n",
            "Train Epoch: 6 [2048/10283 (20%)]\tLoss: 0.073100: : 17it [01:02,  3.66s/it]\u001b[A\n",
            "Train Epoch: 6 [2176/10283 (21%)]\tLoss: 0.090149: : 17it [01:05,  3.66s/it]\u001b[A\n",
            "Train Epoch: 6 [2176/10283 (21%)]\tLoss: 0.090149: : 18it [01:05,  3.69s/it]\u001b[A\n",
            "Train Epoch: 6 [2304/10283 (22%)]\tLoss: 0.124514: : 18it [01:09,  3.69s/it]\u001b[A\n",
            "Train Epoch: 6 [2304/10283 (22%)]\tLoss: 0.124514: : 19it [01:09,  3.69s/it]\u001b[A\n",
            "Train Epoch: 6 [2432/10283 (23%)]\tLoss: 0.061066: : 19it [01:13,  3.69s/it]\u001b[A\n",
            "Train Epoch: 6 [2432/10283 (23%)]\tLoss: 0.061066: : 20it [01:13,  3.69s/it]\u001b[A\n",
            "Train Epoch: 6 [2560/10283 (25%)]\tLoss: 0.114251: : 20it [01:16,  3.69s/it]\u001b[A\n",
            "Train Epoch: 6 [2560/10283 (25%)]\tLoss: 0.114251: : 21it [01:16,  3.67s/it]\u001b[A\n",
            "Train Epoch: 6 [2688/10283 (26%)]\tLoss: 0.083492: : 21it [01:20,  3.67s/it]\u001b[A\n",
            "Train Epoch: 6 [2688/10283 (26%)]\tLoss: 0.083492: : 22it [01:20,  3.72s/it]\u001b[A\n",
            "Train Epoch: 6 [2816/10283 (27%)]\tLoss: 0.098691: : 22it [01:24,  3.72s/it]\u001b[A\n",
            "Train Epoch: 6 [2816/10283 (27%)]\tLoss: 0.098691: : 23it [01:24,  3.70s/it]\u001b[A\n",
            "Train Epoch: 6 [2944/10283 (28%)]\tLoss: 0.110866: : 23it [01:28,  3.70s/it]\u001b[A\n",
            "Train Epoch: 6 [2944/10283 (28%)]\tLoss: 0.110866: : 24it [01:28,  3.71s/it]\u001b[A\n",
            "Train Epoch: 6 [3072/10283 (30%)]\tLoss: 0.085527: : 24it [01:31,  3.71s/it]\u001b[A\n",
            "Train Epoch: 6 [3072/10283 (30%)]\tLoss: 0.085527: : 25it [01:31,  3.70s/it]\u001b[A\n",
            "Train Epoch: 6 [3200/10283 (31%)]\tLoss: 0.070519: : 25it [01:35,  3.70s/it]\u001b[A\n",
            "Train Epoch: 6 [3200/10283 (31%)]\tLoss: 0.070519: : 26it [01:35,  3.69s/it]\u001b[A\n",
            "Train Epoch: 6 [3328/10283 (32%)]\tLoss: 0.143102: : 26it [01:39,  3.69s/it]\u001b[A\n",
            "Train Epoch: 6 [3328/10283 (32%)]\tLoss: 0.143102: : 27it [01:39,  3.66s/it]\u001b[A\n",
            "Train Epoch: 6 [3456/10283 (33%)]\tLoss: 0.083001: : 27it [01:42,  3.66s/it]\u001b[A\n",
            "Train Epoch: 6 [3456/10283 (33%)]\tLoss: 0.083001: : 28it [01:42,  3.68s/it]\u001b[A\n",
            "Train Epoch: 6 [3584/10283 (35%)]\tLoss: 0.082422: : 28it [01:46,  3.68s/it]\u001b[A\n",
            "Train Epoch: 6 [3584/10283 (35%)]\tLoss: 0.082422: : 29it [01:46,  3.65s/it]\u001b[A\n",
            "Train Epoch: 6 [3712/10283 (36%)]\tLoss: 0.072082: : 29it [01:49,  3.65s/it]\u001b[A\n",
            "Train Epoch: 6 [3712/10283 (36%)]\tLoss: 0.072082: : 30it [01:49,  3.65s/it]\u001b[A\n",
            "Train Epoch: 6 [3840/10283 (37%)]\tLoss: 0.072364: : 30it [01:53,  3.65s/it]\u001b[A\n",
            "Train Epoch: 6 [3840/10283 (37%)]\tLoss: 0.072364: : 31it [01:53,  3.66s/it]\u001b[A\n",
            "Train Epoch: 6 [3968/10283 (38%)]\tLoss: 0.066303: : 31it [01:57,  3.66s/it]\u001b[A\n",
            "Train Epoch: 6 [3968/10283 (38%)]\tLoss: 0.066303: : 32it [01:57,  3.66s/it]\u001b[A\n",
            "Train Epoch: 6 [4096/10283 (40%)]\tLoss: 0.075580: : 32it [02:00,  3.66s/it]\u001b[A\n",
            "Train Epoch: 6 [4096/10283 (40%)]\tLoss: 0.075580: : 33it [02:00,  3.64s/it]\u001b[A\n",
            "Train Epoch: 6 [4224/10283 (41%)]\tLoss: 0.071210: : 33it [02:04,  3.64s/it]\u001b[A\n",
            "Train Epoch: 6 [4224/10283 (41%)]\tLoss: 0.071210: : 34it [02:04,  3.70s/it]\u001b[A\n",
            "Train Epoch: 6 [4352/10283 (42%)]\tLoss: 0.041927: : 34it [02:08,  3.70s/it]\u001b[A\n",
            "Train Epoch: 6 [4352/10283 (42%)]\tLoss: 0.041927: : 35it [02:08,  3.83s/it]\u001b[A\n",
            "Train Epoch: 6 [4480/10283 (43%)]\tLoss: 0.090282: : 35it [02:12,  3.83s/it]\u001b[A\n",
            "Train Epoch: 6 [4480/10283 (43%)]\tLoss: 0.090282: : 36it [02:12,  3.77s/it]\u001b[A\n",
            "Train Epoch: 6 [4608/10283 (44%)]\tLoss: 0.102217: : 36it [02:16,  3.77s/it]\u001b[A\n",
            "Train Epoch: 6 [4608/10283 (44%)]\tLoss: 0.102217: : 37it [02:16,  3.73s/it]\u001b[A\n",
            "Train Epoch: 6 [4736/10283 (46%)]\tLoss: 0.079529: : 37it [02:19,  3.73s/it]\u001b[A\n",
            "Train Epoch: 6 [4736/10283 (46%)]\tLoss: 0.079529: : 38it [02:19,  3.69s/it]\u001b[A\n",
            "Train Epoch: 6 [4864/10283 (47%)]\tLoss: 0.122245: : 38it [02:23,  3.69s/it]\u001b[A\n",
            "Train Epoch: 6 [4864/10283 (47%)]\tLoss: 0.122245: : 39it [02:23,  3.68s/it]\u001b[A\n",
            "Train Epoch: 6 [4992/10283 (48%)]\tLoss: 0.085090: : 39it [02:27,  3.68s/it]\u001b[A\n",
            "Train Epoch: 6 [4992/10283 (48%)]\tLoss: 0.085090: : 40it [02:27,  3.71s/it]\u001b[A\n",
            "Train Epoch: 6 [5120/10283 (49%)]\tLoss: 0.052975: : 40it [02:30,  3.71s/it]\u001b[A\n",
            "Train Epoch: 6 [5120/10283 (49%)]\tLoss: 0.052975: : 41it [02:30,  3.68s/it]\u001b[A\n",
            "Train Epoch: 6 [5248/10283 (51%)]\tLoss: 0.059534: : 41it [02:34,  3.68s/it]\u001b[A\n",
            "Train Epoch: 6 [5248/10283 (51%)]\tLoss: 0.059534: : 42it [02:34,  3.66s/it]\u001b[A\n",
            "Train Epoch: 6 [5376/10283 (52%)]\tLoss: 0.084040: : 42it [02:37,  3.66s/it]\u001b[A\n",
            "Train Epoch: 6 [5376/10283 (52%)]\tLoss: 0.084040: : 43it [02:37,  3.63s/it]\u001b[A\n",
            "Train Epoch: 6 [5504/10283 (53%)]\tLoss: 0.051782: : 43it [02:41,  3.63s/it]\u001b[A\n",
            "Train Epoch: 6 [5504/10283 (53%)]\tLoss: 0.051782: : 44it [02:41,  3.63s/it]\u001b[A\n",
            "Train Epoch: 6 [5632/10283 (54%)]\tLoss: 0.096484: : 44it [02:45,  3.63s/it]\u001b[A\n",
            "Train Epoch: 6 [5632/10283 (54%)]\tLoss: 0.096484: : 45it [02:45,  3.67s/it]\u001b[A\n",
            "Train Epoch: 6 [5760/10283 (56%)]\tLoss: 0.056481: : 45it [02:49,  3.67s/it]\u001b[A\n",
            "Train Epoch: 6 [5760/10283 (56%)]\tLoss: 0.056481: : 46it [02:49,  3.69s/it]\u001b[A\n",
            "Train Epoch: 6 [5888/10283 (57%)]\tLoss: 0.115372: : 46it [02:52,  3.69s/it]\u001b[A\n",
            "Train Epoch: 6 [5888/10283 (57%)]\tLoss: 0.115372: : 47it [02:52,  3.66s/it]\u001b[A\n",
            "Train Epoch: 6 [6016/10283 (58%)]\tLoss: 0.081957: : 47it [02:56,  3.66s/it]\u001b[A\n",
            "Train Epoch: 6 [6016/10283 (58%)]\tLoss: 0.081957: : 48it [02:56,  3.65s/it]\u001b[A\n",
            "Train Epoch: 6 [6144/10283 (59%)]\tLoss: 0.119626: : 48it [03:00,  3.65s/it]\u001b[A\n",
            "Train Epoch: 6 [6144/10283 (59%)]\tLoss: 0.119626: : 49it [03:00,  3.72s/it]\u001b[A\n",
            "Train Epoch: 6 [6272/10283 (60%)]\tLoss: 0.065334: : 49it [03:03,  3.72s/it]\u001b[A\n",
            "Train Epoch: 6 [6272/10283 (60%)]\tLoss: 0.065334: : 50it [03:03,  3.73s/it]\u001b[A\n",
            "Train Epoch: 6 [6400/10283 (62%)]\tLoss: 0.050971: : 50it [03:07,  3.73s/it]\u001b[A\n",
            "Train Epoch: 6 [6400/10283 (62%)]\tLoss: 0.050971: : 51it [03:07,  3.69s/it]\u001b[A\n",
            "Train Epoch: 6 [6528/10283 (63%)]\tLoss: 0.041094: : 51it [03:11,  3.69s/it]\u001b[A\n",
            "Train Epoch: 6 [6528/10283 (63%)]\tLoss: 0.041094: : 52it [03:11,  3.69s/it]\u001b[A\n",
            "Train Epoch: 6 [6656/10283 (64%)]\tLoss: 0.081726: : 52it [03:15,  3.69s/it]\u001b[A\n",
            "Train Epoch: 6 [6656/10283 (64%)]\tLoss: 0.081726: : 53it [03:15,  3.72s/it]\u001b[A\n",
            "Train Epoch: 6 [6784/10283 (65%)]\tLoss: 0.093468: : 53it [03:18,  3.72s/it]\u001b[A\n",
            "Train Epoch: 6 [6784/10283 (65%)]\tLoss: 0.093468: : 54it [03:18,  3.70s/it]\u001b[A\n",
            "Train Epoch: 6 [6912/10283 (67%)]\tLoss: 0.058998: : 54it [03:22,  3.70s/it]\u001b[A\n",
            "Train Epoch: 6 [6912/10283 (67%)]\tLoss: 0.058998: : 55it [03:22,  3.68s/it]\u001b[A\n",
            "Train Epoch: 6 [7040/10283 (68%)]\tLoss: 0.100054: : 55it [03:25,  3.68s/it]\u001b[A\n",
            "Train Epoch: 6 [7040/10283 (68%)]\tLoss: 0.100054: : 56it [03:25,  3.65s/it]\u001b[A\n",
            "Train Epoch: 6 [7168/10283 (69%)]\tLoss: 0.053215: : 56it [03:29,  3.65s/it]\u001b[A\n",
            "Train Epoch: 6 [7168/10283 (69%)]\tLoss: 0.053215: : 57it [03:29,  3.62s/it]\u001b[A\n",
            "Train Epoch: 6 [7296/10283 (70%)]\tLoss: 0.072646: : 57it [03:33,  3.62s/it]\u001b[A\n",
            "Train Epoch: 6 [7296/10283 (70%)]\tLoss: 0.072646: : 58it [03:33,  3.65s/it]\u001b[A\n",
            "Train Epoch: 6 [7424/10283 (72%)]\tLoss: 0.090082: : 58it [03:36,  3.65s/it]\u001b[A\n",
            "Train Epoch: 6 [7424/10283 (72%)]\tLoss: 0.090082: : 59it [03:36,  3.61s/it]\u001b[A\n",
            "Train Epoch: 6 [7552/10283 (73%)]\tLoss: 0.089731: : 59it [03:40,  3.61s/it]\u001b[A\n",
            "Train Epoch: 6 [7552/10283 (73%)]\tLoss: 0.089731: : 60it [03:40,  3.60s/it]\u001b[A\n",
            "Train Epoch: 6 [7680/10283 (74%)]\tLoss: 0.043431: : 60it [03:43,  3.60s/it]\u001b[A\n",
            "Train Epoch: 6 [7680/10283 (74%)]\tLoss: 0.043431: : 61it [03:43,  3.61s/it]\u001b[A\n",
            "Train Epoch: 6 [7808/10283 (75%)]\tLoss: 0.049845: : 61it [03:47,  3.61s/it]\u001b[A\n",
            "Train Epoch: 6 [7808/10283 (75%)]\tLoss: 0.049845: : 62it [03:47,  3.62s/it]\u001b[A\n",
            "Train Epoch: 6 [7936/10283 (77%)]\tLoss: 0.085877: : 62it [03:51,  3.62s/it]\u001b[A\n",
            "Train Epoch: 6 [7936/10283 (77%)]\tLoss: 0.085877: : 63it [03:51,  3.62s/it]\u001b[A\n",
            "Train Epoch: 6 [8064/10283 (78%)]\tLoss: 0.105904: : 63it [03:54,  3.62s/it]\u001b[A\n",
            "Train Epoch: 6 [8064/10283 (78%)]\tLoss: 0.105904: : 64it [03:54,  3.64s/it]\u001b[A\n",
            "Train Epoch: 6 [8192/10283 (79%)]\tLoss: 0.070403: : 64it [03:58,  3.64s/it]\u001b[A\n",
            "Train Epoch: 6 [8192/10283 (79%)]\tLoss: 0.070403: : 65it [03:58,  3.61s/it]\u001b[A\n",
            "Train Epoch: 6 [8320/10283 (80%)]\tLoss: 0.117151: : 65it [04:02,  3.61s/it]\u001b[A\n",
            "Train Epoch: 6 [8320/10283 (80%)]\tLoss: 0.117151: : 66it [04:02,  3.66s/it]\u001b[A\n",
            "Train Epoch: 6 [8448/10283 (81%)]\tLoss: 0.081886: : 66it [04:05,  3.66s/it]\u001b[A\n",
            "Train Epoch: 6 [8448/10283 (81%)]\tLoss: 0.081886: : 67it [04:05,  3.71s/it]\u001b[A\n",
            "Train Epoch: 6 [8576/10283 (83%)]\tLoss: 0.080836: : 67it [04:09,  3.71s/it]\u001b[A\n",
            "Train Epoch: 6 [8576/10283 (83%)]\tLoss: 0.080836: : 68it [04:09,  3.72s/it]\u001b[A\n",
            "Train Epoch: 6 [8704/10283 (84%)]\tLoss: 0.093695: : 68it [04:13,  3.72s/it]\u001b[A\n",
            "Train Epoch: 6 [8704/10283 (84%)]\tLoss: 0.093695: : 69it [04:13,  3.68s/it]\u001b[A\n",
            "Train Epoch: 6 [8832/10283 (85%)]\tLoss: 0.061121: : 69it [04:16,  3.68s/it]\u001b[A\n",
            "Train Epoch: 6 [8832/10283 (85%)]\tLoss: 0.061121: : 70it [04:16,  3.65s/it]\u001b[A\n",
            "Train Epoch: 6 [8960/10283 (86%)]\tLoss: 0.073247: : 70it [04:20,  3.65s/it]\u001b[A\n",
            "Train Epoch: 6 [8960/10283 (86%)]\tLoss: 0.073247: : 71it [04:20,  3.66s/it]\u001b[A\n",
            "Train Epoch: 6 [9088/10283 (88%)]\tLoss: 0.049993: : 71it [04:24,  3.66s/it]\u001b[A\n",
            "Train Epoch: 6 [9088/10283 (88%)]\tLoss: 0.049993: : 72it [04:24,  3.66s/it]\u001b[A\n",
            "Train Epoch: 6 [9216/10283 (89%)]\tLoss: 0.084642: : 72it [04:27,  3.66s/it]\u001b[A\n",
            "Train Epoch: 6 [9216/10283 (89%)]\tLoss: 0.084642: : 73it [04:27,  3.66s/it]\u001b[A\n",
            "Train Epoch: 6 [9344/10283 (90%)]\tLoss: 0.051102: : 73it [04:31,  3.66s/it]\u001b[A\n",
            "Train Epoch: 6 [9344/10283 (90%)]\tLoss: 0.051102: : 74it [04:31,  3.62s/it]\u001b[A\n",
            "Train Epoch: 6 [9472/10283 (91%)]\tLoss: 0.079185: : 74it [04:35,  3.62s/it]\u001b[A\n",
            "Train Epoch: 6 [9472/10283 (91%)]\tLoss: 0.079185: : 75it [04:35,  3.62s/it]\u001b[A\n",
            "Train Epoch: 6 [9600/10283 (93%)]\tLoss: 0.098118: : 75it [04:38,  3.62s/it]\u001b[A\n",
            "Train Epoch: 6 [9600/10283 (93%)]\tLoss: 0.098118: : 76it [04:38,  3.65s/it]\u001b[A\n",
            "Train Epoch: 6 [9728/10283 (94%)]\tLoss: 0.044942: : 76it [04:42,  3.65s/it]\u001b[A\n",
            "Train Epoch: 6 [9728/10283 (94%)]\tLoss: 0.044942: : 77it [04:42,  3.65s/it]\u001b[A\n",
            "Train Epoch: 6 [9856/10283 (95%)]\tLoss: 0.049362: : 77it [04:46,  3.65s/it]\u001b[A\n",
            "Train Epoch: 6 [9856/10283 (95%)]\tLoss: 0.049362: : 78it [04:46,  3.72s/it]\u001b[A\n",
            "Train Epoch: 6 [9984/10283 (96%)]\tLoss: 0.090827: : 78it [04:50,  3.72s/it]\u001b[A\n",
            "Train Epoch: 6 [9984/10283 (96%)]\tLoss: 0.090827: : 79it [04:50,  3.73s/it]\u001b[A\n",
            "Train Epoch: 6 [10112/10283 (98%)]\tLoss: 0.080377: : 79it [04:53,  3.73s/it]\u001b[A\n",
            "Train Epoch: 6 [10112/10283 (98%)]\tLoss: 0.080377: : 80it [04:53,  3.69s/it]\u001b[A\n",
            "Train Epoch: 6 [3440/10283 (99%)]\tLoss: 0.152193: : 80it [04:54,  3.69s/it] \u001b[A\n",
            "Train Epoch: 6 [3440/10283 (99%)]\tLoss: 0.152193: : 81it [04:54,  3.64s/it]\n",
            "\n",
            "0it [00:00, ?it/s]\u001b[A\n",
            "Train Epoch: 7 [0/10283 (0%)]\tLoss: 0.080539: : 0it [00:03, ?it/s]\u001b[A\n",
            "Train Epoch: 7 [0/10283 (0%)]\tLoss: 0.080539: : 1it [00:03,  3.63s/it]\u001b[A\n",
            "Train Epoch: 7 [128/10283 (1%)]\tLoss: 0.043948: : 1it [00:07,  3.63s/it]\u001b[A\n",
            "Train Epoch: 7 [128/10283 (1%)]\tLoss: 0.043948: : 2it [00:07,  3.68s/it]\u001b[A\n",
            "Train Epoch: 7 [256/10283 (2%)]\tLoss: 0.052905: : 2it [00:11,  3.68s/it]\u001b[A\n",
            "Train Epoch: 7 [256/10283 (2%)]\tLoss: 0.052905: : 3it [00:11,  3.70s/it]\u001b[A\n",
            "Train Epoch: 7 [384/10283 (4%)]\tLoss: 0.059462: : 3it [00:14,  3.70s/it]\u001b[A\n",
            "Train Epoch: 7 [384/10283 (4%)]\tLoss: 0.059462: : 4it [00:14,  3.72s/it]\u001b[A\n",
            "Train Epoch: 7 [512/10283 (5%)]\tLoss: 0.059459: : 4it [00:18,  3.72s/it]\u001b[A\n",
            "Train Epoch: 7 [512/10283 (5%)]\tLoss: 0.059459: : 5it [00:18,  3.67s/it]\u001b[A\n",
            "Train Epoch: 7 [640/10283 (6%)]\tLoss: 0.040757: : 5it [00:22,  3.67s/it]\u001b[A\n",
            "Train Epoch: 7 [640/10283 (6%)]\tLoss: 0.040757: : 6it [00:22,  3.63s/it]\u001b[A\n",
            "Train Epoch: 7 [768/10283 (7%)]\tLoss: 0.038884: : 6it [00:25,  3.63s/it]\u001b[A\n",
            "Train Epoch: 7 [768/10283 (7%)]\tLoss: 0.038884: : 7it [00:25,  3.59s/it]\u001b[A\n",
            "Train Epoch: 7 [896/10283 (9%)]\tLoss: 0.093014: : 7it [00:29,  3.59s/it]\u001b[A\n",
            "Train Epoch: 7 [896/10283 (9%)]\tLoss: 0.093014: : 8it [00:29,  3.57s/it]\u001b[A\n",
            "Train Epoch: 7 [1024/10283 (10%)]\tLoss: 0.054776: : 8it [00:32,  3.57s/it]\u001b[A\n",
            "Train Epoch: 7 [1024/10283 (10%)]\tLoss: 0.054776: : 9it [00:32,  3.57s/it]\u001b[A\n",
            "Train Epoch: 7 [1152/10283 (11%)]\tLoss: 0.061511: : 9it [00:36,  3.57s/it]\u001b[A\n",
            "Train Epoch: 7 [1152/10283 (11%)]\tLoss: 0.061511: : 10it [00:36,  3.59s/it]\u001b[A\n",
            "Train Epoch: 7 [1280/10283 (12%)]\tLoss: 0.043219: : 10it [00:40,  3.59s/it]\u001b[A\n",
            "Train Epoch: 7 [1280/10283 (12%)]\tLoss: 0.043219: : 11it [00:40,  3.65s/it]\u001b[A\n",
            "Train Epoch: 7 [1408/10283 (14%)]\tLoss: 0.068332: : 11it [00:43,  3.65s/it]\u001b[A\n",
            "Train Epoch: 7 [1408/10283 (14%)]\tLoss: 0.068332: : 12it [00:43,  3.67s/it]\u001b[A\n",
            "Train Epoch: 7 [1536/10283 (15%)]\tLoss: 0.078112: : 12it [00:47,  3.67s/it]\u001b[A\n",
            "Train Epoch: 7 [1536/10283 (15%)]\tLoss: 0.078112: : 13it [00:47,  3.63s/it]\u001b[A\n",
            "Train Epoch: 7 [1664/10283 (16%)]\tLoss: 0.037348: : 13it [00:50,  3.63s/it]\u001b[A\n",
            "Train Epoch: 7 [1664/10283 (16%)]\tLoss: 0.037348: : 14it [00:50,  3.62s/it]\u001b[A\n",
            "Train Epoch: 7 [1792/10283 (17%)]\tLoss: 0.080360: : 14it [00:54,  3.62s/it]\u001b[A\n",
            "Train Epoch: 7 [1792/10283 (17%)]\tLoss: 0.080360: : 15it [00:54,  3.62s/it]\u001b[A\n",
            "Train Epoch: 7 [1920/10283 (19%)]\tLoss: 0.052742: : 15it [00:58,  3.62s/it]\u001b[A\n",
            "Train Epoch: 7 [1920/10283 (19%)]\tLoss: 0.052742: : 16it [00:58,  3.63s/it]\u001b[A\n",
            "Train Epoch: 7 [2048/10283 (20%)]\tLoss: 0.072838: : 16it [01:01,  3.63s/it]\u001b[A\n",
            "Train Epoch: 7 [2048/10283 (20%)]\tLoss: 0.072838: : 17it [01:01,  3.62s/it]\u001b[A\n",
            "Train Epoch: 7 [2176/10283 (21%)]\tLoss: 0.061233: : 17it [01:05,  3.62s/it]\u001b[A\n",
            "Train Epoch: 7 [2176/10283 (21%)]\tLoss: 0.061233: : 18it [01:05,  3.62s/it]\u001b[A\n",
            "Train Epoch: 7 [2304/10283 (22%)]\tLoss: 0.050589: : 18it [01:09,  3.62s/it]\u001b[A\n",
            "Train Epoch: 7 [2304/10283 (22%)]\tLoss: 0.050589: : 19it [01:09,  3.64s/it]\u001b[A\n",
            "Train Epoch: 7 [2432/10283 (23%)]\tLoss: 0.054287: : 19it [01:12,  3.64s/it]\u001b[A\n",
            "Train Epoch: 7 [2432/10283 (23%)]\tLoss: 0.054287: : 20it [01:12,  3.63s/it]\u001b[A\n",
            "Train Epoch: 7 [2560/10283 (25%)]\tLoss: 0.090494: : 20it [01:16,  3.63s/it]\u001b[A\n",
            "Train Epoch: 7 [2560/10283 (25%)]\tLoss: 0.090494: : 21it [01:16,  3.61s/it]\u001b[A\n",
            "Train Epoch: 7 [2688/10283 (26%)]\tLoss: 0.059423: : 21it [01:19,  3.61s/it]\u001b[A\n",
            "Train Epoch: 7 [2688/10283 (26%)]\tLoss: 0.059423: : 22it [01:19,  3.62s/it]\u001b[A\n",
            "Train Epoch: 7 [2816/10283 (27%)]\tLoss: 0.036843: : 22it [01:23,  3.62s/it]\u001b[A\n",
            "Train Epoch: 7 [2816/10283 (27%)]\tLoss: 0.036843: : 23it [01:23,  3.61s/it]\u001b[A\n",
            "Train Epoch: 7 [2944/10283 (28%)]\tLoss: 0.044309: : 23it [01:26,  3.61s/it]\u001b[A\n",
            "Train Epoch: 7 [2944/10283 (28%)]\tLoss: 0.044309: : 24it [01:26,  3.59s/it]\u001b[A\n",
            "Train Epoch: 7 [3072/10283 (30%)]\tLoss: 0.056298: : 24it [01:30,  3.59s/it]\u001b[A\n",
            "Train Epoch: 7 [3072/10283 (30%)]\tLoss: 0.056298: : 25it [01:30,  3.57s/it]\u001b[A\n",
            "Train Epoch: 7 [3200/10283 (31%)]\tLoss: 0.047007: : 25it [01:34,  3.57s/it]\u001b[A\n",
            "Train Epoch: 7 [3200/10283 (31%)]\tLoss: 0.047007: : 26it [01:34,  3.55s/it]\u001b[A\n",
            "Train Epoch: 7 [3328/10283 (32%)]\tLoss: 0.067848: : 26it [01:37,  3.55s/it]\u001b[A\n",
            "Train Epoch: 7 [3328/10283 (32%)]\tLoss: 0.067848: : 27it [01:37,  3.57s/it]\u001b[A\n",
            "Train Epoch: 7 [3456/10283 (33%)]\tLoss: 0.054177: : 27it [01:41,  3.57s/it]\u001b[A\n",
            "Train Epoch: 7 [3456/10283 (33%)]\tLoss: 0.054177: : 28it [01:41,  3.62s/it]\u001b[A\n",
            "Train Epoch: 7 [3584/10283 (35%)]\tLoss: 0.065987: : 28it [01:45,  3.62s/it]\u001b[A\n",
            "Train Epoch: 7 [3584/10283 (35%)]\tLoss: 0.065987: : 29it [01:45,  3.64s/it]\u001b[A\n",
            "Train Epoch: 7 [3712/10283 (36%)]\tLoss: 0.072826: : 29it [01:48,  3.64s/it]\u001b[A\n",
            "Train Epoch: 7 [3712/10283 (36%)]\tLoss: 0.072826: : 30it [01:48,  3.62s/it]\u001b[A\n",
            "Train Epoch: 7 [3840/10283 (37%)]\tLoss: 0.092833: : 30it [01:52,  3.62s/it]\u001b[A\n",
            "Train Epoch: 7 [3840/10283 (37%)]\tLoss: 0.092833: : 31it [01:52,  3.67s/it]\u001b[A\n",
            "Train Epoch: 7 [3968/10283 (38%)]\tLoss: 0.024166: : 31it [01:55,  3.67s/it]\u001b[A\n",
            "Train Epoch: 7 [3968/10283 (38%)]\tLoss: 0.024166: : 32it [01:55,  3.63s/it]\u001b[A\n",
            "Train Epoch: 7 [4096/10283 (40%)]\tLoss: 0.060504: : 32it [01:59,  3.63s/it]\u001b[A\n",
            "Train Epoch: 7 [4096/10283 (40%)]\tLoss: 0.060504: : 33it [01:59,  3.62s/it]\u001b[A\n",
            "Train Epoch: 7 [4224/10283 (41%)]\tLoss: 0.040707: : 33it [02:03,  3.62s/it]\u001b[A\n",
            "Train Epoch: 7 [4224/10283 (41%)]\tLoss: 0.040707: : 34it [02:03,  3.60s/it]\u001b[A\n",
            "Train Epoch: 7 [4352/10283 (42%)]\tLoss: 0.056411: : 34it [02:06,  3.60s/it]\u001b[A\n",
            "Train Epoch: 7 [4352/10283 (42%)]\tLoss: 0.056411: : 35it [02:06,  3.62s/it]\u001b[A\n",
            "Train Epoch: 7 [4480/10283 (43%)]\tLoss: 0.081200: : 35it [02:10,  3.62s/it]\u001b[A\n",
            "Train Epoch: 7 [4480/10283 (43%)]\tLoss: 0.081200: : 36it [02:10,  3.65s/it]\u001b[A\n",
            "Train Epoch: 7 [4608/10283 (44%)]\tLoss: 0.075265: : 36it [02:14,  3.65s/it]\u001b[A\n",
            "Train Epoch: 7 [4608/10283 (44%)]\tLoss: 0.075265: : 37it [02:14,  3.65s/it]\u001b[A\n",
            "Train Epoch: 7 [4736/10283 (46%)]\tLoss: 0.089259: : 37it [02:18,  3.65s/it]\u001b[A\n",
            "Train Epoch: 7 [4736/10283 (46%)]\tLoss: 0.089259: : 38it [02:18,  3.71s/it]\u001b[A\n",
            "Train Epoch: 7 [4864/10283 (47%)]\tLoss: 0.056624: : 38it [02:21,  3.71s/it]\u001b[A\n",
            "Train Epoch: 7 [4864/10283 (47%)]\tLoss: 0.056624: : 39it [02:21,  3.72s/it]\u001b[A\n",
            "Train Epoch: 7 [4992/10283 (48%)]\tLoss: 0.047958: : 39it [02:25,  3.72s/it]\u001b[A\n",
            "Train Epoch: 7 [4992/10283 (48%)]\tLoss: 0.047958: : 40it [02:25,  3.69s/it]\u001b[A\n",
            "Train Epoch: 7 [5120/10283 (49%)]\tLoss: 0.075642: : 40it [02:28,  3.69s/it]\u001b[A\n",
            "Train Epoch: 7 [5120/10283 (49%)]\tLoss: 0.075642: : 41it [02:28,  3.65s/it]\u001b[A\n",
            "Train Epoch: 7 [5248/10283 (51%)]\tLoss: 0.045267: : 41it [02:32,  3.65s/it]\u001b[A\n",
            "Train Epoch: 7 [5248/10283 (51%)]\tLoss: 0.045267: : 42it [02:32,  3.64s/it]\u001b[A\n",
            "Train Epoch: 7 [5376/10283 (52%)]\tLoss: 0.038477: : 42it [02:36,  3.64s/it]\u001b[A\n",
            "Train Epoch: 7 [5376/10283 (52%)]\tLoss: 0.038477: : 43it [02:36,  3.60s/it]\u001b[A\n",
            "Train Epoch: 7 [5504/10283 (53%)]\tLoss: 0.049005: : 43it [02:39,  3.60s/it]\u001b[A\n",
            "Train Epoch: 7 [5504/10283 (53%)]\tLoss: 0.049005: : 44it [02:39,  3.62s/it]\u001b[A\n",
            "Train Epoch: 7 [5632/10283 (54%)]\tLoss: 0.037729: : 44it [02:43,  3.62s/it]\u001b[A\n",
            "Train Epoch: 7 [5632/10283 (54%)]\tLoss: 0.037729: : 45it [02:43,  3.62s/it]\u001b[A\n",
            "Train Epoch: 7 [5760/10283 (56%)]\tLoss: 0.089859: : 45it [02:46,  3.62s/it]\u001b[A\n",
            "Train Epoch: 7 [5760/10283 (56%)]\tLoss: 0.089859: : 46it [02:46,  3.62s/it]\u001b[A\n",
            "Train Epoch: 7 [5888/10283 (57%)]\tLoss: 0.038879: : 46it [02:50,  3.62s/it]\u001b[A\n",
            "Train Epoch: 7 [5888/10283 (57%)]\tLoss: 0.038879: : 47it [02:50,  3.61s/it]\u001b[A\n",
            "Train Epoch: 7 [6016/10283 (58%)]\tLoss: 0.075400: : 47it [02:54,  3.61s/it]\u001b[A\n",
            "Train Epoch: 7 [6016/10283 (58%)]\tLoss: 0.075400: : 48it [02:54,  3.67s/it]\u001b[A\n",
            "Train Epoch: 7 [6144/10283 (59%)]\tLoss: 0.033945: : 48it [02:57,  3.67s/it]\u001b[A\n",
            "Train Epoch: 7 [6144/10283 (59%)]\tLoss: 0.033945: : 49it [02:57,  3.65s/it]\u001b[A\n",
            "Train Epoch: 7 [6272/10283 (60%)]\tLoss: 0.072082: : 49it [03:01,  3.65s/it]\u001b[A\n",
            "Train Epoch: 7 [6272/10283 (60%)]\tLoss: 0.072082: : 50it [03:01,  3.69s/it]\u001b[A\n",
            "Train Epoch: 7 [6400/10283 (62%)]\tLoss: 0.067968: : 50it [03:05,  3.69s/it]\u001b[A\n",
            "Train Epoch: 7 [6400/10283 (62%)]\tLoss: 0.067968: : 51it [03:05,  3.64s/it]\u001b[A\n",
            "Train Epoch: 7 [6528/10283 (63%)]\tLoss: 0.043458: : 51it [03:08,  3.64s/it]\u001b[A\n",
            "Train Epoch: 7 [6528/10283 (63%)]\tLoss: 0.043458: : 52it [03:08,  3.63s/it]\u001b[A\n",
            "Train Epoch: 7 [6656/10283 (64%)]\tLoss: 0.106169: : 52it [03:12,  3.63s/it]\u001b[A\n",
            "Train Epoch: 7 [6656/10283 (64%)]\tLoss: 0.106169: : 53it [03:12,  3.63s/it]\u001b[A\n",
            "Train Epoch: 7 [6784/10283 (65%)]\tLoss: 0.096690: : 53it [03:16,  3.63s/it]\u001b[A\n",
            "Train Epoch: 7 [6784/10283 (65%)]\tLoss: 0.096690: : 54it [03:16,  3.64s/it]\u001b[A\n",
            "Train Epoch: 7 [6912/10283 (67%)]\tLoss: 0.048600: : 54it [03:19,  3.64s/it]\u001b[A\n",
            "Train Epoch: 7 [6912/10283 (67%)]\tLoss: 0.048600: : 55it [03:19,  3.68s/it]\u001b[A\n",
            "Train Epoch: 7 [7040/10283 (68%)]\tLoss: 0.063270: : 55it [03:23,  3.68s/it]\u001b[A\n",
            "Train Epoch: 7 [7040/10283 (68%)]\tLoss: 0.063270: : 56it [03:23,  3.68s/it]\u001b[A\n",
            "Train Epoch: 7 [7168/10283 (69%)]\tLoss: 0.053245: : 56it [03:27,  3.68s/it]\u001b[A\n",
            "Train Epoch: 7 [7168/10283 (69%)]\tLoss: 0.053245: : 57it [03:27,  3.68s/it]\u001b[A\n",
            "Train Epoch: 7 [7296/10283 (70%)]\tLoss: 0.037500: : 57it [03:31,  3.68s/it]\u001b[A\n",
            "Train Epoch: 7 [7296/10283 (70%)]\tLoss: 0.037500: : 58it [03:31,  3.70s/it]\u001b[A\n",
            "Train Epoch: 7 [7424/10283 (72%)]\tLoss: 0.077680: : 58it [03:34,  3.70s/it]\u001b[A\n",
            "Train Epoch: 7 [7424/10283 (72%)]\tLoss: 0.077680: : 59it [03:34,  3.68s/it]\u001b[A\n",
            "Train Epoch: 7 [7552/10283 (73%)]\tLoss: 0.073814: : 59it [03:38,  3.68s/it]\u001b[A\n",
            "Train Epoch: 7 [7552/10283 (73%)]\tLoss: 0.073814: : 60it [03:38,  3.66s/it]\u001b[A\n",
            "Train Epoch: 7 [7680/10283 (74%)]\tLoss: 0.051365: : 60it [03:41,  3.66s/it]\u001b[A\n",
            "Train Epoch: 7 [7680/10283 (74%)]\tLoss: 0.051365: : 61it [03:41,  3.66s/it]\u001b[A\n",
            "Train Epoch: 7 [7808/10283 (75%)]\tLoss: 0.034898: : 61it [03:45,  3.66s/it]\u001b[A\n",
            "Train Epoch: 7 [7808/10283 (75%)]\tLoss: 0.034898: : 62it [03:45,  3.70s/it]\u001b[A\n",
            "Train Epoch: 7 [7936/10283 (77%)]\tLoss: 0.052020: : 62it [03:49,  3.70s/it]\u001b[A\n",
            "Train Epoch: 7 [7936/10283 (77%)]\tLoss: 0.052020: : 63it [03:49,  3.68s/it]\u001b[A\n",
            "Train Epoch: 7 [8064/10283 (78%)]\tLoss: 0.035967: : 63it [03:53,  3.68s/it]\u001b[A\n",
            "Train Epoch: 7 [8064/10283 (78%)]\tLoss: 0.035967: : 64it [03:53,  3.68s/it]\u001b[A\n",
            "Train Epoch: 7 [8192/10283 (79%)]\tLoss: 0.068119: : 64it [03:56,  3.68s/it]\u001b[A\n",
            "Train Epoch: 7 [8192/10283 (79%)]\tLoss: 0.068119: : 65it [03:56,  3.66s/it]\u001b[A\n",
            "Train Epoch: 7 [8320/10283 (80%)]\tLoss: 0.069547: : 65it [04:00,  3.66s/it]\u001b[A\n",
            "Train Epoch: 7 [8320/10283 (80%)]\tLoss: 0.069547: : 66it [04:00,  3.67s/it]\u001b[A\n",
            "Train Epoch: 7 [8448/10283 (81%)]\tLoss: 0.072483: : 66it [04:03,  3.67s/it]\u001b[A\n",
            "Train Epoch: 7 [8448/10283 (81%)]\tLoss: 0.072483: : 67it [04:03,  3.65s/it]\u001b[A\n",
            "Train Epoch: 7 [8576/10283 (83%)]\tLoss: 0.075332: : 67it [04:07,  3.65s/it]\u001b[A\n",
            "Train Epoch: 7 [8576/10283 (83%)]\tLoss: 0.075332: : 68it [04:07,  3.66s/it]\u001b[A\n",
            "Train Epoch: 7 [8704/10283 (84%)]\tLoss: 0.068874: : 68it [04:11,  3.66s/it]\u001b[A\n",
            "Train Epoch: 7 [8704/10283 (84%)]\tLoss: 0.068874: : 69it [04:11,  3.65s/it]\u001b[A\n",
            "Train Epoch: 7 [8832/10283 (85%)]\tLoss: 0.042105: : 69it [04:14,  3.65s/it]\u001b[A\n",
            "Train Epoch: 7 [8832/10283 (85%)]\tLoss: 0.042105: : 70it [04:14,  3.65s/it]\u001b[A\n",
            "Train Epoch: 7 [8960/10283 (86%)]\tLoss: 0.034056: : 70it [04:18,  3.65s/it]\u001b[A\n",
            "Train Epoch: 7 [8960/10283 (86%)]\tLoss: 0.034056: : 71it [04:18,  3.70s/it]\u001b[A\n",
            "Train Epoch: 7 [9088/10283 (88%)]\tLoss: 0.063942: : 71it [04:22,  3.70s/it]\u001b[A\n",
            "Train Epoch: 7 [9088/10283 (88%)]\tLoss: 0.063942: : 72it [04:22,  3.79s/it]\u001b[A\n",
            "Train Epoch: 7 [9216/10283 (89%)]\tLoss: 0.029511: : 72it [04:26,  3.79s/it]\u001b[A\n",
            "Train Epoch: 7 [9216/10283 (89%)]\tLoss: 0.029511: : 73it [04:26,  3.78s/it]\u001b[A\n",
            "Train Epoch: 7 [9344/10283 (90%)]\tLoss: 0.043325: : 73it [04:30,  3.78s/it]\u001b[A\n",
            "Train Epoch: 7 [9344/10283 (90%)]\tLoss: 0.043325: : 74it [04:30,  3.75s/it]\u001b[A\n",
            "Train Epoch: 7 [9472/10283 (91%)]\tLoss: 0.058597: : 74it [04:33,  3.75s/it]\u001b[A\n",
            "Train Epoch: 7 [9472/10283 (91%)]\tLoss: 0.058597: : 75it [04:33,  3.72s/it]\u001b[A\n",
            "Train Epoch: 7 [9600/10283 (93%)]\tLoss: 0.084101: : 75it [04:37,  3.72s/it]\u001b[A\n",
            "Train Epoch: 7 [9600/10283 (93%)]\tLoss: 0.084101: : 76it [04:37,  3.71s/it]\u001b[A\n",
            "Train Epoch: 7 [9728/10283 (94%)]\tLoss: 0.035563: : 76it [04:41,  3.71s/it]\u001b[A\n",
            "Train Epoch: 7 [9728/10283 (94%)]\tLoss: 0.035563: : 77it [04:41,  3.71s/it]\u001b[A\n",
            "Train Epoch: 7 [9856/10283 (95%)]\tLoss: 0.049798: : 77it [04:44,  3.71s/it]\u001b[A\n",
            "Train Epoch: 7 [9856/10283 (95%)]\tLoss: 0.049798: : 78it [04:44,  3.69s/it]\u001b[A\n",
            "Train Epoch: 7 [9984/10283 (96%)]\tLoss: 0.042960: : 78it [04:48,  3.69s/it]\u001b[A\n",
            "Train Epoch: 7 [9984/10283 (96%)]\tLoss: 0.042960: : 79it [04:48,  3.66s/it]\u001b[A\n",
            "Train Epoch: 7 [10112/10283 (98%)]\tLoss: 0.086850: : 79it [04:52,  3.66s/it]\u001b[A\n",
            "Train Epoch: 7 [10112/10283 (98%)]\tLoss: 0.086850: : 80it [04:52,  3.69s/it]\u001b[A\n",
            "Train Epoch: 7 [3440/10283 (99%)]\tLoss: 0.021587: : 80it [04:53,  3.69s/it] \u001b[A\n",
            "Train Epoch: 7 [3440/10283 (99%)]\tLoss: 0.021587: : 81it [04:53,  3.63s/it]\n",
            "\n",
            "0it [00:00, ?it/s]\u001b[A\n",
            "Train Epoch: 8 [0/10283 (0%)]\tLoss: 0.040922: : 0it [00:03, ?it/s]\u001b[A\n",
            "Train Epoch: 8 [0/10283 (0%)]\tLoss: 0.040922: : 1it [00:03,  3.69s/it]\u001b[A\n",
            "Train Epoch: 8 [128/10283 (1%)]\tLoss: 0.050748: : 1it [00:07,  3.69s/it]\u001b[A\n",
            "Train Epoch: 8 [128/10283 (1%)]\tLoss: 0.050748: : 2it [00:07,  3.73s/it]\u001b[A\n",
            "Train Epoch: 8 [256/10283 (2%)]\tLoss: 0.041482: : 2it [00:11,  3.73s/it]\u001b[A\n",
            "Train Epoch: 8 [256/10283 (2%)]\tLoss: 0.041482: : 3it [00:11,  3.72s/it]\u001b[A\n",
            "Train Epoch: 8 [384/10283 (4%)]\tLoss: 0.036890: : 3it [00:14,  3.72s/it]\u001b[A\n",
            "Train Epoch: 8 [384/10283 (4%)]\tLoss: 0.036890: : 4it [00:14,  3.71s/it]\u001b[A\n",
            "Train Epoch: 8 [512/10283 (5%)]\tLoss: 0.030890: : 4it [00:18,  3.71s/it]\u001b[A\n",
            "Train Epoch: 8 [512/10283 (5%)]\tLoss: 0.030890: : 5it [00:18,  3.70s/it]\u001b[A\n",
            "Train Epoch: 8 [640/10283 (6%)]\tLoss: 0.035594: : 5it [00:22,  3.70s/it]\u001b[A\n",
            "Train Epoch: 8 [640/10283 (6%)]\tLoss: 0.035594: : 6it [00:22,  3.66s/it]\u001b[A\n",
            "Train Epoch: 8 [768/10283 (7%)]\tLoss: 0.033528: : 6it [00:25,  3.66s/it]\u001b[A\n",
            "Train Epoch: 8 [768/10283 (7%)]\tLoss: 0.033528: : 7it [00:25,  3.70s/it]\u001b[A\n",
            "Train Epoch: 8 [896/10283 (9%)]\tLoss: 0.037473: : 7it [00:29,  3.70s/it]\u001b[A\n",
            "Train Epoch: 8 [896/10283 (9%)]\tLoss: 0.037473: : 8it [00:29,  3.71s/it]\u001b[A\n",
            "Train Epoch: 8 [1024/10283 (10%)]\tLoss: 0.050771: : 8it [00:33,  3.71s/it]\u001b[A\n",
            "Train Epoch: 8 [1024/10283 (10%)]\tLoss: 0.050771: : 9it [00:33,  3.79s/it]\u001b[A\n",
            "Train Epoch: 8 [1152/10283 (11%)]\tLoss: 0.026406: : 9it [00:37,  3.79s/it]\u001b[A\n",
            "Train Epoch: 8 [1152/10283 (11%)]\tLoss: 0.026406: : 10it [00:37,  3.75s/it]\u001b[A\n",
            "Train Epoch: 8 [1280/10283 (12%)]\tLoss: 0.055179: : 10it [00:41,  3.75s/it]\u001b[A\n",
            "Train Epoch: 8 [1280/10283 (12%)]\tLoss: 0.055179: : 11it [00:41,  3.76s/it]\u001b[A\n",
            "Train Epoch: 8 [1408/10283 (14%)]\tLoss: 0.099486: : 11it [00:44,  3.76s/it]\u001b[A\n",
            "Train Epoch: 8 [1408/10283 (14%)]\tLoss: 0.099486: : 12it [00:44,  3.76s/it]\u001b[A\n",
            "Train Epoch: 8 [1536/10283 (15%)]\tLoss: 0.034637: : 12it [00:48,  3.76s/it]\u001b[A\n",
            "Train Epoch: 8 [1536/10283 (15%)]\tLoss: 0.034637: : 13it [00:48,  3.71s/it]\u001b[A\n",
            "Train Epoch: 8 [1664/10283 (16%)]\tLoss: 0.058445: : 13it [00:52,  3.71s/it]\u001b[A\n",
            "Train Epoch: 8 [1664/10283 (16%)]\tLoss: 0.058445: : 14it [00:52,  3.75s/it]\u001b[A\n",
            "Train Epoch: 8 [1792/10283 (17%)]\tLoss: 0.027323: : 14it [00:56,  3.75s/it]\u001b[A\n",
            "Train Epoch: 8 [1792/10283 (17%)]\tLoss: 0.027323: : 15it [00:56,  3.78s/it]\u001b[A\n",
            "Train Epoch: 8 [1920/10283 (19%)]\tLoss: 0.060679: : 15it [00:59,  3.78s/it]\u001b[A\n",
            "Train Epoch: 8 [1920/10283 (19%)]\tLoss: 0.060679: : 16it [00:59,  3.75s/it]\u001b[A\n",
            "Train Epoch: 8 [2048/10283 (20%)]\tLoss: 0.050736: : 16it [01:03,  3.75s/it]\u001b[A\n",
            "Train Epoch: 8 [2048/10283 (20%)]\tLoss: 0.050736: : 17it [01:03,  3.74s/it]\u001b[A\n",
            "Train Epoch: 8 [2176/10283 (21%)]\tLoss: 0.037116: : 17it [01:07,  3.74s/it]\u001b[A\n",
            "Train Epoch: 8 [2176/10283 (21%)]\tLoss: 0.037116: : 18it [01:07,  3.77s/it]\u001b[A\n",
            "Train Epoch: 8 [2304/10283 (22%)]\tLoss: 0.071274: : 18it [01:11,  3.77s/it]\u001b[A\n",
            "Train Epoch: 8 [2304/10283 (22%)]\tLoss: 0.071274: : 19it [01:11,  3.74s/it]\u001b[A\n",
            "Train Epoch: 8 [2432/10283 (23%)]\tLoss: 0.031124: : 19it [01:14,  3.74s/it]\u001b[A\n",
            "Train Epoch: 8 [2432/10283 (23%)]\tLoss: 0.031124: : 20it [01:14,  3.73s/it]\u001b[A\n",
            "Train Epoch: 8 [2560/10283 (25%)]\tLoss: 0.032603: : 20it [01:18,  3.73s/it]\u001b[A\n",
            "Train Epoch: 8 [2560/10283 (25%)]\tLoss: 0.032603: : 21it [01:18,  3.72s/it]\u001b[A\n",
            "Train Epoch: 8 [2688/10283 (26%)]\tLoss: 0.059497: : 21it [01:22,  3.72s/it]\u001b[A\n",
            "Train Epoch: 8 [2688/10283 (26%)]\tLoss: 0.059497: : 22it [01:22,  3.68s/it]\u001b[A\n",
            "Train Epoch: 8 [2816/10283 (27%)]\tLoss: 0.025369: : 22it [01:25,  3.68s/it]\u001b[A\n",
            "Train Epoch: 8 [2816/10283 (27%)]\tLoss: 0.025369: : 23it [01:25,  3.67s/it]\u001b[A\n",
            "Train Epoch: 8 [2944/10283 (28%)]\tLoss: 0.032668: : 23it [01:29,  3.67s/it]\u001b[A\n",
            "Train Epoch: 8 [2944/10283 (28%)]\tLoss: 0.032668: : 24it [01:29,  3.68s/it]\u001b[A\n",
            "Train Epoch: 8 [3072/10283 (30%)]\tLoss: 0.015692: : 24it [01:33,  3.68s/it]\u001b[A\n",
            "Train Epoch: 8 [3072/10283 (30%)]\tLoss: 0.015692: : 25it [01:33,  3.68s/it]\u001b[A\n",
            "Train Epoch: 8 [3200/10283 (31%)]\tLoss: 0.034458: : 25it [01:36,  3.68s/it]\u001b[A\n",
            "Train Epoch: 8 [3200/10283 (31%)]\tLoss: 0.034458: : 26it [01:36,  3.70s/it]\u001b[A\n",
            "Train Epoch: 8 [3328/10283 (32%)]\tLoss: 0.051718: : 26it [01:40,  3.70s/it]\u001b[A\n",
            "Train Epoch: 8 [3328/10283 (32%)]\tLoss: 0.051718: : 27it [01:40,  3.69s/it]\u001b[A\n",
            "Train Epoch: 8 [3456/10283 (33%)]\tLoss: 0.037489: : 27it [01:44,  3.69s/it]\u001b[A\n",
            "Train Epoch: 8 [3456/10283 (33%)]\tLoss: 0.037489: : 28it [01:44,  3.69s/it]\u001b[A\n",
            "Train Epoch: 8 [3584/10283 (35%)]\tLoss: 0.033819: : 28it [01:47,  3.69s/it]\u001b[A\n",
            "Train Epoch: 8 [3584/10283 (35%)]\tLoss: 0.033819: : 29it [01:47,  3.70s/it]\u001b[A\n",
            "Train Epoch: 8 [3712/10283 (36%)]\tLoss: 0.050920: : 29it [01:51,  3.70s/it]\u001b[A\n",
            "Train Epoch: 8 [3712/10283 (36%)]\tLoss: 0.050920: : 30it [01:51,  3.71s/it]\u001b[A\n",
            "Train Epoch: 8 [3840/10283 (37%)]\tLoss: 0.038858: : 30it [01:55,  3.71s/it]\u001b[A\n",
            "Train Epoch: 8 [3840/10283 (37%)]\tLoss: 0.038858: : 31it [01:55,  3.67s/it]\u001b[A\n",
            "Train Epoch: 8 [3968/10283 (38%)]\tLoss: 0.052357: : 31it [01:58,  3.67s/it]\u001b[A\n",
            "Train Epoch: 8 [3968/10283 (38%)]\tLoss: 0.052357: : 32it [01:58,  3.67s/it]\u001b[A\n",
            "Train Epoch: 8 [4096/10283 (40%)]\tLoss: 0.055215: : 32it [02:02,  3.67s/it]\u001b[A\n",
            "Train Epoch: 8 [4096/10283 (40%)]\tLoss: 0.055215: : 33it [02:02,  3.67s/it]\u001b[A\n",
            "Train Epoch: 8 [4224/10283 (41%)]\tLoss: 0.036211: : 33it [02:06,  3.67s/it]\u001b[A\n",
            "Train Epoch: 8 [4224/10283 (41%)]\tLoss: 0.036211: : 34it [02:06,  3.68s/it]\u001b[A\n",
            "Train Epoch: 8 [4352/10283 (42%)]\tLoss: 0.044570: : 34it [02:09,  3.68s/it]\u001b[A\n",
            "Train Epoch: 8 [4352/10283 (42%)]\tLoss: 0.044570: : 35it [02:09,  3.66s/it]\u001b[A\n",
            "Train Epoch: 8 [4480/10283 (43%)]\tLoss: 0.037511: : 35it [02:13,  3.66s/it]\u001b[A\n",
            "Train Epoch: 8 [4480/10283 (43%)]\tLoss: 0.037511: : 36it [02:13,  3.65s/it]\u001b[A\n",
            "Train Epoch: 8 [4608/10283 (44%)]\tLoss: 0.060766: : 36it [02:17,  3.65s/it]\u001b[A\n",
            "Train Epoch: 8 [4608/10283 (44%)]\tLoss: 0.060766: : 37it [02:17,  3.64s/it]\u001b[A\n",
            "Train Epoch: 8 [4736/10283 (46%)]\tLoss: 0.044467: : 37it [02:20,  3.64s/it]\u001b[A\n",
            "Train Epoch: 8 [4736/10283 (46%)]\tLoss: 0.044467: : 38it [02:20,  3.66s/it]\u001b[A\n",
            "Train Epoch: 8 [4864/10283 (47%)]\tLoss: 0.039643: : 38it [02:24,  3.66s/it]\u001b[A\n",
            "Train Epoch: 8 [4864/10283 (47%)]\tLoss: 0.039643: : 39it [02:24,  3.67s/it]\u001b[A\n",
            "Train Epoch: 8 [4992/10283 (48%)]\tLoss: 0.068936: : 39it [02:28,  3.67s/it]\u001b[A\n",
            "Train Epoch: 8 [4992/10283 (48%)]\tLoss: 0.068936: : 40it [02:28,  3.71s/it]\u001b[A\n",
            "Train Epoch: 8 [5120/10283 (49%)]\tLoss: 0.035271: : 40it [02:32,  3.71s/it]\u001b[A\n",
            "Train Epoch: 8 [5120/10283 (49%)]\tLoss: 0.035271: : 41it [02:32,  3.75s/it]\u001b[A\n",
            "Train Epoch: 8 [5248/10283 (51%)]\tLoss: 0.047841: : 41it [02:35,  3.75s/it]\u001b[A\n",
            "Train Epoch: 8 [5248/10283 (51%)]\tLoss: 0.047841: : 42it [02:35,  3.76s/it]\u001b[A\n",
            "Train Epoch: 8 [5376/10283 (52%)]\tLoss: 0.024485: : 42it [02:39,  3.76s/it]\u001b[A\n",
            "Train Epoch: 8 [5376/10283 (52%)]\tLoss: 0.024485: : 43it [02:39,  3.73s/it]\u001b[A\n",
            "Train Epoch: 8 [5504/10283 (53%)]\tLoss: 0.067442: : 43it [02:43,  3.73s/it]\u001b[A\n",
            "Train Epoch: 8 [5504/10283 (53%)]\tLoss: 0.067442: : 44it [02:43,  3.74s/it]\u001b[A\n",
            "Train Epoch: 8 [5632/10283 (54%)]\tLoss: 0.055551: : 44it [02:47,  3.74s/it]\u001b[A\n",
            "Train Epoch: 8 [5632/10283 (54%)]\tLoss: 0.055551: : 45it [02:47,  3.72s/it]\u001b[A\n",
            "Train Epoch: 8 [5760/10283 (56%)]\tLoss: 0.036660: : 45it [02:50,  3.72s/it]\u001b[A\n",
            "Train Epoch: 8 [5760/10283 (56%)]\tLoss: 0.036660: : 46it [02:50,  3.72s/it]\u001b[A\n",
            "Train Epoch: 8 [5888/10283 (57%)]\tLoss: 0.062247: : 46it [02:54,  3.72s/it]\u001b[A\n",
            "Train Epoch: 8 [5888/10283 (57%)]\tLoss: 0.062247: : 47it [02:54,  3.75s/it]\u001b[A\n",
            "Train Epoch: 8 [6016/10283 (58%)]\tLoss: 0.047798: : 47it [02:58,  3.75s/it]\u001b[A\n",
            "Train Epoch: 8 [6016/10283 (58%)]\tLoss: 0.047798: : 48it [02:58,  3.73s/it]\u001b[A\n",
            "Train Epoch: 8 [6144/10283 (59%)]\tLoss: 0.030595: : 48it [03:01,  3.73s/it]\u001b[A\n",
            "Train Epoch: 8 [6144/10283 (59%)]\tLoss: 0.030595: : 49it [03:01,  3.72s/it]\u001b[A\n",
            "Train Epoch: 8 [6272/10283 (60%)]\tLoss: 0.052765: : 49it [03:05,  3.72s/it]\u001b[A\n",
            "Train Epoch: 8 [6272/10283 (60%)]\tLoss: 0.052765: : 50it [03:05,  3.69s/it]\u001b[A\n",
            "Train Epoch: 8 [6400/10283 (62%)]\tLoss: 0.034289: : 50it [03:09,  3.69s/it]\u001b[A\n",
            "Train Epoch: 8 [6400/10283 (62%)]\tLoss: 0.034289: : 51it [03:09,  3.69s/it]\u001b[A\n",
            "Train Epoch: 8 [6528/10283 (63%)]\tLoss: 0.033286: : 51it [03:12,  3.69s/it]\u001b[A\n",
            "Train Epoch: 8 [6528/10283 (63%)]\tLoss: 0.033286: : 52it [03:12,  3.67s/it]\u001b[A\n",
            "Train Epoch: 8 [6656/10283 (64%)]\tLoss: 0.035845: : 52it [03:16,  3.67s/it]\u001b[A\n",
            "Train Epoch: 8 [6656/10283 (64%)]\tLoss: 0.035845: : 53it [03:16,  3.64s/it]\u001b[A\n",
            "Train Epoch: 8 [6784/10283 (65%)]\tLoss: 0.024069: : 53it [03:20,  3.64s/it]\u001b[A\n",
            "Train Epoch: 8 [6784/10283 (65%)]\tLoss: 0.024069: : 54it [03:20,  3.69s/it]\u001b[A\n",
            "Train Epoch: 8 [6912/10283 (67%)]\tLoss: 0.046930: : 54it [03:23,  3.69s/it]\u001b[A\n",
            "Train Epoch: 8 [6912/10283 (67%)]\tLoss: 0.046930: : 55it [03:23,  3.66s/it]\u001b[A\n",
            "Train Epoch: 8 [7040/10283 (68%)]\tLoss: 0.033806: : 55it [03:27,  3.66s/it]\u001b[A\n",
            "Train Epoch: 8 [7040/10283 (68%)]\tLoss: 0.033806: : 56it [03:27,  3.65s/it]\u001b[A\n",
            "Train Epoch: 8 [7168/10283 (69%)]\tLoss: 0.030418: : 56it [03:31,  3.65s/it]\u001b[A\n",
            "Train Epoch: 8 [7168/10283 (69%)]\tLoss: 0.030418: : 57it [03:31,  3.68s/it]\u001b[A\n",
            "Train Epoch: 8 [7296/10283 (70%)]\tLoss: 0.031828: : 57it [03:34,  3.68s/it]\u001b[A\n",
            "Train Epoch: 8 [7296/10283 (70%)]\tLoss: 0.031828: : 58it [03:34,  3.70s/it]\u001b[A\n",
            "Train Epoch: 8 [7424/10283 (72%)]\tLoss: 0.027738: : 58it [03:38,  3.70s/it]\u001b[A\n",
            "Train Epoch: 8 [7424/10283 (72%)]\tLoss: 0.027738: : 59it [03:38,  3.68s/it]\u001b[A\n",
            "Train Epoch: 8 [7552/10283 (73%)]\tLoss: 0.050754: : 59it [03:42,  3.68s/it]\u001b[A\n",
            "Train Epoch: 8 [7552/10283 (73%)]\tLoss: 0.050754: : 60it [03:42,  3.67s/it]\u001b[A\n",
            "Train Epoch: 8 [7680/10283 (74%)]\tLoss: 0.022495: : 60it [03:45,  3.67s/it]\u001b[A\n",
            "Train Epoch: 8 [7680/10283 (74%)]\tLoss: 0.022495: : 61it [03:45,  3.65s/it]\u001b[A\n",
            "Train Epoch: 8 [7808/10283 (75%)]\tLoss: 0.058753: : 61it [03:49,  3.65s/it]\u001b[A\n",
            "Train Epoch: 8 [7808/10283 (75%)]\tLoss: 0.058753: : 62it [03:49,  3.67s/it]\u001b[A\n",
            "Train Epoch: 8 [7936/10283 (77%)]\tLoss: 0.028408: : 62it [03:53,  3.67s/it]\u001b[A\n",
            "Train Epoch: 8 [7936/10283 (77%)]\tLoss: 0.028408: : 63it [03:53,  3.68s/it]\u001b[A\n",
            "Train Epoch: 8 [8064/10283 (78%)]\tLoss: 0.039278: : 63it [03:56,  3.68s/it]\u001b[A\n",
            "Train Epoch: 8 [8064/10283 (78%)]\tLoss: 0.039278: : 64it [03:56,  3.68s/it]\u001b[A\n",
            "Train Epoch: 8 [8192/10283 (79%)]\tLoss: 0.038588: : 64it [04:00,  3.68s/it]\u001b[A\n",
            "Train Epoch: 8 [8192/10283 (79%)]\tLoss: 0.038588: : 65it [04:00,  3.68s/it]\u001b[A\n",
            "Train Epoch: 8 [8320/10283 (80%)]\tLoss: 0.074257: : 65it [04:04,  3.68s/it]\u001b[A\n",
            "Train Epoch: 8 [8320/10283 (80%)]\tLoss: 0.074257: : 66it [04:04,  3.68s/it]\u001b[A\n",
            "Train Epoch: 8 [8448/10283 (81%)]\tLoss: 0.033088: : 66it [04:08,  3.68s/it]\u001b[A\n",
            "Train Epoch: 8 [8448/10283 (81%)]\tLoss: 0.033088: : 67it [04:08,  3.68s/it]\u001b[A\n",
            "Train Epoch: 8 [8576/10283 (83%)]\tLoss: 0.058102: : 67it [04:11,  3.68s/it]\u001b[A\n",
            "Train Epoch: 8 [8576/10283 (83%)]\tLoss: 0.058102: : 68it [04:11,  3.71s/it]\u001b[A\n",
            "Train Epoch: 8 [8704/10283 (84%)]\tLoss: 0.084767: : 68it [04:15,  3.71s/it]\u001b[A\n",
            "Train Epoch: 8 [8704/10283 (84%)]\tLoss: 0.084767: : 69it [04:15,  3.68s/it]\u001b[A\n",
            "Train Epoch: 8 [8832/10283 (85%)]\tLoss: 0.041013: : 69it [04:19,  3.68s/it]\u001b[A\n",
            "Train Epoch: 8 [8832/10283 (85%)]\tLoss: 0.041013: : 70it [04:19,  3.71s/it]\u001b[A\n",
            "Train Epoch: 8 [8960/10283 (86%)]\tLoss: 0.022149: : 70it [04:23,  3.71s/it]\u001b[A\n",
            "Train Epoch: 8 [8960/10283 (86%)]\tLoss: 0.022149: : 71it [04:23,  3.78s/it]\u001b[A\n",
            "Train Epoch: 8 [9088/10283 (88%)]\tLoss: 0.042825: : 71it [04:26,  3.78s/it]\u001b[A\n",
            "Train Epoch: 8 [9088/10283 (88%)]\tLoss: 0.042825: : 72it [04:26,  3.74s/it]\u001b[A\n",
            "Train Epoch: 8 [9216/10283 (89%)]\tLoss: 0.038457: : 72it [04:30,  3.74s/it]\u001b[A\n",
            "Train Epoch: 8 [9216/10283 (89%)]\tLoss: 0.038457: : 73it [04:30,  3.70s/it]\u001b[A\n",
            "Train Epoch: 8 [9344/10283 (90%)]\tLoss: 0.093669: : 73it [04:34,  3.70s/it]\u001b[A\n",
            "Train Epoch: 8 [9344/10283 (90%)]\tLoss: 0.093669: : 74it [04:34,  3.74s/it]\u001b[A\n",
            "Train Epoch: 8 [9472/10283 (91%)]\tLoss: 0.039213: : 74it [04:38,  3.74s/it]\u001b[A\n",
            "Train Epoch: 8 [9472/10283 (91%)]\tLoss: 0.039213: : 75it [04:38,  3.78s/it]\u001b[A\n",
            "Train Epoch: 8 [9600/10283 (93%)]\tLoss: 0.036539: : 75it [04:42,  3.78s/it]\u001b[A\n",
            "Train Epoch: 8 [9600/10283 (93%)]\tLoss: 0.036539: : 76it [04:42,  3.84s/it]\u001b[A\n",
            "Train Epoch: 8 [9728/10283 (94%)]\tLoss: 0.049402: : 76it [04:45,  3.84s/it]\u001b[A\n",
            "Train Epoch: 8 [9728/10283 (94%)]\tLoss: 0.049402: : 77it [04:45,  3.78s/it]\u001b[A\n",
            "Train Epoch: 8 [9856/10283 (95%)]\tLoss: 0.034750: : 77it [04:49,  3.78s/it]\u001b[A\n",
            "Train Epoch: 8 [9856/10283 (95%)]\tLoss: 0.034750: : 78it [04:49,  3.73s/it]\u001b[A\n",
            "Train Epoch: 8 [9984/10283 (96%)]\tLoss: 0.048275: : 78it [04:52,  3.73s/it]\u001b[A\n",
            "Train Epoch: 8 [9984/10283 (96%)]\tLoss: 0.048275: : 79it [04:52,  3.70s/it]\u001b[A\n",
            "Train Epoch: 8 [10112/10283 (98%)]\tLoss: 0.026289: : 79it [04:56,  3.70s/it]\u001b[A\n",
            "Train Epoch: 8 [10112/10283 (98%)]\tLoss: 0.026289: : 80it [04:56,  3.70s/it]\u001b[A\n",
            "Train Epoch: 8 [3440/10283 (99%)]\tLoss: 0.116255: : 80it [04:58,  3.70s/it] \u001b[A\n",
            "Train Epoch: 8 [3440/10283 (99%)]\tLoss: 0.116255: : 81it [04:58,  3.68s/it]\n",
            "\n",
            "0it [00:00, ?it/s]\u001b[A\n",
            "Train Epoch: 9 [0/10283 (0%)]\tLoss: 0.040613: : 0it [00:03, ?it/s]\u001b[A\n",
            "Train Epoch: 9 [0/10283 (0%)]\tLoss: 0.040613: : 1it [00:03,  3.66s/it]\u001b[A\n",
            "Train Epoch: 9 [128/10283 (1%)]\tLoss: 0.033521: : 1it [00:07,  3.66s/it]\u001b[A\n",
            "Train Epoch: 9 [128/10283 (1%)]\tLoss: 0.033521: : 2it [00:07,  3.66s/it]\u001b[A\n",
            "Train Epoch: 9 [256/10283 (2%)]\tLoss: 0.037113: : 2it [00:11,  3.66s/it]\u001b[A\n",
            "Train Epoch: 9 [256/10283 (2%)]\tLoss: 0.037113: : 3it [00:11,  3.77s/it]\u001b[A\n",
            "Train Epoch: 9 [384/10283 (4%)]\tLoss: 0.031906: : 3it [00:15,  3.77s/it]\u001b[A\n",
            "Train Epoch: 9 [384/10283 (4%)]\tLoss: 0.031906: : 4it [00:15,  3.74s/it]\u001b[A\n",
            "Train Epoch: 9 [512/10283 (5%)]\tLoss: 0.033353: : 4it [00:18,  3.74s/it]\u001b[A\n",
            "Train Epoch: 9 [512/10283 (5%)]\tLoss: 0.033353: : 5it [00:18,  3.71s/it]\u001b[A\n",
            "Train Epoch: 9 [640/10283 (6%)]\tLoss: 0.045169: : 5it [00:22,  3.71s/it]\u001b[A\n",
            "Train Epoch: 9 [640/10283 (6%)]\tLoss: 0.045169: : 6it [00:22,  3.71s/it]\u001b[A\n",
            "Train Epoch: 9 [768/10283 (7%)]\tLoss: 0.094290: : 6it [00:26,  3.71s/it]\u001b[A\n",
            "Train Epoch: 9 [768/10283 (7%)]\tLoss: 0.094290: : 7it [00:26,  3.74s/it]\u001b[A\n",
            "Train Epoch: 9 [896/10283 (9%)]\tLoss: 0.021461: : 7it [00:29,  3.74s/it]\u001b[A\n",
            "Train Epoch: 9 [896/10283 (9%)]\tLoss: 0.021461: : 8it [00:29,  3.75s/it]\u001b[A\n",
            "Train Epoch: 9 [1024/10283 (10%)]\tLoss: 0.032605: : 8it [00:33,  3.75s/it]\u001b[A\n",
            "Train Epoch: 9 [1024/10283 (10%)]\tLoss: 0.032605: : 9it [00:33,  3.71s/it]\u001b[A\n",
            "Train Epoch: 9 [1152/10283 (11%)]\tLoss: 0.057809: : 9it [00:37,  3.71s/it]\u001b[A\n",
            "Train Epoch: 9 [1152/10283 (11%)]\tLoss: 0.057809: : 10it [00:37,  3.68s/it]\u001b[A\n",
            "Train Epoch: 9 [1280/10283 (12%)]\tLoss: 0.083805: : 10it [00:41,  3.68s/it]\u001b[A\n",
            "Train Epoch: 9 [1280/10283 (12%)]\tLoss: 0.083805: : 11it [00:41,  3.75s/it]\u001b[A\n",
            "Train Epoch: 9 [1408/10283 (14%)]\tLoss: 0.042397: : 11it [00:44,  3.75s/it]\u001b[A\n",
            "Train Epoch: 9 [1408/10283 (14%)]\tLoss: 0.042397: : 12it [00:44,  3.74s/it]\u001b[A\n",
            "Train Epoch: 9 [1536/10283 (15%)]\tLoss: 0.034172: : 12it [00:48,  3.74s/it]\u001b[A\n",
            "Train Epoch: 9 [1536/10283 (15%)]\tLoss: 0.034172: : 13it [00:48,  3.74s/it]\u001b[A\n",
            "Train Epoch: 9 [1664/10283 (16%)]\tLoss: 0.025041: : 13it [00:52,  3.74s/it]\u001b[A\n",
            "Train Epoch: 9 [1664/10283 (16%)]\tLoss: 0.025041: : 14it [00:52,  3.72s/it]\u001b[A\n",
            "Train Epoch: 9 [1792/10283 (17%)]\tLoss: 0.011230: : 14it [00:55,  3.72s/it]\u001b[A\n",
            "Train Epoch: 9 [1792/10283 (17%)]\tLoss: 0.011230: : 15it [00:55,  3.70s/it]\u001b[A\n",
            "Train Epoch: 9 [1920/10283 (19%)]\tLoss: 0.037263: : 15it [00:59,  3.70s/it]\u001b[A\n",
            "Train Epoch: 9 [1920/10283 (19%)]\tLoss: 0.037263: : 16it [00:59,  3.67s/it]\u001b[A\n",
            "Train Epoch: 9 [2048/10283 (20%)]\tLoss: 0.039566: : 16it [01:03,  3.67s/it]\u001b[A\n",
            "Train Epoch: 9 [2048/10283 (20%)]\tLoss: 0.039566: : 17it [01:03,  3.70s/it]\u001b[A\n",
            "Train Epoch: 9 [2176/10283 (21%)]\tLoss: 0.050619: : 17it [01:06,  3.70s/it]\u001b[A\n",
            "Train Epoch: 9 [2176/10283 (21%)]\tLoss: 0.050619: : 18it [01:06,  3.68s/it]\u001b[A\n",
            "Train Epoch: 9 [2304/10283 (22%)]\tLoss: 0.031783: : 18it [01:10,  3.68s/it]\u001b[A\n",
            "Train Epoch: 9 [2304/10283 (22%)]\tLoss: 0.031783: : 19it [01:10,  3.67s/it]\u001b[A\n",
            "Train Epoch: 9 [2432/10283 (23%)]\tLoss: 0.023841: : 19it [01:14,  3.67s/it]\u001b[A\n",
            "Train Epoch: 9 [2432/10283 (23%)]\tLoss: 0.023841: : 20it [01:14,  3.69s/it]\u001b[A\n",
            "Train Epoch: 9 [2560/10283 (25%)]\tLoss: 0.032671: : 20it [01:17,  3.69s/it]\u001b[A\n",
            "Train Epoch: 9 [2560/10283 (25%)]\tLoss: 0.032671: : 21it [01:17,  3.70s/it]\u001b[A\n",
            "Train Epoch: 9 [2688/10283 (26%)]\tLoss: 0.016977: : 21it [01:21,  3.70s/it]\u001b[A\n",
            "Train Epoch: 9 [2688/10283 (26%)]\tLoss: 0.016977: : 22it [01:21,  3.69s/it]\u001b[A\n",
            "Train Epoch: 9 [2816/10283 (27%)]\tLoss: 0.019151: : 22it [01:25,  3.69s/it]\u001b[A\n",
            "Train Epoch: 9 [2816/10283 (27%)]\tLoss: 0.019151: : 23it [01:25,  3.68s/it]\u001b[A\n",
            "Train Epoch: 9 [2944/10283 (28%)]\tLoss: 0.034507: : 23it [01:28,  3.68s/it]\u001b[A\n",
            "Train Epoch: 9 [2944/10283 (28%)]\tLoss: 0.034507: : 24it [01:28,  3.67s/it]\u001b[A\n",
            "Train Epoch: 9 [3072/10283 (30%)]\tLoss: 0.022381: : 24it [01:32,  3.67s/it]\u001b[A\n",
            "Train Epoch: 9 [3072/10283 (30%)]\tLoss: 0.022381: : 25it [01:32,  3.69s/it]\u001b[A\n",
            "Train Epoch: 9 [3200/10283 (31%)]\tLoss: 0.019708: : 25it [01:36,  3.69s/it]\u001b[A\n",
            "Train Epoch: 9 [3200/10283 (31%)]\tLoss: 0.019708: : 26it [01:36,  3.68s/it]\u001b[A\n",
            "Train Epoch: 9 [3328/10283 (32%)]\tLoss: 0.012953: : 26it [01:39,  3.68s/it]\u001b[A\n",
            "Train Epoch: 9 [3328/10283 (32%)]\tLoss: 0.012953: : 27it [01:39,  3.67s/it]\u001b[A\n",
            "Train Epoch: 9 [3456/10283 (33%)]\tLoss: 0.018844: : 27it [01:43,  3.67s/it]\u001b[A\n",
            "Train Epoch: 9 [3456/10283 (33%)]\tLoss: 0.018844: : 28it [01:43,  3.64s/it]\u001b[A\n",
            "Train Epoch: 9 [3584/10283 (35%)]\tLoss: 0.015537: : 28it [01:47,  3.64s/it]\u001b[A\n",
            "Train Epoch: 9 [3584/10283 (35%)]\tLoss: 0.015537: : 29it [01:47,  3.66s/it]\u001b[A\n",
            "Train Epoch: 9 [3712/10283 (36%)]\tLoss: 0.017740: : 29it [01:50,  3.66s/it]\u001b[A\n",
            "Train Epoch: 9 [3712/10283 (36%)]\tLoss: 0.017740: : 30it [01:50,  3.67s/it]\u001b[A\n",
            "Train Epoch: 9 [3840/10283 (37%)]\tLoss: 0.019467: : 30it [01:54,  3.67s/it]\u001b[A\n",
            "Train Epoch: 9 [3840/10283 (37%)]\tLoss: 0.019467: : 31it [01:54,  3.67s/it]\u001b[A\n",
            "Train Epoch: 9 [3968/10283 (38%)]\tLoss: 0.026131: : 31it [01:58,  3.67s/it]\u001b[A\n",
            "Train Epoch: 9 [3968/10283 (38%)]\tLoss: 0.026131: : 32it [01:58,  3.67s/it]\u001b[A\n",
            "Train Epoch: 9 [4096/10283 (40%)]\tLoss: 0.022704: : 32it [02:02,  3.67s/it]\u001b[A\n",
            "Train Epoch: 9 [4096/10283 (40%)]\tLoss: 0.022704: : 33it [02:02,  3.72s/it]\u001b[A\n",
            "Train Epoch: 9 [4224/10283 (41%)]\tLoss: 0.027650: : 33it [02:05,  3.72s/it]\u001b[A\n",
            "Train Epoch: 9 [4224/10283 (41%)]\tLoss: 0.027650: : 34it [02:05,  3.73s/it]\u001b[A\n",
            "Train Epoch: 9 [4352/10283 (42%)]\tLoss: 0.041882: : 34it [02:09,  3.73s/it]\u001b[A\n",
            "Train Epoch: 9 [4352/10283 (42%)]\tLoss: 0.041882: : 35it [02:09,  3.70s/it]\u001b[A\n",
            "Train Epoch: 9 [4480/10283 (43%)]\tLoss: 0.018815: : 35it [02:13,  3.70s/it]\u001b[A\n",
            "Train Epoch: 9 [4480/10283 (43%)]\tLoss: 0.018815: : 36it [02:13,  3.68s/it]\u001b[A\n",
            "Train Epoch: 9 [4608/10283 (44%)]\tLoss: 0.019655: : 36it [02:16,  3.68s/it]\u001b[A\n",
            "Train Epoch: 9 [4608/10283 (44%)]\tLoss: 0.019655: : 37it [02:16,  3.68s/it]\u001b[A\n",
            "Train Epoch: 9 [4736/10283 (46%)]\tLoss: 0.030645: : 37it [02:20,  3.68s/it]\u001b[A\n",
            "Train Epoch: 9 [4736/10283 (46%)]\tLoss: 0.030645: : 38it [02:20,  3.68s/it]\u001b[A\n",
            "Train Epoch: 9 [4864/10283 (47%)]\tLoss: 0.019903: : 38it [02:24,  3.68s/it]\u001b[A\n",
            "Train Epoch: 9 [4864/10283 (47%)]\tLoss: 0.019903: : 39it [02:24,  3.73s/it]\u001b[A\n",
            "Train Epoch: 9 [4992/10283 (48%)]\tLoss: 0.008471: : 39it [02:27,  3.73s/it]\u001b[A\n",
            "Train Epoch: 9 [4992/10283 (48%)]\tLoss: 0.008471: : 40it [02:27,  3.70s/it]\u001b[A\n",
            "Train Epoch: 9 [5120/10283 (49%)]\tLoss: 0.013123: : 40it [02:31,  3.70s/it]\u001b[A\n",
            "Train Epoch: 9 [5120/10283 (49%)]\tLoss: 0.013123: : 41it [02:31,  3.70s/it]\u001b[A\n",
            "Train Epoch: 9 [5248/10283 (51%)]\tLoss: 0.016805: : 41it [02:35,  3.70s/it]\u001b[A\n",
            "Train Epoch: 9 [5248/10283 (51%)]\tLoss: 0.016805: : 42it [02:35,  3.76s/it]\u001b[A\n",
            "Train Epoch: 9 [5376/10283 (52%)]\tLoss: 0.058856: : 42it [02:39,  3.76s/it]\u001b[A\n",
            "Train Epoch: 9 [5376/10283 (52%)]\tLoss: 0.058856: : 43it [02:39,  3.83s/it]\u001b[A\n",
            "Train Epoch: 9 [5504/10283 (53%)]\tLoss: 0.022446: : 43it [02:43,  3.83s/it]\u001b[A\n",
            "Train Epoch: 9 [5504/10283 (53%)]\tLoss: 0.022446: : 44it [02:43,  3.84s/it]\u001b[A\n",
            "Train Epoch: 9 [5632/10283 (54%)]\tLoss: 0.014906: : 44it [02:47,  3.84s/it]\u001b[A\n",
            "Train Epoch: 9 [5632/10283 (54%)]\tLoss: 0.014906: : 45it [02:47,  3.82s/it]\u001b[A\n",
            "Train Epoch: 9 [5760/10283 (56%)]\tLoss: 0.010169: : 45it [02:50,  3.82s/it]\u001b[A\n",
            "Train Epoch: 9 [5760/10283 (56%)]\tLoss: 0.010169: : 46it [02:50,  3.76s/it]\u001b[A\n",
            "Train Epoch: 9 [5888/10283 (57%)]\tLoss: 0.024770: : 46it [02:54,  3.76s/it]\u001b[A\n",
            "Train Epoch: 9 [5888/10283 (57%)]\tLoss: 0.024770: : 47it [02:54,  3.73s/it]\u001b[A\n",
            "Train Epoch: 9 [6016/10283 (58%)]\tLoss: 0.012843: : 47it [02:58,  3.73s/it]\u001b[A\n",
            "Train Epoch: 9 [6016/10283 (58%)]\tLoss: 0.012843: : 48it [02:58,  3.70s/it]\u001b[A\n",
            "Train Epoch: 9 [6144/10283 (59%)]\tLoss: 0.025234: : 48it [03:01,  3.70s/it]\u001b[A\n",
            "Train Epoch: 9 [6144/10283 (59%)]\tLoss: 0.025234: : 49it [03:01,  3.70s/it]\u001b[A\n",
            "Train Epoch: 9 [6272/10283 (60%)]\tLoss: 0.027751: : 49it [03:05,  3.70s/it]\u001b[A\n",
            "Train Epoch: 9 [6272/10283 (60%)]\tLoss: 0.027751: : 50it [03:05,  3.69s/it]\u001b[A\n",
            "Train Epoch: 9 [6400/10283 (62%)]\tLoss: 0.035208: : 50it [03:09,  3.69s/it]\u001b[A\n",
            "Train Epoch: 9 [6400/10283 (62%)]\tLoss: 0.035208: : 51it [03:09,  3.68s/it]\u001b[A\n",
            "Train Epoch: 9 [6528/10283 (63%)]\tLoss: 0.019559: : 51it [03:12,  3.68s/it]\u001b[A\n",
            "Train Epoch: 9 [6528/10283 (63%)]\tLoss: 0.019559: : 52it [03:12,  3.68s/it]\u001b[A\n",
            "Train Epoch: 9 [6656/10283 (64%)]\tLoss: 0.032599: : 52it [03:16,  3.68s/it]\u001b[A\n",
            "Train Epoch: 9 [6656/10283 (64%)]\tLoss: 0.032599: : 53it [03:16,  3.68s/it]\u001b[A\n",
            "Train Epoch: 9 [6784/10283 (65%)]\tLoss: 0.042288: : 53it [03:20,  3.68s/it]\u001b[A\n",
            "Train Epoch: 9 [6784/10283 (65%)]\tLoss: 0.042288: : 54it [03:20,  3.67s/it]\u001b[A\n",
            "Train Epoch: 9 [6912/10283 (67%)]\tLoss: 0.023299: : 54it [03:24,  3.67s/it]\u001b[A\n",
            "Train Epoch: 9 [6912/10283 (67%)]\tLoss: 0.023299: : 55it [03:24,  3.75s/it]\u001b[A\n",
            "Train Epoch: 9 [7040/10283 (68%)]\tLoss: 0.039137: : 55it [03:27,  3.75s/it]\u001b[A\n",
            "Train Epoch: 9 [7040/10283 (68%)]\tLoss: 0.039137: : 56it [03:27,  3.72s/it]\u001b[A\n",
            "Train Epoch: 9 [7168/10283 (69%)]\tLoss: 0.030830: : 56it [03:31,  3.72s/it]\u001b[A\n",
            "Train Epoch: 9 [7168/10283 (69%)]\tLoss: 0.030830: : 57it [03:31,  3.70s/it]\u001b[A\n",
            "Train Epoch: 9 [7296/10283 (70%)]\tLoss: 0.045773: : 57it [03:35,  3.70s/it]\u001b[A\n",
            "Train Epoch: 9 [7296/10283 (70%)]\tLoss: 0.045773: : 58it [03:35,  3.69s/it]\u001b[A\n",
            "Train Epoch: 9 [7424/10283 (72%)]\tLoss: 0.022196: : 58it [03:38,  3.69s/it]\u001b[A\n",
            "Train Epoch: 9 [7424/10283 (72%)]\tLoss: 0.022196: : 59it [03:38,  3.69s/it]\u001b[A\n",
            "Train Epoch: 9 [7552/10283 (73%)]\tLoss: 0.023586: : 59it [03:42,  3.69s/it]\u001b[A\n",
            "Train Epoch: 9 [7552/10283 (73%)]\tLoss: 0.023586: : 60it [03:42,  3.64s/it]\u001b[A\n",
            "Train Epoch: 9 [7680/10283 (74%)]\tLoss: 0.027173: : 60it [03:45,  3.64s/it]\u001b[A\n",
            "Train Epoch: 9 [7680/10283 (74%)]\tLoss: 0.027173: : 61it [03:45,  3.64s/it]\u001b[A\n",
            "Train Epoch: 9 [7808/10283 (75%)]\tLoss: 0.026565: : 61it [03:49,  3.64s/it]\u001b[A\n",
            "Train Epoch: 9 [7808/10283 (75%)]\tLoss: 0.026565: : 62it [03:49,  3.65s/it]\u001b[A\n",
            "Train Epoch: 9 [7936/10283 (77%)]\tLoss: 0.031456: : 62it [03:53,  3.65s/it]\u001b[A\n",
            "Train Epoch: 9 [7936/10283 (77%)]\tLoss: 0.031456: : 63it [03:53,  3.71s/it]\u001b[A\n",
            "Train Epoch: 9 [8064/10283 (78%)]\tLoss: 0.061044: : 63it [03:57,  3.71s/it]\u001b[A\n",
            "Train Epoch: 9 [8064/10283 (78%)]\tLoss: 0.061044: : 64it [03:57,  3.67s/it]\u001b[A\n",
            "Train Epoch: 9 [8192/10283 (79%)]\tLoss: 0.029206: : 64it [04:00,  3.67s/it]\u001b[A\n",
            "Train Epoch: 9 [8192/10283 (79%)]\tLoss: 0.029206: : 65it [04:00,  3.70s/it]\u001b[A\n",
            "Train Epoch: 9 [8320/10283 (80%)]\tLoss: 0.018380: : 65it [04:04,  3.70s/it]\u001b[A\n",
            "Train Epoch: 9 [8320/10283 (80%)]\tLoss: 0.018380: : 66it [04:04,  3.68s/it]\u001b[A\n",
            "Train Epoch: 9 [8448/10283 (81%)]\tLoss: 0.035705: : 66it [04:08,  3.68s/it]\u001b[A\n",
            "Train Epoch: 9 [8448/10283 (81%)]\tLoss: 0.035705: : 67it [04:08,  3.67s/it]\u001b[A\n",
            "Train Epoch: 9 [8576/10283 (83%)]\tLoss: 0.021794: : 67it [04:11,  3.67s/it]\u001b[A\n",
            "Train Epoch: 9 [8576/10283 (83%)]\tLoss: 0.021794: : 68it [04:11,  3.65s/it]\u001b[A\n",
            "Train Epoch: 9 [8704/10283 (84%)]\tLoss: 0.012954: : 68it [04:15,  3.65s/it]\u001b[A\n",
            "Train Epoch: 9 [8704/10283 (84%)]\tLoss: 0.012954: : 69it [04:15,  3.66s/it]\u001b[A\n",
            "Train Epoch: 9 [8832/10283 (85%)]\tLoss: 0.020565: : 69it [04:19,  3.66s/it]\u001b[A\n",
            "Train Epoch: 9 [8832/10283 (85%)]\tLoss: 0.020565: : 70it [04:19,  3.67s/it]\u001b[A\n",
            "Train Epoch: 9 [8960/10283 (86%)]\tLoss: 0.030201: : 70it [04:22,  3.67s/it]\u001b[A\n",
            "Train Epoch: 9 [8960/10283 (86%)]\tLoss: 0.030201: : 71it [04:22,  3.68s/it]\u001b[A\n",
            "Train Epoch: 9 [9088/10283 (88%)]\tLoss: 0.024486: : 71it [04:26,  3.68s/it]\u001b[A\n",
            "Train Epoch: 9 [9088/10283 (88%)]\tLoss: 0.024486: : 72it [04:26,  3.66s/it]\u001b[A\n",
            "Train Epoch: 9 [9216/10283 (89%)]\tLoss: 0.020920: : 72it [04:30,  3.66s/it]\u001b[A\n",
            "Train Epoch: 9 [9216/10283 (89%)]\tLoss: 0.020920: : 73it [04:30,  3.69s/it]\u001b[A\n",
            "Train Epoch: 9 [9344/10283 (90%)]\tLoss: 0.026843: : 73it [04:33,  3.69s/it]\u001b[A\n",
            "Train Epoch: 9 [9344/10283 (90%)]\tLoss: 0.026843: : 74it [04:33,  3.66s/it]\u001b[A\n",
            "Train Epoch: 9 [9472/10283 (91%)]\tLoss: 0.014356: : 74it [04:37,  3.66s/it]\u001b[A\n",
            "Train Epoch: 9 [9472/10283 (91%)]\tLoss: 0.014356: : 75it [04:37,  3.67s/it]\u001b[A\n",
            "Train Epoch: 9 [9600/10283 (93%)]\tLoss: 0.028098: : 75it [04:41,  3.67s/it]\u001b[A\n",
            "Train Epoch: 9 [9600/10283 (93%)]\tLoss: 0.028098: : 76it [04:41,  3.67s/it]\u001b[A\n",
            "Train Epoch: 9 [9728/10283 (94%)]\tLoss: 0.021737: : 76it [04:44,  3.67s/it]\u001b[A\n",
            "Train Epoch: 9 [9728/10283 (94%)]\tLoss: 0.021737: : 77it [04:44,  3.68s/it]\u001b[A\n",
            "Train Epoch: 9 [9856/10283 (95%)]\tLoss: 0.019228: : 77it [04:48,  3.68s/it]\u001b[A\n",
            "Train Epoch: 9 [9856/10283 (95%)]\tLoss: 0.019228: : 78it [04:48,  3.70s/it]\u001b[A\n",
            "Train Epoch: 9 [9984/10283 (96%)]\tLoss: 0.047825: : 78it [04:52,  3.70s/it]\u001b[A\n",
            "Train Epoch: 9 [9984/10283 (96%)]\tLoss: 0.047825: : 79it [04:52,  3.75s/it]\u001b[A\n",
            "Train Epoch: 9 [10112/10283 (98%)]\tLoss: 0.027163: : 79it [04:56,  3.75s/it]\u001b[A\n",
            "Train Epoch: 9 [10112/10283 (98%)]\tLoss: 0.027163: : 80it [04:56,  3.76s/it]\u001b[A\n",
            "Train Epoch: 9 [3440/10283 (99%)]\tLoss: 0.043107: : 80it [04:57,  3.76s/it] \u001b[A\n",
            "Train Epoch: 9 [3440/10283 (99%)]\tLoss: 0.043107: : 81it [04:57,  3.67s/it]\n"
          ],
          "name": "stderr"
        },
        {
          "output_type": "stream",
          "text": [
            "Finished Training\n"
          ],
          "name": "stdout"
        }
      ]
    },
    {
      "cell_type": "code",
      "metadata": {
        "id": "f0IJrgTZ2CR8",
        "colab_type": "code",
        "colab": {
          "base_uri": "https://localhost:8080/",
          "height": 313
        },
        "outputId": "8e99c6f3-944c-48e6-8791-777c0c9b84f0"
      },
      "source": [
        "plt.title(\"Loss Curve for each epochs\")\n",
        "plt.xlabel(\"Epochs\")\n",
        "plt.ylabel(\"Loss\")\n",
        "plt.plot(losses_r)"
      ],
      "execution_count": 51,
      "outputs": [
        {
          "output_type": "execute_result",
          "data": {
            "text/plain": [
              "[<matplotlib.lines.Line2D at 0x7f7f9e9e4a90>]"
            ]
          },
          "metadata": {
            "tags": []
          },
          "execution_count": 51
        },
        {
          "output_type": "display_data",
          "data": {
            "image/png": "[encoded data removed]",
            "text/plain": [
              "<Figure size 432x288 with 1 Axes>"
            ]
          },
          "metadata": {
            "tags": [],
            "needs_background": "light"
          }
        }
      ]
    },
    {
      "cell_type": "code",
      "metadata": {
        "id": "yyMv5fQA2LTp",
        "colab_type": "code",
        "colab": {
          "base_uri": "https://localhost:8080/",
          "height": 313
        },
        "outputId": "3d86f0b1-a025-4c50-9941-aea85451b266"
      },
      "source": [
        "plt.title(\"Accuracy for each epochs\")\n",
        "plt.plot(acc_r)"
      ],
      "execution_count": 52,
      "outputs": [
        {
          "output_type": "execute_result",
          "data": {
            "text/plain": [
              "[<matplotlib.lines.Line2D at 0x7f7f9e9e4208>]"
            ]
          },
          "metadata": {
            "tags": []
          },
          "execution_count": 52
        },
        {
          "output_type": "display_data",
          "data": {
            "image/png": "[encoded data removed]",
            "text/plain": [
              "<Figure size 432x288 with 1 Axes>"
            ]
          },
          "metadata": {
            "tags": [],
            "needs_background": "light"
          }
        }
      ]
    },
    {
      "cell_type": "markdown",
      "metadata": {
        "id": "mCUTWn4iMjrf",
        "colab_type": "text"
      },
      "source": [
        "#### Testing [Resnet]"
      ]
    },
    {
      "cell_type": "code",
      "metadata": {
        "id": "uAFtXZp0McEI",
        "colab_type": "code",
        "outputId": "e430ef9a-5c8e-48bf-ab7a-62eb48500054",
        "colab": {
          "base_uri": "https://localhost:8080/",
          "height": 170
        }
      },
      "source": [
        "dataiter = iter(testloader)\n",
        "images, labels = dataiter.next()\n",
        "\n",
        "images,labels = images[:4],labels[:4]\n",
        "imshow(torchvision.utils.make_grid(images))\n",
        "print('GroundTruth: ', ' '.join('%5s' % class_names[labels[j]] for j in range(len(images))))\n",
        "\n",
        "images, labels = images.to(device), labels.to(device) #-->convert test image to cuda (if available)\n",
        "outputs = resnet(images)                               #--> forward pass\n",
        "_, predicted = torch.max(outputs, 1)\n",
        "\n",
        "print('Predicted: ', ' '.join('%5s' % class_names[predicted[j]]\n",
        "                              for j in range(len(images))))"
      ],
      "execution_count": 37,
      "outputs": [
        {
          "output_type": "stream",
          "text": [
            "Clipping input data to the valid range for imshow with RGB data ([0..1] for floats or [0..255] for integers).\n"
          ],
          "name": "stderr"
        },
        {
          "output_type": "stream",
          "text": [
            "GroundTruth:  infected normal infected normal\n",
            "Predicted:  infected normal infected normal\n"
          ],
          "name": "stdout"
        },
        {
          "output_type": "display_data",
          "data": {
            "image/png": "[encoded data removed]",
            "text/plain": [
              "<Figure size 432x288 with 1 Axes>"
            ]
          },
          "metadata": {
            "tags": [],
            "needs_background": "light"
          }
        }
      ]
    },
    {
      "cell_type": "markdown",
      "metadata": {
        "id": "cw_Aom4Menu_",
        "colab_type": "text"
      },
      "source": [
        "#### Accuracy (of model trained on ResNet)"
      ]
    },
    {
      "cell_type": "markdown",
      "metadata": {
        "id": "57irOs-ZsbPv",
        "colab_type": "text"
      },
      "source": [
        "**Training Accuracy and Confusion Matrix**"
      ]
    },
    {
      "cell_type": "code",
      "metadata": {
        "id": "dCue5jWxsYwE",
        "colab_type": "code",
        "outputId": "4c530442-ed89-46fe-ecf4-5199761d617b",
        "colab": {
          "base_uri": "https://localhost:8080/",
          "height": 54
        }
      },
      "source": [
        "acc, pred, lbls = Accuracy(resnet,trainloader)\n",
        "print('\\n [ Training Accuracy ] : %d %%' % acc)"
      ],
      "execution_count": 0,
      "outputs": [
        {
          "output_type": "stream",
          "text": [
            " Iterating on image batches :  145\n",
            " [ Training Accuracy ] : 91 %\n"
          ],
          "name": "stdout"
        }
      ]
    },
    {
      "cell_type": "code",
      "metadata": {
        "id": "CyAQ8_RvsxJ6",
        "colab_type": "code",
        "outputId": "14e8b32b-1d84-49f5-ee64-4ea9911ef7bf",
        "colab": {
          "base_uri": "https://localhost:8080/",
          "height": 366
        }
      },
      "source": [
        "# confusion matrix for training \n",
        "conf_mat=confusion_matrix(lbls.cpu().numpy(), pred.cpu().numpy())\n",
        "plot_confusion_matrix(conf_mat,class_names,title=\"Confusion Matrix Training data\")"
      ],
      "execution_count": 0,
      "outputs": [
        {
          "output_type": "stream",
          "text": [
            "Confusion matrix, without normalization\n",
            "[[3560  519]\n",
            " [ 271 4929]]\n"
          ],
          "name": "stdout"
        },
        {
          "output_type": "display_data",
          "data": {
            "image/png": "[encoded data removed]",
            "text/plain": [
              "<Figure size 432x288 with 2 Axes>"
            ]
          },
          "metadata": {
            "tags": [],
            "needs_background": "light"
          }
        }
      ]
    },
    {
      "cell_type": "markdown",
      "metadata": {
        "id": "FkUcVfXPvJCV",
        "colab_type": "text"
      },
      "source": [
        "**Testing Accuracy and Confusion Matrix**"
      ]
    },
    {
      "cell_type": "code",
      "metadata": {
        "id": "mjkTV0covdWn",
        "colab_type": "code",
        "outputId": "083488ea-b3ad-4bb3-a9ee-9f9e91d0d6d3",
        "colab": {
          "base_uri": "https://localhost:8080/",
          "height": 54
        }
      },
      "source": [
        "ac, p, lb = Accuracy(resnet,testloader)\n",
        "print('\\n [ Testing Accuracy ] : %d %%' % ac)"
      ],
      "execution_count": 0,
      "outputs": [
        {
          "output_type": "stream",
          "text": [
            " Iterating on image batches :  94\n",
            " [ Testing Accuracy ] : 87 %\n"
          ],
          "name": "stdout"
        }
      ]
    },
    {
      "cell_type": "code",
      "metadata": {
        "id": "PMWE66QmvgUT",
        "colab_type": "code",
        "outputId": "27500438-32c5-4879-ef30-0fff376c2cce",
        "colab": {
          "base_uri": "https://localhost:8080/",
          "height": 366
        }
      },
      "source": [
        "# confusion matrix for testing \n",
        "conf_mat=confusion_matrix(lb.cpu().numpy(), p.cpu().numpy())\n",
        "plot_confusion_matrix(conf_mat,class_names,title=\"Confusion Matrix Testing data\")"
      ],
      "execution_count": 0,
      "outputs": [
        {
          "output_type": "stream",
          "text": [
            "Confusion matrix, without normalization\n",
            "[[511 104]\n",
            " [ 97 788]]\n"
          ],
          "name": "stdout"
        },
        {
          "output_type": "display_data",
          "data": {
            "image/png": "[encoded data removed]",
            "text/plain": [
              "<Figure size 432x288 with 2 Axes>"
            ]
          },
          "metadata": {
            "tags": [],
            "needs_background": "light"
          }
        }
      ]
    },
    {
      "cell_type": "markdown",
      "metadata": {
        "id": "OoDClOi5vtR4",
        "colab_type": "text"
      },
      "source": [
        "**Validation Accuracy and Confusion Matrix**"
      ]
    },
    {
      "cell_type": "code",
      "metadata": {
        "id": "pZi_m7P3vw5X",
        "colab_type": "code",
        "outputId": "d19c385c-ca09-4c01-924d-580a5946dca9",
        "colab": {
          "base_uri": "https://localhost:8080/",
          "height": 54
        }
      },
      "source": [
        "ac, pr, lb = Accuracy(resnet,validloader)\n",
        "print('\\n [ Validation Accuracy ] : %d %%' % ac)"
      ],
      "execution_count": 0,
      "outputs": [
        {
          "output_type": "stream",
          "text": [
            "\n",
            " [ Validation Accuracy ] : 81 %\n"
          ],
          "name": "stdout"
        }
      ]
    },
    {
      "cell_type": "code",
      "metadata": {
        "id": "EfPCr3Pfv0xY",
        "colab_type": "code",
        "outputId": "28539623-4625-4f50-9370-83e21e399e76",
        "colab": {
          "base_uri": "https://localhost:8080/",
          "height": 366
        }
      },
      "source": [
        "# confusion matrix for validation data \n",
        "conf_mat=confusion_matrix(lb.cpu().numpy(), pr.cpu().numpy())\n",
        "plot_confusion_matrix(conf_mat,class_names,title=\"Confusion Matrix Validation data\")"
      ],
      "execution_count": 0,
      "outputs": [
        {
          "output_type": "stream",
          "text": [
            "Confusion matrix, without normalization\n",
            "[[510 105]\n",
            " [176 709]]\n"
          ],
          "name": "stdout"
        },
        {
          "output_type": "display_data",
          "data": {
            "image/png": "[encoded data removed]",
            "text/plain": [
              "<Figure size 432x288 with 2 Axes>"
            ]
          },
          "metadata": {
            "tags": [],
            "needs_background": "light"
          }
        }
      ]
    },
    {
      "cell_type": "code",
      "metadata": {
        "id": "ysTExkT10aD2",
        "colab_type": "code",
        "colab": {}
      },
      "source": [
        ""
      ],
      "execution_count": 0,
      "outputs": []
    },
    {
      "cell_type": "markdown",
      "metadata": {
        "id": "mKekqh3p0mYs",
        "colab_type": "text"
      },
      "source": [
        "*Testing*"
      ]
    },
    {
      "cell_type": "code",
      "metadata": {
        "id": "v18kLsCm0OcZ",
        "colab_type": "code",
        "outputId": "1e14d2cc-0a07-4ce2-f31b-2396406ce507",
        "colab": {
          "base_uri": "https://localhost:8080/",
          "height": 254
        }
      },
      "source": [
        "dataiter = iter(testloader)\n",
        "images, labels = dataiter.next()\n",
        "\n",
        "images,labels = images[:2],labels[:2]\n",
        "imshow(torchvision.utils.make_grid(images))\n",
        "print('GroundTruth: ', ' '.join('%5s' % class_names[labels[j]] for j in range(len(images))))\n",
        "\n",
        "images, labels = images.to(device), labels.to(device) #-->convert test image to cuda (if available)\n",
        "outputs = resnet(images)                               #--> forward pass\n",
        "_, predicted = torch.max(outputs, 1)\n",
        "\n",
        "print('Predicted: ', ' '.join('%5s' % class_names[predicted[j]]\n",
        "                              for j in range(len(images))))"
      ],
      "execution_count": 0,
      "outputs": [
        {
          "output_type": "stream",
          "text": [
            "Clipping input data to the valid range for imshow with RGB data ([0..1] for floats or [0..255] for integers).\n"
          ],
          "name": "stderr"
        },
        {
          "output_type": "stream",
          "text": [
            "GroundTruth:  normal infected\n",
            "Predicted:  normal infected\n"
          ],
          "name": "stdout"
        },
        {
          "output_type": "display_data",
          "data": {
            "image/png": "[encoded data removed]",
            "text/plain": [
              "<Figure size 432x288 with 1 Axes>"
            ]
          },
          "metadata": {
            "tags": [],
            "needs_background": "light"
          }
        }
      ]
    },
    {
      "cell_type": "markdown",
      "metadata": {
        "id": "CONri-Ly3X-0",
        "colab_type": "text"
      },
      "source": [
        "## **Task 2** "
      ]
    },
    {
      "cell_type": "markdown",
      "metadata": {
        "id": "T5GL0s_xYAyR",
        "colab_type": "text"
      },
      "source": [
        "For task 2 we are again loading pretrained model of VGG 16 and Resnet 18"
      ]
    },
    {
      "cell_type": "code",
      "metadata": {
        "id": "v91xh7C0X5-Z",
        "colab_type": "code",
        "colab": {
          "base_uri": "https://localhost:8080/",
          "height": 154,
          "referenced_widgets": [
            "1b17b082051147c39ae42a4ff2a25f2e",
            "f24d17997fa1486e9ee2d12737f2818f",
            "d04f4e3260c54b119f249c3cd98c02ff",
            "d560253f3d35482493abd1698c0811ff",
            "7c1137d0fa3847f7930f55507b78541c",
            "d9abb35e6aa24c5db22b2d55c6b1881a",
            "d22b461a64354a02bd1430b4ce6043a3",
            "8a4e1c7dd3024cd695f315d8a6fce2b1",
            "097bb911ee584ab199ed5bc24ae7910b",
            "bb4e34e7788d4f7ca66fbf50596ae58c",
            "41f86d50bdb4482fac460b88a4c646f0",
            "9fcf7dfe7f194363b44225b993954a2d",
            "4c2d893f0900409a966e9f771417c867",
            "b9be40a6b7644601864c07ce6382c370",
            "0cdfeaa982de4c8893d5738603174d54",
            "fc8de2a6c9ef49a488aec3ca1a8db84a"
          ]
        },
        "outputId": "925bcd2b-086f-4982-8d16-77d33e3c3d00"
      },
      "source": [
        "# Load the pretrained model from pytorch\n",
        "\n",
        "# Load VGG 16\n",
        "VGG = models.vgg16(pretrained=True)\n",
        "# Load ResNet16\n",
        "RESNET = models.resnet18(pretrained= True)"
      ],
      "execution_count": 39,
      "outputs": [
        {
          "output_type": "stream",
          "text": [
            "Downloading: \"https://download.pytorch.org/models/vgg16-397923af.pth\" to /root/.cache/torch/checkpoints/vgg16-397923af.pth\n"
          ],
          "name": "stderr"
        },
        {
          "output_type": "display_data",
          "data": {
            "application/vnd.jupyter.widget-view+json": {
              "model_id": "1b17b082051147c39ae42a4ff2a25f2e",
              "version_minor": 0,
              "version_major": 2
            },
            "text/plain": [
              "HBox(children=(IntProgress(value=0, max=553433881), HTML(value='')))"
            ]
          },
          "metadata": {
            "tags": []
          }
        },
        {
          "output_type": "stream",
          "text": [
            "\n"
          ],
          "name": "stdout"
        },
        {
          "output_type": "stream",
          "text": [
            "Downloading: \"https://download.pytorch.org/models/resnet18-5c106cde.pth\" to /root/.cache/torch/checkpoints/resnet18-5c106cde.pth\n"
          ],
          "name": "stderr"
        },
        {
          "output_type": "display_data",
          "data": {
            "application/vnd.jupyter.widget-view+json": {
              "model_id": "097bb911ee584ab199ed5bc24ae7910b",
              "version_minor": 0,
              "version_major": 2
            },
            "text/plain": [
              "HBox(children=(IntProgress(value=0, max=46827520), HTML(value='')))"
            ]
          },
          "metadata": {
            "tags": []
          }
        },
        {
          "output_type": "stream",
          "text": [
            "\n"
          ],
          "name": "stdout"
        }
      ]
    },
    {
      "cell_type": "code",
      "metadata": {
        "id": "xvsbFpprYqlN",
        "colab_type": "code",
        "colab": {}
      },
      "source": [
        "#print(VGG)"
      ],
      "execution_count": 0,
      "outputs": []
    },
    {
      "cell_type": "code",
      "metadata": {
        "id": "s4u09dDRlOZa",
        "colab_type": "code",
        "colab": {}
      },
      "source": [
        "# Freeze training for all layers except last 5\n",
        "for param in VGG.features[:25].parameters():\n",
        "    param.requires_grad = False"
      ],
      "execution_count": 0,
      "outputs": []
    },
    {
      "cell_type": "code",
      "metadata": {
        "id": "Cz0YYalUhiF-",
        "colab_type": "code",
        "colab": {
          "base_uri": "https://localhost:8080/",
          "height": 54
        },
        "outputId": "d9b3f05c-a912-4eed-9834-3949e38cd7af"
      },
      "source": [
        "num_features = VGG.classifier[0].in_features\n",
        "\n",
        "# update FC Layer new features\n",
        "features = list(VGG.classifier.children())[:-7] \n",
        "print(features)\n",
        "print(num_features)\n",
        "\n",
        "#(Last 2 digits of your roll number x 10) + 100  = (36X10)+100 = 460\n",
        "features.extend(\n",
        "    [nn.Linear(num_features, 460 ),\n",
        "     nn.ReLU(inplace=True),\n",
        "     nn.Dropout(p=0.5,inplace=False),\n",
        "     nn.Linear(460 ,len(class_names))])"
      ],
      "execution_count": 57,
      "outputs": [
        {
          "output_type": "stream",
          "text": [
            "[]\n",
            "25088\n"
          ],
          "name": "stdout"
        }
      ]
    },
    {
      "cell_type": "code",
      "metadata": {
        "id": "lxNlbOL0iPQT",
        "colab_type": "code",
        "colab": {
          "base_uri": "https://localhost:8080/",
          "height": 788
        },
        "outputId": "4d7c5486-cee1-4f37-fa1c-fdea4702459d"
      },
      "source": [
        "VGG.classifier = nn.Sequential(*features)\n",
        "print(VGG)"
      ],
      "execution_count": 58,
      "outputs": [
        {
          "output_type": "stream",
          "text": [
            "VGG(\n",
            "  (features): Sequential(\n",
            "    (0): Conv2d(3, 64, kernel_size=(3, 3), stride=(1, 1), padding=(1, 1))\n",
            "    (1): ReLU(inplace=True)\n",
            "    (2): Conv2d(64, 64, kernel_size=(3, 3), stride=(1, 1), padding=(1, 1))\n",
            "    (3): ReLU(inplace=True)\n",
            "    (4): MaxPool2d(kernel_size=2, stride=2, padding=0, dilation=1, ceil_mode=False)\n",
            "    (5): Conv2d(64, 128, kernel_size=(3, 3), stride=(1, 1), padding=(1, 1))\n",
            "    (6): ReLU(inplace=True)\n",
            "    (7): Conv2d(128, 128, kernel_size=(3, 3), stride=(1, 1), padding=(1, 1))\n",
            "    (8): ReLU(inplace=True)\n",
            "    (9): MaxPool2d(kernel_size=2, stride=2, padding=0, dilation=1, ceil_mode=False)\n",
            "    (10): Conv2d(128, 256, kernel_size=(3, 3), stride=(1, 1), padding=(1, 1))\n",
            "    (11): ReLU(inplace=True)\n",
            "    (12): Conv2d(256, 256, kernel_size=(3, 3), stride=(1, 1), padding=(1, 1))\n",
            "    (13): ReLU(inplace=True)\n",
            "    (14): Conv2d(256, 256, kernel_size=(3, 3), stride=(1, 1), padding=(1, 1))\n",
            "    (15): ReLU(inplace=True)\n",
            "    (16): MaxPool2d(kernel_size=2, stride=2, padding=0, dilation=1, ceil_mode=False)\n",
            "    (17): Conv2d(256, 512, kernel_size=(3, 3), stride=(1, 1), padding=(1, 1))\n",
            "    (18): ReLU(inplace=True)\n",
            "    (19): Conv2d(512, 512, kernel_size=(3, 3), stride=(1, 1), padding=(1, 1))\n",
            "    (20): ReLU(inplace=True)\n",
            "    (21): Conv2d(512, 512, kernel_size=(3, 3), stride=(1, 1), padding=(1, 1))\n",
            "    (22): ReLU(inplace=True)\n",
            "    (23): MaxPool2d(kernel_size=2, stride=2, padding=0, dilation=1, ceil_mode=False)\n",
            "    (24): Conv2d(512, 512, kernel_size=(3, 3), stride=(1, 1), padding=(1, 1))\n",
            "    (25): ReLU(inplace=True)\n",
            "    (26): Conv2d(512, 512, kernel_size=(3, 3), stride=(1, 1), padding=(1, 1))\n",
            "    (27): ReLU(inplace=True)\n",
            "    (28): Conv2d(512, 512, kernel_size=(3, 3), stride=(1, 1), padding=(1, 1))\n",
            "    (29): ReLU(inplace=True)\n",
            "    (30): MaxPool2d(kernel_size=2, stride=2, padding=0, dilation=1, ceil_mode=False)\n",
            "  )\n",
            "  (avgpool): AdaptiveAvgPool2d(output_size=(7, 7))\n",
            "  (classifier): Sequential(\n",
            "    (0): Linear(in_features=25088, out_features=460, bias=True)\n",
            "    (1): ReLU(inplace=True)\n",
            "    (2): Dropout(p=0.5, inplace=False)\n",
            "    (3): Linear(in_features=460, out_features=2, bias=True)\n",
            "  )\n",
            ")\n"
          ],
          "name": "stdout"
        }
      ]
    },
    {
      "cell_type": "code",
      "metadata": {
        "id": "kFZT34Y4oUmQ",
        "colab_type": "code",
        "colab": {}
      },
      "source": [
        "# Loss fucntion and optimizer\n",
        "Epochs = 10\n",
        "criterion = nn.CrossEntropyLoss()\n",
        "optimizer = optim.SGD(VGG.parameters(), lr=0.001, momentum=0.9)"
      ],
      "execution_count": 0,
      "outputs": []
    },
    {
      "cell_type": "code",
      "metadata": {
        "id": "wzT518-EoSNH",
        "colab_type": "code",
        "colab": {
          "base_uri": "https://localhost:8080/",
          "height": 35
        },
        "outputId": "079766b2-15b6-4957-eb3b-38e93d5c47b3"
      },
      "source": [
        "from tqdm import tqdm\n",
        "\n",
        "device = torch.device(\"cuda:0\" if torch.cuda.is_available() else \"cpu\")\n",
        "resnet.to(device)\n",
        "\n",
        "VGG.train()\n",
        "\n",
        "n = len(train_data)\n",
        "loss_VGG = []\n",
        "acc_VGG = []\n",
        "correct = 0\n",
        "\n",
        "for epoch in range(Epochs):  # loop over the dataset multiple times\n",
        "\n",
        "    running_loss = 0.0\n",
        "    pbar = tqdm(enumerate(trainloader))\n",
        "    for i, data in pbar:\n",
        "        \n",
        "        inputs, labels = data\n",
        "        inputs, labels = inputs.to(device), labels.to(device)\n",
        "\n",
        "        optimizer.zero_grad()\n",
        "    \n",
        "        outputs = resnet(inputs)               #----> forward pass\n",
        "        loss = criterion(outputs, labels)   #----> compute loss\n",
        "        loss.backward()                     #----> backward pass\n",
        "        optimizer.step()                    #----> weights update\n",
        "\n",
        "      \n",
        "        running_loss += loss.item()\n",
        "\n",
        "        _, predicted = torch.max(outputs.data, 1)\n",
        "        correct += (predicted == labels).float().sum().item()\n",
        "\n",
        "        pbar.set_description(\n",
        "            'Train Epoch: {} [{}/{} ({:.0f}%)]\\tLoss: {:.6f}'.format(\n",
        "                epoch, i * len(inputs), len(trainloader.dataset),\n",
        "                100. * i / len(trainloader),\n",
        "                loss.data))\n",
        "\n",
        "    acc_VGG.append(100 * correct / n) \n",
        "    loss_VGG.append(running_loss/len(trainloader))\n",
        "        \n",
        "    torch.save(resnet.state_dict(), '/content/drive/My Drive/Colab Notebooks/vgg16_Few_Only_1.pth')\n",
        "\n",
        "print('Finished Training')"
      ],
      "execution_count": 0,
      "outputs": [
        {
          "output_type": "stream",
          "text": [
            "Train Epoch: 0 [1152/10717 (11%)]\tLoss: 0.023953: : 10it [17:09, 102.28s/it]"
          ],
          "name": "stderr"
        }
      ]
    }
  ]
}