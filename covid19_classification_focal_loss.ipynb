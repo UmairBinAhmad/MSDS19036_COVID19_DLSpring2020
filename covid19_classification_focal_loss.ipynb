{
  "nbformat": 4,
  "nbformat_minor": 0,
  "metadata": {
    "colab": {
      "name": " covid19_classification_focal_loss.ipynb ",
      "provenance": [],
      "collapsed_sections": [],
      "mount_file_id": "1-kbVmoGmnn4i45mYf2kI0fc7noFLM4Ez",
      "authorship_tag": "ABX9TyM1j1B4uLxc+flmPfBNi/lS"
    },
    "kernelspec": {
      "name": "python3",
      "display_name": "Python 3"
    },
    "accelerator": "GPU"
  },
  "cells": [
    {
      "cell_type": "code",
      "metadata": {
        "id": "_xujXUxKde8z",
        "colab_type": "code",
        "colab": {}
      },
      "source": [
        "import torch\n",
        "import torch.nn as nn\n",
        "import torch.optim as optim\n",
        "from torch.optim import lr_scheduler\n",
        "from torch.autograd import Variable\n",
        "import numpy as np\n",
        "import torchvision\n",
        "import torch.nn.functional as F\n",
        "from torchvision import datasets, models, transforms\n",
        "import matplotlib.pyplot as plt\n",
        "import time\n",
        "import os\n",
        "import copy\n",
        "#from sklearn.metrics import confusion_matrix\n",
        "from sklearn.metrics import multilabel_confusion_matrix\n",
        "from sklearn.metrics import f1_score, precision_score, recall_score\n",
        "import itertools\n",
        "import sklearn \n",
        "import csv"
      ],
      "execution_count": 0,
      "outputs": []
    },
    {
      "cell_type": "code",
      "metadata": {
        "id": "e6L9msFJecAZ",
        "colab_type": "code",
        "colab": {}
      },
      "source": [
        "data_dir = '/content/drive/My Drive/A_05_Part_02_Dataset'"
      ],
      "execution_count": 0,
      "outputs": []
    },
    {
      "cell_type": "code",
      "metadata": {
        "id": "35ZPPsQVeaxz",
        "colab_type": "code",
        "colab": {}
      },
      "source": [
        "train_transforms = transforms.Compose([transforms.Resize(256),\n",
        "                                       transforms.CenterCrop(224),\n",
        "                                       transforms.ToTensor(),\n",
        "                                       transforms.Normalize([0.485, 0.456, 0.406],\n",
        "                                                            [0.229, 0.224, 0.225])])\n",
        "\n",
        "valid_transforms = transforms.Compose([transforms.Resize(256),\n",
        "                                       transforms.CenterCrop(224),\n",
        "                                       transforms.ToTensor(),\n",
        "                                       transforms.Normalize([0.485, 0.456, 0.406],\n",
        "                                                            [0.229, 0.224, 0.225])])\n",
        "\n",
        "test_transforms = transforms.Compose([transforms.Resize(256),\n",
        "                                      transforms.CenterCrop(224),\n",
        "                                      transforms.ToTensor(),\n",
        "                                      transforms.Normalize([0.485, 0.456, 0.406],\n",
        "                                                           [0.229, 0.224, 0.225])])"
      ],
      "execution_count": 0,
      "outputs": []
    },
    {
      "cell_type": "code",
      "metadata": {
        "id": "mKPdX4VAfCFl",
        "colab_type": "code",
        "outputId": "6f80419d-e1b3-4d17-fe0f-310539bb5bcf",
        "colab": {
          "base_uri": "https://localhost:8080/",
          "height": 54
        }
      },
      "source": [
        "#pass transform here-in\n",
        "train_data = datasets.ImageFolder(data_dir + '/Train', transform=train_transforms)\n",
        "validation_data = datasets.ImageFolder(data_dir + '/Validation', transform=valid_transforms)\n",
        "\n",
        "trainloader = torch.utils.data.DataLoader(train_data, batch_size=64, shuffle=True, num_workers=8, pin_memory=True)\n",
        "validloader = torch.utils.data.DataLoader(validation_data, batch_size=16, shuffle = True, num_workers=4)\n",
        "\n",
        "print(\"Classes: \")\n",
        "class_names = train_data.classes\n",
        "print(class_names)"
      ],
      "execution_count": 4,
      "outputs": [
        {
          "output_type": "stream",
          "text": [
            "Classes: \n",
            "['covid-19', 'normal', 'pneumonia']\n"
          ],
          "name": "stdout"
        }
      ]
    },
    {
      "cell_type": "code",
      "metadata": {
        "id": "mOKNWIaJD-Nf",
        "colab_type": "code",
        "colab": {}
      },
      "source": [
        "class ImageFolderWithPaths(datasets.ImageFolder):\n",
        "  def __getitem__(self, index):\n",
        "    original_tuple = super(ImageFolderWithPaths, self).__getitem__(index)\n",
        "    path = self.imgs[index][0]\n",
        "    tuple_with_path = (original_tuple + (path,))\n",
        "    return tuple_with_path"
      ],
      "execution_count": 0,
      "outputs": []
    },
    {
      "cell_type": "code",
      "metadata": {
        "id": "yoKqoLfDENXF",
        "colab_type": "code",
        "colab": {}
      },
      "source": [
        "test_data = ImageFolderWithPaths(data_dir+'/Test', transform=test_transforms) \n",
        "testloader = torch.utils.data.DataLoader(test_data, num_workers=4)"
      ],
      "execution_count": 0,
      "outputs": []
    },
    {
      "cell_type": "code",
      "metadata": {
        "id": "T8opW9KhiQsu",
        "colab_type": "code",
        "outputId": "5b007f34-d5c9-45b7-9567-9418d7497e62",
        "colab": {
          "base_uri": "https://localhost:8080/",
          "height": 72
        }
      },
      "source": [
        "print(len(train_data))\n",
        "print(len(validation_data))\n",
        "print(len(test_data))"
      ],
      "execution_count": 7,
      "outputs": [
        {
          "output_type": "stream",
          "text": [
            "6200\n",
            "628\n",
            "629\n"
          ],
          "name": "stdout"
        }
      ]
    },
    {
      "cell_type": "code",
      "metadata": {
        "id": "CVTFk8y1YJfL",
        "colab_type": "code",
        "outputId": "466e0c0d-de2b-4528-e4ae-dbec41fccf03",
        "colab": {
          "base_uri": "https://localhost:8080/",
          "height": 149
        }
      },
      "source": [
        "def imshow(inp, title=None):\n",
        "    inp = inp.numpy().transpose((1, 2, 0))\n",
        "    plt.axis('off')\n",
        "    plt.imshow(inp)\n",
        "    if title is not None:\n",
        "        plt.title(title)\n",
        "\n",
        "def show_databatch(inputs, classes):\n",
        "    out = torchvision.utils.make_grid(inputs)\n",
        "    imshow(out, title=[class_names[x] for x in classes])\n",
        "\n",
        "inputs, classes = next(iter(validloader))\n",
        "show_databatch(inputs, classes)"
      ],
      "execution_count": 8,
      "outputs": [
        {
          "output_type": "stream",
          "text": [
            "Clipping input data to the valid range for imshow with RGB data ([0..1] for floats or [0..255] for integers).\n"
          ],
          "name": "stderr"
        },
        {
          "output_type": "display_data",
          "data": {
            "image/png": "[encoded data removed]",
            "text/plain": [
              "<Figure size 432x288 with 1 Axes>"
            ]
          },
          "metadata": {
            "tags": [],
            "needs_background": "light"
          }
        }
      ]
    },
    {
      "cell_type": "markdown",
      "metadata": {
        "id": "7pmTX1gW74M5",
        "colab_type": "text"
      },
      "source": [
        "#### ***Metrics and Accuracy Functions***"
      ]
    },
    {
      "cell_type": "code",
      "metadata": {
        "id": "utYYwjDw8ORQ",
        "colab_type": "code",
        "colab": {}
      },
      "source": [
        "def metrics(true_labels,predicted_labels):\n",
        "  pre=[]\n",
        "  for x in predicted_labels:\n",
        "    for y in x:\n",
        "      pre.append(y.cpu().numpy())\n",
        "  act=[]\n",
        "  for x in true_labels:\n",
        "    for y in x:\n",
        "      act.append(y.cpu().numpy())\n",
        "\n",
        "  act = np.asarray(act)\n",
        "  pre = np.asarray(pre)\n",
        "\n",
        "  recall = recall_score(y_true = act, y_pred= pre, average='weighted')\n",
        "  precision = precision_score(y_true = act, y_pred= pre, average='weighted')\n",
        "  F1_Score = f1_score(y_true = act, y_pred= pre, average='weighted')\n",
        "  conf_matrix = multilabel_confusion_matrix(act,pre)\n",
        "  return recall, precision, F1_Score, conf_matrix "
      ],
      "execution_count": 0,
      "outputs": []
    },
    {
      "cell_type": "code",
      "metadata": {
        "id": "N8hACCm89GmI",
        "colab_type": "code",
        "colab": {}
      },
      "source": [
        "def Sigmoid(X):\n",
        "  Sigm = nn.Sigmoid()\n",
        "  s = Sigm(X)\n",
        "  return s"
      ],
      "execution_count": 0,
      "outputs": []
    },
    {
      "cell_type": "code",
      "metadata": {
        "id": "dKvuWSwq72H8",
        "colab_type": "code",
        "colab": {}
      },
      "source": [
        "def ClassWise_Accuracy(network, dataset, class_labels):\n",
        "  inx = 0 \n",
        "  class_correct = list(0. for i in range(len(class_labels)))\n",
        "  class_total = list(0. for i in range(len(class_labels)))\n",
        "  covid_class = torch.FloatTensor([1., 0., 1.]).cuda()\n",
        "  normal_class = torch.FloatTensor([0., 1., 0.]).cuda()\n",
        "  pneumonia_class = torch.FloatTensor([0., 0., 1.]).cuda()\n",
        "  with torch.no_grad():\n",
        "    for data in dataset:\n",
        "        images, labels = data\n",
        "        lbls = one_hot_encode(labels)\n",
        "        images, lbls = images.to(device), lbls.to(device)\n",
        "        outputs = network(images)\n",
        "        predicted = Sigmoid(outputs)\n",
        "        predicted[predicted > 0.5] = 1\n",
        "        predicted[predicted <= 0.5] = 0\n",
        "        for j in range(0,lbls.size(0)):\n",
        "          if (predicted[j] == covid_class).sum()==3 and (predicted[j]==lbls[j]).sum()==3:\n",
        "            class_correct[0]+=1\n",
        "          if (predicted[j] == normal_class).sum()==3 and (predicted[j]==lbls[j]).sum()==3:\n",
        "            class_correct[1]+=1\n",
        "          if (predicted[j] == pneumonia_class).sum()==3 and (predicted[j]==lbls[j]).sum()==3:\n",
        "            class_correct[2]+=1\n",
        "          if (lbls[j] == covid_class).sum()==3: class_total[0]+=1\n",
        "          if (lbls[j] == normal_class).sum()==3: class_total[1]+=1\n",
        "          if (lbls[j] == pneumonia_class).sum()==3: class_total[2]+=1\n",
        "        inx += 1\n",
        "        print(\"\\r: \",inx,end=\"\")\n",
        "  print(\"\\n\")\n",
        "  for i in range(len(class_labels)):\n",
        "    print('Accuracy of %5s : %2d %%' % (class_labels[i], 100 * class_correct[i] / class_total[i]))\n",
        "    print(class_labels[i],': ',class_correct[i],'/',class_total[i])"
      ],
      "execution_count": 0,
      "outputs": []
    },
    {
      "cell_type": "code",
      "metadata": {
        "id": "KWkFEOdb8WmL",
        "colab_type": "code",
        "colab": {}
      },
      "source": [
        "def ModelAccuracy(network, dataset):\n",
        "\n",
        "  correct = total = inx = 0 \n",
        "  predlist=[]\n",
        "  lbllist=[]\n",
        "\n",
        "  with torch.no_grad():\n",
        "    for data in dataset:\n",
        "\n",
        "        images, labels = data\n",
        "        lbls = one_hot_encode(labels)\n",
        "        images, lbls = images.to(device), lbls.to(device)\n",
        "        outputs = network(images)\n",
        "        predicted = Sigmoid(outputs)\n",
        "        predicted[predicted > 0.5] = 1\n",
        "        predicted[predicted <= 0.5] = 0\n",
        "\n",
        "        predlist.append(predicted)\n",
        "        lbllist.append(lbls)\n",
        "\n",
        "        c_count = 0\n",
        "        for j in range(0,lbls.size(0)):\n",
        "          if(predicted[j]==lbls[j]).sum()==3:\n",
        "            c_count+=1\n",
        "            correct+=1\n",
        "\n",
        "        inx += 1\n",
        "        print(\"\\rIterating on image batches : \",inx,end=\"\")\n",
        "        total += labels.size(0)\n",
        "        \n",
        "  return (100*correct/total), predlist, lbllist"
      ],
      "execution_count": 0,
      "outputs": []
    },
    {
      "cell_type": "code",
      "metadata": {
        "id": "xdfPVS-q9PnB",
        "colab_type": "code",
        "colab": {}
      },
      "source": [
        "def one_hot_encode(X):\n",
        "  OneHot = []\n",
        "  for label in X:\n",
        "    if label == 0:\n",
        "      OneHot.append([1., 0., 1.])\n",
        "    if label == 1:\n",
        "      OneHot.append([0., 1., 0.])\n",
        "    if label == 2:\n",
        "      OneHot.append([0., 0., 1.])\n",
        "\n",
        "  return torch.FloatTensor(OneHot)"
      ],
      "execution_count": 0,
      "outputs": []
    },
    {
      "cell_type": "code",
      "metadata": {
        "id": "ca3KAzPZExpl",
        "colab_type": "code",
        "colab": {}
      },
      "source": [
        "device = torch.device(\"cuda:0\" if torch.cuda.is_available() else \"cpu\")"
      ],
      "execution_count": 0,
      "outputs": []
    },
    {
      "cell_type": "markdown",
      "metadata": {
        "id": "HAtvP9rfaItH",
        "colab_type": "text"
      },
      "source": [
        "### **Fine Tuning on VGG 16**\n",
        "*BCEWithLogitsLoss*"
      ]
    },
    {
      "cell_type": "code",
      "metadata": {
        "id": "_jvpeEdMaOJV",
        "colab_type": "code",
        "colab": {}
      },
      "source": [
        "# Load the pretrained model\n",
        "vgg16 = models.vgg16(pretrained=False)"
      ],
      "execution_count": 0,
      "outputs": []
    },
    {
      "cell_type": "code",
      "metadata": {
        "id": "Y7rrCNubpJjg",
        "colab_type": "code",
        "colab": {}
      },
      "source": [
        "num_features = vgg16.classifier[0].in_features\n",
        "features = list(vgg16.classifier.children())[:-7] # Remove last layer\n",
        "print(features)\n",
        "print(num_features)\n",
        "\n",
        "features.extend(\n",
        "    [nn.Linear(num_features, 4096 ),\n",
        "     nn.ReLU(inplace=True),\n",
        "     nn.Dropout(p=0.5,inplace=False),\n",
        "\n",
        "     nn.Linear(4096 , 900 ),\n",
        "     nn.ReLU(inplace=True),\n",
        "     nn.Dropout(p=0.5,inplace=False),\n",
        "\n",
        "     nn.Linear(900 ,len(class_names))])\n",
        "\n",
        "vgg16.classifier = nn.Sequential(*features)\n",
        "print(vgg16)"
      ],
      "execution_count": 0,
      "outputs": []
    },
    {
      "cell_type": "code",
      "metadata": {
        "id": "b7Am3gcgPwiz",
        "colab_type": "code",
        "colab": {}
      },
      "source": [
        "# load pretrained model\n",
        "vgg16.load_state_dict(torch.load('/content/drive/My Drive/covid19_weights_2/vgg16_BCE.pth'))\n",
        "vgg16.cuda()"
      ],
      "execution_count": 0,
      "outputs": []
    },
    {
      "cell_type": "code",
      "metadata": {
        "id": "rQVr4d61g6IK",
        "colab_type": "code",
        "colab": {}
      },
      "source": [
        "# Loss fucntion and optimizer\n",
        "Epochs = 30\n",
        "criterion = nn.BCEWithLogitsLoss()\n",
        "optimizer = optim.SGD(vgg16.parameters(), lr=0.001, momentum=0.9)"
      ],
      "execution_count": 0,
      "outputs": []
    },
    {
      "cell_type": "code",
      "metadata": {
        "id": "YT2pfuNToYav",
        "colab_type": "code",
        "colab": {}
      },
      "source": [
        "device = torch.device(\"cuda:0\" if torch.cuda.is_available() else \"cpu\")"
      ],
      "execution_count": 0,
      "outputs": []
    },
    {
      "cell_type": "code",
      "metadata": {
        "id": "yiyWUz9nwIjJ",
        "colab_type": "code",
        "colab": {}
      },
      "source": [
        "from tqdm import tqdm\n",
        "\n",
        "device = torch.device(\"cuda:0\" if torch.cuda.is_available() else \"cpu\")\n",
        "vgg16.to(device)\n",
        "\n",
        "vgg16.train()\n",
        "Sigm = nn.Sigmoid() # Sigmoid \n",
        "n = len(train_data)\n",
        "\n",
        "loss_v = []\n",
        "acc_v = []\n",
        "correct = 0\n",
        "\n",
        "for epoch in range(Epochs):  \n",
        "\n",
        "    running_loss = 0.0\n",
        "    pbar = tqdm(enumerate(trainloader))\n",
        "    for i, data in pbar:\n",
        "        \n",
        "        inputs, labels = data\n",
        "        \n",
        "        lbls = one_hot_encode(labels)\n",
        "        inputs, lbls = inputs.to(device), lbls.to(device)\n",
        "        optimizer.zero_grad()\n",
        "        \n",
        "        outputs = vgg16(inputs)             #----> forward pass\n",
        "        loss = criterion(outputs, lbls)     #----> compute loss\n",
        "        loss.backward()                     #----> backward pass\n",
        "        optimizer.step()                    #----> weights update\n",
        "\n",
        "      \n",
        "        running_loss += loss.item()\n",
        "\n",
        "        predicted = Sigm(outputs)\n",
        "        predicted[predicted > 0.5] = 1\n",
        "        predicted[predicted <= 0.5] = 0\n",
        "        \n",
        "        c_count = 0\n",
        "        for j in range(0,lbls.size(0)):\n",
        "          if(predicted[j]==lbls[j]).sum()==3:\n",
        "            c_count+=1\n",
        "            correct+=1\n",
        "\n",
        "        pbar.set_description(\n",
        "            'Train Epoch: {} [{}/{} ({:.0f}%)]\\tLoss: {:.6f}'.format(\n",
        "                epoch, i * len(inputs), len(trainloader.dataset),\n",
        "                100. * i / len(trainloader),\n",
        "                loss.data))\n",
        "\n",
        "    acc_v.append(100 * correct / n) \n",
        "    loss_v.append(running_loss/len(trainloader))\n",
        "    correct = 0\n",
        "    \n",
        "    torch.save(vgg16.state_dict(), '/content/drive/My Drive/covid19_weights_2/vgg16_BCE.pth')\n",
        "\n",
        "print('Finished Training')"
      ],
      "execution_count": 0,
      "outputs": []
    },
    {
      "cell_type": "code",
      "metadata": {
        "id": "Vz3-yh5CwPEr",
        "colab_type": "code",
        "outputId": "21b17c9f-d1f8-4805-bdab-a192c2c15b73",
        "colab": {
          "base_uri": "https://localhost:8080/",
          "height": 313
        }
      },
      "source": [
        "plt.title(\"Loss Curve for each epochs\")\n",
        "plt.xlabel(\"Epochs\")\n",
        "plt.ylabel(\"Loss\")\n",
        "plt.plot(loss_v)"
      ],
      "execution_count": 0,
      "outputs": [
        {
          "output_type": "execute_result",
          "data": {
            "text/plain": [
              "[<matplotlib.lines.Line2D at 0x7f6cd0556400>]"
            ]
          },
          "metadata": {
            "tags": []
          },
          "execution_count": 143
        },
        {
          "output_type": "display_data",
          "data": {
            "image/png": "[encoded data removed]",
            "text/plain": [
              "<Figure size 432x288 with 1 Axes>"
            ]
          },
          "metadata": {
            "tags": [],
            "needs_background": "light"
          }
        }
      ]
    },
    {
      "cell_type": "code",
      "metadata": {
        "id": "GwWZelIDwSYJ",
        "colab_type": "code",
        "outputId": "9f39962b-7f65-4506-c549-7fbf5134679f",
        "colab": {
          "base_uri": "https://localhost:8080/",
          "height": 313
        }
      },
      "source": [
        "plt.title(\"Accuracy Curve for each epochs\")\n",
        "plt.xlabel(\"Epochs\")\n",
        "plt.ylabel(\"Accuracy\")\n",
        "plt.plot(acc_v)"
      ],
      "execution_count": 0,
      "outputs": [
        {
          "output_type": "execute_result",
          "data": {
            "text/plain": [
              "[<matplotlib.lines.Line2D at 0x7f6cd631c748>]"
            ]
          },
          "metadata": {
            "tags": []
          },
          "execution_count": 148
        },
        {
          "output_type": "display_data",
          "data": {
            "image/png": "[encoded data removed]",
            "text/plain": [
              "<Figure size 432x288 with 1 Axes>"
            ]
          },
          "metadata": {
            "tags": [],
            "needs_background": "light"
          }
        }
      ]
    },
    {
      "cell_type": "markdown",
      "metadata": {
        "id": "rxBVNKWMDhVU",
        "colab_type": "text"
      },
      "source": [
        "**Training Accuracy**"
      ]
    },
    {
      "cell_type": "code",
      "metadata": {
        "id": "CliyZQUUr8o6",
        "colab_type": "code",
        "outputId": "668acd18-56c2-45d9-bcab-fd4b67b4124b",
        "colab": {
          "base_uri": "https://localhost:8080/",
          "height": 54
        }
      },
      "source": [
        "acc, pre, lbl = ModelAccuracy(vgg16,trainloader)\n",
        "print(\"\\nAccuracy on Training Data %d%%\" % acc)"
      ],
      "execution_count": 0,
      "outputs": [
        {
          "output_type": "stream",
          "text": [
            "Iterating on image batches :  97\n",
            "Accuracy on Training Data 100%\n"
          ],
          "name": "stdout"
        }
      ]
    },
    {
      "cell_type": "code",
      "metadata": {
        "id": "YAnDGQEuDgCH",
        "colab_type": "code",
        "outputId": "60c4bc73-69e3-470e-9f73-178d3b5d1fec",
        "colab": {
          "base_uri": "https://localhost:8080/",
          "height": 164
        }
      },
      "source": [
        "ClassWise_Accuracy(vgg16,trainloader,class_names)"
      ],
      "execution_count": 19,
      "outputs": [
        {
          "output_type": "stream",
          "text": [
            ":  97\n",
            "\n",
            "Accuracy of covid-19 : 100 %\n",
            "covid-19 :  200.0 / 200.0\n",
            "Accuracy of normal : 100 %\n",
            "normal :  4000.0 / 4000.0\n",
            "Accuracy of pneumonia : 100 %\n",
            "pneumonia :  2000.0 / 2000.0\n"
          ],
          "name": "stdout"
        }
      ]
    },
    {
      "cell_type": "code",
      "metadata": {
        "id": "nBTOcNKy8cBj",
        "colab_type": "code",
        "outputId": "5e9a8ac9-96c2-4f44-ef37-2895e6d82ca2",
        "colab": {
          "base_uri": "https://localhost:8080/",
          "height": 237
        }
      },
      "source": [
        "recall , precision , f1, conf_mat = metrics(pre,lbl)\n",
        "\n",
        "print(\"Covid19\\n\",conf_mat[0])\n",
        "print(\"Normal\\n\",conf_mat[1])\n",
        "print(\"Pneumonia\\n\",conf_mat[2])\n",
        "\n",
        "print(\"Precision: \", precision)\n",
        "print(\"Recall: \", recall)\n",
        "print(\"F1 Score: \", f1)"
      ],
      "execution_count": 0,
      "outputs": [
        {
          "output_type": "stream",
          "text": [
            "Covid19\n",
            " [[6000    0]\n",
            " [   0  200]]\n",
            "Normal\n",
            " [[2200    0]\n",
            " [   0 4000]]\n",
            "Pneumonia\n",
            " [[4000    0]\n",
            " [   0 2200]]\n",
            "Precision:  1.0\n",
            "Recall:  1.0\n",
            "F1 Score:  1.0\n"
          ],
          "name": "stdout"
        }
      ]
    },
    {
      "cell_type": "markdown",
      "metadata": {
        "id": "P1XNkmzJDq96",
        "colab_type": "text"
      },
      "source": [
        "**Validation Accuracy**"
      ]
    },
    {
      "cell_type": "code",
      "metadata": {
        "id": "5yfEXLd5q7My",
        "colab_type": "code",
        "outputId": "374566eb-cc7f-46d6-eff9-2485b2c9364d",
        "colab": {
          "base_uri": "https://localhost:8080/",
          "height": 54
        }
      },
      "source": [
        "acc, pre,lbl = ModelAccuracy(vgg16, validloader)\n",
        "print(\"\\nAccuracy on Validation Data: %d%%\" % acc)"
      ],
      "execution_count": 0,
      "outputs": [
        {
          "output_type": "stream",
          "text": [
            "Iterating on image batches :  40\n",
            "Accuracy on Validation Data: 94%\n"
          ],
          "name": "stdout"
        }
      ]
    },
    {
      "cell_type": "code",
      "metadata": {
        "id": "DpxjjQViECUd",
        "colab_type": "code",
        "outputId": "507c84bc-4402-4d2c-8fae-fc9eb2bb7465",
        "colab": {
          "base_uri": "https://localhost:8080/",
          "height": 164
        }
      },
      "source": [
        "ClassWise_Accuracy(vgg16,validloader,class_names)"
      ],
      "execution_count": 0,
      "outputs": [
        {
          "output_type": "stream",
          "text": [
            ":  40\n",
            "\n",
            "Accuracy of covid-19 : 67 %\n",
            "covid-19 :  19.0 / 28.0\n",
            "Accuracy of normal : 96 %\n",
            "normal :  386.0 / 400.0\n",
            "Accuracy of pneumonia : 94 %\n",
            "pneumonia :  188.0 / 200.0\n"
          ],
          "name": "stdout"
        }
      ]
    },
    {
      "cell_type": "code",
      "metadata": {
        "id": "m4ZRZGq-BEJl",
        "colab_type": "code",
        "outputId": "5941a489-0233-4a85-e91e-5038dad34001",
        "colab": {
          "base_uri": "https://localhost:8080/",
          "height": 237
        }
      },
      "source": [
        "recall , precision , f1, conf_mat = metrics(pre,lbl)\n",
        "print(\"Covid19\\n\",conf_mat[0])\n",
        "print(\"Normal\\n\",conf_mat[1])\n",
        "print(\"Pneumonia\\n\",conf_mat[2])\n",
        "\n",
        "print(\"Precision: \", precision)\n",
        "print(\"Recall: \", recall)\n",
        "print(\"F1 Score: \", f1)"
      ],
      "execution_count": 0,
      "outputs": [
        {
          "output_type": "stream",
          "text": [
            "Covid19\n",
            " [[599   6]\n",
            " [  1  22]]\n",
            "Normal\n",
            " [[212  10]\n",
            " [ 16 390]]\n",
            "Pneumonia\n",
            " [[388  18]\n",
            " [ 12 210]]\n",
            "Precision:  0.9499156878371042\n",
            "Recall:  0.9554531490015361\n",
            "F1 Score:  0.9522985607701283\n"
          ],
          "name": "stdout"
        }
      ]
    },
    {
      "cell_type": "markdown",
      "metadata": {
        "id": "5bu5axzAtj4v",
        "colab_type": "text"
      },
      "source": [
        "### **Fine Tuning on Resnet**\n",
        "*BCEWithLogitsLoss*"
      ]
    },
    {
      "cell_type": "code",
      "metadata": {
        "id": "nvSm-C4otn61",
        "colab_type": "code",
        "outputId": "1db2af2c-a945-4148-a803-e006f3aa0a9e",
        "colab": {
          "base_uri": "https://localhost:8080/",
          "height": 35
        }
      },
      "source": [
        "resnet18 = models.resnet18(pretrained= False)  #load model class\n",
        "nfeatures = resnet18.fc.in_features\n",
        "features = list(resnet18.fc.children())[:-1] #FC Layer\n",
        "print(features)"
      ],
      "execution_count": 0,
      "outputs": [
        {
          "output_type": "stream",
          "text": [
            "[]\n"
          ],
          "name": "stdout"
        }
      ]
    },
    {
      "cell_type": "code",
      "metadata": {
        "id": "QuXF-NQMuBsV",
        "colab_type": "code",
        "colab": {}
      },
      "source": [
        "# adding new FC layers\n",
        "features.extend(\n",
        "    [nn.Linear(nfeatures, 500 ),\n",
        "     nn.ReLU(inplace=True),\n",
        "     nn.Linear(500 ,3)])\n",
        "\n",
        "resnet18.fc = nn.Sequential(*features)\n",
        "print(resnet18)"
      ],
      "execution_count": 0,
      "outputs": []
    },
    {
      "cell_type": "code",
      "metadata": {
        "id": "n-bzOhJi0dmZ",
        "colab_type": "code",
        "colab": {}
      },
      "source": [
        "# load pretrained model\n",
        "resnet18.load_state_dict(torch.load('/content/drive/My Drive/covid19_weights_2/resnet18_BCE_n1.pth'))\n",
        "resnet18.cuda()"
      ],
      "execution_count": 0,
      "outputs": []
    },
    {
      "cell_type": "code",
      "metadata": {
        "id": "PGARZKXTvv1c",
        "colab_type": "code",
        "colab": {}
      },
      "source": [
        "# Loss fucntion and optimizer\n",
        "Epochs = 20\n",
        "criterion = nn.BCEWithLogitsLoss()\n",
        "optimizer = optim.SGD(resnet18.parameters(), lr=0.001, momentum=0.9)"
      ],
      "execution_count": 0,
      "outputs": []
    },
    {
      "cell_type": "code",
      "metadata": {
        "id": "EaJ-NJr8wJ-j",
        "colab_type": "code",
        "colab": {}
      },
      "source": [
        "from tqdm import tqdm\n",
        "\n",
        "device = torch.device(\"cuda:0\" if torch.cuda.is_available() else \"cpu\")\n",
        "resnet18.to(device)\n",
        "resnet18.train()\n",
        "\n",
        "Sigm = nn.Sigmoid() # Sigmoid \n",
        "n = len(train_data) # length of training data\n",
        "\n",
        "loss_r = []\n",
        "acc_r = []\n",
        "correct = 0\n",
        "\n",
        "for epoch in range(Epochs):  \n",
        "\n",
        "    running_loss = 0.0\n",
        "    pbar = tqdm(enumerate(trainloader))\n",
        "    for i, data in pbar:\n",
        "        \n",
        "        inputs, labels = data\n",
        "        lbls = one_hot_encode(labels)  # convert labels into onehot vector\n",
        "        inputs, lbls = inputs.to(device), lbls.to(device)\n",
        "        #labels = labels.to(device)\n",
        "        optimizer.zero_grad()\n",
        "        \n",
        "        outputs = resnet18(inputs)          #----> forward pass\n",
        "        loss = criterion(outputs, lbls)     #----> compute BCE loss (built in sigmoid)\n",
        "        loss.backward()                     #----> backward pass\n",
        "        optimizer.step()                    #----> weights update\n",
        "\n",
        "        running_loss += loss.item()\n",
        "\n",
        "        predicted = Sigm(outputs)\n",
        "        predicted[predicted > 0.5] = 1\n",
        "        predicted[predicted <= 0.5] = 0\n",
        "\n",
        "        #correct += (predicted == lbls).sum().item()\n",
        "        c_count = 0\n",
        "        for j in range(0,lbls.size(0)):\n",
        "          if(predicted[j]==lbls[j]).sum()==3:\n",
        "            c_count+=1\n",
        "            correct+=1\n",
        "\n",
        "        pbar.set_description(\n",
        "            'Train Epoch: {} [{}/{} ({:.0f}%)]\\tLoss: {:.6f}'.format(\n",
        "                epoch, i * len(inputs), len(trainloader.dataset),\n",
        "                100. * i / len(trainloader),\n",
        "                loss.data))\n",
        "\n",
        "    acc_r.append(100 * correct / n) \n",
        "    loss_r.append(running_loss/len(trainloader))\n",
        "    correct = 0\n",
        "    \n",
        "    torch.save(resnet18.state_dict(), '/content/drive/My Drive/covid19_weights_2/resnet18_BCE.pth')\n",
        "\n",
        "print('Finished Training')"
      ],
      "execution_count": 0,
      "outputs": []
    },
    {
      "cell_type": "code",
      "metadata": {
        "id": "e9Vhgp0l4-wR",
        "colab_type": "code",
        "outputId": "8ddbb22f-f525-4c03-ef0e-f9fe1aa93704",
        "colab": {
          "base_uri": "https://localhost:8080/",
          "height": 313
        }
      },
      "source": [
        "plt.title(\"Loss Curve for each epochs\")\n",
        "plt.xlabel(\"Epochs\")\n",
        "plt.ylabel(\"Loss\")\n",
        "plt.plot(loss_r)"
      ],
      "execution_count": 0,
      "outputs": [
        {
          "output_type": "execute_result",
          "data": {
            "text/plain": [
              "[<matplotlib.lines.Line2D at 0x7f14c053f470>]"
            ]
          },
          "metadata": {
            "tags": []
          },
          "execution_count": 78
        },
        {
          "output_type": "display_data",
          "data": {
            "image/png": "[encoded data removed]",
            "text/plain": [
              "<Figure size 432x288 with 1 Axes>"
            ]
          },
          "metadata": {
            "tags": [],
            "needs_background": "light"
          }
        }
      ]
    },
    {
      "cell_type": "code",
      "metadata": {
        "id": "L16_XRDv5HU1",
        "colab_type": "code",
        "outputId": "86f768ca-c6d2-4df2-962c-9ed59b3ac6eb",
        "colab": {
          "base_uri": "https://localhost:8080/",
          "height": 313
        }
      },
      "source": [
        "plt.title(\"Accuracy Curve for each epochs\")\n",
        "plt.xlabel(\"Epochs\")\n",
        "plt.ylabel(\"Accuracy\")\n",
        "plt.plot(acc_r)"
      ],
      "execution_count": 0,
      "outputs": [
        {
          "output_type": "execute_result",
          "data": {
            "text/plain": [
              "[<matplotlib.lines.Line2D at 0x7f14c04975c0>]"
            ]
          },
          "metadata": {
            "tags": []
          },
          "execution_count": 81
        },
        {
          "output_type": "display_data",
          "data": {
            "image/png": "[encoded data removed]",
            "text/plain": [
              "<Figure size 432x288 with 1 Axes>"
            ]
          },
          "metadata": {
            "tags": [],
            "needs_background": "light"
          }
        }
      ]
    },
    {
      "cell_type": "markdown",
      "metadata": {
        "id": "kvbK60S9PFl2",
        "colab_type": "text"
      },
      "source": [
        "**Training Accuracy**"
      ]
    },
    {
      "cell_type": "code",
      "metadata": {
        "id": "el2V0SbK49uz",
        "colab_type": "code",
        "outputId": "c54324e7-568f-4c9f-862c-a98f50a892fc",
        "colab": {
          "base_uri": "https://localhost:8080/",
          "height": 54
        }
      },
      "source": [
        "acc, pr, lb = ModelAccuracy(resnet18,trainloader)\n",
        "print(\"\\nAccuracy on Training Data %d%%\" % acc)"
      ],
      "execution_count": 0,
      "outputs": [
        {
          "output_type": "stream",
          "text": [
            "Iterating on image batches :  97\n",
            "Accuracy on Training Data 100%\n"
          ],
          "name": "stdout"
        }
      ]
    },
    {
      "cell_type": "code",
      "metadata": {
        "id": "7gYiGiZCGno_",
        "colab_type": "code",
        "outputId": "921d70b0-647f-46ed-fab5-30f57797f771",
        "colab": {
          "base_uri": "https://localhost:8080/",
          "height": 164
        }
      },
      "source": [
        "ClassWise_Accuracy(resnet18,trainloader,class_names)"
      ],
      "execution_count": 0,
      "outputs": [
        {
          "output_type": "stream",
          "text": [
            ":  97\n",
            "\n",
            "Accuracy of covid-19 : 100 %\n",
            "covid-19 :  200.0 / 200.0\n",
            "Accuracy of normal : 100 %\n",
            "normal :  4000.0 / 4000.0\n",
            "Accuracy of pneumonia : 100 %\n",
            "pneumonia :  2000.0 / 2000.0\n"
          ],
          "name": "stdout"
        }
      ]
    },
    {
      "cell_type": "code",
      "metadata": {
        "id": "lO9T2t8yPDoV",
        "colab_type": "code",
        "outputId": "0f9188aa-9d23-4029-b87e-9df7c4620fd0",
        "colab": {
          "base_uri": "https://localhost:8080/",
          "height": 237
        }
      },
      "source": [
        "recall , precision , f1, conf_mat = metrics(pr,lb)\n",
        "\n",
        "print(\"Covid19\\n\",conf_mat[0])\n",
        "print(\"Normal\\n\",conf_mat[1])\n",
        "print(\"Pneumonia\\n\",conf_mat[2])\n",
        "\n",
        "print(\"Precision: \", precision)\n",
        "print(\"Recall: \", recall)\n",
        "print(\"F1 Score: \", f1)"
      ],
      "execution_count": 0,
      "outputs": [
        {
          "output_type": "stream",
          "text": [
            "Covid19\n",
            " [[6000    0]\n",
            " [   0  200]]\n",
            "Normal\n",
            " [[2200    0]\n",
            " [   0 4000]]\n",
            "Pneumonia\n",
            " [[4000    0]\n",
            " [   0 2200]]\n",
            "Precision:  1.0\n",
            "Recall:  1.0\n",
            "F1 Score:  1.0\n"
          ],
          "name": "stdout"
        }
      ]
    },
    {
      "cell_type": "markdown",
      "metadata": {
        "id": "c6BMkYPWPXFB",
        "colab_type": "text"
      },
      "source": [
        "**Validation Accuracy**"
      ]
    },
    {
      "cell_type": "code",
      "metadata": {
        "id": "ac83AfSu9zUM",
        "colab_type": "code",
        "outputId": "f33a8d63-181e-4777-f57b-d7afd3c7bd3e",
        "colab": {
          "base_uri": "https://localhost:8080/",
          "height": 54
        }
      },
      "source": [
        "acc, pre, lbl = ModelAccuracy(resnet18,validloader)\n",
        "print(\"\\nAccuracy on Validation Data %d%%\" % acc)"
      ],
      "execution_count": 0,
      "outputs": [
        {
          "output_type": "stream",
          "text": [
            "Iterating on image batches :  40\n",
            "Accuracy on Validation Data 92%\n"
          ],
          "name": "stdout"
        }
      ]
    },
    {
      "cell_type": "code",
      "metadata": {
        "id": "S3XldYtvGsPQ",
        "colab_type": "code",
        "outputId": "e91a6023-3201-44d5-80d8-e89064eb492b",
        "colab": {
          "base_uri": "https://localhost:8080/",
          "height": 164
        }
      },
      "source": [
        "ClassWise_Accuracy(resnet18,validloader,class_names)"
      ],
      "execution_count": 0,
      "outputs": [
        {
          "output_type": "stream",
          "text": [
            ":  40\n",
            "\n",
            "Accuracy of covid-19 : 67 %\n",
            "covid-19 :  19.0 / 28.0\n",
            "Accuracy of normal : 95 %\n",
            "normal :  380.0 / 400.0\n",
            "Accuracy of pneumonia : 88 %\n",
            "pneumonia :  176.0 / 200.0\n"
          ],
          "name": "stdout"
        }
      ]
    },
    {
      "cell_type": "code",
      "metadata": {
        "id": "iXBqkE1QPeT8",
        "colab_type": "code",
        "outputId": "ce638b19-7f7b-447b-da83-63a99db8c371",
        "colab": {
          "base_uri": "https://localhost:8080/",
          "height": 256
        }
      },
      "source": [
        "recall , precision , f1, conf_mat = metrics(pre,lbl)\n",
        "\n",
        "print(\"Covid19\\n\",conf_mat[0])\n",
        "print(\"Normal\\n\",conf_mat[1])\n",
        "print(\"Pneumonia\\n\",conf_mat[2])\n",
        "print(\"-----------------------------\")\n",
        "print(\"Precision: \", precision)\n",
        "print(\"Recall: \", recall)\n",
        "print(\"F1 Score: \", f1)"
      ],
      "execution_count": 0,
      "outputs": [
        {
          "output_type": "stream",
          "text": [
            "Covid19\n",
            " [[600  10]\n",
            " [  0  18]]\n",
            "Normal\n",
            " [[200  13]\n",
            " [ 28 387]]\n",
            "Pneumonia\n",
            " [[385  27]\n",
            " [ 15 201]]\n",
            "-----------------------------\n",
            "Precision:  0.9298998169537865\n",
            "Recall:  0.9337442218798151\n",
            "F1 Score:  0.9303192965728964\n"
          ],
          "name": "stdout"
        }
      ]
    },
    {
      "cell_type": "markdown",
      "metadata": {
        "id": "m9bpvMkC0dja",
        "colab_type": "text"
      },
      "source": [
        "## Focal Loss"
      ]
    },
    {
      "cell_type": "code",
      "metadata": {
        "id": "z-izMZna0gWE",
        "colab_type": "code",
        "colab": {}
      },
      "source": [
        "class FocalLoss(nn.Module):\n",
        "    def __init__(self, gamma=2, reduce=False):\n",
        "        super(FocalLoss, self).__init__()\n",
        "        self.gamma = gamma\n",
        "        self.reduce = reduce\n",
        "\n",
        "    def forward(self, inputs, targets):\n",
        "      BCEL = nn.BCEWithLogitsLoss()\n",
        "      BCE_loss = BCEL(inputs, targets)\n",
        "      pt = torch.exp(-BCE_loss)\n",
        "      F_loss = (1-pt)**self.gamma * BCE_loss\n",
        "      if self.reduce:\n",
        "          return torch.mean(F_loss)\n",
        "      else:\n",
        "          return F_loss"
      ],
      "execution_count": 0,
      "outputs": []
    },
    {
      "cell_type": "markdown",
      "metadata": {
        "id": "V6HdJ8B8J5zd",
        "colab_type": "text"
      },
      "source": [
        "### **Focal loss (VGG-16)**"
      ]
    },
    {
      "cell_type": "code",
      "metadata": {
        "id": "nvMBWzyu7ueF",
        "colab_type": "code",
        "colab": {}
      },
      "source": [
        "# load model class \n",
        "VGG = models.vgg16(pretrained=False)\n",
        "# remove FC layers\n",
        "num_features = VGG.classifier[0].in_features\n",
        "features = list(VGG.classifier.children())[:-7] # Remove last layer\n",
        "print(features)\n",
        "print(num_features)\n",
        "# add new FC layer\n",
        "features.extend(\n",
        "    [nn.Linear(num_features, 4096 ),\n",
        "     nn.ReLU(inplace=True),\n",
        "     nn.Dropout(p=0.5,inplace=False),\n",
        "     nn.Linear(4096 , 900 ),\n",
        "     nn.ReLU(inplace=True),\n",
        "     nn.Dropout(p=0.5,inplace=False),\n",
        "     nn.Linear(900 ,len(class_names))])\n",
        "VGG.classifier = nn.Sequential(*features)\n",
        "print(VGG)"
      ],
      "execution_count": 0,
      "outputs": []
    },
    {
      "cell_type": "code",
      "metadata": {
        "id": "I2FGLfE4S8rG",
        "colab_type": "code",
        "colab": {}
      },
      "source": [
        "# load pretrained model\n",
        "VGG.load_state_dict(torch.load('/content/drive/My Drive/covid19_weights_2/vgg16_focal_loss_n2.pth'))\n",
        "VGG.cuda()"
      ],
      "execution_count": 0,
      "outputs": []
    },
    {
      "cell_type": "code",
      "metadata": {
        "id": "ptl2Qyqk8HRr",
        "colab_type": "code",
        "colab": {}
      },
      "source": [
        "FL = FocalLoss(gamma=2.5)"
      ],
      "execution_count": 0,
      "outputs": []
    },
    {
      "cell_type": "code",
      "metadata": {
        "id": "0fQiltbU8CSU",
        "colab_type": "code",
        "colab": {}
      },
      "source": [
        "# Loss fucntion and optimizer\n",
        "Epochs = 20\n",
        "FL = FLoss(alpha = 0.25, gamma = 2)\n",
        "optimizer = optim.SGD(VGG.parameters(), lr=0.001, momentum=0.9)"
      ],
      "execution_count": 0,
      "outputs": []
    },
    {
      "cell_type": "code",
      "metadata": {
        "id": "1S3uSzT18_a0",
        "colab_type": "code",
        "colab": {}
      },
      "source": [
        "from tqdm import tqdm\n",
        "\n",
        "device = torch.device(\"cuda:0\" if torch.cuda.is_available() else \"cpu\")\n",
        "VGG.to(device)\n",
        "\n",
        "VGG.train()\n",
        "Sigm = nn.Sigmoid() # Sigmoid \n",
        "n = len(train_data)\n",
        "\n",
        "loss_v = []\n",
        "acc_v = []\n",
        "correct = 0\n",
        "\n",
        "for epoch in range(Epochs):  \n",
        "\n",
        "    running_loss = 0.0\n",
        "    pbar = tqdm(enumerate(trainloader))\n",
        "    for i, data in pbar:\n",
        "        \n",
        "        inputs, labels = data\n",
        "        lbls = one_hot_encode(labels)\n",
        "        inputs, lbls = inputs.to(device), lbls.to(device)\n",
        "\n",
        "        optimizer.zero_grad()\n",
        "        \n",
        "        outputs = VGG(inputs)               #----> forward pass\n",
        "        loss = FL(outputs,lbls)     #----> focal compute loss\n",
        "        loss.backward()                     #----> backward pass\n",
        "        optimizer.step()                    #----> weights update\n",
        "\n",
        "      \n",
        "        running_loss += loss.item()\n",
        "\n",
        "        predicted = Sigm(outputs)\n",
        "        predicted[predicted > 0.5] = 1\n",
        "        predicted[predicted <= 0.5] = 0\n",
        "\n",
        "        c_count = 0\n",
        "        for j in range(0,lbls.size(0)):\n",
        "          if(predicted[j]==lbls[j]).sum()==3:\n",
        "            c_count+=1\n",
        "            correct+=1\n",
        "\n",
        "        pbar.set_description(\n",
        "            'Train Epoch: {} [{}/{} ({:.0f}%)]\\tLoss: {:.6f}'.format(\n",
        "                epoch, i * len(inputs), len(trainloader.dataset),\n",
        "                100. * i / len(trainloader),\n",
        "                loss.data))\n",
        "\n",
        "    acc_v.append(100 * correct / n) \n",
        "    loss_v.append(running_loss/len(trainloader))\n",
        "    correct = 0\n",
        "    \n",
        "    torch.save(VGG.state_dict(), '/content/drive/My Drive/covid19_weights_2/vgg16_focal_loss_n2.pth')\n",
        "\n",
        "print('Finished Training')\n"
      ],
      "execution_count": 0,
      "outputs": []
    },
    {
      "cell_type": "code",
      "metadata": {
        "id": "1w2e-xnMLk2M",
        "colab_type": "code",
        "outputId": "1be77ad6-0152-488e-b3d3-58df067cc94a",
        "colab": {
          "base_uri": "https://localhost:8080/",
          "height": 313
        }
      },
      "source": [
        "plt.title(\"Loss Curve for each epochs\")\n",
        "plt.xlabel(\"Epochs\")\n",
        "plt.ylabel(\"Loss\")\n",
        "plt.plot(loss_v)"
      ],
      "execution_count": 0,
      "outputs": [
        {
          "output_type": "execute_result",
          "data": {
            "text/plain": [
              "[<matplotlib.lines.Line2D at 0x7f020518fc50>]"
            ]
          },
          "metadata": {
            "tags": []
          },
          "execution_count": 47
        },
        {
          "output_type": "display_data",
          "data": {
            "image/png": "[encoded data removed]",
            "text/plain": [
              "<Figure size 432x288 with 1 Axes>"
            ]
          },
          "metadata": {
            "tags": [],
            "needs_background": "light"
          }
        }
      ]
    },
    {
      "cell_type": "code",
      "metadata": {
        "id": "fnVVuX0-LnMk",
        "colab_type": "code",
        "outputId": "70f2c5c9-ed46-4249-8fc2-a5e5bd44931c",
        "colab": {
          "base_uri": "https://localhost:8080/",
          "height": 313
        }
      },
      "source": [
        "plt.title(\"Accuracy Curve for each epochs\")\n",
        "plt.xlabel(\"Epochs\")\n",
        "plt.ylabel(\"Accuracy\")\n",
        "plt.plot(acc_v)"
      ],
      "execution_count": 0,
      "outputs": [
        {
          "output_type": "execute_result",
          "data": {
            "text/plain": [
              "[<matplotlib.lines.Line2D at 0x7f01a40e5048>]"
            ]
          },
          "metadata": {
            "tags": []
          },
          "execution_count": 48
        },
        {
          "output_type": "display_data",
          "data": {
            "image/png": "[encoded data removed]",
            "text/plain": [
              "<Figure size 432x288 with 1 Axes>"
            ]
          },
          "metadata": {
            "tags": [],
            "needs_background": "light"
          }
        }
      ]
    },
    {
      "cell_type": "markdown",
      "metadata": {
        "id": "b4qF5LFrKG4V",
        "colab_type": "text"
      },
      "source": [
        "#### Accuracy Scores (VGG-16 Focal Loss)"
      ]
    },
    {
      "cell_type": "markdown",
      "metadata": {
        "id": "v4TY-kTGUIvM",
        "colab_type": "text"
      },
      "source": [
        "**Training Accuracy**"
      ]
    },
    {
      "cell_type": "code",
      "metadata": {
        "id": "UVV55IYfL3Wb",
        "colab_type": "code",
        "outputId": "d3871a8b-aa1c-46aa-dc56-5e08fe268841",
        "colab": {
          "base_uri": "https://localhost:8080/",
          "height": 54
        }
      },
      "source": [
        "acc, pre, lbl = ModelAccuracy(VGG,trainloader)\n",
        "print(\"\\nAccuracy on Training Data %d%%\" % acc)"
      ],
      "execution_count": 68,
      "outputs": [
        {
          "output_type": "stream",
          "text": [
            "Iterating on image batches :  97\n",
            "Accuracy on Training Data 95%\n"
          ],
          "name": "stdout"
        }
      ]
    },
    {
      "cell_type": "code",
      "metadata": {
        "id": "7hKLcCRHJo0d",
        "colab_type": "code",
        "outputId": "d6c6321e-934e-49c8-87a9-b940d97feb85",
        "colab": {
          "base_uri": "https://localhost:8080/",
          "height": 164
        }
      },
      "source": [
        "ClassWise_Accuracy(VGG,trainloader,class_names)"
      ],
      "execution_count": 64,
      "outputs": [
        {
          "output_type": "stream",
          "text": [
            ":  97\n",
            "\n",
            "Accuracy of covid-19 : 73 %\n",
            "covid-19 :  147.0 / 200.0\n",
            "Accuracy of normal : 99 %\n",
            "normal :  3964.0 / 4000.0\n",
            "Accuracy of pneumonia : 90 %\n",
            "pneumonia :  1806.0 / 2000.0\n"
          ],
          "name": "stdout"
        }
      ]
    },
    {
      "cell_type": "code",
      "metadata": {
        "id": "cFMN2bPxTKu7",
        "colab_type": "code",
        "outputId": "5b63a3ff-5328-46ac-ea1a-d0adb1bd153e",
        "colab": {
          "base_uri": "https://localhost:8080/",
          "height": 256
        }
      },
      "source": [
        "recall , precision , f1, conf_mat = metrics(pre,lbl)\n",
        "print(\"Precision: \", precision)\n",
        "print(\"Recall: \", recall)\n",
        "print(\"F1 Score: \", f1)\n",
        "print(\"----------------------\")\n",
        "print(\"Covid19\\n\",conf_mat[0])\n",
        "print(\"Normal\\n\",conf_mat[1])\n",
        "print(\"Pneumonia\\n\",conf_mat[2])"
      ],
      "execution_count": 69,
      "outputs": [
        {
          "output_type": "stream",
          "text": [
            "Precision:  0.967528006949012\n",
            "Recall:  0.9713746461151306\n",
            "F1 Score:  0.9687685167379212\n",
            "----------------------\n",
            "Covid19\n",
            " [[5991   48]\n",
            " [   9  152]]\n",
            "Normal\n",
            " [[2052   23]\n",
            " [ 148 3977]]\n",
            "Pneumonia\n",
            " [[3975  153]\n",
            " [  25 2047]]\n"
          ],
          "name": "stdout"
        }
      ]
    },
    {
      "cell_type": "markdown",
      "metadata": {
        "id": "FAYKVh-XUMbq",
        "colab_type": "text"
      },
      "source": [
        "**Validation Accuracy**"
      ]
    },
    {
      "cell_type": "code",
      "metadata": {
        "id": "Z49I_N9BMGEv",
        "colab_type": "code",
        "outputId": "1e5fae19-4a5d-4fc9-eb99-1ea2ab1c532c",
        "colab": {
          "base_uri": "https://localhost:8080/",
          "height": 54
        }
      },
      "source": [
        "acc, pr, lb = ModelAccuracy(VGG,validloader)\n",
        "print(\"\\nAccuracy on Validation Data %d%%\" % acc)"
      ],
      "execution_count": 66,
      "outputs": [
        {
          "output_type": "stream",
          "text": [
            "Iterating on image batches :  40\n",
            "Accuracy on Validation Data 91%\n"
          ],
          "name": "stdout"
        }
      ]
    },
    {
      "cell_type": "code",
      "metadata": {
        "id": "OAJa9QduJsUY",
        "colab_type": "code",
        "outputId": "8d6be0a0-78d0-4e98-8723-acc896f1d0bf",
        "colab": {
          "base_uri": "https://localhost:8080/",
          "height": 164
        }
      },
      "source": [
        "ClassWise_Accuracy(VGG,validloader,class_names)"
      ],
      "execution_count": 65,
      "outputs": [
        {
          "output_type": "stream",
          "text": [
            ":  40\n",
            "\n",
            "Accuracy of covid-19 : 35 %\n",
            "covid-19 :  10.0 / 28.0\n",
            "Accuracy of normal : 96 %\n",
            "normal :  384.0 / 400.0\n",
            "Accuracy of pneumonia : 89 %\n",
            "pneumonia :  179.0 / 200.0\n"
          ],
          "name": "stdout"
        }
      ]
    },
    {
      "cell_type": "code",
      "metadata": {
        "id": "yq9jjC8GTapu",
        "colab_type": "code",
        "outputId": "d433fce2-807d-4779-f66d-2e8ea54368d3",
        "colab": {
          "base_uri": "https://localhost:8080/",
          "height": 256
        }
      },
      "source": [
        "recall , precision , f1, conf_mat = metrics(pr,lb)\n",
        "print(\"Precision: \", precision)\n",
        "print(\"Recall: \", recall)\n",
        "print(\"F1 Score: \", f1)\n",
        "print(\"----------------------\")\n",
        "print(\"Covid19\\n\",conf_mat[0])\n",
        "print(\"Normal\\n\",conf_mat[1])\n",
        "print(\"Pneumonia\\n\",conf_mat[2])"
      ],
      "execution_count": 67,
      "outputs": [
        {
          "output_type": "stream",
          "text": [
            "Precision:  0.9296774893552132\n",
            "Recall:  0.9360374414976599\n",
            "F1 Score:  0.9303485048313791\n",
            "----------------------\n",
            "Covid19\n",
            " [[600  17]\n",
            " [  0  11]]\n",
            "Normal\n",
            " [[203  14]\n",
            " [ 25 386]]\n",
            "Pneumonia\n",
            " [[384  25]\n",
            " [ 16 203]]\n"
          ],
          "name": "stdout"
        }
      ]
    },
    {
      "cell_type": "markdown",
      "metadata": {
        "id": "q34n7z40ZOfw",
        "colab_type": "text"
      },
      "source": [
        "### **Focal loss (Resnet-18)**"
      ]
    },
    {
      "cell_type": "code",
      "metadata": {
        "id": "tS5h1k71dNIo",
        "colab_type": "code",
        "colab": {}
      },
      "source": [
        "class FLoss(nn.Module):\n",
        "    def __init__(self,alpha=1,gamma=2):\n",
        "        super(FLoss,self).__init__()\n",
        "        self.alpha=alpha\n",
        "        self.gamma=gamma\n",
        "    def forward(self,inputs,targets):\n",
        "        loss=F.binary_cross_entropy_with_logits(inputs,targets,reduce=False)\n",
        "        pt=torch.exp(-loss)\n",
        "        FL=self.alpha*(1-pt)**self.gamma*loss\n",
        "        \n",
        "        return torch.mean(FL)"
      ],
      "execution_count": 0,
      "outputs": []
    },
    {
      "cell_type": "code",
      "metadata": {
        "id": "MjbduydwZNnu",
        "colab_type": "code",
        "colab": {}
      },
      "source": [
        "RESNET = models.resnet18(pretrained= False)  #load model class\n",
        "nfeatures = RESNET.fc.in_features\n",
        "features = list(RESNET.fc.children())[:-1] #FC Layer\n",
        "print(features)\n",
        "\n",
        "# adding new FC layers\n",
        "features.extend(\n",
        "    [nn.Linear(nfeatures, 500 ),\n",
        "     nn.ReLU(inplace=True),\n",
        "     nn.Linear(500 ,3)])\n",
        "\n",
        "RESNET.fc = nn.Sequential(*features)\n",
        "print(RESNET)"
      ],
      "execution_count": 0,
      "outputs": []
    },
    {
      "cell_type": "code",
      "metadata": {
        "id": "HHTOwCwYZ4-V",
        "colab_type": "code",
        "colab": {}
      },
      "source": [
        "# load pretrained model\n",
        "RESNET.load_state_dict(torch.load('/content/drive/My Drive/covid19_weights_2/resnet18_focal_loss_new1.pth'))\n",
        "RESNET.cuda()"
      ],
      "execution_count": 0,
      "outputs": []
    },
    {
      "cell_type": "code",
      "metadata": {
        "id": "7jnUTvvhZibQ",
        "colab_type": "code",
        "colab": {}
      },
      "source": [
        "# Loss fucntion and optimizer\n",
        "Epochs = 20\n",
        "#FL = FocalLoss(gamma=2)\n",
        "FL = FLoss(alpha = 0.25, gamma = 2)\n",
        "optimizer = optim.SGD(RESNET.parameters(), lr=0.001, momentum=0.9)"
      ],
      "execution_count": 0,
      "outputs": []
    },
    {
      "cell_type": "code",
      "metadata": {
        "id": "9HN1bldOZTYv",
        "colab_type": "code",
        "colab": {}
      },
      "source": [
        "from tqdm import tqdm\n",
        "\n",
        "device = torch.device(\"cuda:0\" if torch.cuda.is_available() else \"cpu\")\n",
        "RESNET.to(device)\n",
        "RESNET.train()\n",
        "\n",
        "Sigm = nn.Sigmoid() # Sigmoid \n",
        "n = len(train_data) # length of training data\n",
        "\n",
        "loss_r = []\n",
        "acc_r = []\n",
        "correct = 0\n",
        "\n",
        "for epoch in range(Epochs):  \n",
        "\n",
        "    running_loss = 0.0\n",
        "    pbar = tqdm(enumerate(trainloader))\n",
        "    for i, data in pbar:\n",
        "        \n",
        "        inputs, labels = data\n",
        "        lbls = one_hot_encode(labels)  # convert labels into onehot vector\n",
        "        inputs, lbls = inputs.to(device), lbls.to(device)\n",
        "        optimizer.zero_grad()\n",
        "        \n",
        "        outputs = RESNET(inputs)           #----> forward pass\n",
        "        loss = FL(outputs,lbls)    #----> compute Focal loss\n",
        "        loss.backward()                    #----> backward pass\n",
        "        optimizer.step()                   #----> weights update\n",
        "        running_loss += loss.item()\n",
        "        predicted = Sigm(outputs)\n",
        "        predicted[predicted > 0.5] = 1\n",
        "        predicted[predicted <= 0.5] = 0\n",
        "\n",
        "        c_count = 0\n",
        "        for j in range(0,lbls.size(0)):\n",
        "          if(predicted[j]==lbls[j]).sum()==3:\n",
        "            c_count+=1\n",
        "            correct+=1\n",
        "\n",
        "        pbar.set_description(\n",
        "            'Train Epoch: {} [{}/{} ({:.0f}%)]\\tLoss: {:.6f}'.format(\n",
        "                epoch, i * len(inputs), len(trainloader.dataset),\n",
        "                100. * i / len(trainloader),\n",
        "                loss.data))\n",
        "\n",
        "    acc_r.append(100 * correct / n) \n",
        "    loss_r.append(running_loss/len(trainloader))\n",
        "    correct = 0\n",
        "    \n",
        "    torch.save(RESNET.state_dict(), '/content/drive/My Drive/covid19_weights_2/resnet18_focal_loss_new2.pth')\n",
        "\n",
        "print('Finished Training')"
      ],
      "execution_count": 0,
      "outputs": []
    },
    {
      "cell_type": "code",
      "metadata": {
        "id": "8XtIp8a2JAr1",
        "colab_type": "code",
        "colab": {
          "base_uri": "https://localhost:8080/",
          "height": 313
        },
        "outputId": "30f1c5f2-f6c6-4197-e471-720edc0ef0dc"
      },
      "source": [
        "plt.title(\"Loss Curve for each epochs\")\n",
        "plt.xlabel(\"Epochs\")\n",
        "plt.ylabel(\"Loss\")\n",
        "plt.plot(loss_r)"
      ],
      "execution_count": 45,
      "outputs": [
        {
          "output_type": "execute_result",
          "data": {
            "text/plain": [
              "[<matplotlib.lines.Line2D at 0x7f6338b4eb38>]"
            ]
          },
          "metadata": {
            "tags": []
          },
          "execution_count": 45
        },
        {
          "output_type": "display_data",
          "data": {
            "image/png": "[encoded data removed]",
            "text/plain": [
              "<Figure size 432x288 with 1 Axes>"
            ]
          },
          "metadata": {
            "tags": [],
            "needs_background": "light"
          }
        }
      ]
    },
    {
      "cell_type": "code",
      "metadata": {
        "id": "oqHBAbezJ-rG",
        "colab_type": "code",
        "colab": {
          "base_uri": "https://localhost:8080/",
          "height": 313
        },
        "outputId": "2228f8e1-5bb7-4646-86a0-2b27d8f177c9"
      },
      "source": [
        "plt.title(\"Accuracy Curve for each epochs\")\n",
        "plt.xlabel(\"Epochs\")\n",
        "plt.ylabel(\"Accuracy\")\n",
        "plt.plot(acc_r)"
      ],
      "execution_count": 50,
      "outputs": [
        {
          "output_type": "execute_result",
          "data": {
            "text/plain": [
              "[<matplotlib.lines.Line2D at 0x7f6338a76be0>]"
            ]
          },
          "metadata": {
            "tags": []
          },
          "execution_count": 50
        },
        {
          "output_type": "display_data",
          "data": {
            "image/png": "[encoded data removed]",
            "text/plain": [
              "<Figure size 432x288 with 1 Axes>"
            ]
          },
          "metadata": {
            "tags": [],
            "needs_background": "light"
          }
        }
      ]
    },
    {
      "cell_type": "markdown",
      "metadata": {
        "id": "J_Sxzpl8nSzu",
        "colab_type": "text"
      },
      "source": [
        "#### Accuracy Scores (Resnet18-Focal Loss)"
      ]
    },
    {
      "cell_type": "markdown",
      "metadata": {
        "id": "5TOYrjzpohrl",
        "colab_type": "text"
      },
      "source": [
        "**Training Accuracy**"
      ]
    },
    {
      "cell_type": "code",
      "metadata": {
        "id": "J2x2uCJqmQEd",
        "colab_type": "code",
        "outputId": "73609deb-ae63-469f-c14e-17dea94362b5",
        "colab": {
          "base_uri": "https://localhost:8080/",
          "height": 54
        }
      },
      "source": [
        "acc, pre, lbl = ModelAccuracy(RESNET,trainloader)\n",
        "print(\"\\nAccuracy on Training Data %d%%\" % acc)"
      ],
      "execution_count": 47,
      "outputs": [
        {
          "output_type": "stream",
          "text": [
            "Iterating on image batches :  97\n",
            "Accuracy on Training Data 98%\n"
          ],
          "name": "stdout"
        }
      ]
    },
    {
      "cell_type": "code",
      "metadata": {
        "id": "MP6dJDNNh2T_",
        "colab_type": "code",
        "outputId": "e1f8e9bf-c023-46d4-f3bf-59cc94cf6762",
        "colab": {
          "base_uri": "https://localhost:8080/",
          "height": 164
        }
      },
      "source": [
        "ClassWise_Accuracy(RESNET,trainloader,class_names)"
      ],
      "execution_count": 49,
      "outputs": [
        {
          "output_type": "stream",
          "text": [
            ":  97\n",
            "\n",
            "Accuracy of covid-19 : 82 %\n",
            "covid-19 :  165.0 / 200.0\n",
            "Accuracy of normal : 99 %\n",
            "normal :  3998.0 / 4000.0\n",
            "Accuracy of pneumonia : 99 %\n",
            "pneumonia :  1985.0 / 2000.0\n"
          ],
          "name": "stdout"
        }
      ]
    },
    {
      "cell_type": "code",
      "metadata": {
        "id": "9azIqceKZsvL",
        "colab_type": "code",
        "outputId": "99fe016b-210f-492d-cf7f-07cb0bf13ba3",
        "colab": {
          "base_uri": "https://localhost:8080/",
          "height": 256
        }
      },
      "source": [
        "recall , precision , f1, conf_mat = metrics(pre,lbl)\n",
        "print(\"Precision: \", precision)\n",
        "print(\"Recall: \", recall)\n",
        "print(\"F1 Score: \", f1)\n",
        "print(\"----------------------\")\n",
        "print(\"Covid19\\n\",conf_mat[0])\n",
        "print(\"Normal\\n\",conf_mat[1])\n",
        "print(\"Pneumonia\\n\",conf_mat[2])"
      ],
      "execution_count": 51,
      "outputs": [
        {
          "output_type": "stream",
          "text": [
            "Precision:  0.9912285861123802\n",
            "Recall:  0.9952889447236181\n",
            "F1 Score:  0.9930541445960598\n",
            "----------------------\n",
            "Covid19\n",
            " [[5998   36]\n",
            " [   2  164]]\n",
            "Normal\n",
            " [[2182   10]\n",
            " [  18 3990]]\n",
            "Pneumonia\n",
            " [[3990   16]\n",
            " [  10 2184]]\n"
          ],
          "name": "stdout"
        }
      ]
    },
    {
      "cell_type": "markdown",
      "metadata": {
        "id": "PzA1afyqomPy",
        "colab_type": "text"
      },
      "source": [
        "**Validation Accuracy**"
      ]
    },
    {
      "cell_type": "code",
      "metadata": {
        "id": "K33mW-ujmXjk",
        "colab_type": "code",
        "outputId": "ad00607b-d859-4141-c7ab-324be3bc3b62",
        "colab": {
          "base_uri": "https://localhost:8080/",
          "height": 54
        }
      },
      "source": [
        "acc, pr, lb = ModelAccuracy(RESNET,validloader)\n",
        "print(\"\\nAccuracy on Validation Data %d%%\" % acc)"
      ],
      "execution_count": 52,
      "outputs": [
        {
          "output_type": "stream",
          "text": [
            "Iterating on image batches :  40\n",
            "Accuracy on Validation Data 88%\n"
          ],
          "name": "stdout"
        }
      ]
    },
    {
      "cell_type": "code",
      "metadata": {
        "id": "nclcJE5riyUD",
        "colab_type": "code",
        "outputId": "2a8b8733-4d51-40cf-8fbd-f6f40ea8cf93",
        "colab": {
          "base_uri": "https://localhost:8080/",
          "height": 164
        }
      },
      "source": [
        "ClassWise_Accuracy(RESNET,validloader,class_names)"
      ],
      "execution_count": 53,
      "outputs": [
        {
          "output_type": "stream",
          "text": [
            ":  40\n",
            "\n",
            "Accuracy of covid-19 : 46 %\n",
            "covid-19 :  13.0 / 28.0\n",
            "Accuracy of normal : 94 %\n",
            "normal :  376.0 / 400.0\n",
            "Accuracy of pneumonia : 89 %\n",
            "pneumonia :  179.0 / 200.0\n"
          ],
          "name": "stdout"
        }
      ]
    },
    {
      "cell_type": "code",
      "metadata": {
        "id": "k30DyKMLZxM-",
        "colab_type": "code",
        "outputId": "b10e2ce6-ce44-4469-f7a6-b463819597bf",
        "colab": {
          "base_uri": "https://localhost:8080/",
          "height": 256
        }
      },
      "source": [
        "recall , precision , f1, conf_mat = metrics(pr,lb)\n",
        "print(\"Precision: \", precision)\n",
        "print(\"Recall: \", recall)\n",
        "print(\"F1 Score: \", f1)\n",
        "print(\"----------------------\")\n",
        "print(\"Covid19\\n\",conf_mat[0])\n",
        "print(\"Normal\\n\",conf_mat[1])\n",
        "print(\"Pneumonia\\n\",conf_mat[2])"
      ],
      "execution_count": 54,
      "outputs": [
        {
          "output_type": "stream",
          "text": [
            "Precision:  0.8929998499358818\n",
            "Recall:  0.9004665629860031\n",
            "F1 Score:  0.8951319355392701\n",
            "----------------------\n",
            "Covid19\n",
            " [[598  16]\n",
            " [  2  12]]\n",
            "Normal\n",
            " [[194  29]\n",
            " [ 34 371]]\n",
            "Pneumonia\n",
            " [[372  32]\n",
            " [ 28 196]]\n"
          ],
          "name": "stdout"
        }
      ]
    },
    {
      "cell_type": "markdown",
      "metadata": {
        "id": "_rFYpEYPzMtC",
        "colab_type": "text"
      },
      "source": [
        "## Write Data in CSV"
      ]
    },
    {
      "cell_type": "code",
      "metadata": {
        "id": "1D3yDcnYzJtj",
        "colab_type": "code",
        "colab": {}
      },
      "source": [
        "predlist=[]\n",
        "img_name=[]\n",
        "\n",
        "with torch.no_grad():\n",
        "  for inputs, label, path in testloader:\n",
        "    inputs = inputs.to(device)\n",
        "    outputs = vgg16(inputs)\n",
        "    predicted = Sigmoid(outputs)\n",
        "    predicted[predicted > 0.5] = 1\n",
        "    predicted[predicted <= 0.5] = 0\n",
        "    predlist.append(predicted)\n",
        "    img_name.append(str(list(path)[0]).split('/')[-1])"
      ],
      "execution_count": 0,
      "outputs": []
    },
    {
      "cell_type": "code",
      "metadata": {
        "id": "oqIGfs2DUxTw",
        "colab_type": "code",
        "colab": {}
      },
      "source": [
        "file = open('MSDS19036_Results.csv', 'w')\n",
        "\n",
        "for i in range(len(predlist)):\n",
        "  for f in predlist[i]:\n",
        "    covid = int(f[0].cpu().numpy())\n",
        "    pneu = int(f[2].cpu().numpy())\n",
        "    normal = int(f[1].cpu().numpy())\n",
        "    inp = str(img_name[i])+\",\"+str(covid)+\",\"+str(pneu)+\",\"+str(normal)+\"\\n\"\n",
        "    print(inp)\n",
        "    file.write(inp)\n",
        "   \n",
        "file.close()"
      ],
      "execution_count": 0,
      "outputs": []
    },
    {
      "cell_type": "code",
      "metadata": {
        "id": "7ECVVAGo__En",
        "colab_type": "code",
        "outputId": "05f29764-5153-490a-df07-da017e77f2e7",
        "colab": {
          "base_uri": "https://localhost:8080/",
          "height": 35
        }
      },
      "source": [
        "count = 0\n",
        "for i in predlist:\n",
        "  for f in i:\n",
        "    if f[0] == 1 and f[1] == 0 and f[2]==1:\n",
        "      count+=1\n",
        "print(count)"
      ],
      "execution_count": 72,
      "outputs": [
        {
          "output_type": "stream",
          "text": [
            "20\n"
          ],
          "name": "stdout"
        }
      ]
    },
    {
      "cell_type": "markdown",
      "metadata": {
        "id": "L_F2D4HX_wQp",
        "colab_type": "text"
      },
      "source": [
        "## Testing "
      ]
    },
    {
      "cell_type": "code",
      "metadata": {
        "id": "Iq1-wVtuytxe",
        "colab_type": "code",
        "outputId": "c3496f57-8a13-4dd7-9fd0-ad448a804c82",
        "colab": {
          "base_uri": "https://localhost:8080/",
          "height": 324
        }
      },
      "source": [
        "inputs, classes = next(iter(trainloader))\n",
        "idx = 53\n",
        "img = inputs[idx].cpu().numpy().transpose((1, 2, 0))\n",
        "plt.imshow(img)\n",
        "print(\"Ground Truth:\", class_names[classes[idx].numpy()])\n",
        "images, labels = inputs.to(device), classes.to(device) \n",
        "outputs = vgg16(images) \n",
        "pr = Sigmoid(outputs)\n",
        "pr[pr > 0.5] = 1\n",
        "pr[pr <= 0.5] = 0\n",
        "m = np.where(pr[idx].cpu() == 1)[0]\n",
        "print('Predicted : ', ' '.join(class_names[i] for i in m)) "
      ],
      "execution_count": 0,
      "outputs": [
        {
          "output_type": "stream",
          "text": [
            "Clipping input data to the valid range for imshow with RGB data ([0..1] for floats or [0..255] for integers).\n"
          ],
          "name": "stderr"
        },
        {
          "output_type": "stream",
          "text": [
            "Ground Truth: covid-19\n",
            "Predicted :  covid-19 pneumonia\n"
          ],
          "name": "stdout"
        },
        {
          "output_type": "display_data",
          "data": {
            "image/png": "[encoded data removed]",
            "text/plain": [
              "<Figure size 432x288 with 1 Axes>"
            ]
          },
          "metadata": {
            "tags": [],
            "needs_background": "light"
          }
        }
      ]
    },
    {
      "cell_type": "code",
      "metadata": {
        "id": "S12HgYCzlH4K",
        "colab_type": "code",
        "outputId": "da1c2591-6def-4291-dbb9-6e4d71d598c9",
        "colab": {
          "base_uri": "https://localhost:8080/",
          "height": 324
        }
      },
      "source": [
        "inputs, classes = next(iter(validloader))\n",
        "idx = 14\n",
        "img = inputs[idx].cpu().numpy().transpose((1, 2, 0))\n",
        "plt.imshow(img)\n",
        "print(\"Groudn Truth:\", class_names[classes[idx].numpy()])\n",
        "images, labels = inputs.to(device), classes.to(device) \n",
        "outputs = resnet18(images) \n",
        "pr = Sigmoid(outputs)\n",
        "pr[pr > 0.5] = 1\n",
        "pr[pr <= 0.5] = 0\n",
        "m = np.where(pr[idx].cpu() == 1)[0]\n",
        "print('Predicted : ', ' '.join(class_names[i] for i in m)) "
      ],
      "execution_count": 0,
      "outputs": [
        {
          "output_type": "stream",
          "text": [
            "Clipping input data to the valid range for imshow with RGB data ([0..1] for floats or [0..255] for integers).\n"
          ],
          "name": "stderr"
        },
        {
          "output_type": "stream",
          "text": [
            "Groudn Truth: normal\n",
            "Predicted :  normal\n"
          ],
          "name": "stdout"
        },
        {
          "output_type": "display_data",
          "data": {
            "image/png": "[encoded data removed]",
            "text/plain": [
              "<Figure size 432x288 with 1 Axes>"
            ]
          },
          "metadata": {
            "tags": [],
            "needs_background": "light"
          }
        }
      ]
    },
    {
      "cell_type": "code",
      "metadata": {
        "id": "0U5ZtgOKm6uo",
        "colab_type": "code",
        "outputId": "e0762b7d-0294-4354-cc53-3ded5d8f2ed7",
        "colab": {
          "base_uri": "https://localhost:8080/",
          "height": 324
        }
      },
      "source": [
        "#inputs, classes = next(iter(validloader))\n",
        "idx = 2\n",
        "img = inputs[idx].cpu().numpy().transpose((1, 2, 0))\n",
        "plt.imshow(img)\n",
        "print(\"Groudn Truth:\", class_names[classes[idx].numpy()])\n",
        "images, labels = inputs.to(device), classes.to(device) \n",
        "outputs = RESNET(images) \n",
        "pr = Sigmoid(outputs)\n",
        "pr[pr > 0.5] = 1\n",
        "pr[pr <= 0.5] = 0\n",
        "m = np.where(pr[idx].cpu() == 1)[0]\n",
        "print('Predicted : ', ' '.join(class_names[i] for i in m)) "
      ],
      "execution_count": 0,
      "outputs": [
        {
          "output_type": "stream",
          "text": [
            "Clipping input data to the valid range for imshow with RGB data ([0..1] for floats or [0..255] for integers).\n"
          ],
          "name": "stderr"
        },
        {
          "output_type": "stream",
          "text": [
            "Groudn Truth: pneumonia\n",
            "Predicted :  pneumonia\n"
          ],
          "name": "stdout"
        },
        {
          "output_type": "display_data",
          "data": {
            "image/png": "[encoded data removed]",
            "text/plain": [
              "<Figure size 432x288 with 1 Axes>"
            ]
          },
          "metadata": {
            "tags": [],
            "needs_background": "light"
          }
        }
      ]
    }
  ]
}